{
 "cells": [
  {
   "cell_type": "code",
   "execution_count": 408,
   "metadata": {},
   "outputs": [],
   "source": [
    "from PyPDF2 import PdfReader\n",
    "import re\n",
    "\n",
    "import chromadb\n",
    "from chromadb.config import Settings\n",
    "from sentence_transformers import SentenceTransformer\n",
    "\n",
    "from openai import OpenAI\n",
    "\n",
    "from dotenv import load_dotenv\n",
    "\n",
    "from tqdm.auto import tqdm\n",
    "import json\n",
    "\n",
    "import pandas as pd\n",
    "import numpy as np\n",
    "\n"
   ]
  },
  {
   "cell_type": "code",
   "execution_count": 302,
   "metadata": {},
   "outputs": [],
   "source": [
    "#!pip install pandas"
   ]
  },
  {
   "cell_type": "markdown",
   "metadata": {},
   "source": [
    "# "
   ]
  },
  {
   "cell_type": "code",
   "execution_count": 84,
   "metadata": {},
   "outputs": [
    {
     "data": {
      "text/plain": [
       "True"
      ]
     },
     "execution_count": 84,
     "metadata": {},
     "output_type": "execute_result"
    }
   ],
   "source": [
    "load_dotenv('.env')"
   ]
  },
  {
   "cell_type": "markdown",
   "metadata": {},
   "source": [
    "# "
   ]
  },
  {
   "cell_type": "markdown",
   "metadata": {},
   "source": [
    "# "
   ]
  },
  {
   "cell_type": "markdown",
   "metadata": {},
   "source": [
    "# RAG Flow"
   ]
  },
  {
   "cell_type": "code",
   "execution_count": 26,
   "metadata": {},
   "outputs": [],
   "source": [
    "def clean_text(text):\n",
    "    # Cleaning special characters and normalizing the text\n",
    "\n",
    "    clean_text = re.sub(r'\\s+', ' ', text)  # Cleaning extra whitespaces\n",
    "    #clean_text = re.sub(r'[^\\w\\s]', '', clean_text)  # Cleaning special characters\n",
    "    clean_text = re.sub(r'14/9/24, 15:51 Lionel Messi - Wikipedia, la enciclopedia libre https://es\\.wikipedia\\.org/wiki/Lionel_Messi \\d+/\\d+', '', clean_text)   # Cleaning footer\n",
    "\n",
    "    return clean_text\n"
   ]
  },
  {
   "cell_type": "code",
   "execution_count": null,
   "metadata": {},
   "outputs": [],
   "source": [
    "chroma_client = chromadb.Client()"
   ]
  },
  {
   "cell_type": "code",
   "execution_count": 118,
   "metadata": {},
   "outputs": [
    {
     "ename": "ValueError",
     "evalue": "Collection MessiDocument does not exist.",
     "output_type": "error",
     "traceback": [
      "\u001b[1;31m---------------------------------------------------------------------------\u001b[0m",
      "\u001b[1;31mValueError\u001b[0m                                Traceback (most recent call last)",
      "Cell \u001b[1;32mIn[118], line 1\u001b[0m\n\u001b[1;32m----> 1\u001b[0m \u001b[43mchroma_client\u001b[49m\u001b[38;5;241;43m.\u001b[39;49m\u001b[43mget_collection\u001b[49m\u001b[43m(\u001b[49m\u001b[43mname\u001b[49m\u001b[38;5;241;43m=\u001b[39;49m\u001b[38;5;124;43m\"\u001b[39;49m\u001b[38;5;124;43mMessiDocument\u001b[39;49m\u001b[38;5;124;43m\"\u001b[39;49m\u001b[43m)\u001b[49m\n",
      "File \u001b[1;32mc:\\Users\\TALIGENT\\Desktop\\Proyectos\\LLM-Zoomcamp\\MessiXpert-RAG\\messiXpert-RAG-venv\\Lib\\site-packages\\chromadb\\api\\client.py:142\u001b[0m, in \u001b[0;36mClient.get_collection\u001b[1;34m(self, name, id, embedding_function, data_loader)\u001b[0m\n\u001b[0;32m    132\u001b[0m \u001b[38;5;129m@override\u001b[39m\n\u001b[0;32m    133\u001b[0m \u001b[38;5;28;01mdef\u001b[39;00m \u001b[38;5;21mget_collection\u001b[39m(\n\u001b[0;32m    134\u001b[0m     \u001b[38;5;28mself\u001b[39m,\n\u001b[1;32m   (...)\u001b[0m\n\u001b[0;32m    140\u001b[0m     data_loader: Optional[DataLoader[Loadable]] \u001b[38;5;241m=\u001b[39m \u001b[38;5;28;01mNone\u001b[39;00m,\n\u001b[0;32m    141\u001b[0m ) \u001b[38;5;241m-\u001b[39m\u001b[38;5;241m>\u001b[39m Collection:\n\u001b[1;32m--> 142\u001b[0m     model \u001b[38;5;241m=\u001b[39m \u001b[38;5;28;43mself\u001b[39;49m\u001b[38;5;241;43m.\u001b[39;49m\u001b[43m_server\u001b[49m\u001b[38;5;241;43m.\u001b[39;49m\u001b[43mget_collection\u001b[49m\u001b[43m(\u001b[49m\n\u001b[0;32m    143\u001b[0m \u001b[43m        \u001b[49m\u001b[38;5;28;43mid\u001b[39;49m\u001b[38;5;241;43m=\u001b[39;49m\u001b[38;5;28;43mid\u001b[39;49m\u001b[43m,\u001b[49m\n\u001b[0;32m    144\u001b[0m \u001b[43m        \u001b[49m\u001b[43mname\u001b[49m\u001b[38;5;241;43m=\u001b[39;49m\u001b[43mname\u001b[49m\u001b[43m,\u001b[49m\n\u001b[0;32m    145\u001b[0m \u001b[43m        \u001b[49m\u001b[43mtenant\u001b[49m\u001b[38;5;241;43m=\u001b[39;49m\u001b[38;5;28;43mself\u001b[39;49m\u001b[38;5;241;43m.\u001b[39;49m\u001b[43mtenant\u001b[49m\u001b[43m,\u001b[49m\n\u001b[0;32m    146\u001b[0m \u001b[43m        \u001b[49m\u001b[43mdatabase\u001b[49m\u001b[38;5;241;43m=\u001b[39;49m\u001b[38;5;28;43mself\u001b[39;49m\u001b[38;5;241;43m.\u001b[39;49m\u001b[43mdatabase\u001b[49m\u001b[43m,\u001b[49m\n\u001b[0;32m    147\u001b[0m \u001b[43m    \u001b[49m\u001b[43m)\u001b[49m\n\u001b[0;32m    148\u001b[0m     \u001b[38;5;28;01mreturn\u001b[39;00m Collection(\n\u001b[0;32m    149\u001b[0m         client\u001b[38;5;241m=\u001b[39m\u001b[38;5;28mself\u001b[39m\u001b[38;5;241m.\u001b[39m_server,\n\u001b[0;32m    150\u001b[0m         model\u001b[38;5;241m=\u001b[39mmodel,\n\u001b[0;32m    151\u001b[0m         embedding_function\u001b[38;5;241m=\u001b[39membedding_function,\n\u001b[0;32m    152\u001b[0m         data_loader\u001b[38;5;241m=\u001b[39mdata_loader,\n\u001b[0;32m    153\u001b[0m     )\n",
      "File \u001b[1;32mc:\\Users\\TALIGENT\\Desktop\\Proyectos\\LLM-Zoomcamp\\MessiXpert-RAG\\messiXpert-RAG-venv\\Lib\\site-packages\\chromadb\\telemetry\\opentelemetry\\__init__.py:146\u001b[0m, in \u001b[0;36mtrace_method.<locals>.decorator.<locals>.wrapper\u001b[1;34m(*args, **kwargs)\u001b[0m\n\u001b[0;32m    144\u001b[0m \u001b[38;5;28;01mglobal\u001b[39;00m tracer, granularity\n\u001b[0;32m    145\u001b[0m \u001b[38;5;28;01mif\u001b[39;00m trace_granularity \u001b[38;5;241m<\u001b[39m granularity:\n\u001b[1;32m--> 146\u001b[0m     \u001b[38;5;28;01mreturn\u001b[39;00m \u001b[43mf\u001b[49m\u001b[43m(\u001b[49m\u001b[38;5;241;43m*\u001b[39;49m\u001b[43margs\u001b[49m\u001b[43m,\u001b[49m\u001b[43m \u001b[49m\u001b[38;5;241;43m*\u001b[39;49m\u001b[38;5;241;43m*\u001b[39;49m\u001b[43mkwargs\u001b[49m\u001b[43m)\u001b[49m\n\u001b[0;32m    147\u001b[0m \u001b[38;5;28;01mif\u001b[39;00m \u001b[38;5;129;01mnot\u001b[39;00m tracer:\n\u001b[0;32m    148\u001b[0m     \u001b[38;5;28;01mreturn\u001b[39;00m f(\u001b[38;5;241m*\u001b[39margs, \u001b[38;5;241m*\u001b[39m\u001b[38;5;241m*\u001b[39mkwargs)\n",
      "File \u001b[1;32mc:\\Users\\TALIGENT\\Desktop\\Proyectos\\LLM-Zoomcamp\\MessiXpert-RAG\\messiXpert-RAG-venv\\Lib\\site-packages\\chromadb\\api\\segment.py:251\u001b[0m, in \u001b[0;36mSegmentAPI.get_collection\u001b[1;34m(self, name, id, tenant, database)\u001b[0m\n\u001b[0;32m    249\u001b[0m     \u001b[38;5;28;01mreturn\u001b[39;00m existing[\u001b[38;5;241m0\u001b[39m]\n\u001b[0;32m    250\u001b[0m \u001b[38;5;28;01melse\u001b[39;00m:\n\u001b[1;32m--> 251\u001b[0m     \u001b[38;5;28;01mraise\u001b[39;00m \u001b[38;5;167;01mValueError\u001b[39;00m(\u001b[38;5;124mf\u001b[39m\u001b[38;5;124m\"\u001b[39m\u001b[38;5;124mCollection \u001b[39m\u001b[38;5;132;01m{\u001b[39;00mname\u001b[38;5;132;01m}\u001b[39;00m\u001b[38;5;124m does not exist.\u001b[39m\u001b[38;5;124m\"\u001b[39m)\n",
      "\u001b[1;31mValueError\u001b[0m: Collection MessiDocument does not exist."
     ]
    }
   ],
   "source": [
    "try:\n",
    "     chroma_client.delete_collection(name=\"MessiDocuments\") # Delete a collection and all associated embeddings, documents, and metadata. ⚠️ This is destructive and not reversible\n",
    "except:\n",
    "     pass"
   ]
  },
  {
   "cell_type": "code",
   "execution_count": 58,
   "metadata": {},
   "outputs": [],
   "source": [
    "# Creating an instance of ChromaDB, the vector database used for storing the data\n",
    "\n",
    "collection = chroma_client.create_collection(name=\"MessiDocuments\", \n",
    "                                             metadata={\"hnsw:space\": \"cosine\"})"
   ]
  },
  {
   "cell_type": "code",
   "execution_count": 65,
   "metadata": {},
   "outputs": [
    {
     "name": "stderr",
     "output_type": "stream",
     "text": [
      "c:\\Users\\TALIGENT\\Desktop\\Proyectos\\LLM-Zoomcamp\\MessiXpert-RAG\\messiXpert-RAG-venv\\Lib\\site-packages\\transformers\\tokenization_utils_base.py:1601: FutureWarning: `clean_up_tokenization_spaces` was not set. It will be set to `True` by default. This behavior will be depracted in transformers v4.45, and will be then set to `False` by default. For more details check this issue: https://github.com/huggingface/transformers/issues/31884\n",
      "  warnings.warn(\n"
     ]
    }
   ],
   "source": [
    "# Setting up the Sentence Transformer Model for embeddings\n",
    "embeddings_model = SentenceTransformer('all-MiniLM-L6-v2')"
   ]
  },
  {
   "cell_type": "code",
   "execution_count": 85,
   "metadata": {},
   "outputs": [],
   "source": [
    "OpenAI_client = OpenAI()"
   ]
  },
  {
   "cell_type": "code",
   "execution_count": 27,
   "metadata": {},
   "outputs": [
    {
     "name": "stdout",
     "output_type": "stream",
     "text": [
      "Total Pages: 38\n"
     ]
    }
   ],
   "source": [
    "# Reading the PDF \n",
    "reader = PdfReader('Lionel Messi - RAG Source.pdf')\n",
    "\n",
    "num_pages = len(reader.pages)\n",
    "\n",
    "print(f'Total Pages: {num_pages}')"
   ]
  },
  {
   "cell_type": "code",
   "execution_count": 69,
   "metadata": {},
   "outputs": [
    {
     "name": "stdout",
     "output_type": "stream",
     "text": [
      "1\n",
      "2\n",
      "3\n",
      "4\n",
      "5\n",
      "6\n",
      "7\n",
      "8\n",
      "9\n",
      "10\n",
      "11\n",
      "12\n",
      "13\n",
      "14\n",
      "15\n",
      "16\n",
      "17\n",
      "18\n",
      "19\n",
      "20\n",
      "21\n",
      "22\n",
      "23\n",
      "24\n",
      "25\n",
      "26\n",
      "27\n",
      "28\n",
      "29\n",
      "30\n",
      "31\n",
      "32\n",
      "33\n",
      "34\n",
      "35\n",
      "36\n",
      "37\n",
      "38\n"
     ]
    }
   ],
   "source": [
    "page_num = 0\n",
    "\n",
    "for page in reader.pages:\n",
    "    text = page.extract_text()\n",
    "    cleaned_text = clean_text(text)\n",
    "\n",
    "    #Embedding the text with sentence transformer\n",
    "    embedding = embeddings_model.encode(cleaned_text).tolist()\n",
    "\n",
    "\n",
    "    # Adding the document to the vector DB collection\n",
    "    collection.add(\n",
    "        documents=[cleaned_text],\n",
    "        embeddings=[embedding],\n",
    "        metadatas=[{\n",
    "            \"document_ID\": \"https://es.wikipedia.org/wiki/Lionel_Messi\",\n",
    "            \"page_number\": page_num + 1,\n",
    "            \"Fuente\": \"PDF\",\n",
    "            \"Titulo\": \"Lionel_Messi_Wikipedia\",\n",
    "            \"Autor\": \"Wikipedia Community\"\n",
    "        }],\n",
    "        ids=[f\"Lionel_Messi_Wikipedia_Page-{page_num + 1}\"]\n",
    "    )\n",
    "\n",
    "    page_num+=1\n",
    "\n",
    "    print(page_num)"
   ]
  },
  {
   "cell_type": "code",
   "execution_count": 541,
   "metadata": {},
   "outputs": [],
   "source": [
    "import requests\n",
    "from bs4 import BeautifulSoup\n",
    "\n",
    "def scrape_wikipedia_page(url):\n",
    "    response = requests.get(url)\n",
    "    soup = BeautifulSoup(response.content, 'html.parser')\n",
    "    \n",
    "    # Extraer el contenido principal del artículo\n",
    "    content = soup.find('div', {'class': 'mw-parser-output'})\n",
    "    \n",
    "    # Extraer los párrafos y encabezados\n",
    "    paragraphs = content.find_all(['p', 'h1', 'h2', 'h3', 'h4', 'h5', 'h6', 'table'])\n",
    "    \n",
    "    return paragraphs\n",
    "\n",
    "# Ejemplo de uso\n",
    "url = \"https://es.wikipedia.org/wiki/Lionel_Messi\"\n",
    "paragraphs = scrape_wikipedia_page(url)\n"
   ]
  },
  {
   "cell_type": "code",
   "execution_count": 496,
   "metadata": {},
   "outputs": [],
   "source": [
    "def print_element(element):\n",
    "    if element.name == 'table':\n",
    "        table_html = str(element)\n",
    "        table_df = pd.read_html(table_html)[0]\n",
    "        print(table_df)\n",
    "    else:\n",
    "        print(element.text.strip())"
   ]
  },
  {
   "cell_type": "code",
   "execution_count": 563,
   "metadata": {},
   "outputs": [],
   "source": [
    "def create_chunks_with_headers(elements):\n",
    "    chunks = []\n",
    "    current_headers = {f'h{i}': '' for i in range(1, 7)}\n",
    "\n",
    "    for elem in elements:\n",
    "        if elem.name in ['h1', 'h2', 'h3', 'h4', 'h5', 'h6']:\n",
    "            level = int(elem.name[1])\n",
    "            current_headers[f'h{level}'] = elem.text.strip()\n",
    "            # Limpiar los encabezados de nivel inferior\n",
    "            for i in range(level + 1, 7):\n",
    "                current_headers[f'h{i}'] = ''\n",
    "        elif elem.name == 'p':\n",
    "            paragraph = elem.text.strip()\n",
    "            if paragraph:\n",
    "                headers_concat = \" > \".join([current_headers[f'h{i}'] for i in range(1, 7) if current_headers[f'h{i}']])\n",
    "                chunks.append({'content': paragraph, 'headers_concat': headers_concat})\n",
    "        elif elem.name == 'table':\n",
    "            table_html = str(elem)\n",
    "            try:\n",
    "                table_df = pd.read_html(table_html)[0]\n",
    "                table_text = table_df.to_string(index=False)\n",
    "                headers_concat = \" > \".join([current_headers[f'h{i}'] for i in range(1, 7) if current_headers[f'h{i}']])\n",
    "                chunks.append({'content': table_text, 'headers_concat': headers_concat})\n",
    "            except ValueError:\n",
    "                headers_concat = \" > \".join([current_headers[f'h{i}'] for i in range(1, 7) if current_headers[f'h{i}']])\n",
    "                chunks.append({'content': 'Error al procesar la tabla', 'headers_concat': headers_concat})\n",
    "    \n",
    "    return chunks"
   ]
  },
  {
   "cell_type": "code",
   "execution_count": 564,
   "metadata": {},
   "outputs": [
    {
     "name": "stdout",
     "output_type": "stream",
     "text": [
      "                                             content headers_concat\n",
      "0                                                ...               \n",
      "1                                0               ...               \n",
      "2  Lionel Andrés Messi Cuccittini (Rosario, 24 de...               \n",
      "3  Con el Fútbol Club Barcelona, al que estuvo li...               \n",
      "4  Considerado con frecuencia el mejor jugador de...               \n"
     ]
    },
    {
     "name": "stderr",
     "output_type": "stream",
     "text": [
      "C:\\Users\\TALIGENT\\AppData\\Local\\Temp\\ipykernel_18028\\4201452077.py:20: FutureWarning: Passing literal html to 'read_html' is deprecated and will be removed in a future version. To read from a literal string, wrap it in a 'StringIO' object.\n",
      "  table_df = pd.read_html(table_html)[0]\n",
      "C:\\Users\\TALIGENT\\AppData\\Local\\Temp\\ipykernel_18028\\4201452077.py:20: FutureWarning: Passing literal html to 'read_html' is deprecated and will be removed in a future version. To read from a literal string, wrap it in a 'StringIO' object.\n",
      "  table_df = pd.read_html(table_html)[0]\n",
      "C:\\Users\\TALIGENT\\AppData\\Local\\Temp\\ipykernel_18028\\4201452077.py:20: FutureWarning: Passing literal html to 'read_html' is deprecated and will be removed in a future version. To read from a literal string, wrap it in a 'StringIO' object.\n",
      "  table_df = pd.read_html(table_html)[0]\n",
      "C:\\Users\\TALIGENT\\AppData\\Local\\Temp\\ipykernel_18028\\4201452077.py:20: FutureWarning: Passing literal html to 'read_html' is deprecated and will be removed in a future version. To read from a literal string, wrap it in a 'StringIO' object.\n",
      "  table_df = pd.read_html(table_html)[0]\n",
      "C:\\Users\\TALIGENT\\AppData\\Local\\Temp\\ipykernel_18028\\4201452077.py:20: FutureWarning: Passing literal html to 'read_html' is deprecated and will be removed in a future version. To read from a literal string, wrap it in a 'StringIO' object.\n",
      "  table_df = pd.read_html(table_html)[0]\n",
      "C:\\Users\\TALIGENT\\AppData\\Local\\Temp\\ipykernel_18028\\4201452077.py:20: FutureWarning: Passing literal html to 'read_html' is deprecated and will be removed in a future version. To read from a literal string, wrap it in a 'StringIO' object.\n",
      "  table_df = pd.read_html(table_html)[0]\n",
      "C:\\Users\\TALIGENT\\AppData\\Local\\Temp\\ipykernel_18028\\4201452077.py:20: FutureWarning: Passing literal html to 'read_html' is deprecated and will be removed in a future version. To read from a literal string, wrap it in a 'StringIO' object.\n",
      "  table_df = pd.read_html(table_html)[0]\n",
      "C:\\Users\\TALIGENT\\AppData\\Local\\Temp\\ipykernel_18028\\4201452077.py:20: FutureWarning: Passing literal html to 'read_html' is deprecated and will be removed in a future version. To read from a literal string, wrap it in a 'StringIO' object.\n",
      "  table_df = pd.read_html(table_html)[0]\n",
      "C:\\Users\\TALIGENT\\AppData\\Local\\Temp\\ipykernel_18028\\4201452077.py:20: FutureWarning: Passing literal html to 'read_html' is deprecated and will be removed in a future version. To read from a literal string, wrap it in a 'StringIO' object.\n",
      "  table_df = pd.read_html(table_html)[0]\n",
      "C:\\Users\\TALIGENT\\AppData\\Local\\Temp\\ipykernel_18028\\4201452077.py:20: FutureWarning: Passing literal html to 'read_html' is deprecated and will be removed in a future version. To read from a literal string, wrap it in a 'StringIO' object.\n",
      "  table_df = pd.read_html(table_html)[0]\n",
      "C:\\Users\\TALIGENT\\AppData\\Local\\Temp\\ipykernel_18028\\4201452077.py:20: FutureWarning: Passing literal html to 'read_html' is deprecated and will be removed in a future version. To read from a literal string, wrap it in a 'StringIO' object.\n",
      "  table_df = pd.read_html(table_html)[0]\n",
      "C:\\Users\\TALIGENT\\AppData\\Local\\Temp\\ipykernel_18028\\4201452077.py:20: FutureWarning: Passing literal html to 'read_html' is deprecated and will be removed in a future version. To read from a literal string, wrap it in a 'StringIO' object.\n",
      "  table_df = pd.read_html(table_html)[0]\n",
      "C:\\Users\\TALIGENT\\AppData\\Local\\Temp\\ipykernel_18028\\4201452077.py:20: FutureWarning: Passing literal html to 'read_html' is deprecated and will be removed in a future version. To read from a literal string, wrap it in a 'StringIO' object.\n",
      "  table_df = pd.read_html(table_html)[0]\n",
      "C:\\Users\\TALIGENT\\AppData\\Local\\Temp\\ipykernel_18028\\4201452077.py:20: FutureWarning: Passing literal html to 'read_html' is deprecated and will be removed in a future version. To read from a literal string, wrap it in a 'StringIO' object.\n",
      "  table_df = pd.read_html(table_html)[0]\n",
      "C:\\Users\\TALIGENT\\AppData\\Local\\Temp\\ipykernel_18028\\4201452077.py:20: FutureWarning: Passing literal html to 'read_html' is deprecated and will be removed in a future version. To read from a literal string, wrap it in a 'StringIO' object.\n",
      "  table_df = pd.read_html(table_html)[0]\n",
      "C:\\Users\\TALIGENT\\AppData\\Local\\Temp\\ipykernel_18028\\4201452077.py:20: FutureWarning: Passing literal html to 'read_html' is deprecated and will be removed in a future version. To read from a literal string, wrap it in a 'StringIO' object.\n",
      "  table_df = pd.read_html(table_html)[0]\n",
      "C:\\Users\\TALIGENT\\AppData\\Local\\Temp\\ipykernel_18028\\4201452077.py:20: FutureWarning: Passing literal html to 'read_html' is deprecated and will be removed in a future version. To read from a literal string, wrap it in a 'StringIO' object.\n",
      "  table_df = pd.read_html(table_html)[0]\n"
     ]
    }
   ],
   "source": [
    "# Ejemplo de uso\n",
    "url = \"https://es.wikipedia.org/wiki/Lionel_Messi\"\n",
    "elements = scrape_wikipedia_page(url)\n",
    "chunks = create_chunks_with_headers(elements)\n",
    "\n",
    "# Convertir a DataFrame\n",
    "df = pd.DataFrame(chunks)\n",
    "print(df.head())"
   ]
  },
  {
   "cell_type": "code",
   "execution_count": 555,
   "metadata": {},
   "outputs": [
    {
     "data": {
      "text/html": [
       "<div>\n",
       "<style scoped>\n",
       "    .dataframe tbody tr th:only-of-type {\n",
       "        vertical-align: middle;\n",
       "    }\n",
       "\n",
       "    .dataframe tbody tr th {\n",
       "        vertical-align: top;\n",
       "    }\n",
       "\n",
       "    .dataframe thead th {\n",
       "        text-align: right;\n",
       "    }\n",
       "</style>\n",
       "<table border=\"1\" class=\"dataframe\">\n",
       "  <thead>\n",
       "    <tr style=\"text-align: right;\">\n",
       "      <th></th>\n",
       "      <th>content</th>\n",
       "      <th>headers_concat</th>\n",
       "    </tr>\n",
       "  </thead>\n",
       "  <tbody>\n",
       "    <tr>\n",
       "      <th>0</th>\n",
       "      <td>...</td>\n",
       "      <td></td>\n",
       "    </tr>\n",
       "  </tbody>\n",
       "</table>\n",
       "</div>"
      ],
      "text/plain": [
       "                                             content headers_concat\n",
       "0                                                ...               "
      ]
     },
     "execution_count": 555,
     "metadata": {},
     "output_type": "execute_result"
    }
   ],
   "source": [
    "df[:1]"
   ]
  },
  {
   "cell_type": "code",
   "execution_count": 565,
   "metadata": {},
   "outputs": [
    {
     "name": "stdout",
     "output_type": "stream",
     "text": [
      "HEADER = Orígenes y formación\n",
      "CONTENT = Con apenas cuatro años, comenzó a practicar fútbol con Salvador Aparicio en el club Abanderado Grandoli, ubicado en el barrio Grandoli, a pocas cuadras de su casa.[13]​[16]​ En 1994, empezó a entrenarse en las divisiones inferiores de Newell's Old Boys.[13]​ En 1995, jugó un torneo no oficial con Central Córdoba.[17]​\n",
      "__________________________________________________________\n",
      "HEADER = Orígenes y formación\n",
      "CONTENT = A la edad de ocho años, le fue diagnosticada una deficiencia de la hormona de crecimiento,[18]​ por lo que debió hacer un tratamiento de 900 dólares mensuales que, durante un año y medio, cubrieron su obra social y Acindar, siderúrgica en la que trabajaba su padre.[13]​\n",
      "__________________________________________________________\n",
      "HEADER = Orígenes y formación\n",
      "CONTENT = En 1999, quiso ficharlo el equipo italiano Como, pero finalmente no lo hizo por las dificultades que representaba la mudanza de la familia.[19]​ Al año siguiente, dio su primera entrevista a un medio de comunicación en el suplemento \"Pasión Rojinegra\" del diario La Capital de Rosario, publicada el 3 de septiembre. A los trece años, tras haber sido reclutado por Federico Vairo en Rosario, fue a Buenos Aires a probarse a River Plate. Eduardo Abrahamian, encargado de las divisiones infantiles del club, pidió su incorporación, pero esta nunca se concretó.[20]​ El jugador dio su versión de por qué no lo aceptaron en una entrevista a Fox Sports Radio el 31 de mayo de 2019:\n",
      "__________________________________________________________\n",
      "HEADER = Orígenes y formación\n",
      "CONTENT = Dos ojeadores de Buenos Aires, enterados de su paso por River, se pusieron en contacto con su socio en Barcelona, Horacio Gaggioli, quien a su vez se comunicó con el agente Josep María Minguella. Minguella decidió llamar a Carles Rexach para pedirle que lo probaran.[21]​\n",
      "__________________________________________________________\n",
      "HEADER = Orígenes y formación\n",
      "CONTENT = El 17 de septiembre de 2000, Messi llegó con su padre a El Prat, el aeropuerto de Barcelona, donde los esperaba Gaggioli para llevarlos al hotel, justo delante del Camp Nou.[22]​ Joaquín Rifé, entrenador de juveniles, lo citó para un entrenamiento con niños de su categoría, entre los que estaban Cesc Fábregas y Gerard Piqué.[23]​ En uno de esos entrenamientos, que se prolongaron dos semanas,[19]​ marcó seis goles y, según Joan Lacueva, ejecutivo responsable del fútbol base del club, \"a la media parte tuvieron que cambiarle de equipo para equilibrar el amistoso\".[22]​ Sin embargo, el club seguía sin contratarlo, porque esperaban el regreso de Rexach de los Juegos Olímpicos de Sídney. A su vuelta, se organizó una prueba el 2 de octubre en el campo 3,[23]​ y cuando Rexach lo vio jugar, resolvió la situación: «Llegué con el partido empezado y no me dio tiempo a sentarme. Tenía claro que, si no le fichábamos, nos arrepentiríamos», recordó años después.[21]​\n",
      "__________________________________________________________\n",
      "HEADER = Orígenes y formación\n",
      "CONTENT =                                                                                                                                            0\n",
      "Era muy bajito, casi no hablaba y nadie podía imaginar la que nos iba a liar.—Gerard Piqué, uno de los compañeros de Messi en La Masia.[22]​\n",
      "__________________________________________________________\n",
      "HEADER = Orígenes y formación\n",
      "CONTENT = A pesar de que algunos técnicos no aprobaban su contratación,[24]​ el 14 de diciembre Rexach se reunió en el restaurante del Club Tenis Pompeia con Gaggioli y Minguella y redactó un principio de acuerdo sobre una servilleta de papel, en el que se comprometía a su fichaje y firmaron todas las partes implicadas.[21]​\n",
      "__________________________________________________________\n",
      "HEADER = Orígenes y formación\n",
      "CONTENT = Finalmente, el 8 de enero de 2001, firmaron un documento en el que se aseguraban un trabajo para el padre de Messi en el fútbol base (como forma de encubrir el fichaje del adolescente) y el pago del tratamiento hormonal.[25]​ Al mes siguiente, la familia se instaló en Barcelona, primero en un hotel y luego en un departamento en Les Corts. La madre y los hermanos regresaron a Rosario poco después.[26]​[27]​\n",
      "__________________________________________________________\n",
      "HEADER = Orígenes y formación > Categorías inferiores > Newell's Old Boys (1994-1999)\n",
      "CONTENT = Messi jugó en las inferiores de Newell's entre 1994 y 1999.[28]​ Integraba la categoría 1987, conocida como \"La Máquina '87\", dirigida por Ernesto Vecchio.[29]​ Debutó ante Pablo VI el 9 de abril, en un encuentro que Newell's ganó 6-0 con cuatro tantos suyos.[28]​ El club recibió, entre otros títulos, la Copa de la Amistad de Perú en 1997, después de convertirle diez goles (nueve de Messi) al Callao,[30]​ y en 1998 ganó el torneo Ciudad de Balcarce, en la provincia de Buenos Aires, en el que Messi marcó quince goles en seis partidos.[31]​ En este período, Messi convirtió 234 goles, con un promedio de 1,32 por partido.[32]​ En una entrevista realizada en 2014, Vecchio comentó: \"Verlo jugar a Leo con tan corta edad realmente era impresionante. Uno no podía creer (…) ver un chico con esa virtud, esa calidad, y tan menudito, chiquitito, que haga tantas cosas con la pelota\".[cita requerida]\n",
      "__________________________________________________________\n",
      "HEADER = Orígenes y formación > Categorías inferiores > Newell's Old Boys (1994-1999)\n",
      "CONTENT =                                 Equipo         Año  Partidos  Goles  Promedio\n",
      "Newell`s \"A\" (Categoría ‘87) Argentina        1994        29     40      1.38\n",
      "Newell`s \"A\" (Categoría ‘87) Argentina        1995        30     36      1.20\n",
      "Newell`s \"A\" (Categoría ‘87) Argentina        1996        27     36      1.33\n",
      "Newell`s \"A\" (Categoría ‘87) Argentina        1997        36     40      1.11\n",
      "Newell`s \"A\" (Categoría ‘87) Argentina        1998        25     27      1.08\n",
      "Newell`s \"A\" (Categoría ‘87) Argentina        1999        29     55      1.90\n",
      "Newell`s \"A\" (Categoría ‘87) Argentina Total*[32]​       176    234      1.33\n",
      "__________________________________________________________\n",
      "HEADER = Orígenes y formación > Categorías inferiores > F. C. Barcelona (2000-2005)\n",
      "CONTENT = En 2001, Messi comenzó a entrenar con el Infantil A de Rodolfo Borrell, pero luego lo pasaron al Infantil B, dirigido por Xavi Llorens,[33]​ donde jugaba como media punta o extremo izquierdo. Al ser extranjero, no podía participar en partidos oficiales, pero sí en amistosos. Jugó por primera vez en marzo, de visitante ante el Amposta, y anotó un gol, pero en el siguiente partido, contra el Ebre Escola Esportiva el 21 de abril, se fracturó el peroné izquierdo, por lo que no pudo jugar hasta junio. Poco después, al bajar una escalera, se distendió los ligamentos del tobillo izquierdo y se perdió el resto de la temporada 2000-2001.[34]​[23]​ Volvió a entrenar con el Infantil A en la temporada 2001-2002, pero pronto lo ascendieron al Cadete B de Tito Vilanova, donde marcó nueve goles en diez partidos. En la temporada 2002-2003 integró el Cadete A, entrenado por Álex García, con el que jugó 31 partidos y anotó 38 goles. El Cadete A fue campeón de la Liga y la Copa Cataluña,[33]​ después de ganarle 4-1 al Espanyol con un doblete de Messi.[35]​\n",
      "__________________________________________________________\n",
      "HEADER = Orígenes y formación > Categorías inferiores > F. C. Barcelona (2000-2005)\n",
      "CONTENT = Comenzó la pretemporada 2003-2004 el 8 de agosto en el Juvenil B, en el marco de la Toyota U17 Club World Cup, con el Feyenoord como rival, al que los españoles vencieron 3-1. Jugó los 90 minutos y dio una asistencia a Franck Songo'o.[36]​ Juan Carlos Pérez Rojo, entrenador del Juvenil A, lo pidió para un partido de la Liga de la División de Honor Juvenil contra el Hércules que el Barcelona ganó 3-0.[33]​ Messi pasó entonces a integrar el Juvenil A y, el 14 de octubre, firmó su primer contrato como profesional.[33]​[37]​ El 26 de octubre, ante el Gimnastic de Tarragona, marcó cuatro goles en un partido para el 0-7 del Barcelona y, dos semanas después, un hat trick en el 8-1 a Granollers.[38]​\n",
      "__________________________________________________________\n",
      "HEADER = Orígenes y formación > Categorías inferiores > F. C. Barcelona (2000-2005)\n",
      "CONTENT = Frank Rijkaard, entrenador del primer equipo, convocó a Messi y a otros canteranos para jugar un partido de exhibición ante el Fútbol Club Oporto, entrenado por José Mourinho, en la inauguración del Estádio do Dragão de Oporto.[39]​ Así, el 16 de noviembre de 2003, a los dieciséis años y 145 días,[33]​ y cuando todavía no había pasado por el Barça B,[40]​ Messi debutó con el primer equipo. Fue, en ese momento, el tercero más joven en hacerlo.[41]​ El 29 de noviembre, jugó con el Barcelona C frente al Europa de la tercera división.[33]​\n",
      "__________________________________________________________\n",
      "HEADER = Orígenes y formación > Categorías inferiores > F. C. Barcelona (2000-2005)\n",
      "CONTENT = El 18 de febrero de 2004, lo llamaron para otro amistoso del primer equipo contra el FC Shakhtar Donetsk.[42]​ Después de once partidos con el Barcelona C, el 6 de marzo jugó por primera vez con el Barcelona B de Pere Gratacós contra el Mataró en la Segunda División B.[33]​ Hacia el final de la temporada, jugó seis veces con el Barcelona B y también disputó partidos con el Barcelona C y los Juveniles A y B. El 15 de mayo, con el Juvenil A, en el partido de vuelta de octavos de final de la Copa del Rey Juvenil frente al Sevilla, convirtió su segundo poker.[43]​ Ese año, jugó en cinco categorías en cuatro meses, en los que pasó de los juveniles al equipo profesional.[2]​ Marcó, en total, 35 goles en 37 partidos oficiales con el Juvenil B, el Juvenil A, Barça C y Barça B.[33]​\n",
      "__________________________________________________________\n",
      "HEADER = Orígenes y formación > Categorías inferiores > F. C. Barcelona (2000-2005)\n",
      "CONTENT = En la temporada 2004-2005, alternó partidos en Segunda División B y Primera División: jugó diecisiete con el Barcelona B, en los que marcó seis goles, y nueve en el primer equipo, con el que anotó una vez.[33]​\n",
      "__________________________________________________________\n",
      "HEADER = Orígenes y formación > Categorías inferiores > F. C. Barcelona (2000-2005)\n",
      "CONTENT =                    Club    División   Temporada  Partidos  Goles  Promedio\n",
      "F. C. Barcelona  España  Infantil B     2000-01         2      1      0.50\n",
      "F. C. Barcelona  España    Cadete B     2001-02        10      9      0.90\n",
      "F. C. Barcelona  España    Cadete A     2002-03        31     38      1.23\n",
      "F. C. Barcelona  España   Juvenil B     2003-04         3      1      0.57\n",
      "F. C. Barcelona  España   Juvenil A     2003-04        19     29      1.48\n",
      "F. C. Barcelona  España Barcelona C     2003-04        10      5      0.50\n",
      "F. C. Barcelona  España Barcelona B     2003-04         5      0      0.00\n",
      "F. C. Barcelona  España Barcelona B     2004-05        17      6      0.35\n",
      "F. C. Barcelona  España Total*[33]​ Total*[33]​        97     89      0.98\n",
      "__________________________________________________________\n",
      "HEADER = Trayectoria > Primeros años\n",
      "CONTENT = Comenzó la pretemporada 2004-2005 jugando amistosos con el primer equipo: ante el Banyoles, el Figueres, el Palamós, el Hércules y el Olympique de Marsella, donde fue titular por primera vez.[44]​ Contra el Palamós el 20 de julio en el Camp Nou, en el minuto '74, anotó su primer gol, que puso el 0-4 parcial de un partido que el Barcelona ganó 0-6.[45]​ Participó también en el On Tour Asia, una gira promocional del club por Corea, China y Japón en la que se jugaron cuatro amistosos. Convirtió un gol el 1 de agosto en el 5-0 ante el Kashima Antlers.[46]​\n",
      "__________________________________________________________\n",
      "HEADER = Trayectoria > Primeros años\n",
      "CONTENT = Aunque sabía que podía funcionar como atacante en cualquier posición, Rikjaard lo hizo jugar como extremo derecho, puesto que tenía Giuly.[47]​ Messi jugó su primer partido oficial el 16 de octubre, el derby barcelonés contra el Espanyol en el estadio Olímpico Lluís Companys, cuando sustituyó a Deco ocho minutos antes de terminar el encuentro. Con diecisiete años, tres meses y veintidós días, se convirtió en uno de los canteranos más jóvenes en debutar en La Liga.[48]​ El 27 de octubre, ante el Gramenet, jugó por primera vez en la Copa del Rey y el 7 de diciembre en la Liga de Campeones 2004-2005 frente al FC Shakhtar Donetsk en el Donbass Arena.[49]​[50]​ Hacia fines de ese año, el diario El País lo señalaba como \"la gran promesa\".[2]​\n",
      "__________________________________________________________\n",
      "HEADER = Trayectoria > Primeros años\n",
      "CONTENT = En un partido de La Liga contra el Albacete Balompié el 1 de mayo de 2005, tras asistencia de Ronaldinho, Messi anotó, de vaselina, su primer gol oficial, después de que le anularan otro parecido por estar en offside.[51]​ Con diecisiete años, 10 meses y 7 días, se convirtió en el jugador más joven del Barcelona en hacer un gol en ese torneo, marca que superó Bojan Krkić en 2007.[52]​ Luego de cinco temporadas sin conseguir el título, el 14 de mayo el Barcelona empató 1-1 contra el Levante y fue campeón de La Liga tres jornadas antes de la finalización del torneo.[53]​\n",
      "__________________________________________________________\n",
      "HEADER = Trayectoria > Primeros años\n",
      "CONTENT = En junio, Messi firmó su primer contrato como jugador del primer equipo, que lo vinculaba con el club hasta 2010 y tenía una cláusula de rescisión de 150 millones de euros, similar a las de Ronaldinho y Samuel Eto'o, jugadores ya establecidos en el plantel.[55]​\n",
      "__________________________________________________________\n",
      "HEADER = Trayectoria > Titularidad y consagración en la élite\n",
      "CONTENT = A pesar de que Rijkaard lo había llevado como suplente para el partido de ida de la Supercopa de España contra el Betis el 13 de agosto,[56]​ Messi no pudo jugar por estar ya cubierto el cupo de extranjeros. El Barcelona ganó 3-0 y, una semana después, perdió 2-1, resultado con el que obtuvo el primer título de la temporada.[57]​ Messi, entretanto, pudo regularizar su situación recién el 1 de octubre, por lo que tampoco participó en las cinco primeras jornadas de La Liga.[58]​ El 24 de agosto, fue titular en el Trofeo Joan Gamper ante la Juventus en el Camp Nou. Pese a que el Barcelona perdió 2-4 en la tanda de penaltis tras un empate 2-2, su desempeño fue tan bueno que, por primera vez, lo ovacionaron cuando fue sustituido y Fabio Capello, DT de la Juventus, le pidió a Rijkaard si no se lo cedía, además de decir en la conferencia de prensa posterior que \"Nunca había visto a un jugador con tanta calidad a esta edad y con esa personalidad con una camiseta tan importante\".[59]​[60]​[61]​ En Mundo Deportivo, Andrés Astruells escribió que para Messi, a quien definió como \"pequeño, incisivo\" y con \"un endiablado cambio de ritmo\", el Trofeo había sido \"su gran noche\" y Santi Nolla afirmó que lo había \"catapultado\".[62]​ En el reporte del partido de El País, se señalaba que \"El Gamper de anoche pasará a la historia por haber entronizado a un futbolista magistral que ofreció un recital\",[63]​ mientras que otros periodistas españoles lo describieron como un momento bisagra en su carrera.[59]​[60]​[61]​[64]​ Después del torneo, el club decidió que no volvería a jugar con los juveniles y sería parte del primer equipo.[65]​\n",
      "__________________________________________________________\n",
      "HEADER = Trayectoria > Titularidad y consagración en la élite\n",
      "CONTENT = Debido al interés que había despertado en otros clubes europeos, como el escocés Glasgow Rangers, por su desempeño en el Mundial sub-20 y en el Joan Gamper, el 16 de septiembre el presidente Joan Laporta decidió aumentarle el sueldo y prolongar su contrato hasta 2014, con la misma cláusula de rescisión.[66]​[67]​[68]​\n",
      "__________________________________________________________\n",
      "HEADER = Trayectoria > Titularidad y consagración en la élite\n",
      "CONTENT = Como no podía jugar por ser extranjero, el Barcelona recurrió a la Real Federación Española de Fútbol para que lo considerara asimilado pero, el 19 de septiembre, la Comisión Delegada de la Liga Profesional rechazó esa concesión. Messi, por lo tanto, no podía participar en competiciones españolas (tampoco con el Barcelona B), aunque sí en la Liga de Campeones.[68]​[69]​ El club, entonces, decidió acelerar su nacionalización, que obtuvo el 26 del mismo mes.[70]​ Al día siguiente, Messi jugó en la Liga de Campeones 2005-2006 frente al Udinese. Los aficionados en el Camp Nou lo ovacionaron antes del partido y después de su sustitución,[71]​ así como también apreciaron su compostura con la pelota y combinaciones de pases con Ronaldinho.[cita requerida]\n",
      "__________________________________________________________\n",
      "HEADER = Trayectoria > Titularidad y consagración en la élite\n",
      "CONTENT = Messi pudo jugar en La Liga el 1 de octubre, en el empate 2-2 con el Zaragoza, donde entró en el minuto '66 en lugar de Giuly.[72]​ El Alavés y el Deportivo La Coruña denunciaron ante el Comité de Competición su inclusión en la plantilla, por considerar que se le había dado la licencia como juvenil y no como profesional. El Comité, sin embargo, declaró improcedente la denuncia, ya que el jugador conservaba la licencia de juvenil y era ciudadano español.[73]​ El 2 de noviembre, Messi convirtió su primer gol en Liga de Campeones ante el Panathinaikos, al que el Barcelona le ganó 5-0.[74]​ El 19, por un encuentro de La Liga en el estadio Santiago Bernabéu, fue titular en su primer Clásico, que perdió el Real Madrid 0-3 y en el que Ronaldinho recibió aplausos de la afición rival. Dio el pase a Eto'o para el primer gol, superó el marcaje de Roberto Carlos y aceleró el juego de su equipo, por momentos lento y que desaprovechaba ocasiones de gol.[75]​[76]​\n",
      "__________________________________________________________\n",
      "HEADER = Trayectoria > Titularidad y consagración en la élite\n",
      "CONTENT = El 29 de enero de 2006, en un partido de Liga ante el Mallorca en el Son Moix, marcó, en dieciocho minutos, su primer doblete para el 3-0 del Barcelona.[77]​[78]​\n",
      "__________________________________________________________\n",
      "HEADER = Trayectoria > Titularidad y consagración en la élite\n",
      "CONTENT = En octavos de final de la Liga de Campeones 2005-2006, el 22 de febrero en Stamford Bridge ante el Chelsea de Mourinho, Messi pateó cinco veces a puerta, todas entre los tres palos, en una victoria por 2-1 del Barcelona.[79]​ En El País, Santiago Segurola comentó que, pese a sus dieciocho años y sus pocos partidos como titular, Messi había dominado el encuentro \"a una distancia sideral de los demás\" y se había establecido como \"una gran estrella\".[80]​ Otros diarios también destacaron su actuación,[81]​ a la vez que Diego Maradona, en una entrevista con la BBC, lo señaló como quien \"ocuparía su lugar\" en el fútbol argentino.[82]​ En el partido de vuelta, jugado en el Camp Nou el 7 de marzo, se rompió el músculo femoral izquierdo, lo que le impidió jugar los siguientes diecisiete encuentros.[83]​ El 3 de mayo, el Barcelona ganó la Liga y fue campeón de Europa el 17, tras ganarle al Arsenal en el Stade de France.[84]​[85]​ A pesar de haber jugado sólo veinticinco partidos en los que marcó ocho goles, esa temporada se constituyó en la figura emergente del equipo.[86]​\n",
      "__________________________________________________________\n",
      "HEADER = Trayectoria > Titularidad y consagración en la élite\n",
      "CONTENT = En mayo, fue nominado al Premio Laureus al Deportista Revelación del Año,[87]​ pero perdió ante Rafael Nadal.[88]​ A mediados de la temporada 2005-06, comenzaron a señalarlo como el jugador revelación del año: en septiembre, recibió en Italia el premio Eurochampion, que distingue al mejor jugador joven del mundo,[89]​ en noviembre, el diario El Mundo hablaba de un duelo entre Messi y Robinho, fichado por el Real Madrid ese mismo año, a quienes consideraba las futuras estrellas de La Liga y,[90]​ en diciembre, recibió el premio Golden Boy, entregado por la revista italiana Tuttosport al mejor jugador joven de Europa. Messi, con 225 puntos sobre 300, superó a Wayne Rooney (127) y a Lukas Podolski (74).[91]​\n",
      "__________________________________________________________\n",
      "HEADER = Trayectoria > Titularidad y consagración en la élite\n",
      "CONTENT = En la temporada 2006-07, se estableció en el cuadro titular.[92]​ El 17 y 20 de agosto, jugó su primera final con el primer equipo, la Supercopa de España, que el Barcelona le ganó al Espanyol 1-0 y 3-0,[93]​[58]​ y participó el 25 en la final de la Supercopa de Europa, que ganó el Sevilla en el Stade Louis II de Mónaco. No anotó goles en ninguna de las dos competiciones.[93]​[94]​\n",
      "__________________________________________________________\n",
      "HEADER = Trayectoria > Titularidad y consagración en la élite\n",
      "CONTENT = En las dos primeras jornadas de Liga, el 28 de agosto anotó uno de los tres goles del 3-2 del Barcelona ante el Celta de Vigo y,[95]​ el 9 de septiembre, otro en el 3-0 contra el Osasuna.[96]​\n",
      "__________________________________________________________\n",
      "HEADER = Trayectoria > Titularidad y consagración en la élite\n",
      "CONTENT = En el segundo partido del Barcelona en la Liga de Campeones 2006-2007, el 27 de septiembre ante el Werder Bremen, entró en el segundo tiempo en lugar de Giuly y, siete minutos antes de terminar el partido, marcó el gol del empate 1-1.[97]​\n",
      "__________________________________________________________\n",
      "HEADER = Trayectoria > Titularidad y consagración en la élite\n",
      "CONTENT = En noviembre, recibió el premio Mejor Jugador Joven, otorgado por FIFPro,[98]​ que volvería a ganar los dos años siguientes.[99]​\n",
      "__________________________________________________________\n",
      "HEADER = Trayectoria > Titularidad y consagración en la élite\n",
      "CONTENT = En un partido de Liga contra el Zaragoza el 12 de noviembre, se quebró el metatarso izquierdo y no pudo jugar por tres meses.[100]​ Se recuperó de su lesión en Argentina y regresó el 11 de febrero de 2007 en el segundo tiempo contra el Racing de Santander.[101]​[102]​\n",
      "__________________________________________________________\n",
      "HEADER = Trayectoria > Titularidad y consagración en la élite\n",
      "CONTENT = En enero de 2007, se le aumentó la paga a tres millones de euros por año y se le extendió el contrato hasta 2014.[66]​[103]​\n",
      "__________________________________________________________\n",
      "HEADER = Trayectoria > Titularidad y consagración en la élite\n",
      "CONTENT = El 10 de marzo, con un triplete ante el Real Madrid, que fue un empate 3-3 con diez hombres en su equipo,[104]​ se convirtió en el jugador más joven en haber anotado en El Clásico. Desde Romario en 1994, ningún otro jugador del Barcelona había marcado un hat trick en el derby español y nadie lo había hecho desde Iván Zamorano en 1995.[104]​[105]​\n",
      "__________________________________________________________\n",
      "HEADER = Trayectoria > Titularidad y consagración en la élite\n",
      "CONTENT = El 18 de abril, en el 5-2 por semifinales de la Copa del Rey 2006-2007 contra el Getafe FC, Messi anotó dos goles, el primero muy parecido al llamado Gol del Siglo de Maradona contra Inglaterra en la Copa del Mundo de 1986.[106]​ Corrió casi la misma distancia (62 metros) y eludió al mismo número de jugadores (seis, incluido el portero), para anotar desde una posición muy similar, después de correr hacia el banderín de esquina.[107]​ Distintas personas ligadas al fútbol y la prensa internacional lo compararon con el 10 argentino y el periódico español Marca lo llamó \"Messidona\".[108]​[109]​ En el partido de vuelta el 10 de mayo, el Getafe ganó 4-0 y eliminó al Barcelona del torneo.[110]​\n",
      "__________________________________________________________\n",
      "HEADER = Trayectoria > Titularidad y consagración en la élite\n",
      "CONTENT = El 9 de junio, en el derby barcelonés, Messi convirtió un gol similar al de \"La Mano de Dios\", anotado por Maradona contra Inglaterra en cuartos de final del Mundial 86. Se adelantó al portero Carlos Kameni y quiso cabecear pero, como no llegó, empujó el balón con la mano. A pesar de las protestas de los jugadores del Espanyol y repeticiones que demostraron la falta evidente, el gol fue validado.[111]​ El 15 de agosto, con gol de Messi en el 1-0 contra el Bayern Múnich, el Barcelona ganó la primera edición de la Copa Beckenbauer.[112]​ Hacia el final de la Liga, Messi empezó a marcar más que al inicio de la temporada (11 de sus 14 goles los hizo en los últimos trece partidos).[113]​ Sumó un total de diecisiete goles en treinta y seis partidos (14 en La Liga, 1 en Champions y 2 en Copa del Rey).[92]​\n",
      "__________________________________________________________\n",
      "HEADER = Trayectoria > Titularidad y consagración en la élite\n",
      "CONTENT = En noviembre, se convirtió en el primer argentino que recibió el Trofeo Bravo, entregado por Guerin Sportivo a los mejores futbolistas menores de veintiún años.[114]​ El 4 de diciembre, quedó en tercer lugar en la votación del Balón de Oro, detrás de Kaká y Cristiano Ronaldo,[115]​ y el 16 fue incluido por primera vez en el FIFA FIFPro World XI en la categoría de delantero.[116]​[117]​\n",
      "__________________________________________________________\n",
      "HEADER = Trayectoria > Titularidad y consagración en la élite\n",
      "CONTENT = El 15 de diciembre, en un partido contra el Valencia, se lesionó el bíceps femoral izquierdo, por lo que estuvo más de un mes sin jugar.[118]​ Regresó el 20 de enero del año siguiente frente al Racing de Santander.[119]​\n",
      "__________________________________________________________\n",
      "HEADER = Trayectoria > Titularidad y consagración en la élite\n",
      "CONTENT = El 29 de abril de 2008, el Barcelona fue eliminado por el Manchester United en semifinales de la Liga de Campeones 2007-2008, después de un empate sin goles el 23 en el Camp Nou y perder 1-0 en Old Trafford.[120]​[121]​ Al final de la temporada, Messi había hecho dieciséis goles y diez asistencias en cuarenta partidos.[86]​\n",
      "__________________________________________________________\n",
      "HEADER = Trayectoria > Titularidad y consagración en la élite > Era dorada del club: el \"Pep Team\" > 2008-09: Triplete histórico\n",
      "CONTENT = Después de dos temporadas sin éxito, el Barcelona necesitaba una reforma,[cita requerida] lo que provocó la salida de Rijkaard y la llegada de Pep Guardiola como entrenador, por decisión unánime de la comisión delegada del club, apoyada por la junta directiva.[122]​ Tras la marcha de Ronaldinho, Messi recibió la camiseta número 10.[123]​ En junio de 2008, firmó su cuarto contrato por un salario de entre 10 y 14 millones de euros que lo convirtió en el mejor pagado del club.[124]​\n",
      "__________________________________________________________\n",
      "HEADER = Trayectoria > Titularidad y consagración en la élite > Era dorada del club: el \"Pep Team\" > 2008-09: Triplete histórico\n",
      "CONTENT = De cara a la nueva temporada, una de las principales preocupaciones seguía siendo sus frecuentes lesiones musculares, que lo habían dejado al margen durante un total de ocho meses entre 2006 y 2008.[125]​ Para solucionar el problema, se implementaron nuevos regímenes de nutrición y sueño y el Barcelona aceptó que eligiera un kinesiólogo y un fisioterapeuta personales, que serían supervisados por el plantel médico del club.[126]​ Como resultado, permaneció prácticamente libre de lesiones los siguientes cuatro años.[127]​\n",
      "__________________________________________________________\n",
      "HEADER = Trayectoria > Titularidad y consagración en la élite > Era dorada del club: el \"Pep Team\" > 2008-09: Triplete histórico\n",
      "CONTENT = A fines de julio, participó en la gira por Escocia en la que el Barcelona jugó contra el Hibernians y el Dundee United.[128]​ El 27 de julio, ante el Dundee, anotó un hat-trick y fue capitán por primera vez.[129]​ Marcó, entre los dos partidos, cuatro de los once goles de su equipo.[130]​[131]​\n",
      "__________________________________________________________\n",
      "HEADER = Trayectoria > Titularidad y consagración en la élite > Era dorada del club: el \"Pep Team\" > 2008-09: Triplete histórico\n",
      "CONTENT = Hacia fines de año, en la prensa ya se hablaba de \"Messidependencia\" para referirse a su papel fundamental en el equipo,[132]​ aunque Laporta y Guardiola negaran que fuera así.[133]​ Ya en julio, después de la repercusión por su desempeño en Escocia, el entrenador había dicho \"No quiero que Messi lo resuelva todo. A Messi hay que ayudarlo porque él también nos ayuda\" y que no creía que hubiera \"dos Barças, uno con Messi y otro sin él\".[130]​[131]​\n",
      "__________________________________________________________\n",
      "HEADER = Trayectoria > Titularidad y consagración en la élite > Era dorada del club: el \"Pep Team\" > 2008-09: Triplete histórico\n",
      "CONTENT = En diciembre, Messi se ubicó en el segundo puesto en el Balón de Oro y, en enero de 2009, en el premio al Jugador Mundial de la FIFA, en ambas ocasiones detrás de Cristiano Ronaldo.[134]​[135]​\n",
      "__________________________________________________________\n",
      "HEADER = Trayectoria > Titularidad y consagración en la élite > Era dorada del club: el \"Pep Team\" > 2008-09: Triplete histórico\n",
      "CONTENT = El 6 de enero, en el partido de ida de octavos de final de la Copa del Rey, hizo un hat trick en el 3-1 frente al Atlético de Madrid, a pesar de que en su equipo faltaron siete titulares. La afición rival festejó su segundo gol y lo aplaudió cuando fue sustituido.[136]​[137]​ El 1 de febrero, en un partido de La Liga contra el Racing de Santander, donde entró en el segundo tiempo, marcó el gol del empate y otro para el 2-1 final, que fue el gol número 5000 del Barcelona en ese torneo.[138]​\n",
      "__________________________________________________________\n",
      "HEADER = Trayectoria > Titularidad y consagración en la élite > Era dorada del club: el \"Pep Team\" > 2008-09: Triplete histórico\n",
      "CONTENT = El 8 de abril, en el partido de ida de cuartos de final de la Liga de Campeones, hizo dos goles y dos asistencias en el 4-0 ante el Bayern Múnich.[139]​\n",
      "__________________________________________________________\n",
      "HEADER = Trayectoria > Titularidad y consagración en la élite > Era dorada del club: el \"Pep Team\" > 2008-09: Triplete histórico\n",
      "CONTENT = El 2 de mayo, por un partido de Liga, con un doblete de Messi el Barcelona le ganó 6-2 al Real Madrid, en lo que fue su mayor goleada en el Santiago Bernabéu.[140]​ Fue ése el primer partido en el que Messi marcó un gol en ese estadio y jugó como falso nueve, después de que Guardiola decidiera que ya no jugaría de extremo y establecerlo como el eje del juego del equipo.[141]​[142]​\n",
      "__________________________________________________________\n",
      "HEADER = Trayectoria > Titularidad y consagración en la élite > Era dorada del club: el \"Pep Team\" > 2008-09: Triplete histórico\n",
      "CONTENT = Frente al Chelsea, el 6 de mayo en el partido de vuelta por semifinales en Champions, asistió a Andrés Iniesta en el gol que permitió el empate 1-1 en el minuto 92 y el pase a la final.[143]​\n",
      "__________________________________________________________\n",
      "HEADER = Trayectoria > Titularidad y consagración en la élite > Era dorada del club: el \"Pep Team\" > 2008-09: Triplete histórico\n",
      "CONTENT = El 13 de mayo, en un clásico contra el Athletic de Bilbao por Copa del Rey, anotó su primer gol en una final con el primer equipo y asistió en el segundo para el 4-1 del Barcelona, que ganó el torneo después de once años.[93]​[144]​ Tres días más tarde, el club fue campeón de La Liga sin necesidad de jugar las últimas tres jornadas.[145]​\n",
      "__________________________________________________________\n",
      "HEADER = Trayectoria > Titularidad y consagración en la élite > Era dorada del club: el \"Pep Team\" > 2008-09: Triplete histórico\n",
      "CONTENT = El 27 de mayo, en la final de la Liga de Campeones ante el Manchester United en el estadio Olímpico de Roma, Messi convirtió de cabeza el segundo gol del Barcelona, que ganó 2-0 y recibió su tercera Copa de Europa,[146]​ con lo que consiguió el primer triplete del fútbol español y el quinto de la historia, detrás del Celtic, el Ajax, el PSV y el Manchester United.[147]​ En una entrevista con el canal argentino TyC Sports en 2019, el jugador eligió ese gol como el más importante de su carrera.[148]​\n",
      "__________________________________________________________\n"
     ]
    }
   ],
   "source": [
    "# Recorrer e imprimir los primeros 10 registros del DataFrame\n",
    "for index, row in df[10:60].iterrows():\n",
    "    print(f\"HEADER = {row['headers_concat']}\")\n",
    "    print(f\"CONTENT = {row['content']}\")\n",
    "    print(\"__________________________________________________________\")"
   ]
  },
  {
   "cell_type": "code",
   "execution_count": 571,
   "metadata": {},
   "outputs": [
    {
     "data": {
      "text/plain": [
       "325"
      ]
     },
     "execution_count": 571,
     "metadata": {},
     "output_type": "execute_result"
    }
   ],
   "source": [
    "len(df)"
   ]
  },
  {
   "cell_type": "code",
   "execution_count": 573,
   "metadata": {},
   "outputs": [
    {
     "data": {
      "text/plain": [
       "71"
      ]
     },
     "execution_count": 573,
     "metadata": {},
     "output_type": "execute_result"
    }
   ],
   "source": [
    "len(df['headers_concat'].drop_duplicates())"
   ]
  },
  {
   "cell_type": "code",
   "execution_count": 575,
   "metadata": {},
   "outputs": [],
   "source": [
    "tst = df.copy()"
   ]
  },
  {
   "cell_type": "code",
   "execution_count": 610,
   "metadata": {},
   "outputs": [
    {
     "data": {
      "text/plain": [
       "37"
      ]
     },
     "execution_count": 610,
     "metadata": {},
     "output_type": "execute_result"
    }
   ],
   "source": [
    "# Contar las apariciones del símbolo '>'\n",
    "tst['conteo_mayor'] = tst['headers_concat'].str.count('>')\n",
    "\n",
    "# Filtrar filas donde el conteo sea mayor que un valor específico\n",
    "valor_maximo = 2\n",
    "tst_filtrado = tst[tst['conteo_mayor'] <= valor_maximo]\n",
    "\n",
    "\n",
    "len(tst_filtrado['headers_concat'].drop_duplicates())"
   ]
  },
  {
   "cell_type": "code",
   "execution_count": null,
   "metadata": {},
   "outputs": [],
   "source": []
  },
  {
   "cell_type": "code",
   "execution_count": 538,
   "metadata": {},
   "outputs": [
    {
     "data": {
      "text/plain": [
       "308"
      ]
     },
     "execution_count": 538,
     "metadata": {},
     "output_type": "execute_result"
    }
   ],
   "source": [
    "h2 = content.find_all(['p'])\n",
    "\n",
    "len(h2)"
   ]
  },
  {
   "cell_type": "code",
   "execution_count": 539,
   "metadata": {},
   "outputs": [
    {
     "name": "stdout",
     "output_type": "stream",
     "text": [
      "Lionel Andrés Messi Cuccittini (Rosario, 24 de junio de 1987), conocido como Leo Messi, es un futbolista argentino que juega como delantero o centrocampista. Desde 2023, integra el plantel del Inter Miami de la MLS canadoestadounidense. Es también internacional con la selección de Argentina, de la que es capitán.\n",
      "Con el Fútbol Club Barcelona, al que estuvo ligado más de veinte años, ganó 35 títulos, entre ellos, diez de La Liga, cuatro de la Liga de Campeones de la UEFA y siete de la Copa del Rey.\n",
      "Considerado con frecuencia el mejor jugador del mundo y uno de los mejores de todos los tiempos,[10]​ es el único en la historia que ha ganado, entre otras distinciones, ocho veces el Balón de Oro, ocho premios de la FIFA al mejor jugador del mundo, seis Botas de Oro y dos Balones de Oro de la Copa Mundial de Fútbol. En 2020, se convirtió en el primer futbolista y el primer argentino en recibir un premio Laureus y fue incluido en el Dream Team del Balón de Oro.\n",
      "Tiene, entre otros, los récords por más goles en una temporada,[11]​ en un mismo club y en un año calendario. Es, además, el máximo goleador histórico del Barcelona y de la selección argentina, de La Liga, la Supercopa de España, la Supercopa de Europa y el jugador no europeo con más goles en la Liga de Campeones de la UEFA.\n",
      "Nacido y criado en la ciudad de Rosario, a los 13 años se radicó en España, donde el Barcelona accedió a pagar el tratamiento de la enfermedad hormonal que le habían diagnosticado de niño. Después de una rápida progresión por la Academia juvenil del Barcelona, hizo su debut oficial con el primer equipo en octubre de 2004, a los diecisiete años. A pesar de ser propenso a lesiones en los inicios de su carrera, ya en 2006 se estableció como jugador fundamental para el club. Su primera temporada ininterrumpida fue la 2008-09, en la que el Barcelona alcanzó el primer triplete del fútbol español. Por su estilo de juego de pequeño driblador zurdo,[12]​ pronto se lo comparó con su compatriota Diego Maradona quien, en 2007, lo declaró su «sucesor».\n",
      "En 2009, a los veintidós años, ganó su primer Balón de Oro y el premio al Jugador Mundial de la FIFA del año. Siguieron tres temporadas exitosas, en las que ganó cuatro Balones de Oro de forma consecutiva, hecho que no tenía precedentes. Hasta el momento, su mejor campaña personal fue en 2011-12, cuando estableció el récord de más goles en una temporada, tanto en La Liga como en otras competiciones europeas. Durante las dos siguientes temporadas, también sufrió lesiones y, en 2014, perdió el Balón de Oro frente a Cristiano Ronaldo, a quien se considera su rival. Recuperó su mejor forma durante la campaña 2014-15, en la que superó los registros de máximo goleador absoluto en La Liga y la Liga de Campeones y logró con el Barcelona un histórico segundo triplete, además de ganar su quinto Balón de Oro. Volvería a ganarlo en 2019, 2021 y 2023.\n",
      "Como internacional argentino, ha representado a su país en catorce torneos mayores. A nivel juvenil, en 2005 participó con la selección sub-20 en el Sudamericano de Colombia y ganó la Copa Mundial de Países Bajos, torneo en el que finalizó como mejor jugador y máximo goleador y, con la sub-23, recibió la medalla de oro en los Juegos Olímpicos de 2008. Después de debutar en la selección mayor en agosto de 2005, en el Mundial de Alemania 2006 se convirtió en el argentino más joven en jugar y en marcar en un mundial. Al año siguiente, en la Copa América, fue nombrado mejor jugador joven del torneo. Como capitán desde agosto de 2011, llegó con su equipo a las finales del Mundial de Brasil 2014, de la Copa América 2015 y de la Copa América Centenario, además de ganar la Copa América 2021 ante Brasil en el Maracaná, la Finalissima frente a Italia en Wembley y el Mundial de Catar contra Francia en el estadio Lusail en 2022 y la Copa América 2024 a Colombia.\n",
      "Lionel Andrés Messi nació el 24 de junio de 1987 en el Hospital Italiano Garibaldi de la ciudad de Rosario, en la provincia de Santa Fe. Es el tercer hijo de Jorge Horacio Messi y Celia María Cuccittini. Tiene dos hermanos mayores, Rodrigo y Matías, y una hermana menor, María Sol.[13]​ Su familia paterna es originaria del municipio italiano de Recanati, de donde su bisabuelo, Angelo Messi, emigró a Argentina en 1883.[14]​ Fue su abuela materna, Celia, la que lo alentó a dedicarse al fútbol, por lo que él le agradece señalando al cielo con las dos manos tras convertir un gol.[13]​[15]​ Dos de sus primos (Maximiliano y Emanuel Biancucchi) son también futbolistas.[13]​ Estudió en la escuela primaria N° 66 \"Gral. Las Heras\".[13]​\n",
      "Con apenas cuatro años, comenzó a practicar fútbol con Salvador Aparicio en el club Abanderado Grandoli, ubicado en el barrio Grandoli, a pocas cuadras de su casa.[13]​[16]​ En 1994, empezó a entrenarse en las divisiones inferiores de Newell's Old Boys.[13]​ En 1995, jugó un torneo no oficial con Central Córdoba.[17]​\n",
      "A la edad de ocho años, le fue diagnosticada una deficiencia de la hormona de crecimiento,[18]​ por lo que debió hacer un tratamiento de 900 dólares mensuales que, durante un año y medio, cubrieron su obra social y Acindar, siderúrgica en la que trabajaba su padre.[13]​\n"
     ]
    }
   ],
   "source": [
    "for elem in h2[:10]:  # Mostrar los primeros 10 elementos\n",
    "    print_element(elem)"
   ]
  },
  {
   "cell_type": "code",
   "execution_count": null,
   "metadata": {},
   "outputs": [],
   "source": []
  },
  {
   "cell_type": "code",
   "execution_count": null,
   "metadata": {},
   "outputs": [],
   "source": []
  },
  {
   "cell_type": "code",
   "execution_count": null,
   "metadata": {},
   "outputs": [],
   "source": []
  },
  {
   "cell_type": "code",
   "execution_count": 457,
   "metadata": {},
   "outputs": [],
   "source": [
    "def queryDB_embeddings(query, collection):\n",
    "    # Realizar una búsqueda de ejemplo\n",
    "    results = collection.query(\n",
    "        query_embeddings=embeddings_model.encode(query).tolist(),\n",
    "        n_results=3\n",
    "        )\n",
    "\n",
    "    return results"
   ]
  },
  {
   "cell_type": "code",
   "execution_count": 149,
   "metadata": {},
   "outputs": [],
   "source": [
    "def build_prompt(query, search_results_text_list):\n",
    "    \n",
    "    prompt_template = \"\"\"\n",
    "You are an expert biographer on the life and career of Lionel Messi, with deep knowledge of his entire history and statistics. \n",
    "Your task is to answer users questions based solely on the context provided to you. \n",
    "Answer respectfully and in a warm way, as if you are an assistant.\n",
    "Answer in the same language that you are asked, if you are asked in english, answer in english, but if you are asked in spanish, answer in spanish.\n",
    "Use only the data from the context to answer the question. \n",
    "If you cannot answer the question with the provided information, respond: “I’m sorry, but I don’t have enough information to answer that. Is there anything else I can help you with?”\n",
    "\n",
    "CONTEXT: {context}\n",
    "\n",
    "QUESTION: \n",
    "{question}\n",
    "\"\"\".strip()\n",
    "\n",
    "    context = \"\"\n",
    "    \n",
    "    for text in search_results_text_list:\n",
    "        context = context + f\"{text}\\n\\n\"\n",
    "    \n",
    "    prompt = prompt_template.format(question=query, context=context).strip()\n",
    "    return prompt"
   ]
  },
  {
   "cell_type": "code",
   "execution_count": 185,
   "metadata": {},
   "outputs": [],
   "source": [
    "def llm(prompt):\n",
    "    response = OpenAI_client.chat.completions.create(\n",
    "        model='gpt-4o-mini',\n",
    "        messages=[{\"role\": \"user\", \"content\": prompt}]\n",
    "    )\n",
    "    \n",
    "    # Printing the input tokens and output tokens of each all\n",
    "    input_tokens = response.usage.prompt_tokens\n",
    "    output_tokens = response.usage.completion_tokens\n",
    "\n",
    "    input_tokens_cost_per_1k = 0.00015\n",
    "    output_tokens_cost_per_1k = 0.0006\n",
    "\n",
    "    input_tokens_cost = input_tokens_cost_per_1k * (input_tokens / 1000)\n",
    "    output_tokens_cost = output_tokens_cost_per_1k * (output_tokens / 1000)\n",
    "    total_cost = input_tokens_cost + output_tokens_cost\n",
    "\n",
    "    print(\"------------------------------------\")\n",
    "    print(f\"Input Tokens: {input_tokens}       Cost: ${input_tokens_cost:.8f}\")\n",
    "    print(f\"Completion Tokens: {output_tokens}       Cost: ${output_tokens_cost:.8f}\")\n",
    "    print(f\"Total Cost: ${total_cost:.8f}\")\n",
    "    print(\"------------------------------------\")\n",
    "\n",
    "    return response.choices[0].message.content"
   ]
  },
  {
   "cell_type": "code",
   "execution_count": 191,
   "metadata": {},
   "outputs": [],
   "source": [
    "def generate_answer(question, collection):\n",
    "    top_k_chunks = queryDB_embeddings(query=question, collection=collection)\n",
    "    builded_prompt = build_prompt(query=question, search_results_text_list=top_k_chunks['documents'])\n",
    "    answer = llm(builded_prompt)\n",
    "\n",
    "    return answer\n"
   ]
  },
  {
   "cell_type": "code",
   "execution_count": null,
   "metadata": {},
   "outputs": [],
   "source": []
  },
  {
   "cell_type": "code",
   "execution_count": 192,
   "metadata": {},
   "outputs": [
    {
     "name": "stdout",
     "output_type": "stream",
     "text": [
      "------------------------------------\n",
      "Input Tokens: 3882       Cost: $0.00058230\n",
      "Completion Tokens: 43       Cost: $0.00002580\n",
      "Total Cost: $0.00060810\n",
      "------------------------------------\n",
      "Lionel Messi tiene dos hermanos mayores, Rodrigo y Matías, y una hermana menor, María Sol. Por lo tanto, tiene un total de tres hermanos. ¿Hay algo más en lo que te pueda ayudar?\n"
     ]
    }
   ],
   "source": [
    "print(generate_answer(\"Cuantos hermanos tiene Messi?\", collection))"
   ]
  },
  {
   "cell_type": "markdown",
   "metadata": {},
   "source": [
    "# "
   ]
  },
  {
   "cell_type": "markdown",
   "metadata": {},
   "source": [
    "# "
   ]
  },
  {
   "cell_type": "markdown",
   "metadata": {},
   "source": [
    "# Ground Truth Generation"
   ]
  },
  {
   "cell_type": "code",
   "execution_count": 446,
   "metadata": {},
   "outputs": [],
   "source": [
    "def build_ground_truth_prompt(document_text):\n",
    "    \n",
    "    prompt_template = \"\"\"\n",
    "        You are an user of a chatbot assistant that is an expert biographer on the life and career of Lionel Messi,  \n",
    "        with deep knowledge of his entire history and statistics.\n",
    "        Your task is to generate five questions about the text context sent to you, to generate a ground truth dataset for the app.\n",
    "        Please, formulate five questions that an user might ask based on the provided text.\n",
    "        The recourd should contain the answer to the question, and the question should be complete an not too short. Use as fewer\n",
    "        words as possible from the text provided.\n",
    "        Generate the questions only in spanish.\n",
    "\n",
    "        TEXT PROVIDED: \n",
    "        {document_text}\n",
    "\n",
    "        Provide the output in parsable JSON without using code blocks:\n",
    "        {{\"questions\": [\"Question 1\", \"Question 2\", \"Question 3\", \"Question 4\", \"Question 5\"]}}\n",
    "    \"\"\".strip()\n",
    "    \n",
    "    prompt = prompt_template.format(document_text=document_text).strip()\n",
    "    return prompt"
   ]
  },
  {
   "cell_type": "code",
   "execution_count": 447,
   "metadata": {},
   "outputs": [],
   "source": [
    "def generate_questions(document):\n",
    "    builded_prompt = build_ground_truth_prompt(document)\n",
    "    answer = llm(builded_prompt)\n",
    "    return answer\n"
   ]
  },
  {
   "cell_type": "code",
   "execution_count": 448,
   "metadata": {},
   "outputs": [],
   "source": [
    "chunks = collection.get()\n",
    "\n",
    "questions = {}"
   ]
  },
  {
   "cell_type": "code",
   "execution_count": 449,
   "metadata": {},
   "outputs": [
    {
     "name": "stderr",
     "output_type": "stream",
     "text": [
      "1it [00:01,  1.81s/it]"
     ]
    },
    {
     "name": "stdout",
     "output_type": "stream",
     "text": [
      "------------------------------------\n",
      "Input Tokens: 1352       Cost: $0.00020280\n",
      "Completion Tokens: 123       Cost: $0.00007380\n",
      "Total Cost: $0.00027660\n",
      "------------------------------------\n"
     ]
    },
    {
     "name": "stderr",
     "output_type": "stream",
     "text": [
      "2it [00:02,  1.44s/it]"
     ]
    },
    {
     "name": "stdout",
     "output_type": "stream",
     "text": [
      "------------------------------------\n",
      "Input Tokens: 1545       Cost: $0.00023175\n",
      "Completion Tokens: 120       Cost: $0.00007200\n",
      "Total Cost: $0.00030375\n",
      "------------------------------------\n"
     ]
    },
    {
     "name": "stderr",
     "output_type": "stream",
     "text": [
      "3it [00:04,  1.50s/it]"
     ]
    },
    {
     "name": "stdout",
     "output_type": "stream",
     "text": [
      "------------------------------------\n",
      "Input Tokens: 1500       Cost: $0.00022500\n",
      "Completion Tokens: 121       Cost: $0.00007260\n",
      "Total Cost: $0.00029760\n",
      "------------------------------------\n"
     ]
    },
    {
     "name": "stderr",
     "output_type": "stream",
     "text": [
      "4it [00:05,  1.39s/it]"
     ]
    },
    {
     "name": "stdout",
     "output_type": "stream",
     "text": [
      "------------------------------------\n",
      "Input Tokens: 1453       Cost: $0.00021795\n",
      "Completion Tokens: 112       Cost: $0.00006720\n",
      "Total Cost: $0.00028515\n",
      "------------------------------------\n"
     ]
    },
    {
     "name": "stderr",
     "output_type": "stream",
     "text": [
      "5it [00:06,  1.28s/it]"
     ]
    },
    {
     "name": "stdout",
     "output_type": "stream",
     "text": [
      "------------------------------------\n",
      "Input Tokens: 1434       Cost: $0.00021510\n",
      "Completion Tokens: 90       Cost: $0.00005400\n",
      "Total Cost: $0.00026910\n",
      "------------------------------------\n"
     ]
    },
    {
     "name": "stderr",
     "output_type": "stream",
     "text": [
      "6it [00:08,  1.28s/it]"
     ]
    },
    {
     "name": "stdout",
     "output_type": "stream",
     "text": [
      "------------------------------------\n",
      "Input Tokens: 1563       Cost: $0.00023445\n",
      "Completion Tokens: 138       Cost: $0.00008280\n",
      "Total Cost: $0.00031725\n",
      "------------------------------------\n"
     ]
    },
    {
     "name": "stderr",
     "output_type": "stream",
     "text": [
      "7it [00:09,  1.29s/it]"
     ]
    },
    {
     "name": "stdout",
     "output_type": "stream",
     "text": [
      "------------------------------------\n",
      "Input Tokens: 1509       Cost: $0.00022635\n",
      "Completion Tokens: 129       Cost: $0.00007740\n",
      "Total Cost: $0.00030375\n",
      "------------------------------------\n"
     ]
    },
    {
     "name": "stderr",
     "output_type": "stream",
     "text": [
      "8it [00:10,  1.36s/it]"
     ]
    },
    {
     "name": "stdout",
     "output_type": "stream",
     "text": [
      "------------------------------------\n",
      "Input Tokens: 1416       Cost: $0.00021240\n",
      "Completion Tokens: 108       Cost: $0.00006480\n",
      "Total Cost: $0.00027720\n",
      "------------------------------------\n"
     ]
    },
    {
     "name": "stderr",
     "output_type": "stream",
     "text": [
      "9it [00:12,  1.32s/it]"
     ]
    },
    {
     "name": "stdout",
     "output_type": "stream",
     "text": [
      "------------------------------------\n",
      "Input Tokens: 1365       Cost: $0.00020475\n",
      "Completion Tokens: 99       Cost: $0.00005940\n",
      "Total Cost: $0.00026415\n",
      "------------------------------------\n"
     ]
    },
    {
     "name": "stderr",
     "output_type": "stream",
     "text": [
      "10it [00:13,  1.46s/it]"
     ]
    },
    {
     "name": "stdout",
     "output_type": "stream",
     "text": [
      "------------------------------------\n",
      "Input Tokens: 1451       Cost: $0.00021765\n",
      "Completion Tokens: 135       Cost: $0.00008100\n",
      "Total Cost: $0.00029865\n",
      "------------------------------------\n"
     ]
    },
    {
     "name": "stderr",
     "output_type": "stream",
     "text": [
      "11it [00:15,  1.44s/it]"
     ]
    },
    {
     "name": "stdout",
     "output_type": "stream",
     "text": [
      "------------------------------------\n",
      "Input Tokens: 1385       Cost: $0.00020775\n",
      "Completion Tokens: 111       Cost: $0.00006660\n",
      "Total Cost: $0.00027435\n",
      "------------------------------------\n"
     ]
    },
    {
     "name": "stderr",
     "output_type": "stream",
     "text": [
      "12it [00:16,  1.34s/it]"
     ]
    },
    {
     "name": "stdout",
     "output_type": "stream",
     "text": [
      "------------------------------------\n",
      "Input Tokens: 1467       Cost: $0.00022005\n",
      "Completion Tokens: 83       Cost: $0.00004980\n",
      "Total Cost: $0.00026985\n",
      "------------------------------------\n"
     ]
    },
    {
     "name": "stderr",
     "output_type": "stream",
     "text": [
      "13it [00:17,  1.38s/it]"
     ]
    },
    {
     "name": "stdout",
     "output_type": "stream",
     "text": [
      "------------------------------------\n",
      "Input Tokens: 1333       Cost: $0.00019995\n",
      "Completion Tokens: 124       Cost: $0.00007440\n",
      "Total Cost: $0.00027435\n",
      "------------------------------------\n"
     ]
    },
    {
     "name": "stderr",
     "output_type": "stream",
     "text": [
      "14it [00:19,  1.33s/it]"
     ]
    },
    {
     "name": "stdout",
     "output_type": "stream",
     "text": [
      "------------------------------------\n",
      "Input Tokens: 1182       Cost: $0.00017730\n",
      "Completion Tokens: 125       Cost: $0.00007500\n",
      "Total Cost: $0.00025230\n",
      "------------------------------------\n"
     ]
    },
    {
     "name": "stderr",
     "output_type": "stream",
     "text": [
      "15it [00:20,  1.29s/it]"
     ]
    },
    {
     "name": "stdout",
     "output_type": "stream",
     "text": [
      "------------------------------------\n",
      "Input Tokens: 1270       Cost: $0.00019050\n",
      "Completion Tokens: 118       Cost: $0.00007080\n",
      "Total Cost: $0.00026130\n",
      "------------------------------------\n"
     ]
    },
    {
     "name": "stderr",
     "output_type": "stream",
     "text": [
      "16it [00:21,  1.26s/it]"
     ]
    },
    {
     "name": "stdout",
     "output_type": "stream",
     "text": [
      "------------------------------------\n",
      "Input Tokens: 1337       Cost: $0.00020055\n",
      "Completion Tokens: 115       Cost: $0.00006900\n",
      "Total Cost: $0.00026955\n",
      "------------------------------------\n"
     ]
    },
    {
     "name": "stderr",
     "output_type": "stream",
     "text": [
      "17it [00:22,  1.28s/it]"
     ]
    },
    {
     "name": "stdout",
     "output_type": "stream",
     "text": [
      "------------------------------------\n",
      "Input Tokens: 1583       Cost: $0.00023745\n",
      "Completion Tokens: 141       Cost: $0.00008460\n",
      "Total Cost: $0.00032205\n",
      "------------------------------------\n"
     ]
    },
    {
     "name": "stderr",
     "output_type": "stream",
     "text": [
      "18it [00:24,  1.27s/it]"
     ]
    },
    {
     "name": "stdout",
     "output_type": "stream",
     "text": [
      "------------------------------------\n",
      "Input Tokens: 1373       Cost: $0.00020595\n",
      "Completion Tokens: 123       Cost: $0.00007380\n",
      "Total Cost: $0.00027975\n",
      "------------------------------------\n"
     ]
    },
    {
     "name": "stderr",
     "output_type": "stream",
     "text": [
      "19it [00:25,  1.23s/it]"
     ]
    },
    {
     "name": "stdout",
     "output_type": "stream",
     "text": [
      "------------------------------------\n",
      "Input Tokens: 1542       Cost: $0.00023130\n",
      "Completion Tokens: 128       Cost: $0.00007680\n",
      "Total Cost: $0.00030810\n",
      "------------------------------------\n"
     ]
    },
    {
     "name": "stderr",
     "output_type": "stream",
     "text": [
      "20it [00:26,  1.24s/it]"
     ]
    },
    {
     "name": "stdout",
     "output_type": "stream",
     "text": [
      "------------------------------------\n",
      "Input Tokens: 1635       Cost: $0.00024525\n",
      "Completion Tokens: 113       Cost: $0.00006780\n",
      "Total Cost: $0.00031305\n",
      "------------------------------------\n"
     ]
    },
    {
     "name": "stderr",
     "output_type": "stream",
     "text": [
      "21it [00:27,  1.22s/it]"
     ]
    },
    {
     "name": "stdout",
     "output_type": "stream",
     "text": [
      "------------------------------------\n",
      "Input Tokens: 1308       Cost: $0.00019620\n",
      "Completion Tokens: 122       Cost: $0.00007320\n",
      "Total Cost: $0.00026940\n",
      "------------------------------------\n"
     ]
    },
    {
     "name": "stderr",
     "output_type": "stream",
     "text": [
      "22it [00:29,  1.28s/it]"
     ]
    },
    {
     "name": "stdout",
     "output_type": "stream",
     "text": [
      "------------------------------------\n",
      "Input Tokens: 1450       Cost: $0.00021750\n",
      "Completion Tokens: 104       Cost: $0.00006240\n",
      "Total Cost: $0.00027990\n",
      "------------------------------------\n"
     ]
    },
    {
     "name": "stderr",
     "output_type": "stream",
     "text": [
      "23it [00:30,  1.33s/it]"
     ]
    },
    {
     "name": "stdout",
     "output_type": "stream",
     "text": [
      "------------------------------------\n",
      "Input Tokens: 1401       Cost: $0.00021015\n",
      "Completion Tokens: 112       Cost: $0.00006720\n",
      "Total Cost: $0.00027735\n",
      "------------------------------------\n"
     ]
    },
    {
     "name": "stderr",
     "output_type": "stream",
     "text": [
      "24it [00:31,  1.28s/it]"
     ]
    },
    {
     "name": "stdout",
     "output_type": "stream",
     "text": [
      "------------------------------------\n",
      "Input Tokens: 1373       Cost: $0.00020595\n",
      "Completion Tokens: 122       Cost: $0.00007320\n",
      "Total Cost: $0.00027915\n",
      "------------------------------------\n"
     ]
    },
    {
     "name": "stderr",
     "output_type": "stream",
     "text": [
      "25it [00:33,  1.41s/it]"
     ]
    },
    {
     "name": "stdout",
     "output_type": "stream",
     "text": [
      "------------------------------------\n",
      "Input Tokens: 1444       Cost: $0.00021660\n",
      "Completion Tokens: 114       Cost: $0.00006840\n",
      "Total Cost: $0.00028500\n",
      "------------------------------------\n"
     ]
    },
    {
     "name": "stderr",
     "output_type": "stream",
     "text": [
      "26it [00:34,  1.36s/it]"
     ]
    },
    {
     "name": "stdout",
     "output_type": "stream",
     "text": [
      "------------------------------------\n",
      "Input Tokens: 1482       Cost: $0.00022230\n",
      "Completion Tokens: 130       Cost: $0.00007800\n",
      "Total Cost: $0.00030030\n",
      "------------------------------------\n"
     ]
    },
    {
     "name": "stderr",
     "output_type": "stream",
     "text": [
      "27it [00:35,  1.25s/it]"
     ]
    },
    {
     "name": "stdout",
     "output_type": "stream",
     "text": [
      "------------------------------------\n",
      "Input Tokens: 692       Cost: $0.00010380\n",
      "Completion Tokens: 93       Cost: $0.00005580\n",
      "Total Cost: $0.00015960\n",
      "------------------------------------\n"
     ]
    },
    {
     "name": "stderr",
     "output_type": "stream",
     "text": [
      "28it [00:36,  1.22s/it]"
     ]
    },
    {
     "name": "stdout",
     "output_type": "stream",
     "text": [
      "------------------------------------\n",
      "Input Tokens: 1037       Cost: $0.00015555\n",
      "Completion Tokens: 112       Cost: $0.00006720\n",
      "Total Cost: $0.00022275\n",
      "------------------------------------\n"
     ]
    },
    {
     "name": "stderr",
     "output_type": "stream",
     "text": [
      "29it [00:37,  1.19s/it]"
     ]
    },
    {
     "name": "stdout",
     "output_type": "stream",
     "text": [
      "------------------------------------\n",
      "Input Tokens: 702       Cost: $0.00010530\n",
      "Completion Tokens: 111       Cost: $0.00006660\n",
      "Total Cost: $0.00017190\n",
      "------------------------------------\n"
     ]
    },
    {
     "name": "stderr",
     "output_type": "stream",
     "text": [
      "30it [00:38,  1.13s/it]"
     ]
    },
    {
     "name": "stdout",
     "output_type": "stream",
     "text": [
      "------------------------------------\n",
      "Input Tokens: 499       Cost: $0.00007485\n",
      "Completion Tokens: 101       Cost: $0.00006060\n",
      "Total Cost: $0.00013545\n",
      "------------------------------------\n"
     ]
    },
    {
     "name": "stderr",
     "output_type": "stream",
     "text": [
      "31it [00:40,  1.23s/it]"
     ]
    },
    {
     "name": "stdout",
     "output_type": "stream",
     "text": [
      "------------------------------------\n",
      "Input Tokens: 1037       Cost: $0.00015555\n",
      "Completion Tokens: 104       Cost: $0.00006240\n",
      "Total Cost: $0.00021795\n",
      "------------------------------------\n"
     ]
    },
    {
     "name": "stderr",
     "output_type": "stream",
     "text": [
      "32it [00:41,  1.21s/it]"
     ]
    },
    {
     "name": "stdout",
     "output_type": "stream",
     "text": [
      "------------------------------------\n",
      "Input Tokens: 1524       Cost: $0.00022860\n",
      "Completion Tokens: 111       Cost: $0.00006660\n",
      "Total Cost: $0.00029520\n",
      "------------------------------------\n"
     ]
    },
    {
     "name": "stderr",
     "output_type": "stream",
     "text": [
      "33it [00:42,  1.19s/it]"
     ]
    },
    {
     "name": "stdout",
     "output_type": "stream",
     "text": [
      "------------------------------------\n",
      "Input Tokens: 1072       Cost: $0.00016080\n",
      "Completion Tokens: 117       Cost: $0.00007020\n",
      "Total Cost: $0.00023100\n",
      "------------------------------------\n"
     ]
    },
    {
     "name": "stderr",
     "output_type": "stream",
     "text": [
      "34it [00:43,  1.17s/it]"
     ]
    },
    {
     "name": "stdout",
     "output_type": "stream",
     "text": [
      "------------------------------------\n",
      "Input Tokens: 1578       Cost: $0.00023670\n",
      "Completion Tokens: 112       Cost: $0.00006720\n",
      "Total Cost: $0.00030390\n",
      "------------------------------------\n"
     ]
    },
    {
     "name": "stderr",
     "output_type": "stream",
     "text": [
      "35it [00:45,  1.19s/it]"
     ]
    },
    {
     "name": "stdout",
     "output_type": "stream",
     "text": [
      "------------------------------------\n",
      "Input Tokens: 1503       Cost: $0.00022545\n",
      "Completion Tokens: 133       Cost: $0.00007980\n",
      "Total Cost: $0.00030525\n",
      "------------------------------------\n"
     ]
    },
    {
     "name": "stderr",
     "output_type": "stream",
     "text": [
      "36it [00:46,  1.17s/it]"
     ]
    },
    {
     "name": "stdout",
     "output_type": "stream",
     "text": [
      "------------------------------------\n",
      "Input Tokens: 1473       Cost: $0.00022095\n",
      "Completion Tokens: 106       Cost: $0.00006360\n",
      "Total Cost: $0.00028455\n",
      "------------------------------------\n"
     ]
    },
    {
     "name": "stderr",
     "output_type": "stream",
     "text": [
      "37it [00:47,  1.18s/it]"
     ]
    },
    {
     "name": "stdout",
     "output_type": "stream",
     "text": [
      "------------------------------------\n",
      "Input Tokens: 1466       Cost: $0.00021990\n",
      "Completion Tokens: 132       Cost: $0.00007920\n",
      "Total Cost: $0.00029910\n",
      "------------------------------------\n"
     ]
    },
    {
     "name": "stderr",
     "output_type": "stream",
     "text": [
      "38it [00:48,  1.28s/it]"
     ]
    },
    {
     "name": "stdout",
     "output_type": "stream",
     "text": [
      "------------------------------------\n",
      "Input Tokens: 1464       Cost: $0.00021960\n",
      "Completion Tokens: 142       Cost: $0.00008520\n",
      "Total Cost: $0.00030480\n",
      "------------------------------------\n"
     ]
    },
    {
     "name": "stderr",
     "output_type": "stream",
     "text": [
      "\n"
     ]
    }
   ],
   "source": [
    "for doc_id, doc in tqdm(zip(chunks['ids'], chunks['documents'])):\n",
    "    \n",
    "    if doc_id in questions:\n",
    "        continue\n",
    "\n",
    "    generated_questions = generate_questions(doc)\n",
    "\n",
    "    questions[doc_id] = json.loads(generated_questions)['questions']\n"
   ]
  },
  {
   "cell_type": "code",
   "execution_count": 450,
   "metadata": {},
   "outputs": [
    {
     "data": {
      "text/plain": [
       "{'Lionel_Messi_Wikipedia_Page-1': ['¿Cuál es el nombre completo de Lionel Messi y cuál es su apodo más conocido en el mundo del fútbol?',\n",
       "  '¿En qué club profesional hizo su debut Lionel Messi y en qué fecha ocurrió?',\n",
       "  '¿Cuántos Balones de Oro ha ganado Messi a lo largo de su carrera y cuáles fueron los años en los que los recibió?',\n",
       "  '¿Qué logros alcanzó Messi con la selección argentina en su trayectoria internacional, incluyendo los torneos en los que participó?',\n",
       "  '¿Cuáles son los clubes en los que ha jugado Lionel Messi desde su debut hasta la actualidad?'],\n",
       " 'Lionel_Messi_Wikipedia_Page-10': ['¿Cuántos goles anotó Messi en 2012 para romper el récord de Gerd Müller?',\n",
       "  '¿Qué logró Messi al marcar 91 goles en un año natural y cuántos de esos goles fueron con su club?',\n",
       "  '¿Qué contrato renovó Messi en diciembre de2012 y cuál era su sueldo neto?',\n",
       "  '¿Qué récord histórico alcanzó Messi al superar a Di Stéfano en goles de El Clásico?',\n",
       "  '¿Cuántos goles anotó Messi en La Liga para convertirse en el máximo goleador absoluto en esa competición?'],\n",
       " 'Lionel_Messi_Wikipedia_Page-11': ['¿Cuántos goles anotó Messi en el partido contra el Getafe el 28 de abril de 2015?',\n",
       "  '¿Qué récord estableció Messi en el 2014 en la Liga de Campeones con su número de goles?',\n",
       "  '¿Cuál fue el apodo del tridente de ataque formado por Messi, Suárez y Neymar?',\n",
       "  '¿Qué premio recibió Messi por su actuación en la Liga de Campeones de 2014-2015?',\n",
       "  '¿Cuántos Balones de Oro ganó Messi hasta el 11 de enero de 2016?'],\n",
       " 'Lionel_Messi_Wikipedia_Page-12': ['¿Cuántos goles y asistencias anotó Messi durante la temporada 2016-2017?',\n",
       "  '¿En qué partido Messi anotó un hat-trick en la Liga de Campeones 2016-2017?',\n",
       "  '¿Qué logró Messi al superar a Di Stéfano en 2016?',\n",
       "  '¿Cuántas Bota de Oro ganó Messi al finalizar la temporada 2016-2017?',\n",
       "  '¿Qué récord alcanzó Messi en el partido contra el Olympiacos en octubre de 2017?'],\n",
       " 'Lionel_Messi_Wikipedia_Page-13': ['¿Cuántos goles anotó Messi en la temporada 2018-2019?',\n",
       "  '¿Qué título levantó Messi como capitán del Barcelona?',\n",
       "  '¿Cuándo fue el último gol de Messi en un Clásico hasta esa fecha?',\n",
       "  '¿Cuál es el récord que estableció Messi en la Liga de Campeones de Europa?',\n",
       "  '¿Qué premio recibió Messi en 2019 por su trayectoria deportiva?'],\n",
       " 'Lionel_Messi_Wikipedia_Page-14': ['¿Qué dijo Pelé sobre su deseo de jugar con Messi durante una entrevista en 2019?',\n",
       "  '¿Cuántos goles anotó Messi en la última jornada de la liga contra el Eibar y cuál fue su total de goles en la temporada 2019-2020?',\n",
       "  '¿Qué premio ganó Messi el 23 de septiembre de 2019 y cuántas veces lo había recibido anteriormente?',\n",
       "  '¿Cuántos hat-tricks había anotado Messi antes del partido contra el Mallorca el 7 de diciembre de 2019?',\n",
       "  '¿Qué ocurrió el 15 de agosto de 2020 que afectó la carrera de Messi en el Barcelona?'],\n",
       " 'Lionel_Messi_Wikipedia_Page-15': ['¿Cuál fue el deseo que manifestó Messi respecto a su futuro en el Barcelona antes de la temporada 2020-2021?',\n",
       "  '¿Cuántas temporadas en el Barcelona alcanzó Messi al igualar la marca de Xavi y Rexach?',\n",
       "  '¿Cómo fue el impacto de Messi en el partido contra el Betis en noviembre de 2020?',\n",
       "  '¿Qué logro histórico alcanzó Messi al igualar los 643 goles de Pelé con el Santos?',\n",
       "  '¿Qué récord estableció Messi al ser nombrado el mejor jugador de la década 2011-2020 por la IFFHS?'],\n",
       " 'Lionel_Messi_Wikipedia_Page-16': ['¿Cuántos Balones de Oro se espera que gane Messi a lo largo de su carrera según Johan Cruyff?',\n",
       "  '¿Cuál fue el récord de goles en La Liga que Messi alcanzó al superar a Pelé?',\n",
       "  '¿Cuántos títulos ganó Messi con el Barcelona antes de su salida al PSG?',\n",
       "  '¿Qué número de dorsal le fue asignado a Messi en el Paris Saint-Germain?',\n",
       "  '¿Qué logró Messi en su primer partido del año 2022 en la Ligue 1?'],\n",
       " 'Lionel_Messi_Wikipedia_Page-17': ['¿Cuántos goles marcó Messi en su primera temporada con el Inter Miami en la MLS?',\n",
       "  '¿Qué premio recibió Messi en enero de 2023 por su desempeño en el fútbol internacional?',\n",
       "  '¿Qué título ganó Messi con el PSG el 23 de abril de 2022?',\n",
       "  '¿Cuántos goles anotó Messi en la final de la Leagues Cup contra Nashville SC?',\n",
       "  '¿Cuándo anunció Messi su contrato con el Inter Miami?'],\n",
       " 'Lionel_Messi_Wikipedia_Page-18': ['¿Cuántos Balones de Oro ha recibido Lionel Messi hasta el 30 de octubre de 2023?',\n",
       "  '¿Qué premio recibió Messi el 15 de enero de 2024 y cuántas veces lo ha ganado?',\n",
       "  '¿Qué controversia surgió sobre la elección de Messi como el jugador The Best en comparación con Erling Haaland?',\n",
       "  'En qué fecha debutó Messi con la categoría sub-20 de Argentina y contra qué equipo fue su primer partido?',\n",
       "  '¿Cuántos goles anotó Messi en el Campeonato Sudamericano Sub-20 de 2005 y en qué posición terminó en la tabla de goleadores?'],\n",
       " 'Lionel_Messi_Wikipedia_Page-19': ['¿Cuáles fueron las estadísticas de Messi en los Juegos Olímpicos de Pekín 2008?',\n",
       "  '¿Qué premios recibió Messi al final de su participación en los Juegos Olímpicos de Pekín 2008?',\n",
       "  '¿Qué sucedió entre Barcelona y la AFA con respecto a la participación de Messi en los Juegos Olímpicos?',\n",
       "  '¿Cuándo fue convocado Messi por primera vez para la selección absoluta argentina?',\n",
       "  '¿Cómo fue el debut de Messi con la selección absoluta en un amistoso contra Hungría?'],\n",
       " 'Lionel_Messi_Wikipedia_Page-2': ['¿Cuándo y dónde nació Lionel Messi?',\n",
       "  '¿Cómo comenzó Lionel Messi su carrera futbolística en Rosario?',\n",
       "  '¿Qué problemas de salud tuvo Lionel Messi en su infancia que afectaron su desarrollo?',\n",
       "  '¿Qué ocurrió cuando Messi se probó en River Plate a los trece años?',\n",
       "  '¿Quién fue el responsable de la decisión de fichar a Messi en el FC Barcelona?'],\n",
       " 'Lionel_Messi_Wikipedia_Page-20': ['¿En qué amistoso marcó Messi su primer gol con la selección argentina y cuál fue el resultado del partido?',\n",
       "  '¿Cuál fue la decisión de Pékerman respecto a Messi antes del Mundial de Alemania 2006 y por qué fue criticada?',\n",
       "  '¿Qué logró Messi en su debut en la Copa del Mundo 2006 ante Serbia y Montenegro?',\n",
       "  '¿Cuándo marcó Messi su primer doblete con la selección argentina y en qué partido fue?',\n",
       "  '¿Cómo reaccionó Diego Maradona respecto a Messi después de asumir como entrenador de la selección argentina en 2008?'],\n",
       " 'Lionel_Messi_Wikipedia_Page-21': ['¿Cuál fue el resultado de Argentina en el partido inaugural de la Copa América 2011 contra Bolivia?',\n",
       "  '¿Cómo fue el desempeño de Messi en el partido contra Nigeria durante el Mundial de Sudáfrica 2010?',\n",
       "  '¿Qué rol asumió Messi en el partido contra Corea del Sur durante el Mundial de 2010?',\n",
       "  '¿Qué hizo Messi el 11 de noviembre de 2011 en el partido contra Brasil?',\n",
       "  '¿Por qué fue cuestionado Messi después del empate sin goles contra Colombia en la Copa América 2011?'],\n",
       " 'Lionel_Messi_Wikipedia_Page-22': ['¿Cuál fue el primer hat-trick que Messi anotó con la selección argentina y contra qué equipo sucedió?',\n",
       "  '¿Quién fue nombrado como el nuevo director técnico de Argentina después del despido de Batista?',\n",
       "  'En qué partido Messi se convirtió en capitán de la selección argentina y quién lo reemplazó?',\n",
       "  '¿Cuántos goles anotó Messi en el amistoso contra Suiza el 29 de febrero de 2012?',\n",
       "  'Qué récord alcanzó Messi al anotar contra Chile el 16 de octubre en el estadio Nacional de Santiago?'],\n",
       " 'Lionel_Messi_Wikipedia_Page-23': ['¿Qué ocurrió en la final del Mundial 2014 entre Argentina y Alemania?',\n",
       "  '¿Cuántos goles anotó Messi en el partido contra Nigeria en el Mundial 2014?',\n",
       "  '¿Qué premios recibió Messi tras el Mundial 2014 y cuáles fueron las controversias alrededor de estos?',\n",
       "  '¿Cuáles fueron las estadísticas de Messi bajo la dirección de Alejandro Sabella en la selección argentina?',\n",
       "  '¿Cómo le fue a Messi en la Copa América 2015 y qué decisión tomó respecto al premio de Mejor Jugador del Torneo?'],\n",
       " 'Lionel_Messi_Wikipedia_Page-24': ['¿Qué dijo Óscar Washington Tabárez sobre Lionel Messi después del partido contra Argentina en la Clasificación de Conmebol para la Copa Mundial de Fútbol de 2018?',\n",
       "  '¿Cuántos goles anotó Messi en el partido contra Panamá en la Copa América Centenario 2016?',\n",
       "  '¿Qué marca histórica alcanzó Messi al igualar a Batistuta en cuanto a goles con la selección argentina?',\n",
       "  '¿Cuál fue la reacción de Messi tras perder la final de la Copa América 2016 contra Chile?',\n",
       "  '¿Qué sucedió con Messi después de que la FIFA lo sancionara por un insulto a un árbitro en 2017?'],\n",
       " 'Lionel_Messi_Wikipedia_Page-25': ['¿Qué ocurrió el 5 de mayo en relación con la sanción de Messi?',\n",
       "  '¿Cuándo fue designado Jorge Sampaoli como entrenador de la selección argentina?',\n",
       "  '¿Cuántos goles anotó Messi en el amistoso contra Haití antes de la Copa Mundial de 2018?',\n",
       "  '¿Qué resultado tuvo Argentina en el primer partido del Mundial contra Islandia y qué hizo Messi en ese partido?',\n",
       "  '¿Cuál fue el motivo de la ausencia de Messi en el amistoso contra Marruecos y qué repercusiones tuvo en términos económicos para la AFA?'],\n",
       " 'Lionel_Messi_Wikipedia_Page-26': ['¿Qué críticas recibió Messi tras su actuación en el Mundial 2022 y qué comentó al respecto?',\n",
       "  '¿Cuántos goles anotó Messi en la Copa América 2021 y qué récords superó con esos goles?',\n",
       "  '¿Cuándo fue sancionado Messi y cuál fue la razón de su expulsión en el partido contra Chile?',\n",
       "  '¿Cuántos partidos ganó Messi con la selección argentina y cuándo se convirtió en el jugador con más victorias?',\n",
       "  '¿Qué logró Messi en la final de la Copa América contra Brasil y cuántos goles y asistencias logró a lo largo del torneo?'],\n",
       " 'Lionel_Messi_Wikipedia_Page-27': ['¿Cuántos goles anotó Lionel Messi en mundiales a lo largo de su carrera hasta 2022?',\n",
       "  '¿En qué partido Messi anotó cinco goles y cuál fue el resultado final?',\n",
       "  '¿Qué récord alcanzó Argentina al empatar 1-1 con Ecuador el 29 de marzo?',\n",
       "  '¿Cuántos partidos invictos logró Argentina antes del Mundial de Catar?',\n",
       "  '¿Qué distinción recibió Messi después de la final del Mundial contra Francia y cuántas veces ha sido elegido MVP en su carrera?'],\n",
       " 'Lionel_Messi_Wikipedia_Page-28': ['¿Cuántos goles ha anotado Messi en torneos mayores internacionales hasta marzo de 2023?',\n",
       "  '¿Cuál fue el récord de partidos jugados en la Copa del Mundo que Messi superó y quién era el poseedor anterior?',\n",
       "  '¿Qué hizo Messi en el partido inaugural de la Copa América 2024 frente a Canadá?',\n",
       "  '¿Por qué Messi no participó en el partido contra Indonesia durante su gira por Asia?',\n",
       "  '¿Cómo se describen las habilidades de Messi en el campo de juego y qué apodo se le asignó debido a su estilo de juego?'],\n",
       " 'Lionel_Messi_Wikipedia_Page-29': ['¿Cómo ha evolucionado la posición de Messi a lo largo de su carrera en el Barcelona?',\n",
       "  '¿Qué habilidades se destacan en Messi que lo convierten en un jugador excepcional durante los contraataques?',\n",
       "  '¿Cuál fue la opinión de Diego Maradona sobre Messi en 2009?',\n",
       "  '¿Cómo se describe el estilo de juego de Messi en comparación con los primeros años de su carrera?',\n",
       "  '¿Qué cambios hizo Messi en su enfoque de juego a medida que avanzaba su carrera?'],\n",
       " 'Lionel_Messi_Wikipedia_Page-3': ['¿Qué documento firmó la familia de Messi el 8 de enero de 2001?',\n",
       "  \"¿Cuántos goles anotó Messi durante su tiempo en las inferiores de Newell's desde 1994 hasta 1999?\",\n",
       "  '¿Qué lesiones sufrió Messi en su primera temporada con el FC Barcelona?',\n",
       "  '¿Cuántos partidos y goles tuvo Messi en el Cadete A durante la temporada 2002-2003?',\n",
       "  '¿Cuándo y con qué edad debutó Messi con el primer equipo del FC Barcelona?'],\n",
       " 'Lionel_Messi_Wikipedia_Page-30': ['¿Cuál fue el comentario de Hernán Crespo en 2018 sobre la necesidad de Messi de un equipo para tener éxito en el Mundial?',\n",
       "  '¿Qué opinó Guillermo Hoyos sobre Messi en comparación con Maradona en 2003?',\n",
       "  '¿Cómo se describe la percepción que tiene la sociedad argentina sobre Messi en comparación con Maradona?',\n",
       "  '¿Qué diferencia de personalidad se menciona entre Messi y Maradona que afecta su estima en Argentina?',\n",
       "  '¿Cuántas veces se enfrentaron Messi y Cristiano Ronaldo en El Clásico y qué impacto tuvo en La Liga?'],\n",
       " 'Lionel_Messi_Wikipedia_Page-31': ['¿Qué se analizó por primera vez en Europa sobre la entrega del Balón de Oro de 2011?',\n",
       "  '¿Cómo influyó Messi en el atractivo comercial del fútbol según la revista Time en 2014?',\n",
       "  '¿Cuál fue el impacto financiero que tuvo la salida de Messi del Barcelona en 2021?',\n",
       "  '¿Qué se dijo sobre las redes sociales de Messi en relación con su éxito en comparación al Papa Francisco?',\n",
       "  '¿Qué críticas recibió Messi por aceptar ser embajador de Turismo de Arabia Saudita en 2022?'],\n",
       " 'Lionel_Messi_Wikipedia_Page-32': ['¿Cuál fue el anuncio realizado por Sony Entertainment en marzo de 2023 relacionado con Messi?',\n",
       "  '¿Qué nuevas especies biológicas recibieron el nombre de Messi en mayo de 2023 y cuáles son?',\n",
       "  '¿Qué sucedió en Instagram una hora después de que Messi anunció su fichaje por Inter Miami el 7 de junio de 2023?',\n",
       "  '¿Cuál fue el récord de espectadores del partido entre Inter Miami y Cruz Azul que se llevó a cabo después del anuncio de Messi?',\n",
       "  '¿Cuántos goles y asistencias acumuló Messi a lo largo de su carrera profesional según las estadísticas proporcionadas?'],\n",
       " 'Lionel_Messi_Wikipedia_Page-33': ['¿Cuántos goles anotó Lionel Messi en la Copa Mundial de 2014?',\n",
       "  '¿Cuál fue el resultado de la Copa América 2021 para Lionel Messi?',\n",
       "  '¿En cuántos partidos de la Primera División de España jugó Lionel Messi?',\n",
       "  '¿Cuántos goles anotó Messi en sus 58 partidos en Ligue 1?',\n",
       "  '¿Qué promedio de goles tiene Lionel Messi en las categorías juveniles?'],\n",
       " 'Lionel_Messi_Wikipedia_Page-34': ['¿Cuántos partidos ha disputado Lionel Messi en la Ligue 1 hasta julio de 2024?',\n",
       "  '¿Cuántos goles ha anotado Messi en su carrera oficial hasta julio de 2024?',\n",
       "  '¿Cuál es la cantidad total de asistencias que Messi ha registrado en su carrera oficial?',\n",
       "  '¿Cuántos goles marcó Messi en su trayectoria con la selección argentina hasta julio de 2024?',\n",
       "  '¿Qué fecha se registró el gol número mil de Messi y contra qué equipo lo anotó?'],\n",
       " 'Lionel_Messi_Wikipedia_Page-35': ['¿Cuántos goles anotó Lionel Messi en 2012 para entrar en el Guinness World Records?',\n",
       "  '¿Cuántas veces ha ganado Messi el Balón de Oro a lo largo de su carrera?',\n",
       "  '¿Cuál es el récord de goles oficiales anotados por Messi en una misma temporada?',\n",
       "  '¿Cuántos goles ha anotado Messi como máximo goleador argentino en mundiales hasta 2022?',\n",
       "  '¿Qué jugador tiene el récord de más partidos disputados en Copas del Mundo hasta 2022?'],\n",
       " 'Lionel_Messi_Wikipedia_Page-36': ['¿Cuántos goles anotó Lionel Messi durante su tiempo en el F. C. Barcelona?',\n",
       "  '¿Cuáles son algunos de los títulos que ganó Lionel Messi con el F. C. Barcelona?',\n",
       "  '¿Qué títulos ganó Messi con la selección argentina sub-20?',\n",
       "  '¿Cuántos goles anotó Messi en el Paris Saint-Germain según la información proporcionada?',\n",
       "  '¿Qué distinciones individuales y títulos internacionales se mencionan en el texto relacionados con Messi?'],\n",
       " 'Lionel_Messi_Wikipedia_Page-37': ['¿Cuántos Balones de Oro ha ganado Lionel Messi a lo largo de su carrera y en qué años ganó cada uno?',\n",
       "  '¿Qué relación tiene Messi con Antonela Roccuzzo y cuándo contrajeron matrimonio?',\n",
       "  '¿Cuáles son los nombres y fechas de nacimiento de los hijos de Messi?',\n",
       "  '¿Qué actividades realiza la Fundación Leo Messi y en qué áreas se enfoca principalmente?',\n",
       "  '¿En qué año empezó Messi su relación con Antonela y cómo se conocieron?'],\n",
       " 'Lionel_Messi_Wikipedia_Page-38': ['¿Desde cuándo Lionel Messi es Embajador de Buena Voluntad de Unicef?',\n",
       "  '¿Cuáles son los roles de los miembros de la familia Messi en su carrera profesional?',\n",
       "  '¿Qué campaña de concienciación participó Messi convocado por la OMS en marzo de 2020?',\n",
       "  '¿Qué sospechas sobre Lionel Messi fueron investigadas en 2013 relacionadas con su situación fiscal?',\n",
       "  '¿Cuál fue la decisión del Tribunal Supremo español respecto a Messi en julio de 2017 por delitos fiscales?'],\n",
       " 'Lionel_Messi_Wikipedia_Page-4': ['¿Cuántos goles anotó Messi en total durante su estancia en las categorías juveniles en 2005?',\n",
       "  '¿Qué logro Messi en su debut en La Liga y a qué edad sucedió?',\n",
       "  '¿Quién fue el entrenador que confió en Messi cuando apenas tenía diecisiete años?',\n",
       "  'En qué temporada Messi jugó diecisiete partidos con el Barcelona B y cuántos goles marcó?',\n",
       "  '¿Qué ocurrió el 1 de mayo de 2005 en un partido contra el Albacete Balompié para Messi?'],\n",
       " 'Lionel_Messi_Wikipedia_Page-5': ['¿Qué ocurrió con Messi el 13 de agosto de 2007 durante la Supercopa de España?',\n",
       "  '¿Por qué Messi no pudo participar en las primeras jornadas de La Liga en 2007?',\n",
       "  '¿Cuál fue la reacción del entrenador Fabio Capello tras el rendimiento de Messi en el Trofeo Joan Gamper?',\n",
       "  '¿Cuál fue el evento que fue considerado un momento bisagra en la carrera de Messi?',\n",
       "  '¿Qué premio recibió Messi en diciembre de 2005 y quiénes fueron los otros nominados?'],\n",
       " 'Lionel_Messi_Wikipedia_Page-6': ['¿Cuáles fueron los dos goles que Lionel Messi anotó en la Copa del Rey contra el Getafe FC en 2007?',\n",
       "  '¿Cuántos goles anotó Messi en total durante la temporada 2006-07, incluyendo todas las competiciones?',\n",
       "  '¿Qué lesiones sufrió Messi durante la temporada 2006-07 y cuánto tiempo estuvo fuera de juego?',\n",
       "  '¿Qué premiación otorgó FIFPro a Messi en 2006 y cuántas veces lo ganó en los años siguientes?',\n",
       "  '¿Qué contrato firmó Messi en junio de 2008 y cuál fue su impacto en su salario en el Barcelona?'],\n",
       " 'Lionel_Messi_Wikipedia_Page-7': ['¿Cuántos goles anotó Messi en el partido amistoso contra el Dundee United?',\n",
       "  '¿Qué premio recibió Messi por ser el mejor jugador de la primera división española?',\n",
       "  '¿En qué partido Messi hizo su primer gol en una final con el primer equipo del Barcelona?',\n",
       "  '¿Cuál fue la mayor goleada de Messi contra el Real Madrid en el Santiago Bernabéu?',\n",
       "  '¿Cuántas asistencias y goles hizo Messi en su primera campaña ininterrumpida con el Barcelona?'],\n",
       " 'Lionel_Messi_Wikipedia_Page-8': ['¿Cuántos goles anotó Lionel Messi en la Liga de Campeones durante la temporada 2010-2011?',\n",
       "  '¿Qué premio ganó Lionel Messi el 2 de diciembre de 2009 y por qué fue significativo?',\n",
       "  '¿Cuál fue el salario de Messi tras la renovación de su contrato en septiembre y qué lo hizo destacar en ese momento?',\n",
       "  '¿Qué récord logró Messi al anotar un hat trick contra el Sevilla el 30 de octubre de 2010?',\n",
       "  '¿Qué impacto tuvo Messi en la final de la Liga de Campeones contra el Manchester United el 28 de mayo de 2011?'],\n",
       " 'Lionel_Messi_Wikipedia_Page-9': ['¿Cuántos goles anotó Messi en la final de la Copa Mundial de Clubes de 2011 contra el Santos?',\n",
       "  '¿Qué récord alcanzó Messi al marcar cinco goles en un solo partido de la Liga de Campeones contra el Bayer Leverkusen?',\n",
       "  '¿Cuál fue el premio que Messi recibió el 10 de enero de 2011 y cuántas veces lo había ganado hasta ese momento?',\n",
       "  '¿Cuántos hat-tricks y pokers realizó Messi durante la temporada 2011-12?',\n",
       "  '¿Qué récord de goles en una temporada superó Messi durante la temporada 2011-12 y cuántos goles anotó en total?']}"
      ]
     },
     "execution_count": 450,
     "metadata": {},
     "output_type": "execute_result"
    }
   ],
   "source": [
    "questions"
   ]
  },
  {
   "cell_type": "code",
   "execution_count": 451,
   "metadata": {},
   "outputs": [],
   "source": [
    "# Converting the questions into a question-row dataframe, to store as a csv\n",
    "data = [(chunk_id, question) for chunk_id, questions in questions.items() for question in questions]\n",
    "\n",
    "questions_df = pd.DataFrame(data, columns=['chunk_id', 'question'])\n",
    "\n",
    "questions_df.to_csv('LionelMessiRAGSource-PageChunk-GroundTruth.csv', index=False, sep=';')"
   ]
  },
  {
   "cell_type": "markdown",
   "metadata": {},
   "source": [
    "# "
   ]
  },
  {
   "cell_type": "markdown",
   "metadata": {},
   "source": [
    "# "
   ]
  },
  {
   "cell_type": "markdown",
   "metadata": {},
   "source": [
    "# Evaluating Retrieval"
   ]
  },
  {
   "cell_type": "code",
   "execution_count": 452,
   "metadata": {},
   "outputs": [],
   "source": [
    "# Custom function to calculate the hit-rate of a vector search\n",
    "def hit_rate(relevance_total):\n",
    "    cnt = 0\n",
    "\n",
    "    for line in relevance_total:\n",
    "        if True in line:\n",
    "            cnt = cnt + 1\n",
    "\n",
    "    return cnt / len(relevance_total)"
   ]
  },
  {
   "cell_type": "code",
   "execution_count": 453,
   "metadata": {},
   "outputs": [],
   "source": [
    "# Custom function to calculate the MRR (Mean Reciprocal Rank) of a vector search\n",
    "def mrr(relevance_total):\n",
    "    total_score = 0.0\n",
    "\n",
    "    for line in relevance_total:\n",
    "        for rank in range(len(line)):\n",
    "            if line[rank] == True:\n",
    "                total_score = total_score + 1 / (rank + 1)\n",
    "\n",
    "    return total_score / len(relevance_total)"
   ]
  },
  {
   "cell_type": "code",
   "execution_count": 454,
   "metadata": {},
   "outputs": [],
   "source": [
    "#Custom function to evaluate the search function on a ground truth dataset.\n",
    "def evaluate(ground_truth, search_function):\n",
    "    relevance_total = []\n",
    "\n",
    "    for question in tqdm(ground_truth):\n",
    "        chunk_id = question['chunk_id']\n",
    "        results = search_function(question['question'])\n",
    "        relevance = [id == chunk_id for id in results[\"ids\"][0]]\n",
    "        relevance_total.append(relevance)\n",
    "\n",
    "    print(relevance_total)\n",
    "    \n",
    "    return {\n",
    "        'hit_rate': hit_rate(relevance_total),\n",
    "        'mrr': mrr(relevance_total),\n",
    "    }"
   ]
  },
  {
   "cell_type": "code",
   "execution_count": 455,
   "metadata": {},
   "outputs": [],
   "source": [
    "questions_dict = questions_df.to_dict(orient='records')"
   ]
  },
  {
   "cell_type": "code",
   "execution_count": 458,
   "metadata": {},
   "outputs": [
    {
     "name": "stderr",
     "output_type": "stream",
     "text": [
      "100%|██████████| 190/190 [00:02<00:00, 66.23it/s]"
     ]
    },
    {
     "name": "stdout",
     "output_type": "stream",
     "text": [
      "[[True, False, False], [False, True, False], [False, False, False], [False, False, False], [False, True, False], [True, False, False], [False, True, False], [False, False, False], [False, False, True], [False, False, False], [False, False, False], [False, False, False], [False, False, False], [False, False, False], [False, False, False], [False, False, True], [False, False, False], [True, False, False], [False, False, False], [True, False, False], [False, False, False], [False, False, False], [False, False, False], [False, False, True], [False, False, False], [False, False, False], [True, False, False], [False, False, False], [False, False, False], [False, False, False], [True, False, False], [True, False, False], [False, False, False], [False, False, False], [False, False, False], [False, False, True], [False, False, False], [False, True, False], [False, False, False], [False, False, False], [False, False, False], [False, False, False], [False, False, False], [False, False, False], [True, False, False], [False, False, False], [False, False, False], [False, False, False], [False, False, False], [False, False, False], [False, False, False], [False, False, False], [False, False, False], [True, False, False], [False, False, False], [True, False, False], [False, False, False], [False, False, False], [False, False, False], [False, False, False], [False, False, False], [False, False, False], [False, False, False], [False, False, False], [False, False, False], [False, True, False], [True, False, False], [True, False, False], [True, False, False], [True, False, False], [True, False, False], [True, False, False], [False, False, True], [False, False, False], [True, False, False], [False, False, True], [False, True, False], [False, False, False], [False, False, False], [False, False, False], [False, True, False], [False, False, True], [False, False, False], [False, True, False], [False, False, False], [False, False, False], [False, False, False], [False, False, False], [False, False, False], [False, False, False], [True, False, False], [False, False, False], [False, False, True], [False, False, False], [False, False, False], [False, False, False], [False, False, False], [True, False, False], [True, False, False], [False, False, False], [False, False, False], [False, False, False], [False, False, False], [False, False, True], [False, False, False], [False, False, False], [False, False, False], [False, False, False], [False, False, False], [False, False, False], [True, False, False], [True, False, False], [False, False, False], [True, False, False], [False, False, True], [False, True, False], [True, False, False], [True, False, False], [True, False, False], [False, False, True], [False, False, False], [False, False, False], [False, False, False], [False, False, False], [False, False, False], [False, False, False], [False, True, False], [False, False, False], [False, False, False], [False, False, False], [False, False, False], [False, False, False], [False, False, False], [False, False, False], [False, False, False], [False, False, False], [False, False, False], [False, False, False], [False, False, False], [False, False, False], [False, True, False], [False, False, False], [False, False, False], [False, False, False], [False, False, False], [False, False, False], [False, False, False], [False, False, False], [False, False, False], [False, False, False], [False, False, False], [False, False, False], [False, False, False], [False, False, False], [False, False, False], [False, False, False], [False, False, False], [False, False, False], [False, False, False], [False, False, False], [False, False, False], [False, False, False], [False, False, False], [False, False, False], [False, False, False], [False, False, False], [True, False, False], [False, True, False], [False, False, False], [False, False, False], [False, False, False], [False, False, False], [False, False, False], [False, False, False], [False, False, False], [True, False, False], [False, False, False], [False, False, False], [True, False, False], [False, False, False], [False, False, False], [False, False, False], [False, False, False], [False, False, False], [False, False, False], [True, False, False], [False, False, True], [False, True, False], [False, False, False], [False, False, False]]\n"
     ]
    },
    {
     "name": "stderr",
     "output_type": "stream",
     "text": [
      "\n"
     ]
    },
    {
     "data": {
      "text/plain": [
       "{'hit_rate': 0.2894736842105263, 'mrr': 0.2131578947368421}"
      ]
     },
     "execution_count": 458,
     "metadata": {},
     "output_type": "execute_result"
    }
   ],
   "source": [
    "evaluate(questions_dict, lambda query : queryDB_embeddings(query, collection))"
   ]
  },
  {
   "cell_type": "markdown",
   "metadata": {},
   "source": [
    "# "
   ]
  },
  {
   "cell_type": "markdown",
   "metadata": {},
   "source": [
    "# "
   ]
  },
  {
   "cell_type": "markdown",
   "metadata": {},
   "source": [
    "# Improving Metrics"
   ]
  },
  {
   "cell_type": "markdown",
   "metadata": {},
   "source": [
    "Trying to improve metrics deleting stopwords and with lemmatizer (Specially for different verbs)"
   ]
  },
  {
   "cell_type": "code",
   "execution_count": 459,
   "metadata": {},
   "outputs": [
    {
     "name": "stderr",
     "output_type": "stream",
     "text": [
      "[nltk_data] Downloading package stopwords to\n",
      "[nltk_data]     C:\\Users\\TALIGENT\\AppData\\Roaming\\nltk_data...\n",
      "[nltk_data]   Package stopwords is already up-to-date!\n",
      "[nltk_data] Downloading package wordnet to\n",
      "[nltk_data]     C:\\Users\\TALIGENT\\AppData\\Roaming\\nltk_data...\n",
      "[nltk_data]   Package wordnet is already up-to-date!\n"
     ]
    },
    {
     "data": {
      "text/plain": [
       "True"
      ]
     },
     "execution_count": 459,
     "metadata": {},
     "output_type": "execute_result"
    }
   ],
   "source": [
    "import nltk\n",
    "from nltk.corpus import stopwords\n",
    "from nltk.stem import WordNetLemmatizer\n",
    "\n",
    "nltk.download('stopwords')\n",
    "nltk.download('wordnet')\n"
   ]
  },
  {
   "cell_type": "code",
   "execution_count": 460,
   "metadata": {},
   "outputs": [],
   "source": [
    "def preprocess_query(query):\n",
    "    # Convertir a minúsculas\n",
    "    query = query.lower()\n",
    "    \n",
    "    # Tokenizar y eliminar stop words\n",
    "    stop_words = set(stopwords.words('spanish'))\n",
    "    tokens = [word for word in query.split() if word not in stop_words]\n",
    "    \n",
    "    # Lematización\n",
    "    lemmatizer = WordNetLemmatizer()\n",
    "    tokens = [lemmatizer.lemmatize(token) for token in tokens]\n",
    "    \n",
    "    return ' '.join(tokens)"
   ]
  },
  {
   "cell_type": "code",
   "execution_count": 461,
   "metadata": {},
   "outputs": [
    {
     "name": "stderr",
     "output_type": "stream",
     "text": [
      "100%|██████████| 190/190 [00:03<00:00, 56.17it/s]"
     ]
    },
    {
     "name": "stdout",
     "output_type": "stream",
     "text": [
      "[[True, False, False], [True, False, False], [False, False, False], [False, False, False], [True, False, False], [True, False, False], [False, False, False], [False, False, False], [False, False, True], [False, True, False], [False, False, False], [False, False, False], [False, False, False], [False, False, False], [False, False, False], [False, True, False], [False, False, False], [False, False, True], [False, False, False], [True, False, False], [False, False, False], [False, False, False], [False, False, False], [False, True, False], [False, False, False], [False, False, False], [True, False, False], [False, False, False], [False, False, True], [False, False, False], [True, False, False], [True, False, False], [False, False, False], [False, False, False], [False, False, False], [False, False, False], [False, False, False], [False, False, False], [False, False, False], [False, False, False], [False, False, False], [False, False, False], [False, False, False], [False, False, False], [True, False, False], [False, False, False], [False, False, False], [False, False, False], [False, False, False], [False, False, False], [False, False, False], [False, False, True], [False, False, False], [True, False, False], [False, False, False], [False, True, False], [False, False, False], [False, False, False], [False, False, False], [False, False, False], [False, False, False], [False, False, False], [False, False, False], [False, False, False], [False, False, False], [False, True, False], [True, False, False], [True, False, False], [True, False, False], [True, False, False], [True, False, False], [True, False, False], [False, False, True], [False, False, False], [False, True, False], [False, False, False], [False, False, True], [False, False, False], [False, False, False], [False, False, False], [False, False, False], [False, False, True], [False, False, False], [True, False, False], [False, False, False], [False, False, False], [False, False, False], [False, False, False], [False, False, False], [False, False, False], [True, False, False], [False, False, False], [False, False, False], [False, False, False], [False, False, False], [False, False, False], [False, False, False], [True, False, False], [False, True, False], [False, False, False], [False, False, False], [False, True, False], [False, False, False], [False, True, False], [False, False, False], [False, False, False], [False, False, False], [False, False, False], [False, False, False], [False, False, False], [True, False, False], [True, False, False], [False, False, False], [True, False, False], [False, False, True], [False, True, False], [True, False, False], [True, False, False], [True, False, False], [False, True, False], [False, False, False], [False, False, False], [False, False, False], [False, False, False], [False, False, False], [True, False, False], [True, False, False], [False, False, False], [False, False, False], [False, False, False], [False, False, False], [False, True, False], [False, False, False], [False, False, False], [False, False, False], [False, False, False], [False, False, False], [False, False, False], [False, False, False], [False, False, False], [True, False, False], [False, False, False], [False, False, True], [False, False, False], [False, False, False], [False, False, False], [False, False, False], [False, False, False], [False, False, False], [False, False, False], [False, False, False], [False, False, False], [False, False, False], [False, False, False], [False, False, False], [False, False, False], [False, False, False], [False, False, False], [False, False, False], [False, False, False], [False, False, False], [False, False, False], [False, False, False], [False, False, True], [False, False, False], [False, False, False], [True, False, False], [False, False, True], [False, False, False], [False, False, False], [False, False, False], [False, False, False], [False, False, False], [False, False, False], [False, False, False], [True, False, False], [False, False, False], [False, False, False], [False, False, False], [False, False, False], [False, False, False], [False, False, False], [False, False, False], [False, False, True], [False, False, False], [True, False, False], [False, False, False], [False, False, False], [False, False, False], [False, False, False]]\n"
     ]
    },
    {
     "name": "stderr",
     "output_type": "stream",
     "text": [
      "\n"
     ]
    },
    {
     "data": {
      "text/plain": [
       "{'hit_rate': 0.2894736842105263, 'mrr': 0.21578947368421056}"
      ]
     },
     "execution_count": 461,
     "metadata": {},
     "output_type": "execute_result"
    }
   ],
   "source": [
    "evaluate(questions_dict, lambda query : queryDB_embeddings(preprocess_query(query), collection))"
   ]
  },
  {
   "cell_type": "markdown",
   "metadata": {},
   "source": [
    "# "
   ]
  },
  {
   "cell_type": "markdown",
   "metadata": {},
   "source": [
    "# "
   ]
  },
  {
   "cell_type": "markdown",
   "metadata": {},
   "source": [
    "# LLM AS A JUDGE"
   ]
  },
  {
   "cell_type": "code",
   "execution_count": 619,
   "metadata": {},
   "outputs": [],
   "source": [
    "def build_llm_as_a_judge_prompt(question, llm_answer):\n",
    "    \n",
    "    prompt_template = \"\"\"\n",
    "        You are an expert evaluator for a RAG system.\n",
    "        Your task is to analyze the relevance of the LLM generated answer to the users given question.\n",
    "        The goal is to have 3 classification levels as if the relevance scores were 0, 0.5, or 1.\n",
    "        Based on the relevance of the generated answer, you will classify it\n",
    "        as \"NON_RELEVANT\", \"PARTLY_RELEVANT\", or \"RELEVANT\".\n",
    "\n",
    "        Here is the data for evaluation:\n",
    "\n",
    "        Question: {question}\n",
    "        Generated Answer: {llm_answer}\n",
    "\n",
    "        Please analyze the content and context of the generated answer in relation to the question\n",
    "        and provide your evaluation in parsable JSON without using code blocks:\n",
    "\n",
    "        {{\n",
    "        \"Relevance\": \"NON_RELEVANT\" | \"PARTLY_RELEVANT\" | \"RELEVANT\",\n",
    "        \"Explanation\": \"[Provide a brief explanation for your evaluation in spanish]\"\n",
    "        }}\n",
    "    \"\"\".strip()\n",
    "    \n",
    "    prompt = prompt_template.format(question=question, llm_answer=llm_answer).strip()\n",
    "    return prompt"
   ]
  },
  {
   "cell_type": "code",
   "execution_count": 613,
   "metadata": {},
   "outputs": [
    {
     "data": {
      "text/plain": [
       "[{'chunk_id': 'Lionel_Messi_Wikipedia_Page-1',\n",
       "  'question': '¿Cuál es el nombre completo de Lionel Messi y cuál es su apodo más conocido en el mundo del fútbol?'},\n",
       " {'chunk_id': 'Lionel_Messi_Wikipedia_Page-1',\n",
       "  'question': '¿En qué club profesional hizo su debut Lionel Messi y en qué fecha ocurrió?'},\n",
       " {'chunk_id': 'Lionel_Messi_Wikipedia_Page-1',\n",
       "  'question': '¿Cuántos Balones de Oro ha ganado Messi a lo largo de su carrera y cuáles fueron los años en los que los recibió?'},\n",
       " {'chunk_id': 'Lionel_Messi_Wikipedia_Page-1',\n",
       "  'question': '¿Qué logros alcanzó Messi con la selección argentina en su trayectoria internacional, incluyendo los torneos en los que participó?'},\n",
       " {'chunk_id': 'Lionel_Messi_Wikipedia_Page-1',\n",
       "  'question': '¿Cuáles son los clubes en los que ha jugado Lionel Messi desde su debut hasta la actualidad?'},\n",
       " {'chunk_id': 'Lionel_Messi_Wikipedia_Page-10',\n",
       "  'question': '¿Cuántos goles anotó Messi en 2012 para romper el récord de Gerd Müller?'},\n",
       " {'chunk_id': 'Lionel_Messi_Wikipedia_Page-10',\n",
       "  'question': '¿Qué logró Messi al marcar 91 goles en un año natural y cuántos de esos goles fueron con su club?'},\n",
       " {'chunk_id': 'Lionel_Messi_Wikipedia_Page-10',\n",
       "  'question': '¿Qué contrato renovó Messi en diciembre de2012 y cuál era su sueldo neto?'},\n",
       " {'chunk_id': 'Lionel_Messi_Wikipedia_Page-10',\n",
       "  'question': '¿Qué récord histórico alcanzó Messi al superar a Di Stéfano en goles de El Clásico?'},\n",
       " {'chunk_id': 'Lionel_Messi_Wikipedia_Page-10',\n",
       "  'question': '¿Cuántos goles anotó Messi en La Liga para convertirse en el máximo goleador absoluto en esa competición?'},\n",
       " {'chunk_id': 'Lionel_Messi_Wikipedia_Page-11',\n",
       "  'question': '¿Cuántos goles anotó Messi en el partido contra el Getafe el 28 de abril de 2015?'},\n",
       " {'chunk_id': 'Lionel_Messi_Wikipedia_Page-11',\n",
       "  'question': '¿Qué récord estableció Messi en el 2014 en la Liga de Campeones con su número de goles?'},\n",
       " {'chunk_id': 'Lionel_Messi_Wikipedia_Page-11',\n",
       "  'question': '¿Cuál fue el apodo del tridente de ataque formado por Messi, Suárez y Neymar?'},\n",
       " {'chunk_id': 'Lionel_Messi_Wikipedia_Page-11',\n",
       "  'question': '¿Qué premio recibió Messi por su actuación en la Liga de Campeones de 2014-2015?'},\n",
       " {'chunk_id': 'Lionel_Messi_Wikipedia_Page-11',\n",
       "  'question': '¿Cuántos Balones de Oro ganó Messi hasta el 11 de enero de 2016?'},\n",
       " {'chunk_id': 'Lionel_Messi_Wikipedia_Page-12',\n",
       "  'question': '¿Cuántos goles y asistencias anotó Messi durante la temporada 2016-2017?'},\n",
       " {'chunk_id': 'Lionel_Messi_Wikipedia_Page-12',\n",
       "  'question': '¿En qué partido Messi anotó un hat-trick en la Liga de Campeones 2016-2017?'},\n",
       " {'chunk_id': 'Lionel_Messi_Wikipedia_Page-12',\n",
       "  'question': '¿Qué logró Messi al superar a Di Stéfano en 2016?'},\n",
       " {'chunk_id': 'Lionel_Messi_Wikipedia_Page-12',\n",
       "  'question': '¿Cuántas Bota de Oro ganó Messi al finalizar la temporada 2016-2017?'},\n",
       " {'chunk_id': 'Lionel_Messi_Wikipedia_Page-12',\n",
       "  'question': '¿Qué récord alcanzó Messi en el partido contra el Olympiacos en octubre de 2017?'},\n",
       " {'chunk_id': 'Lionel_Messi_Wikipedia_Page-13',\n",
       "  'question': '¿Cuántos goles anotó Messi en la temporada 2018-2019?'},\n",
       " {'chunk_id': 'Lionel_Messi_Wikipedia_Page-13',\n",
       "  'question': '¿Qué título levantó Messi como capitán del Barcelona?'},\n",
       " {'chunk_id': 'Lionel_Messi_Wikipedia_Page-13',\n",
       "  'question': '¿Cuándo fue el último gol de Messi en un Clásico hasta esa fecha?'},\n",
       " {'chunk_id': 'Lionel_Messi_Wikipedia_Page-13',\n",
       "  'question': '¿Cuál es el récord que estableció Messi en la Liga de Campeones de Europa?'},\n",
       " {'chunk_id': 'Lionel_Messi_Wikipedia_Page-13',\n",
       "  'question': '¿Qué premio recibió Messi en 2019 por su trayectoria deportiva?'},\n",
       " {'chunk_id': 'Lionel_Messi_Wikipedia_Page-14',\n",
       "  'question': '¿Qué dijo Pelé sobre su deseo de jugar con Messi durante una entrevista en 2019?'},\n",
       " {'chunk_id': 'Lionel_Messi_Wikipedia_Page-14',\n",
       "  'question': '¿Cuántos goles anotó Messi en la última jornada de la liga contra el Eibar y cuál fue su total de goles en la temporada 2019-2020?'},\n",
       " {'chunk_id': 'Lionel_Messi_Wikipedia_Page-14',\n",
       "  'question': '¿Qué premio ganó Messi el 23 de septiembre de 2019 y cuántas veces lo había recibido anteriormente?'},\n",
       " {'chunk_id': 'Lionel_Messi_Wikipedia_Page-14',\n",
       "  'question': '¿Cuántos hat-tricks había anotado Messi antes del partido contra el Mallorca el 7 de diciembre de 2019?'},\n",
       " {'chunk_id': 'Lionel_Messi_Wikipedia_Page-14',\n",
       "  'question': '¿Qué ocurrió el 15 de agosto de 2020 que afectó la carrera de Messi en el Barcelona?'},\n",
       " {'chunk_id': 'Lionel_Messi_Wikipedia_Page-15',\n",
       "  'question': '¿Cuál fue el deseo que manifestó Messi respecto a su futuro en el Barcelona antes de la temporada 2020-2021?'},\n",
       " {'chunk_id': 'Lionel_Messi_Wikipedia_Page-15',\n",
       "  'question': '¿Cuántas temporadas en el Barcelona alcanzó Messi al igualar la marca de Xavi y Rexach?'},\n",
       " {'chunk_id': 'Lionel_Messi_Wikipedia_Page-15',\n",
       "  'question': '¿Cómo fue el impacto de Messi en el partido contra el Betis en noviembre de 2020?'},\n",
       " {'chunk_id': 'Lionel_Messi_Wikipedia_Page-15',\n",
       "  'question': '¿Qué logro histórico alcanzó Messi al igualar los 643 goles de Pelé con el Santos?'},\n",
       " {'chunk_id': 'Lionel_Messi_Wikipedia_Page-15',\n",
       "  'question': '¿Qué récord estableció Messi al ser nombrado el mejor jugador de la década 2011-2020 por la IFFHS?'},\n",
       " {'chunk_id': 'Lionel_Messi_Wikipedia_Page-16',\n",
       "  'question': '¿Cuántos Balones de Oro se espera que gane Messi a lo largo de su carrera según Johan Cruyff?'},\n",
       " {'chunk_id': 'Lionel_Messi_Wikipedia_Page-16',\n",
       "  'question': '¿Cuál fue el récord de goles en La Liga que Messi alcanzó al superar a Pelé?'},\n",
       " {'chunk_id': 'Lionel_Messi_Wikipedia_Page-16',\n",
       "  'question': '¿Cuántos títulos ganó Messi con el Barcelona antes de su salida al PSG?'},\n",
       " {'chunk_id': 'Lionel_Messi_Wikipedia_Page-16',\n",
       "  'question': '¿Qué número de dorsal le fue asignado a Messi en el Paris Saint-Germain?'},\n",
       " {'chunk_id': 'Lionel_Messi_Wikipedia_Page-16',\n",
       "  'question': '¿Qué logró Messi en su primer partido del año 2022 en la Ligue 1?'},\n",
       " {'chunk_id': 'Lionel_Messi_Wikipedia_Page-17',\n",
       "  'question': '¿Cuántos goles marcó Messi en su primera temporada con el Inter Miami en la MLS?'},\n",
       " {'chunk_id': 'Lionel_Messi_Wikipedia_Page-17',\n",
       "  'question': '¿Qué premio recibió Messi en enero de 2023 por su desempeño en el fútbol internacional?'},\n",
       " {'chunk_id': 'Lionel_Messi_Wikipedia_Page-17',\n",
       "  'question': '¿Qué título ganó Messi con el PSG el 23 de abril de 2022?'},\n",
       " {'chunk_id': 'Lionel_Messi_Wikipedia_Page-17',\n",
       "  'question': '¿Cuántos goles anotó Messi en la final de la Leagues Cup contra Nashville SC?'},\n",
       " {'chunk_id': 'Lionel_Messi_Wikipedia_Page-17',\n",
       "  'question': '¿Cuándo anunció Messi su contrato con el Inter Miami?'},\n",
       " {'chunk_id': 'Lionel_Messi_Wikipedia_Page-18',\n",
       "  'question': '¿Cuántos Balones de Oro ha recibido Lionel Messi hasta el 30 de octubre de 2023?'},\n",
       " {'chunk_id': 'Lionel_Messi_Wikipedia_Page-18',\n",
       "  'question': '¿Qué premio recibió Messi el 15 de enero de 2024 y cuántas veces lo ha ganado?'},\n",
       " {'chunk_id': 'Lionel_Messi_Wikipedia_Page-18',\n",
       "  'question': '¿Qué controversia surgió sobre la elección de Messi como el jugador The Best en comparación con Erling Haaland?'},\n",
       " {'chunk_id': 'Lionel_Messi_Wikipedia_Page-18',\n",
       "  'question': 'En qué fecha debutó Messi con la categoría sub-20 de Argentina y contra qué equipo fue su primer partido?'},\n",
       " {'chunk_id': 'Lionel_Messi_Wikipedia_Page-18',\n",
       "  'question': '¿Cuántos goles anotó Messi en el Campeonato Sudamericano Sub-20 de 2005 y en qué posición terminó en la tabla de goleadores?'},\n",
       " {'chunk_id': 'Lionel_Messi_Wikipedia_Page-19',\n",
       "  'question': '¿Cuáles fueron las estadísticas de Messi en los Juegos Olímpicos de Pekín 2008?'},\n",
       " {'chunk_id': 'Lionel_Messi_Wikipedia_Page-19',\n",
       "  'question': '¿Qué premios recibió Messi al final de su participación en los Juegos Olímpicos de Pekín 2008?'},\n",
       " {'chunk_id': 'Lionel_Messi_Wikipedia_Page-19',\n",
       "  'question': '¿Qué sucedió entre Barcelona y la AFA con respecto a la participación de Messi en los Juegos Olímpicos?'},\n",
       " {'chunk_id': 'Lionel_Messi_Wikipedia_Page-19',\n",
       "  'question': '¿Cuándo fue convocado Messi por primera vez para la selección absoluta argentina?'},\n",
       " {'chunk_id': 'Lionel_Messi_Wikipedia_Page-19',\n",
       "  'question': '¿Cómo fue el debut de Messi con la selección absoluta en un amistoso contra Hungría?'},\n",
       " {'chunk_id': 'Lionel_Messi_Wikipedia_Page-2',\n",
       "  'question': '¿Cuándo y dónde nació Lionel Messi?'},\n",
       " {'chunk_id': 'Lionel_Messi_Wikipedia_Page-2',\n",
       "  'question': '¿Cómo comenzó Lionel Messi su carrera futbolística en Rosario?'},\n",
       " {'chunk_id': 'Lionel_Messi_Wikipedia_Page-2',\n",
       "  'question': '¿Qué problemas de salud tuvo Lionel Messi en su infancia que afectaron su desarrollo?'},\n",
       " {'chunk_id': 'Lionel_Messi_Wikipedia_Page-2',\n",
       "  'question': '¿Qué ocurrió cuando Messi se probó en River Plate a los trece años?'},\n",
       " {'chunk_id': 'Lionel_Messi_Wikipedia_Page-2',\n",
       "  'question': '¿Quién fue el responsable de la decisión de fichar a Messi en el FC Barcelona?'},\n",
       " {'chunk_id': 'Lionel_Messi_Wikipedia_Page-20',\n",
       "  'question': '¿En qué amistoso marcó Messi su primer gol con la selección argentina y cuál fue el resultado del partido?'},\n",
       " {'chunk_id': 'Lionel_Messi_Wikipedia_Page-20',\n",
       "  'question': '¿Cuál fue la decisión de Pékerman respecto a Messi antes del Mundial de Alemania 2006 y por qué fue criticada?'},\n",
       " {'chunk_id': 'Lionel_Messi_Wikipedia_Page-20',\n",
       "  'question': '¿Qué logró Messi en su debut en la Copa del Mundo 2006 ante Serbia y Montenegro?'},\n",
       " {'chunk_id': 'Lionel_Messi_Wikipedia_Page-20',\n",
       "  'question': '¿Cuándo marcó Messi su primer doblete con la selección argentina y en qué partido fue?'},\n",
       " {'chunk_id': 'Lionel_Messi_Wikipedia_Page-20',\n",
       "  'question': '¿Cómo reaccionó Diego Maradona respecto a Messi después de asumir como entrenador de la selección argentina en 2008?'},\n",
       " {'chunk_id': 'Lionel_Messi_Wikipedia_Page-21',\n",
       "  'question': '¿Cuál fue el resultado de Argentina en el partido inaugural de la Copa América 2011 contra Bolivia?'},\n",
       " {'chunk_id': 'Lionel_Messi_Wikipedia_Page-21',\n",
       "  'question': '¿Cómo fue el desempeño de Messi en el partido contra Nigeria durante el Mundial de Sudáfrica 2010?'},\n",
       " {'chunk_id': 'Lionel_Messi_Wikipedia_Page-21',\n",
       "  'question': '¿Qué rol asumió Messi en el partido contra Corea del Sur durante el Mundial de 2010?'},\n",
       " {'chunk_id': 'Lionel_Messi_Wikipedia_Page-21',\n",
       "  'question': '¿Qué hizo Messi el 11 de noviembre de 2011 en el partido contra Brasil?'},\n",
       " {'chunk_id': 'Lionel_Messi_Wikipedia_Page-21',\n",
       "  'question': '¿Por qué fue cuestionado Messi después del empate sin goles contra Colombia en la Copa América 2011?'},\n",
       " {'chunk_id': 'Lionel_Messi_Wikipedia_Page-22',\n",
       "  'question': '¿Cuál fue el primer hat-trick que Messi anotó con la selección argentina y contra qué equipo sucedió?'},\n",
       " {'chunk_id': 'Lionel_Messi_Wikipedia_Page-22',\n",
       "  'question': '¿Quién fue nombrado como el nuevo director técnico de Argentina después del despido de Batista?'},\n",
       " {'chunk_id': 'Lionel_Messi_Wikipedia_Page-22',\n",
       "  'question': 'En qué partido Messi se convirtió en capitán de la selección argentina y quién lo reemplazó?'},\n",
       " {'chunk_id': 'Lionel_Messi_Wikipedia_Page-22',\n",
       "  'question': '¿Cuántos goles anotó Messi en el amistoso contra Suiza el 29 de febrero de 2012?'},\n",
       " {'chunk_id': 'Lionel_Messi_Wikipedia_Page-22',\n",
       "  'question': 'Qué récord alcanzó Messi al anotar contra Chile el 16 de octubre en el estadio Nacional de Santiago?'},\n",
       " {'chunk_id': 'Lionel_Messi_Wikipedia_Page-23',\n",
       "  'question': '¿Qué ocurrió en la final del Mundial 2014 entre Argentina y Alemania?'},\n",
       " {'chunk_id': 'Lionel_Messi_Wikipedia_Page-23',\n",
       "  'question': '¿Cuántos goles anotó Messi en el partido contra Nigeria en el Mundial 2014?'},\n",
       " {'chunk_id': 'Lionel_Messi_Wikipedia_Page-23',\n",
       "  'question': '¿Qué premios recibió Messi tras el Mundial 2014 y cuáles fueron las controversias alrededor de estos?'},\n",
       " {'chunk_id': 'Lionel_Messi_Wikipedia_Page-23',\n",
       "  'question': '¿Cuáles fueron las estadísticas de Messi bajo la dirección de Alejandro Sabella en la selección argentina?'},\n",
       " {'chunk_id': 'Lionel_Messi_Wikipedia_Page-23',\n",
       "  'question': '¿Cómo le fue a Messi en la Copa América 2015 y qué decisión tomó respecto al premio de Mejor Jugador del Torneo?'},\n",
       " {'chunk_id': 'Lionel_Messi_Wikipedia_Page-24',\n",
       "  'question': '¿Qué dijo Óscar Washington Tabárez sobre Lionel Messi después del partido contra Argentina en la Clasificación de Conmebol para la Copa Mundial de Fútbol de 2018?'},\n",
       " {'chunk_id': 'Lionel_Messi_Wikipedia_Page-24',\n",
       "  'question': '¿Cuántos goles anotó Messi en el partido contra Panamá en la Copa América Centenario 2016?'},\n",
       " {'chunk_id': 'Lionel_Messi_Wikipedia_Page-24',\n",
       "  'question': '¿Qué marca histórica alcanzó Messi al igualar a Batistuta en cuanto a goles con la selección argentina?'},\n",
       " {'chunk_id': 'Lionel_Messi_Wikipedia_Page-24',\n",
       "  'question': '¿Cuál fue la reacción de Messi tras perder la final de la Copa América 2016 contra Chile?'},\n",
       " {'chunk_id': 'Lionel_Messi_Wikipedia_Page-24',\n",
       "  'question': '¿Qué sucedió con Messi después de que la FIFA lo sancionara por un insulto a un árbitro en 2017?'},\n",
       " {'chunk_id': 'Lionel_Messi_Wikipedia_Page-25',\n",
       "  'question': '¿Qué ocurrió el 5 de mayo en relación con la sanción de Messi?'},\n",
       " {'chunk_id': 'Lionel_Messi_Wikipedia_Page-25',\n",
       "  'question': '¿Cuándo fue designado Jorge Sampaoli como entrenador de la selección argentina?'},\n",
       " {'chunk_id': 'Lionel_Messi_Wikipedia_Page-25',\n",
       "  'question': '¿Cuántos goles anotó Messi en el amistoso contra Haití antes de la Copa Mundial de 2018?'},\n",
       " {'chunk_id': 'Lionel_Messi_Wikipedia_Page-25',\n",
       "  'question': '¿Qué resultado tuvo Argentina en el primer partido del Mundial contra Islandia y qué hizo Messi en ese partido?'},\n",
       " {'chunk_id': 'Lionel_Messi_Wikipedia_Page-25',\n",
       "  'question': '¿Cuál fue el motivo de la ausencia de Messi en el amistoso contra Marruecos y qué repercusiones tuvo en términos económicos para la AFA?'},\n",
       " {'chunk_id': 'Lionel_Messi_Wikipedia_Page-26',\n",
       "  'question': '¿Qué críticas recibió Messi tras su actuación en el Mundial 2022 y qué comentó al respecto?'},\n",
       " {'chunk_id': 'Lionel_Messi_Wikipedia_Page-26',\n",
       "  'question': '¿Cuántos goles anotó Messi en la Copa América 2021 y qué récords superó con esos goles?'},\n",
       " {'chunk_id': 'Lionel_Messi_Wikipedia_Page-26',\n",
       "  'question': '¿Cuándo fue sancionado Messi y cuál fue la razón de su expulsión en el partido contra Chile?'},\n",
       " {'chunk_id': 'Lionel_Messi_Wikipedia_Page-26',\n",
       "  'question': '¿Cuántos partidos ganó Messi con la selección argentina y cuándo se convirtió en el jugador con más victorias?'},\n",
       " {'chunk_id': 'Lionel_Messi_Wikipedia_Page-26',\n",
       "  'question': '¿Qué logró Messi en la final de la Copa América contra Brasil y cuántos goles y asistencias logró a lo largo del torneo?'},\n",
       " {'chunk_id': 'Lionel_Messi_Wikipedia_Page-27',\n",
       "  'question': '¿Cuántos goles anotó Lionel Messi en mundiales a lo largo de su carrera hasta 2022?'},\n",
       " {'chunk_id': 'Lionel_Messi_Wikipedia_Page-27',\n",
       "  'question': '¿En qué partido Messi anotó cinco goles y cuál fue el resultado final?'},\n",
       " {'chunk_id': 'Lionel_Messi_Wikipedia_Page-27',\n",
       "  'question': '¿Qué récord alcanzó Argentina al empatar 1-1 con Ecuador el 29 de marzo?'},\n",
       " {'chunk_id': 'Lionel_Messi_Wikipedia_Page-27',\n",
       "  'question': '¿Cuántos partidos invictos logró Argentina antes del Mundial de Catar?'},\n",
       " {'chunk_id': 'Lionel_Messi_Wikipedia_Page-27',\n",
       "  'question': '¿Qué distinción recibió Messi después de la final del Mundial contra Francia y cuántas veces ha sido elegido MVP en su carrera?'},\n",
       " {'chunk_id': 'Lionel_Messi_Wikipedia_Page-28',\n",
       "  'question': '¿Cuántos goles ha anotado Messi en torneos mayores internacionales hasta marzo de 2023?'},\n",
       " {'chunk_id': 'Lionel_Messi_Wikipedia_Page-28',\n",
       "  'question': '¿Cuál fue el récord de partidos jugados en la Copa del Mundo que Messi superó y quién era el poseedor anterior?'},\n",
       " {'chunk_id': 'Lionel_Messi_Wikipedia_Page-28',\n",
       "  'question': '¿Qué hizo Messi en el partido inaugural de la Copa América 2024 frente a Canadá?'},\n",
       " {'chunk_id': 'Lionel_Messi_Wikipedia_Page-28',\n",
       "  'question': '¿Por qué Messi no participó en el partido contra Indonesia durante su gira por Asia?'},\n",
       " {'chunk_id': 'Lionel_Messi_Wikipedia_Page-28',\n",
       "  'question': '¿Cómo se describen las habilidades de Messi en el campo de juego y qué apodo se le asignó debido a su estilo de juego?'},\n",
       " {'chunk_id': 'Lionel_Messi_Wikipedia_Page-29',\n",
       "  'question': '¿Cómo ha evolucionado la posición de Messi a lo largo de su carrera en el Barcelona?'},\n",
       " {'chunk_id': 'Lionel_Messi_Wikipedia_Page-29',\n",
       "  'question': '¿Qué habilidades se destacan en Messi que lo convierten en un jugador excepcional durante los contraataques?'},\n",
       " {'chunk_id': 'Lionel_Messi_Wikipedia_Page-29',\n",
       "  'question': '¿Cuál fue la opinión de Diego Maradona sobre Messi en 2009?'},\n",
       " {'chunk_id': 'Lionel_Messi_Wikipedia_Page-29',\n",
       "  'question': '¿Cómo se describe el estilo de juego de Messi en comparación con los primeros años de su carrera?'},\n",
       " {'chunk_id': 'Lionel_Messi_Wikipedia_Page-29',\n",
       "  'question': '¿Qué cambios hizo Messi en su enfoque de juego a medida que avanzaba su carrera?'},\n",
       " {'chunk_id': 'Lionel_Messi_Wikipedia_Page-3',\n",
       "  'question': '¿Qué documento firmó la familia de Messi el 8 de enero de 2001?'},\n",
       " {'chunk_id': 'Lionel_Messi_Wikipedia_Page-3',\n",
       "  'question': \"¿Cuántos goles anotó Messi durante su tiempo en las inferiores de Newell's desde 1994 hasta 1999?\"},\n",
       " {'chunk_id': 'Lionel_Messi_Wikipedia_Page-3',\n",
       "  'question': '¿Qué lesiones sufrió Messi en su primera temporada con el FC Barcelona?'},\n",
       " {'chunk_id': 'Lionel_Messi_Wikipedia_Page-3',\n",
       "  'question': '¿Cuántos partidos y goles tuvo Messi en el Cadete A durante la temporada 2002-2003?'},\n",
       " {'chunk_id': 'Lionel_Messi_Wikipedia_Page-3',\n",
       "  'question': '¿Cuándo y con qué edad debutó Messi con el primer equipo del FC Barcelona?'},\n",
       " {'chunk_id': 'Lionel_Messi_Wikipedia_Page-30',\n",
       "  'question': '¿Cuál fue el comentario de Hernán Crespo en 2018 sobre la necesidad de Messi de un equipo para tener éxito en el Mundial?'},\n",
       " {'chunk_id': 'Lionel_Messi_Wikipedia_Page-30',\n",
       "  'question': '¿Qué opinó Guillermo Hoyos sobre Messi en comparación con Maradona en 2003?'},\n",
       " {'chunk_id': 'Lionel_Messi_Wikipedia_Page-30',\n",
       "  'question': '¿Cómo se describe la percepción que tiene la sociedad argentina sobre Messi en comparación con Maradona?'},\n",
       " {'chunk_id': 'Lionel_Messi_Wikipedia_Page-30',\n",
       "  'question': '¿Qué diferencia de personalidad se menciona entre Messi y Maradona que afecta su estima en Argentina?'},\n",
       " {'chunk_id': 'Lionel_Messi_Wikipedia_Page-30',\n",
       "  'question': '¿Cuántas veces se enfrentaron Messi y Cristiano Ronaldo en El Clásico y qué impacto tuvo en La Liga?'},\n",
       " {'chunk_id': 'Lionel_Messi_Wikipedia_Page-31',\n",
       "  'question': '¿Qué se analizó por primera vez en Europa sobre la entrega del Balón de Oro de 2011?'},\n",
       " {'chunk_id': 'Lionel_Messi_Wikipedia_Page-31',\n",
       "  'question': '¿Cómo influyó Messi en el atractivo comercial del fútbol según la revista Time en 2014?'},\n",
       " {'chunk_id': 'Lionel_Messi_Wikipedia_Page-31',\n",
       "  'question': '¿Cuál fue el impacto financiero que tuvo la salida de Messi del Barcelona en 2021?'},\n",
       " {'chunk_id': 'Lionel_Messi_Wikipedia_Page-31',\n",
       "  'question': '¿Qué se dijo sobre las redes sociales de Messi en relación con su éxito en comparación al Papa Francisco?'},\n",
       " {'chunk_id': 'Lionel_Messi_Wikipedia_Page-31',\n",
       "  'question': '¿Qué críticas recibió Messi por aceptar ser embajador de Turismo de Arabia Saudita en 2022?'},\n",
       " {'chunk_id': 'Lionel_Messi_Wikipedia_Page-32',\n",
       "  'question': '¿Cuál fue el anuncio realizado por Sony Entertainment en marzo de 2023 relacionado con Messi?'},\n",
       " {'chunk_id': 'Lionel_Messi_Wikipedia_Page-32',\n",
       "  'question': '¿Qué nuevas especies biológicas recibieron el nombre de Messi en mayo de 2023 y cuáles son?'},\n",
       " {'chunk_id': 'Lionel_Messi_Wikipedia_Page-32',\n",
       "  'question': '¿Qué sucedió en Instagram una hora después de que Messi anunció su fichaje por Inter Miami el 7 de junio de 2023?'},\n",
       " {'chunk_id': 'Lionel_Messi_Wikipedia_Page-32',\n",
       "  'question': '¿Cuál fue el récord de espectadores del partido entre Inter Miami y Cruz Azul que se llevó a cabo después del anuncio de Messi?'},\n",
       " {'chunk_id': 'Lionel_Messi_Wikipedia_Page-32',\n",
       "  'question': '¿Cuántos goles y asistencias acumuló Messi a lo largo de su carrera profesional según las estadísticas proporcionadas?'},\n",
       " {'chunk_id': 'Lionel_Messi_Wikipedia_Page-33',\n",
       "  'question': '¿Cuántos goles anotó Lionel Messi en la Copa Mundial de 2014?'},\n",
       " {'chunk_id': 'Lionel_Messi_Wikipedia_Page-33',\n",
       "  'question': '¿Cuál fue el resultado de la Copa América 2021 para Lionel Messi?'},\n",
       " {'chunk_id': 'Lionel_Messi_Wikipedia_Page-33',\n",
       "  'question': '¿En cuántos partidos de la Primera División de España jugó Lionel Messi?'},\n",
       " {'chunk_id': 'Lionel_Messi_Wikipedia_Page-33',\n",
       "  'question': '¿Cuántos goles anotó Messi en sus 58 partidos en Ligue 1?'},\n",
       " {'chunk_id': 'Lionel_Messi_Wikipedia_Page-33',\n",
       "  'question': '¿Qué promedio de goles tiene Lionel Messi en las categorías juveniles?'},\n",
       " {'chunk_id': 'Lionel_Messi_Wikipedia_Page-34',\n",
       "  'question': '¿Cuántos partidos ha disputado Lionel Messi en la Ligue 1 hasta julio de 2024?'},\n",
       " {'chunk_id': 'Lionel_Messi_Wikipedia_Page-34',\n",
       "  'question': '¿Cuántos goles ha anotado Messi en su carrera oficial hasta julio de 2024?'},\n",
       " {'chunk_id': 'Lionel_Messi_Wikipedia_Page-34',\n",
       "  'question': '¿Cuál es la cantidad total de asistencias que Messi ha registrado en su carrera oficial?'},\n",
       " {'chunk_id': 'Lionel_Messi_Wikipedia_Page-34',\n",
       "  'question': '¿Cuántos goles marcó Messi en su trayectoria con la selección argentina hasta julio de 2024?'},\n",
       " {'chunk_id': 'Lionel_Messi_Wikipedia_Page-34',\n",
       "  'question': '¿Qué fecha se registró el gol número mil de Messi y contra qué equipo lo anotó?'},\n",
       " {'chunk_id': 'Lionel_Messi_Wikipedia_Page-35',\n",
       "  'question': '¿Cuántos goles anotó Lionel Messi en 2012 para entrar en el Guinness World Records?'},\n",
       " {'chunk_id': 'Lionel_Messi_Wikipedia_Page-35',\n",
       "  'question': '¿Cuántas veces ha ganado Messi el Balón de Oro a lo largo de su carrera?'},\n",
       " {'chunk_id': 'Lionel_Messi_Wikipedia_Page-35',\n",
       "  'question': '¿Cuál es el récord de goles oficiales anotados por Messi en una misma temporada?'},\n",
       " {'chunk_id': 'Lionel_Messi_Wikipedia_Page-35',\n",
       "  'question': '¿Cuántos goles ha anotado Messi como máximo goleador argentino en mundiales hasta 2022?'},\n",
       " {'chunk_id': 'Lionel_Messi_Wikipedia_Page-35',\n",
       "  'question': '¿Qué jugador tiene el récord de más partidos disputados en Copas del Mundo hasta 2022?'},\n",
       " {'chunk_id': 'Lionel_Messi_Wikipedia_Page-36',\n",
       "  'question': '¿Cuántos goles anotó Lionel Messi durante su tiempo en el F. C. Barcelona?'},\n",
       " {'chunk_id': 'Lionel_Messi_Wikipedia_Page-36',\n",
       "  'question': '¿Cuáles son algunos de los títulos que ganó Lionel Messi con el F. C. Barcelona?'},\n",
       " {'chunk_id': 'Lionel_Messi_Wikipedia_Page-36',\n",
       "  'question': '¿Qué títulos ganó Messi con la selección argentina sub-20?'},\n",
       " {'chunk_id': 'Lionel_Messi_Wikipedia_Page-36',\n",
       "  'question': '¿Cuántos goles anotó Messi en el Paris Saint-Germain según la información proporcionada?'},\n",
       " {'chunk_id': 'Lionel_Messi_Wikipedia_Page-36',\n",
       "  'question': '¿Qué distinciones individuales y títulos internacionales se mencionan en el texto relacionados con Messi?'},\n",
       " {'chunk_id': 'Lionel_Messi_Wikipedia_Page-37',\n",
       "  'question': '¿Cuántos Balones de Oro ha ganado Lionel Messi a lo largo de su carrera y en qué años ganó cada uno?'},\n",
       " {'chunk_id': 'Lionel_Messi_Wikipedia_Page-37',\n",
       "  'question': '¿Qué relación tiene Messi con Antonela Roccuzzo y cuándo contrajeron matrimonio?'},\n",
       " {'chunk_id': 'Lionel_Messi_Wikipedia_Page-37',\n",
       "  'question': '¿Cuáles son los nombres y fechas de nacimiento de los hijos de Messi?'},\n",
       " {'chunk_id': 'Lionel_Messi_Wikipedia_Page-37',\n",
       "  'question': '¿Qué actividades realiza la Fundación Leo Messi y en qué áreas se enfoca principalmente?'},\n",
       " {'chunk_id': 'Lionel_Messi_Wikipedia_Page-37',\n",
       "  'question': '¿En qué año empezó Messi su relación con Antonela y cómo se conocieron?'},\n",
       " {'chunk_id': 'Lionel_Messi_Wikipedia_Page-38',\n",
       "  'question': '¿Desde cuándo Lionel Messi es Embajador de Buena Voluntad de Unicef?'},\n",
       " {'chunk_id': 'Lionel_Messi_Wikipedia_Page-38',\n",
       "  'question': '¿Cuáles son los roles de los miembros de la familia Messi en su carrera profesional?'},\n",
       " {'chunk_id': 'Lionel_Messi_Wikipedia_Page-38',\n",
       "  'question': '¿Qué campaña de concienciación participó Messi convocado por la OMS en marzo de 2020?'},\n",
       " {'chunk_id': 'Lionel_Messi_Wikipedia_Page-38',\n",
       "  'question': '¿Qué sospechas sobre Lionel Messi fueron investigadas en 2013 relacionadas con su situación fiscal?'},\n",
       " {'chunk_id': 'Lionel_Messi_Wikipedia_Page-38',\n",
       "  'question': '¿Cuál fue la decisión del Tribunal Supremo español respecto a Messi en julio de 2017 por delitos fiscales?'},\n",
       " {'chunk_id': 'Lionel_Messi_Wikipedia_Page-4',\n",
       "  'question': '¿Cuántos goles anotó Messi en total durante su estancia en las categorías juveniles en 2005?'},\n",
       " {'chunk_id': 'Lionel_Messi_Wikipedia_Page-4',\n",
       "  'question': '¿Qué logro Messi en su debut en La Liga y a qué edad sucedió?'},\n",
       " {'chunk_id': 'Lionel_Messi_Wikipedia_Page-4',\n",
       "  'question': '¿Quién fue el entrenador que confió en Messi cuando apenas tenía diecisiete años?'},\n",
       " {'chunk_id': 'Lionel_Messi_Wikipedia_Page-4',\n",
       "  'question': 'En qué temporada Messi jugó diecisiete partidos con el Barcelona B y cuántos goles marcó?'},\n",
       " {'chunk_id': 'Lionel_Messi_Wikipedia_Page-4',\n",
       "  'question': '¿Qué ocurrió el 1 de mayo de 2005 en un partido contra el Albacete Balompié para Messi?'},\n",
       " {'chunk_id': 'Lionel_Messi_Wikipedia_Page-5',\n",
       "  'question': '¿Qué ocurrió con Messi el 13 de agosto de 2007 durante la Supercopa de España?'},\n",
       " {'chunk_id': 'Lionel_Messi_Wikipedia_Page-5',\n",
       "  'question': '¿Por qué Messi no pudo participar en las primeras jornadas de La Liga en 2007?'},\n",
       " {'chunk_id': 'Lionel_Messi_Wikipedia_Page-5',\n",
       "  'question': '¿Cuál fue la reacción del entrenador Fabio Capello tras el rendimiento de Messi en el Trofeo Joan Gamper?'},\n",
       " {'chunk_id': 'Lionel_Messi_Wikipedia_Page-5',\n",
       "  'question': '¿Cuál fue el evento que fue considerado un momento bisagra en la carrera de Messi?'},\n",
       " {'chunk_id': 'Lionel_Messi_Wikipedia_Page-5',\n",
       "  'question': '¿Qué premio recibió Messi en diciembre de 2005 y quiénes fueron los otros nominados?'},\n",
       " {'chunk_id': 'Lionel_Messi_Wikipedia_Page-6',\n",
       "  'question': '¿Cuáles fueron los dos goles que Lionel Messi anotó en la Copa del Rey contra el Getafe FC en 2007?'},\n",
       " {'chunk_id': 'Lionel_Messi_Wikipedia_Page-6',\n",
       "  'question': '¿Cuántos goles anotó Messi en total durante la temporada 2006-07, incluyendo todas las competiciones?'},\n",
       " {'chunk_id': 'Lionel_Messi_Wikipedia_Page-6',\n",
       "  'question': '¿Qué lesiones sufrió Messi durante la temporada 2006-07 y cuánto tiempo estuvo fuera de juego?'},\n",
       " {'chunk_id': 'Lionel_Messi_Wikipedia_Page-6',\n",
       "  'question': '¿Qué premiación otorgó FIFPro a Messi en 2006 y cuántas veces lo ganó en los años siguientes?'},\n",
       " {'chunk_id': 'Lionel_Messi_Wikipedia_Page-6',\n",
       "  'question': '¿Qué contrato firmó Messi en junio de 2008 y cuál fue su impacto en su salario en el Barcelona?'},\n",
       " {'chunk_id': 'Lionel_Messi_Wikipedia_Page-7',\n",
       "  'question': '¿Cuántos goles anotó Messi en el partido amistoso contra el Dundee United?'},\n",
       " {'chunk_id': 'Lionel_Messi_Wikipedia_Page-7',\n",
       "  'question': '¿Qué premio recibió Messi por ser el mejor jugador de la primera división española?'},\n",
       " {'chunk_id': 'Lionel_Messi_Wikipedia_Page-7',\n",
       "  'question': '¿En qué partido Messi hizo su primer gol en una final con el primer equipo del Barcelona?'},\n",
       " {'chunk_id': 'Lionel_Messi_Wikipedia_Page-7',\n",
       "  'question': '¿Cuál fue la mayor goleada de Messi contra el Real Madrid en el Santiago Bernabéu?'},\n",
       " {'chunk_id': 'Lionel_Messi_Wikipedia_Page-7',\n",
       "  'question': '¿Cuántas asistencias y goles hizo Messi en su primera campaña ininterrumpida con el Barcelona?'},\n",
       " {'chunk_id': 'Lionel_Messi_Wikipedia_Page-8',\n",
       "  'question': '¿Cuántos goles anotó Lionel Messi en la Liga de Campeones durante la temporada 2010-2011?'},\n",
       " {'chunk_id': 'Lionel_Messi_Wikipedia_Page-8',\n",
       "  'question': '¿Qué premio ganó Lionel Messi el 2 de diciembre de 2009 y por qué fue significativo?'},\n",
       " {'chunk_id': 'Lionel_Messi_Wikipedia_Page-8',\n",
       "  'question': '¿Cuál fue el salario de Messi tras la renovación de su contrato en septiembre y qué lo hizo destacar en ese momento?'},\n",
       " {'chunk_id': 'Lionel_Messi_Wikipedia_Page-8',\n",
       "  'question': '¿Qué récord logró Messi al anotar un hat trick contra el Sevilla el 30 de octubre de 2010?'},\n",
       " {'chunk_id': 'Lionel_Messi_Wikipedia_Page-8',\n",
       "  'question': '¿Qué impacto tuvo Messi en la final de la Liga de Campeones contra el Manchester United el 28 de mayo de 2011?'},\n",
       " {'chunk_id': 'Lionel_Messi_Wikipedia_Page-9',\n",
       "  'question': '¿Cuántos goles anotó Messi en la final de la Copa Mundial de Clubes de 2011 contra el Santos?'},\n",
       " {'chunk_id': 'Lionel_Messi_Wikipedia_Page-9',\n",
       "  'question': '¿Qué récord alcanzó Messi al marcar cinco goles en un solo partido de la Liga de Campeones contra el Bayer Leverkusen?'},\n",
       " {'chunk_id': 'Lionel_Messi_Wikipedia_Page-9',\n",
       "  'question': '¿Cuál fue el premio que Messi recibió el 10 de enero de 2011 y cuántas veces lo había ganado hasta ese momento?'},\n",
       " {'chunk_id': 'Lionel_Messi_Wikipedia_Page-9',\n",
       "  'question': '¿Cuántos hat-tricks y pokers realizó Messi durante la temporada 2011-12?'},\n",
       " {'chunk_id': 'Lionel_Messi_Wikipedia_Page-9',\n",
       "  'question': '¿Qué récord de goles en una temporada superó Messi durante la temporada 2011-12 y cuántos goles anotó en total?'}]"
      ]
     },
     "execution_count": 613,
     "metadata": {},
     "output_type": "execute_result"
    }
   ],
   "source": [
    "questions_dict"
   ]
  },
  {
   "cell_type": "code",
   "execution_count": 634,
   "metadata": {},
   "outputs": [
    {
     "name": "stderr",
     "output_type": "stream",
     "text": [
      "  0%|          | 0/190 [00:00<?, ?it/s]"
     ]
    },
    {
     "name": "stdout",
     "output_type": "stream",
     "text": [
      "------------------------------------\n",
      "Input Tokens: 3781       Cost: $0.00056715\n",
      "Completion Tokens: 29       Cost: $0.00001740\n",
      "Total Cost: $0.00058455\n",
      "------------------------------------\n"
     ]
    },
    {
     "name": "stderr",
     "output_type": "stream",
     "text": [
      "  1%|          | 1/190 [00:02<07:09,  2.27s/it]"
     ]
    },
    {
     "name": "stdout",
     "output_type": "stream",
     "text": [
      "------------------------------------\n",
      "Input Tokens: 244       Cost: $0.00003660\n",
      "Completion Tokens: 51       Cost: $0.00003060\n",
      "Total Cost: $0.00006720\n",
      "------------------------------------\n",
      "You are an expert evaluator for a RAG system.\n",
      "        Your task is to analyze the relevance of the LLM generated answer to the users given question.\n",
      "        The goal is to have 3 classification levels as if the relevance scores were 0, 0.5, or 1.\n",
      "        Based on the relevance of the generated answer, you will classify it\n",
      "        as \"NON_RELEVANT\", \"PARTLY_RELEVANT\", or \"RELEVANT\".\n",
      "\n",
      "        Here is the data for evaluation:\n",
      "\n",
      "        Question: ¿Cuál es el nombre completo de Lionel Messi y cuál es su apodo más conocido en el mundo del fútbol?\n",
      "        Generated Answer: El nombre completo de Lionel Messi es Lionel Andrés Messi Cuccittini y su apodo más conocido en el mundo del fútbol es \"Leo\".\n",
      "\n",
      "        Please analyze the content and context of the generated answer in relation to the question\n",
      "        and provide your evaluation in parsable JSON without using code blocks:\n",
      "\n",
      "        {\n",
      "        \"Relevance\": \"NON_RELEVANT\" | \"PARTLY_RELEVANT\" | \"RELEVANT\",\n",
      "        \"Explanation\": \"[Provide a brief explanation for your evaluation in spanish]\"\n",
      "        }\n",
      "------------------------------------\n",
      "Input Tokens: 3774       Cost: $0.00056610\n",
      "Completion Tokens: 24       Cost: $0.00001440\n",
      "Total Cost: $0.00058050\n",
      "------------------------------------\n"
     ]
    },
    {
     "name": "stderr",
     "output_type": "stream",
     "text": [
      "  1%|          | 2/190 [00:04<06:16,  2.00s/it]"
     ]
    },
    {
     "name": "stdout",
     "output_type": "stream",
     "text": [
      "------------------------------------\n",
      "Input Tokens: 231       Cost: $0.00003465\n",
      "Completion Tokens: 77       Cost: $0.00004620\n",
      "Total Cost: $0.00008085\n",
      "------------------------------------\n",
      "You are an expert evaluator for a RAG system.\n",
      "        Your task is to analyze the relevance of the LLM generated answer to the users given question.\n",
      "        The goal is to have 3 classification levels as if the relevance scores were 0, 0.5, or 1.\n",
      "        Based on the relevance of the generated answer, you will classify it\n",
      "        as \"NON_RELEVANT\", \"PARTLY_RELEVANT\", or \"RELEVANT\".\n",
      "\n",
      "        Here is the data for evaluation:\n",
      "\n",
      "        Question: ¿En qué club profesional hizo su debut Lionel Messi y en qué fecha ocurrió?\n",
      "        Generated Answer: Lionel Messi hizo su debut profesional en el F. C. Barcelona el 16 de octubre de 2004.\n",
      "\n",
      "        Please analyze the content and context of the generated answer in relation to the question\n",
      "        and provide your evaluation in parsable JSON without using code blocks:\n",
      "\n",
      "        {\n",
      "        \"Relevance\": \"NON_RELEVANT\" | \"PARTLY_RELEVANT\" | \"RELEVANT\",\n",
      "        \"Explanation\": \"[Provide a brief explanation for your evaluation in spanish]\"\n",
      "        }\n",
      "------------------------------------\n",
      "Input Tokens: 3783       Cost: $0.00056745\n",
      "Completion Tokens: 22       Cost: $0.00001320\n",
      "Total Cost: $0.00058065\n",
      "------------------------------------\n"
     ]
    },
    {
     "name": "stderr",
     "output_type": "stream",
     "text": [
      "  2%|▏         | 3/190 [00:06<06:27,  2.07s/it]"
     ]
    },
    {
     "name": "stdout",
     "output_type": "stream",
     "text": [
      "------------------------------------\n",
      "Input Tokens: 242       Cost: $0.00003630\n",
      "Completion Tokens: 69       Cost: $0.00004140\n",
      "Total Cost: $0.00007770\n",
      "------------------------------------\n",
      "You are an expert evaluator for a RAG system.\n",
      "        Your task is to analyze the relevance of the LLM generated answer to the users given question.\n",
      "        The goal is to have 3 classification levels as if the relevance scores were 0, 0.5, or 1.\n",
      "        Based on the relevance of the generated answer, you will classify it\n",
      "        as \"NON_RELEVANT\", \"PARTLY_RELEVANT\", or \"RELEVANT\".\n",
      "\n",
      "        Here is the data for evaluation:\n",
      "\n",
      "        Question: ¿Cuántos Balones de Oro ha ganado Messi a lo largo de su carrera y cuáles fueron los años en los que los recibió?\n",
      "        Generated Answer: Lo siento, pero no tengo suficiente información para responder eso. ¿Hay algo más en lo que pueda ayudarte?\n",
      "\n",
      "        Please analyze the content and context of the generated answer in relation to the question\n",
      "        and provide your evaluation in parsable JSON without using code blocks:\n",
      "\n",
      "        {\n",
      "        \"Relevance\": \"NON_RELEVANT\" | \"PARTLY_RELEVANT\" | \"RELEVANT\",\n",
      "        \"Explanation\": \"[Provide a brief explanation for your evaluation in spanish]\"\n",
      "        }\n",
      "------------------------------------\n",
      "Input Tokens: 3692       Cost: $0.00055380\n",
      "Completion Tokens: 206       Cost: $0.00012360\n",
      "Total Cost: $0.00067740\n",
      "------------------------------------\n"
     ]
    },
    {
     "name": "stderr",
     "output_type": "stream",
     "text": [
      "  2%|▏         | 4/190 [00:09<07:47,  2.52s/it]"
     ]
    },
    {
     "name": "stdout",
     "output_type": "stream",
     "text": [
      "------------------------------------\n",
      "Input Tokens: 423       Cost: $0.00006345\n",
      "Completion Tokens: 84       Cost: $0.00005040\n",
      "Total Cost: $0.00011385\n",
      "------------------------------------\n",
      "You are an expert evaluator for a RAG system.\n",
      "        Your task is to analyze the relevance of the LLM generated answer to the users given question.\n",
      "        The goal is to have 3 classification levels as if the relevance scores were 0, 0.5, or 1.\n",
      "        Based on the relevance of the generated answer, you will classify it\n",
      "        as \"NON_RELEVANT\", \"PARTLY_RELEVANT\", or \"RELEVANT\".\n",
      "\n",
      "        Here is the data for evaluation:\n",
      "\n",
      "        Question: ¿Qué logros alcanzó Messi con la selección argentina en su trayectoria internacional, incluyendo los torneos en los que participó?\n",
      "        Generated Answer: Lionel Messi alcanzó varios logros destacados con la selección argentina a lo largo de su trayectoria internacional. Entre los más significativos se encuentran:\n",
      "\n",
      "1. **Olimpiadas de Pekín 2008**: Messi anotó en la final contra Nigeria, contribuyendo a que Argentina ganara la medalla de oro.\n",
      "\n",
      "2. **Copa América**: Messi fue parte del equipo que ganó la Copa América 2021 al vencer a Brasil en el Maracaná.\n",
      "\n",
      "3. **Mundial de Catar 2022**: Argentina ganó el Mundial, y Messi tuvo un papel crucial en el equipo.\n",
      "\n",
      "4. **Finalissima 2022**: Ganó el torneo contra Italia en Wembley.\n",
      "\n",
      "5. **Copa América 2024**: Messi fue parte de la selección que ganó el torneo.\n",
      "\n",
      "Su capacidad para influir en los partidos se demuestra no solo en sus goles, sino también en sus asistencias y liderazgo dentro del equipo, siendo capitán de la selección durante más de diez años.\n",
      "\n",
      "        Please analyze the content and context of the generated answer in relation to the question\n",
      "        and provide your evaluation in parsable JSON without using code blocks:\n",
      "\n",
      "        {\n",
      "        \"Relevance\": \"NON_RELEVANT\" | \"PARTLY_RELEVANT\" | \"RELEVANT\",\n",
      "        \"Explanation\": \"[Provide a brief explanation for your evaluation in spanish]\"\n",
      "        }\n",
      "------------------------------------\n",
      "Input Tokens: 3872       Cost: $0.00058080\n",
      "Completion Tokens: 68       Cost: $0.00004080\n",
      "Total Cost: $0.00062160\n",
      "------------------------------------\n"
     ]
    },
    {
     "name": "stderr",
     "output_type": "stream",
     "text": [
      "  3%|▎         | 5/190 [00:11<07:32,  2.45s/it]"
     ]
    },
    {
     "name": "stdout",
     "output_type": "stream",
     "text": [
      "------------------------------------\n",
      "Input Tokens: 280       Cost: $0.00004200\n",
      "Completion Tokens: 55       Cost: $0.00003300\n",
      "Total Cost: $0.00007500\n",
      "------------------------------------\n",
      "You are an expert evaluator for a RAG system.\n",
      "        Your task is to analyze the relevance of the LLM generated answer to the users given question.\n",
      "        The goal is to have 3 classification levels as if the relevance scores were 0, 0.5, or 1.\n",
      "        Based on the relevance of the generated answer, you will classify it\n",
      "        as \"NON_RELEVANT\", \"PARTLY_RELEVANT\", or \"RELEVANT\".\n",
      "\n",
      "        Here is the data for evaluation:\n",
      "\n",
      "        Question: ¿Cuáles son los clubes en los que ha jugado Lionel Messi desde su debut hasta la actualidad?\n",
      "        Generated Answer: Lionel Messi ha jugado en los siguientes clubes desde su debut hasta la actualidad:\n",
      "\n",
      "1. Fútbol Club Barcelona (2004-2021)\n",
      "2. Paris Saint-Germain F. C. (2021-2023)\n",
      "3. Inter Miami (2023-presente)\n",
      "\n",
      "Si tienes más preguntas, estaré encantado de ayudarte.\n",
      "\n",
      "        Please analyze the content and context of the generated answer in relation to the question\n",
      "        and provide your evaluation in parsable JSON without using code blocks:\n",
      "\n",
      "        {\n",
      "        \"Relevance\": \"NON_RELEVANT\" | \"PARTLY_RELEVANT\" | \"RELEVANT\",\n",
      "        \"Explanation\": \"[Provide a brief explanation for your evaluation in spanish]\"\n",
      "        }\n",
      "------------------------------------\n",
      "Input Tokens: 4062       Cost: $0.00060930\n",
      "Completion Tokens: 42       Cost: $0.00002520\n",
      "Total Cost: $0.00063450\n",
      "------------------------------------\n"
     ]
    },
    {
     "name": "stderr",
     "output_type": "stream",
     "text": [
      "  3%|▎         | 6/190 [00:13<06:58,  2.28s/it]"
     ]
    },
    {
     "name": "stdout",
     "output_type": "stream",
     "text": [
      "------------------------------------\n",
      "Input Tokens: 254       Cost: $0.00003810\n",
      "Completion Tokens: 60       Cost: $0.00003600\n",
      "Total Cost: $0.00007410\n",
      "------------------------------------\n",
      "You are an expert evaluator for a RAG system.\n",
      "        Your task is to analyze the relevance of the LLM generated answer to the users given question.\n",
      "        The goal is to have 3 classification levels as if the relevance scores were 0, 0.5, or 1.\n",
      "        Based on the relevance of the generated answer, you will classify it\n",
      "        as \"NON_RELEVANT\", \"PARTLY_RELEVANT\", or \"RELEVANT\".\n",
      "\n",
      "        Here is the data for evaluation:\n",
      "\n",
      "        Question: ¿Cuántos goles anotó Messi en 2012 para romper el récord de Gerd Müller?\n",
      "        Generated Answer: Messi anotó 91 goles en 2012, lo que le permitió romper el récord de Gerd Müller de 85 goles en un año calendario. Si necesitas más información, no dudes en preguntar.\n",
      "\n",
      "        Please analyze the content and context of the generated answer in relation to the question\n",
      "        and provide your evaluation in parsable JSON without using code blocks:\n",
      "\n",
      "        {\n",
      "        \"Relevance\": \"NON_RELEVANT\" | \"PARTLY_RELEVANT\" | \"RELEVANT\",\n",
      "        \"Explanation\": \"[Provide a brief explanation for your evaluation in spanish]\"\n",
      "        }\n",
      "------------------------------------\n",
      "Input Tokens: 4115       Cost: $0.00061725\n",
      "Completion Tokens: 53       Cost: $0.00003180\n",
      "Total Cost: $0.00064905\n",
      "------------------------------------\n"
     ]
    },
    {
     "name": "stderr",
     "output_type": "stream",
     "text": [
      "  4%|▎         | 7/190 [00:15<06:35,  2.16s/it]"
     ]
    },
    {
     "name": "stdout",
     "output_type": "stream",
     "text": [
      "------------------------------------\n",
      "Input Tokens: 270       Cost: $0.00004050\n",
      "Completion Tokens: 62       Cost: $0.00003720\n",
      "Total Cost: $0.00007770\n",
      "------------------------------------\n",
      "You are an expert evaluator for a RAG system.\n",
      "        Your task is to analyze the relevance of the LLM generated answer to the users given question.\n",
      "        The goal is to have 3 classification levels as if the relevance scores were 0, 0.5, or 1.\n",
      "        Based on the relevance of the generated answer, you will classify it\n",
      "        as \"NON_RELEVANT\", \"PARTLY_RELEVANT\", or \"RELEVANT\".\n",
      "\n",
      "        Here is the data for evaluation:\n",
      "\n",
      "        Question: ¿Qué logró Messi al marcar 91 goles en un año natural y cuántos de esos goles fueron con su club?\n",
      "        Generated Answer: Al marcar 91 goles en un año natural, Messi se convirtió en el máximo goleador absoluto en un año natural del Barcelona. De esos 91 goles, 79 fueron anotados con su club. Si necesitas más información, estaré encantado de ayudarte.\n",
      "\n",
      "        Please analyze the content and context of the generated answer in relation to the question\n",
      "        and provide your evaluation in parsable JSON without using code blocks:\n",
      "\n",
      "        {\n",
      "        \"Relevance\": \"NON_RELEVANT\" | \"PARTLY_RELEVANT\" | \"RELEVANT\",\n",
      "        \"Explanation\": \"[Provide a brief explanation for your evaluation in spanish]\"\n",
      "        }\n",
      "------------------------------------\n",
      "Input Tokens: 3698       Cost: $0.00055470\n",
      "Completion Tokens: 24       Cost: $0.00001440\n",
      "Total Cost: $0.00056910\n",
      "------------------------------------\n"
     ]
    },
    {
     "name": "stderr",
     "output_type": "stream",
     "text": [
      "  4%|▍         | 8/190 [00:17<06:12,  2.05s/it]"
     ]
    },
    {
     "name": "stdout",
     "output_type": "stream",
     "text": [
      "------------------------------------\n",
      "Input Tokens: 235       Cost: $0.00003525\n",
      "Completion Tokens: 68       Cost: $0.00004080\n",
      "Total Cost: $0.00007605\n",
      "------------------------------------\n",
      "You are an expert evaluator for a RAG system.\n",
      "        Your task is to analyze the relevance of the LLM generated answer to the users given question.\n",
      "        The goal is to have 3 classification levels as if the relevance scores were 0, 0.5, or 1.\n",
      "        Based on the relevance of the generated answer, you will classify it\n",
      "        as \"NON_RELEVANT\", \"PARTLY_RELEVANT\", or \"RELEVANT\".\n",
      "\n",
      "        Here is the data for evaluation:\n",
      "\n",
      "        Question: ¿Qué contrato renovó Messi en diciembre de2012 y cuál era su sueldo neto?\n",
      "        Generated Answer: Lo siento, pero no tengo suficiente información para responder a esa pregunta. ¿Hay algo más en lo que pueda ayudarte?\n",
      "\n",
      "        Please analyze the content and context of the generated answer in relation to the question\n",
      "        and provide your evaluation in parsable JSON without using code blocks:\n",
      "\n",
      "        {\n",
      "        \"Relevance\": \"NON_RELEVANT\" | \"PARTLY_RELEVANT\" | \"RELEVANT\",\n",
      "        \"Explanation\": \"[Provide a brief explanation for your evaluation in spanish]\"\n",
      "        }\n",
      "------------------------------------\n",
      "Input Tokens: 4063       Cost: $0.00060945\n",
      "Completion Tokens: 41       Cost: $0.00002460\n",
      "Total Cost: $0.00063405\n",
      "------------------------------------\n"
     ]
    },
    {
     "name": "stderr",
     "output_type": "stream",
     "text": [
      "  5%|▍         | 9/190 [00:19<05:59,  1.99s/it]"
     ]
    },
    {
     "name": "stdout",
     "output_type": "stream",
     "text": [
      "------------------------------------\n",
      "Input Tokens: 254       Cost: $0.00003810\n",
      "Completion Tokens: 67       Cost: $0.00004020\n",
      "Total Cost: $0.00007830\n",
      "------------------------------------\n",
      "You are an expert evaluator for a RAG system.\n",
      "        Your task is to analyze the relevance of the LLM generated answer to the users given question.\n",
      "        The goal is to have 3 classification levels as if the relevance scores were 0, 0.5, or 1.\n",
      "        Based on the relevance of the generated answer, you will classify it\n",
      "        as \"NON_RELEVANT\", \"PARTLY_RELEVANT\", or \"RELEVANT\".\n",
      "\n",
      "        Here is the data for evaluation:\n",
      "\n",
      "        Question: ¿Qué récord histórico alcanzó Messi al superar a Di Stéfano en goles de El Clásico?\n",
      "        Generated Answer: Lionel Messi se convirtió en el goleador histórico de El Clásico al alcanzar 21 goles, superando así a Alfredo Di Stéfano, quien tenía 18 goles en este enfrentamiento.\n",
      "\n",
      "        Please analyze the content and context of the generated answer in relation to the question\n",
      "        and provide your evaluation in parsable JSON without using code blocks:\n",
      "\n",
      "        {\n",
      "        \"Relevance\": \"NON_RELEVANT\" | \"PARTLY_RELEVANT\" | \"RELEVANT\",\n",
      "        \"Explanation\": \"[Provide a brief explanation for your evaluation in spanish]\"\n",
      "        }\n",
      "------------------------------------\n",
      "Input Tokens: 4135       Cost: $0.00062025\n",
      "Completion Tokens: 32       Cost: $0.00001920\n",
      "Total Cost: $0.00063945\n",
      "------------------------------------\n"
     ]
    },
    {
     "name": "stderr",
     "output_type": "stream",
     "text": [
      "  5%|▌         | 10/190 [00:21<05:51,  1.96s/it]"
     ]
    },
    {
     "name": "stdout",
     "output_type": "stream",
     "text": [
      "------------------------------------\n",
      "Input Tokens: 246       Cost: $0.00003690\n",
      "Completion Tokens: 54       Cost: $0.00003240\n",
      "Total Cost: $0.00006930\n",
      "------------------------------------\n",
      "You are an expert evaluator for a RAG system.\n",
      "        Your task is to analyze the relevance of the LLM generated answer to the users given question.\n",
      "        The goal is to have 3 classification levels as if the relevance scores were 0, 0.5, or 1.\n",
      "        Based on the relevance of the generated answer, you will classify it\n",
      "        as \"NON_RELEVANT\", \"PARTLY_RELEVANT\", or \"RELEVANT\".\n",
      "\n",
      "        Here is the data for evaluation:\n",
      "\n",
      "        Question: ¿Cuántos goles anotó Messi en La Liga para convertirse en el máximo goleador absoluto en esa competición?\n",
      "        Generated Answer: Lionel Messi se convirtió en el máximo goleador histórico de La Liga al alcanzar 234 goles, superando a César Rodríguez, quien tenía 232 goles.\n",
      "\n",
      "        Please analyze the content and context of the generated answer in relation to the question\n",
      "        and provide your evaluation in parsable JSON without using code blocks:\n",
      "\n",
      "        {\n",
      "        \"Relevance\": \"NON_RELEVANT\" | \"PARTLY_RELEVANT\" | \"RELEVANT\",\n",
      "        \"Explanation\": \"[Provide a brief explanation for your evaluation in spanish]\"\n",
      "        }\n",
      "------------------------------------\n",
      "Input Tokens: 4041       Cost: $0.00060615\n",
      "Completion Tokens: 23       Cost: $0.00001380\n",
      "Total Cost: $0.00061995\n",
      "------------------------------------\n"
     ]
    },
    {
     "name": "stderr",
     "output_type": "stream",
     "text": [
      "  6%|▌         | 11/190 [00:23<05:48,  1.95s/it]"
     ]
    },
    {
     "name": "stdout",
     "output_type": "stream",
     "text": [
      "------------------------------------\n",
      "Input Tokens: 240       Cost: $0.00003600\n",
      "Completion Tokens: 73       Cost: $0.00004380\n",
      "Total Cost: $0.00007980\n",
      "------------------------------------\n",
      "You are an expert evaluator for a RAG system.\n",
      "        Your task is to analyze the relevance of the LLM generated answer to the users given question.\n",
      "        The goal is to have 3 classification levels as if the relevance scores were 0, 0.5, or 1.\n",
      "        Based on the relevance of the generated answer, you will classify it\n",
      "        as \"NON_RELEVANT\", \"PARTLY_RELEVANT\", or \"RELEVANT\".\n",
      "\n",
      "        Here is the data for evaluation:\n",
      "\n",
      "        Question: ¿Cuántos goles anotó Messi en el partido contra el Getafe el 28 de abril de 2015?\n",
      "        Generated Answer: Lo siento, pero no tengo suficiente información para responder a eso. ¿Hay algo más en lo que pueda ayudarte?\n",
      "\n",
      "        Please analyze the content and context of the generated answer in relation to the question\n",
      "        and provide your evaluation in parsable JSON without using code blocks:\n",
      "\n",
      "        {\n",
      "        \"Relevance\": \"NON_RELEVANT\" | \"PARTLY_RELEVANT\" | \"RELEVANT\",\n",
      "        \"Explanation\": \"[Provide a brief explanation for your evaluation in spanish]\"\n",
      "        }\n",
      "------------------------------------\n",
      "Input Tokens: 4215       Cost: $0.00063225\n",
      "Completion Tokens: 69       Cost: $0.00004140\n",
      "Total Cost: $0.00067365\n",
      "------------------------------------\n"
     ]
    },
    {
     "name": "stderr",
     "output_type": "stream",
     "text": [
      "  6%|▋         | 12/190 [00:26<06:48,  2.29s/it]"
     ]
    },
    {
     "name": "stdout",
     "output_type": "stream",
     "text": [
      "------------------------------------\n",
      "Input Tokens: 284       Cost: $0.00004260\n",
      "Completion Tokens: 113       Cost: $0.00006780\n",
      "Total Cost: $0.00011040\n",
      "------------------------------------\n",
      "You are an expert evaluator for a RAG system.\n",
      "        Your task is to analyze the relevance of the LLM generated answer to the users given question.\n",
      "        The goal is to have 3 classification levels as if the relevance scores were 0, 0.5, or 1.\n",
      "        Based on the relevance of the generated answer, you will classify it\n",
      "        as \"NON_RELEVANT\", \"PARTLY_RELEVANT\", or \"RELEVANT\".\n",
      "\n",
      "        Here is the data for evaluation:\n",
      "\n",
      "        Question: ¿Qué récord estableció Messi en el 2014 en la Liga de Campeones con su número de goles?\n",
      "        Generated Answer: En 2014, Messi se convirtió en el máximo goleador de todos los tiempos en la Liga de Campeones, logrando un total de 74 goles, lo que le permitió superar los 251 goles de Telmo Zarra en La Liga. Si tienes alguna otra pregunta o necesitas más información, no dudes en decírmelo.\n",
      "\n",
      "        Please analyze the content and context of the generated answer in relation to the question\n",
      "        and provide your evaluation in parsable JSON without using code blocks:\n",
      "\n",
      "        {\n",
      "        \"Relevance\": \"NON_RELEVANT\" | \"PARTLY_RELEVANT\" | \"RELEVANT\",\n",
      "        \"Explanation\": \"[Provide a brief explanation for your evaluation in spanish]\"\n",
      "        }\n",
      "------------------------------------\n",
      "Input Tokens: 3786       Cost: $0.00056790\n",
      "Completion Tokens: 24       Cost: $0.00001440\n",
      "Total Cost: $0.00058230\n",
      "------------------------------------\n"
     ]
    },
    {
     "name": "stderr",
     "output_type": "stream",
     "text": [
      "  7%|▋         | 13/190 [00:27<06:18,  2.14s/it]"
     ]
    },
    {
     "name": "stdout",
     "output_type": "stream",
     "text": [
      "------------------------------------\n",
      "Input Tokens: 236       Cost: $0.00003540\n",
      "Completion Tokens: 71       Cost: $0.00004260\n",
      "Total Cost: $0.00007800\n",
      "------------------------------------\n",
      "You are an expert evaluator for a RAG system.\n",
      "        Your task is to analyze the relevance of the LLM generated answer to the users given question.\n",
      "        The goal is to have 3 classification levels as if the relevance scores were 0, 0.5, or 1.\n",
      "        Based on the relevance of the generated answer, you will classify it\n",
      "        as \"NON_RELEVANT\", \"PARTLY_RELEVANT\", or \"RELEVANT\".\n",
      "\n",
      "        Here is the data for evaluation:\n",
      "\n",
      "        Question: ¿Cuál fue el apodo del tridente de ataque formado por Messi, Suárez y Neymar?\n",
      "        Generated Answer: I'm sorry, but I don’t have enough information to answer that. Is there anything else I can help you with?\n",
      "\n",
      "        Please analyze the content and context of the generated answer in relation to the question\n",
      "        and provide your evaluation in parsable JSON without using code blocks:\n",
      "\n",
      "        {\n",
      "        \"Relevance\": \"NON_RELEVANT\" | \"PARTLY_RELEVANT\" | \"RELEVANT\",\n",
      "        \"Explanation\": \"[Provide a brief explanation for your evaluation in spanish]\"\n",
      "        }\n",
      "------------------------------------\n",
      "Input Tokens: 3707       Cost: $0.00055605\n",
      "Completion Tokens: 24       Cost: $0.00001440\n",
      "Total Cost: $0.00057045\n",
      "------------------------------------\n"
     ]
    },
    {
     "name": "stderr",
     "output_type": "stream",
     "text": [
      "  7%|▋         | 14/190 [00:29<06:01,  2.05s/it]"
     ]
    },
    {
     "name": "stdout",
     "output_type": "stream",
     "text": [
      "------------------------------------\n",
      "Input Tokens: 238       Cost: $0.00003570\n",
      "Completion Tokens: 67       Cost: $0.00004020\n",
      "Total Cost: $0.00007590\n",
      "------------------------------------\n",
      "You are an expert evaluator for a RAG system.\n",
      "        Your task is to analyze the relevance of the LLM generated answer to the users given question.\n",
      "        The goal is to have 3 classification levels as if the relevance scores were 0, 0.5, or 1.\n",
      "        Based on the relevance of the generated answer, you will classify it\n",
      "        as \"NON_RELEVANT\", \"PARTLY_RELEVANT\", or \"RELEVANT\".\n",
      "\n",
      "        Here is the data for evaluation:\n",
      "\n",
      "        Question: ¿Qué premio recibió Messi por su actuación en la Liga de Campeones de 2014-2015?\n",
      "        Generated Answer: Lo siento, pero no tengo suficiente información para responder a esa pregunta. ¿Hay algo más en lo que pueda ayudarte?\n",
      "\n",
      "        Please analyze the content and context of the generated answer in relation to the question\n",
      "        and provide your evaluation in parsable JSON without using code blocks:\n",
      "\n",
      "        {\n",
      "        \"Relevance\": \"NON_RELEVANT\" | \"PARTLY_RELEVANT\" | \"RELEVANT\",\n",
      "        \"Explanation\": \"[Provide a brief explanation for your evaluation in spanish]\"\n",
      "        }\n",
      "------------------------------------\n",
      "Input Tokens: 3890       Cost: $0.00058350\n",
      "Completion Tokens: 32       Cost: $0.00001920\n",
      "Total Cost: $0.00060270\n",
      "------------------------------------\n"
     ]
    },
    {
     "name": "stderr",
     "output_type": "stream",
     "text": [
      "  8%|▊         | 15/190 [00:32<06:19,  2.17s/it]"
     ]
    },
    {
     "name": "stdout",
     "output_type": "stream",
     "text": [
      "------------------------------------\n",
      "Input Tokens: 245       Cost: $0.00003675\n",
      "Completion Tokens: 62       Cost: $0.00003720\n",
      "Total Cost: $0.00007395\n",
      "------------------------------------\n",
      "You are an expert evaluator for a RAG system.\n",
      "        Your task is to analyze the relevance of the LLM generated answer to the users given question.\n",
      "        The goal is to have 3 classification levels as if the relevance scores were 0, 0.5, or 1.\n",
      "        Based on the relevance of the generated answer, you will classify it\n",
      "        as \"NON_RELEVANT\", \"PARTLY_RELEVANT\", or \"RELEVANT\".\n",
      "\n",
      "        Here is the data for evaluation:\n",
      "\n",
      "        Question: ¿Cuántos Balones de Oro ganó Messi hasta el 11 de enero de 2016?\n",
      "        Generated Answer: Hasta el 11 de enero de 2016, Messi había ganado cinco Balones de Oro. Si necesitas más información, estaré encantado de ayudarte.\n",
      "\n",
      "        Please analyze the content and context of the generated answer in relation to the question\n",
      "        and provide your evaluation in parsable JSON without using code blocks:\n",
      "\n",
      "        {\n",
      "        \"Relevance\": \"NON_RELEVANT\" | \"PARTLY_RELEVANT\" | \"RELEVANT\",\n",
      "        \"Explanation\": \"[Provide a brief explanation for your evaluation in spanish]\"\n",
      "        }\n",
      "------------------------------------\n",
      "Input Tokens: 4182       Cost: $0.00062730\n",
      "Completion Tokens: 36       Cost: $0.00002160\n",
      "Total Cost: $0.00064890\n",
      "------------------------------------\n"
     ]
    },
    {
     "name": "stderr",
     "output_type": "stream",
     "text": [
      "  8%|▊         | 16/190 [00:33<05:51,  2.02s/it]"
     ]
    },
    {
     "name": "stdout",
     "output_type": "stream",
     "text": [
      "------------------------------------\n",
      "Input Tokens: 249       Cost: $0.00003735\n",
      "Completion Tokens: 55       Cost: $0.00003300\n",
      "Total Cost: $0.00007035\n",
      "------------------------------------\n",
      "You are an expert evaluator for a RAG system.\n",
      "        Your task is to analyze the relevance of the LLM generated answer to the users given question.\n",
      "        The goal is to have 3 classification levels as if the relevance scores were 0, 0.5, or 1.\n",
      "        Based on the relevance of the generated answer, you will classify it\n",
      "        as \"NON_RELEVANT\", \"PARTLY_RELEVANT\", or \"RELEVANT\".\n",
      "\n",
      "        Here is the data for evaluation:\n",
      "\n",
      "        Question: ¿Cuántos goles y asistencias anotó Messi durante la temporada 2016-2017?\n",
      "        Generated Answer: Durante la temporada 2016-2017, Messi terminó con un total de 54 goles y 19 asistencias. ¿Hay algo más en lo que te pueda ayudar?\n",
      "\n",
      "        Please analyze the content and context of the generated answer in relation to the question\n",
      "        and provide your evaluation in parsable JSON without using code blocks:\n",
      "\n",
      "        {\n",
      "        \"Relevance\": \"NON_RELEVANT\" | \"PARTLY_RELEVANT\" | \"RELEVANT\",\n",
      "        \"Explanation\": \"[Provide a brief explanation for your evaluation in spanish]\"\n",
      "        }\n",
      "------------------------------------\n",
      "Input Tokens: 4118       Cost: $0.00061770\n",
      "Completion Tokens: 23       Cost: $0.00001380\n",
      "Total Cost: $0.00063150\n",
      "------------------------------------\n"
     ]
    },
    {
     "name": "stderr",
     "output_type": "stream",
     "text": [
      "  9%|▉         | 17/190 [00:35<05:50,  2.03s/it]"
     ]
    },
    {
     "name": "stdout",
     "output_type": "stream",
     "text": [
      "------------------------------------\n",
      "Input Tokens: 239       Cost: $0.00003585\n",
      "Completion Tokens: 73       Cost: $0.00004380\n",
      "Total Cost: $0.00007965\n",
      "------------------------------------\n",
      "You are an expert evaluator for a RAG system.\n",
      "        Your task is to analyze the relevance of the LLM generated answer to the users given question.\n",
      "        The goal is to have 3 classification levels as if the relevance scores were 0, 0.5, or 1.\n",
      "        Based on the relevance of the generated answer, you will classify it\n",
      "        as \"NON_RELEVANT\", \"PARTLY_RELEVANT\", or \"RELEVANT\".\n",
      "\n",
      "        Here is the data for evaluation:\n",
      "\n",
      "        Question: ¿En qué partido Messi anotó un hat-trick en la Liga de Campeones 2016-2017?\n",
      "        Generated Answer: Lo siento, pero no tengo suficiente información para responder esa pregunta. ¿Hay algo más en lo que pueda ayudarte?\n",
      "\n",
      "        Please analyze the content and context of the generated answer in relation to the question\n",
      "        and provide your evaluation in parsable JSON without using code blocks:\n",
      "\n",
      "        {\n",
      "        \"Relevance\": \"NON_RELEVANT\" | \"PARTLY_RELEVANT\" | \"RELEVANT\",\n",
      "        \"Explanation\": \"[Provide a brief explanation for your evaluation in spanish]\"\n",
      "        }\n",
      "------------------------------------\n",
      "Input Tokens: 3832       Cost: $0.00057480\n",
      "Completion Tokens: 83       Cost: $0.00004980\n",
      "Total Cost: $0.00062460\n",
      "------------------------------------\n"
     ]
    },
    {
     "name": "stderr",
     "output_type": "stream",
     "text": [
      "  9%|▉         | 18/190 [00:38<05:53,  2.06s/it]"
     ]
    },
    {
     "name": "stdout",
     "output_type": "stream",
     "text": [
      "------------------------------------\n",
      "Input Tokens: 291       Cost: $0.00004365\n",
      "Completion Tokens: 74       Cost: $0.00004440\n",
      "Total Cost: $0.00008805\n",
      "------------------------------------\n",
      "You are an expert evaluator for a RAG system.\n",
      "        Your task is to analyze the relevance of the LLM generated answer to the users given question.\n",
      "        The goal is to have 3 classification levels as if the relevance scores were 0, 0.5, or 1.\n",
      "        Based on the relevance of the generated answer, you will classify it\n",
      "        as \"NON_RELEVANT\", \"PARTLY_RELEVANT\", or \"RELEVANT\".\n",
      "\n",
      "        Here is the data for evaluation:\n",
      "\n",
      "        Question: ¿Qué logró Messi al superar a Di Stéfano en 2016?\n",
      "        Generated Answer: Al superar a Di Stéfano en 2016, Messi se convirtió en el máximo goleador argentino de la historia, alcanzando los 515 goles entre club y selección. Esto marcó un hito importante en su carrera, resaltando su estatus como uno de los mejores futbolistas en la historia del fútbol argentino. Si tienes más preguntas o necesitas información adicional, no dudes en decírmelo.\n",
      "\n",
      "        Please analyze the content and context of the generated answer in relation to the question\n",
      "        and provide your evaluation in parsable JSON without using code blocks:\n",
      "\n",
      "        {\n",
      "        \"Relevance\": \"NON_RELEVANT\" | \"PARTLY_RELEVANT\" | \"RELEVANT\",\n",
      "        \"Explanation\": \"[Provide a brief explanation for your evaluation in spanish]\"\n",
      "        }\n",
      "------------------------------------\n",
      "Input Tokens: 3639       Cost: $0.00054585\n",
      "Completion Tokens: 25       Cost: $0.00001500\n",
      "Total Cost: $0.00056085\n",
      "------------------------------------\n"
     ]
    },
    {
     "name": "stderr",
     "output_type": "stream",
     "text": [
      " 10%|█         | 19/190 [00:39<05:38,  1.98s/it]"
     ]
    },
    {
     "name": "stdout",
     "output_type": "stream",
     "text": [
      "------------------------------------\n",
      "Input Tokens: 238       Cost: $0.00003570\n",
      "Completion Tokens: 77       Cost: $0.00004620\n",
      "Total Cost: $0.00008190\n",
      "------------------------------------\n",
      "You are an expert evaluator for a RAG system.\n",
      "        Your task is to analyze the relevance of the LLM generated answer to the users given question.\n",
      "        The goal is to have 3 classification levels as if the relevance scores were 0, 0.5, or 1.\n",
      "        Based on the relevance of the generated answer, you will classify it\n",
      "        as \"NON_RELEVANT\", \"PARTLY_RELEVANT\", or \"RELEVANT\".\n",
      "\n",
      "        Here is the data for evaluation:\n",
      "\n",
      "        Question: ¿Cuántas Bota de Oro ganó Messi al finalizar la temporada 2016-2017?\n",
      "        Generated Answer: Lo siento, pero no tengo suficiente información para responder a esa pregunta. ¿Hay algo más con lo que te pueda ayudar?\n",
      "\n",
      "        Please analyze the content and context of the generated answer in relation to the question\n",
      "        and provide your evaluation in parsable JSON without using code blocks:\n",
      "\n",
      "        {\n",
      "        \"Relevance\": \"NON_RELEVANT\" | \"PARTLY_RELEVANT\" | \"RELEVANT\",\n",
      "        \"Explanation\": \"[Provide a brief explanation for your evaluation in spanish]\"\n",
      "        }\n",
      "------------------------------------\n",
      "Input Tokens: 4073       Cost: $0.00061095\n",
      "Completion Tokens: 63       Cost: $0.00003780\n",
      "Total Cost: $0.00064875\n",
      "------------------------------------\n"
     ]
    },
    {
     "name": "stderr",
     "output_type": "stream",
     "text": [
      " 11%|█         | 20/190 [00:41<05:37,  1.99s/it]"
     ]
    },
    {
     "name": "stdout",
     "output_type": "stream",
     "text": [
      "------------------------------------\n",
      "Input Tokens: 276       Cost: $0.00004140\n",
      "Completion Tokens: 70       Cost: $0.00004200\n",
      "Total Cost: $0.00008340\n",
      "------------------------------------\n",
      "You are an expert evaluator for a RAG system.\n",
      "        Your task is to analyze the relevance of the LLM generated answer to the users given question.\n",
      "        The goal is to have 3 classification levels as if the relevance scores were 0, 0.5, or 1.\n",
      "        Based on the relevance of the generated answer, you will classify it\n",
      "        as \"NON_RELEVANT\", \"PARTLY_RELEVANT\", or \"RELEVANT\".\n",
      "\n",
      "        Here is the data for evaluation:\n",
      "\n",
      "        Question: ¿Qué récord alcanzó Messi en el partido contra el Olympiacos en octubre de 2017?\n",
      "        Generated Answer: En el partido contra el Olympiacos en octubre de 2017, Messi alcanzó su gol número 100 en todas las competiciones de clubes de la UEFA, convirtiéndose en el primer jugador no europeo en lograrlo y el segundo detrás de Cristiano Ronaldo, aunque lo hizo en veintiún partidos menos.\n",
      "\n",
      "        Please analyze the content and context of the generated answer in relation to the question\n",
      "        and provide your evaluation in parsable JSON without using code blocks:\n",
      "\n",
      "        {\n",
      "        \"Relevance\": \"NON_RELEVANT\" | \"PARTLY_RELEVANT\" | \"RELEVANT\",\n",
      "        \"Explanation\": \"[Provide a brief explanation for your evaluation in spanish]\"\n",
      "        }\n",
      "------------------------------------\n",
      "Input Tokens: 4087       Cost: $0.00061305\n",
      "Completion Tokens: 33       Cost: $0.00001980\n",
      "Total Cost: $0.00063285\n",
      "------------------------------------\n"
     ]
    },
    {
     "name": "stderr",
     "output_type": "stream",
     "text": [
      " 11%|█         | 21/190 [00:43<05:35,  1.98s/it]"
     ]
    },
    {
     "name": "stdout",
     "output_type": "stream",
     "text": [
      "------------------------------------\n",
      "Input Tokens: 243       Cost: $0.00003645\n",
      "Completion Tokens: 61       Cost: $0.00003660\n",
      "Total Cost: $0.00007305\n",
      "------------------------------------\n",
      "You are an expert evaluator for a RAG system.\n",
      "        Your task is to analyze the relevance of the LLM generated answer to the users given question.\n",
      "        The goal is to have 3 classification levels as if the relevance scores were 0, 0.5, or 1.\n",
      "        Based on the relevance of the generated answer, you will classify it\n",
      "        as \"NON_RELEVANT\", \"PARTLY_RELEVANT\", or \"RELEVANT\".\n",
      "\n",
      "        Here is the data for evaluation:\n",
      "\n",
      "        Question: ¿Cuántos goles anotó Messi en la temporada 2018-2019?\n",
      "        Generated Answer: En la temporada 2018-2019, Messi anotó un total de 36 goles en 34 apariciones. ¿Puedo ayudarte con algo más?\n",
      "\n",
      "        Please analyze the content and context of the generated answer in relation to the question\n",
      "        and provide your evaluation in parsable JSON without using code blocks:\n",
      "\n",
      "        {\n",
      "        \"Relevance\": \"NON_RELEVANT\" | \"PARTLY_RELEVANT\" | \"RELEVANT\",\n",
      "        \"Explanation\": \"[Provide a brief explanation for your evaluation in spanish]\"\n",
      "        }\n",
      "------------------------------------\n",
      "Input Tokens: 4081       Cost: $0.00061215\n",
      "Completion Tokens: 35       Cost: $0.00002100\n",
      "Total Cost: $0.00063315\n",
      "------------------------------------\n"
     ]
    },
    {
     "name": "stderr",
     "output_type": "stream",
     "text": [
      " 12%|█▏        | 22/190 [00:45<05:33,  1.99s/it]"
     ]
    },
    {
     "name": "stdout",
     "output_type": "stream",
     "text": [
      "------------------------------------\n",
      "Input Tokens: 238       Cost: $0.00003570\n",
      "Completion Tokens: 77       Cost: $0.00004620\n",
      "Total Cost: $0.00008190\n",
      "------------------------------------\n",
      "You are an expert evaluator for a RAG system.\n",
      "        Your task is to analyze the relevance of the LLM generated answer to the users given question.\n",
      "        The goal is to have 3 classification levels as if the relevance scores were 0, 0.5, or 1.\n",
      "        Based on the relevance of the generated answer, you will classify it\n",
      "        as \"NON_RELEVANT\", \"PARTLY_RELEVANT\", or \"RELEVANT\".\n",
      "\n",
      "        Here is the data for evaluation:\n",
      "\n",
      "        Question: ¿Qué título levantó Messi como capitán del Barcelona?\n",
      "        Generated Answer: Messi levantó su primera copa como capitán del Barcelona al ganar la final de la Copa del Rey, donde el equipo superó al Athletic Club 4-0.\n",
      "\n",
      "        Please analyze the content and context of the generated answer in relation to the question\n",
      "        and provide your evaluation in parsable JSON without using code blocks:\n",
      "\n",
      "        {\n",
      "        \"Relevance\": \"NON_RELEVANT\" | \"PARTLY_RELEVANT\" | \"RELEVANT\",\n",
      "        \"Explanation\": \"[Provide a brief explanation for your evaluation in spanish]\"\n",
      "        }\n",
      "------------------------------------\n",
      "Input Tokens: 3848       Cost: $0.00057720\n",
      "Completion Tokens: 23       Cost: $0.00001380\n",
      "Total Cost: $0.00059100\n",
      "------------------------------------\n"
     ]
    },
    {
     "name": "stderr",
     "output_type": "stream",
     "text": [
      " 12%|█▏        | 23/190 [00:47<05:18,  1.91s/it]"
     ]
    },
    {
     "name": "stdout",
     "output_type": "stream",
     "text": [
      "------------------------------------\n",
      "Input Tokens: 233       Cost: $0.00003495\n",
      "Completion Tokens: 66       Cost: $0.00003960\n",
      "Total Cost: $0.00007455\n",
      "------------------------------------\n",
      "You are an expert evaluator for a RAG system.\n",
      "        Your task is to analyze the relevance of the LLM generated answer to the users given question.\n",
      "        The goal is to have 3 classification levels as if the relevance scores were 0, 0.5, or 1.\n",
      "        Based on the relevance of the generated answer, you will classify it\n",
      "        as \"NON_RELEVANT\", \"PARTLY_RELEVANT\", or \"RELEVANT\".\n",
      "\n",
      "        Here is the data for evaluation:\n",
      "\n",
      "        Question: ¿Cuándo fue el último gol de Messi en un Clásico hasta esa fecha?\n",
      "        Generated Answer: Lo siento, pero no tengo suficiente información para responder a eso. ¿Hay algo más en lo que pueda ayudarte?\n",
      "\n",
      "        Please analyze the content and context of the generated answer in relation to the question\n",
      "        and provide your evaluation in parsable JSON without using code blocks:\n",
      "\n",
      "        {\n",
      "        \"Relevance\": \"NON_RELEVANT\" | \"PARTLY_RELEVANT\" | \"RELEVANT\",\n",
      "        \"Explanation\": \"[Provide a brief explanation for your evaluation in spanish]\"\n",
      "        }\n",
      "------------------------------------\n",
      "Input Tokens: 3950       Cost: $0.00059250\n",
      "Completion Tokens: 82       Cost: $0.00004920\n",
      "Total Cost: $0.00064170\n",
      "------------------------------------\n"
     ]
    },
    {
     "name": "stderr",
     "output_type": "stream",
     "text": [
      " 13%|█▎        | 24/190 [00:49<05:34,  2.01s/it]"
     ]
    },
    {
     "name": "stdout",
     "output_type": "stream",
     "text": [
      "------------------------------------\n",
      "Input Tokens: 291       Cost: $0.00004365\n",
      "Completion Tokens: 70       Cost: $0.00004200\n",
      "Total Cost: $0.00008565\n",
      "------------------------------------\n",
      "You are an expert evaluator for a RAG system.\n",
      "        Your task is to analyze the relevance of the LLM generated answer to the users given question.\n",
      "        The goal is to have 3 classification levels as if the relevance scores were 0, 0.5, or 1.\n",
      "        Based on the relevance of the generated answer, you will classify it\n",
      "        as \"NON_RELEVANT\", \"PARTLY_RELEVANT\", or \"RELEVANT\".\n",
      "\n",
      "        Here is the data for evaluation:\n",
      "\n",
      "        Question: ¿Cuál es el récord que estableció Messi en la Liga de Campeones de Europa?\n",
      "        Generated Answer: Messi estableció el récord de ser el jugador con más goles con un mismo equipo en la Liga de Campeones de Europa, alcanzando un total de 106 goles en esa competición. Además, marcó 100 goles en 123 partidos, lo que significó que hizo esos tantos en menos partidos que Cristiano Ronaldo, quien lo logró en 144. ¿Hay algo más en lo que pueda ayudarte?\n",
      "\n",
      "        Please analyze the content and context of the generated answer in relation to the question\n",
      "        and provide your evaluation in parsable JSON without using code blocks:\n",
      "\n",
      "        {\n",
      "        \"Relevance\": \"NON_RELEVANT\" | \"PARTLY_RELEVANT\" | \"RELEVANT\",\n",
      "        \"Explanation\": \"[Provide a brief explanation for your evaluation in spanish]\"\n",
      "        }\n",
      "------------------------------------\n",
      "Input Tokens: 4070       Cost: $0.00061050\n",
      "Completion Tokens: 53       Cost: $0.00003180\n",
      "Total Cost: $0.00064230\n",
      "------------------------------------\n"
     ]
    },
    {
     "name": "stderr",
     "output_type": "stream",
     "text": [
      " 13%|█▎        | 25/190 [00:52<05:47,  2.11s/it]"
     ]
    },
    {
     "name": "stdout",
     "output_type": "stream",
     "text": [
      "------------------------------------\n",
      "Input Tokens: 259       Cost: $0.00003885\n",
      "Completion Tokens: 85       Cost: $0.00005100\n",
      "Total Cost: $0.00008985\n",
      "------------------------------------\n",
      "You are an expert evaluator for a RAG system.\n",
      "        Your task is to analyze the relevance of the LLM generated answer to the users given question.\n",
      "        The goal is to have 3 classification levels as if the relevance scores were 0, 0.5, or 1.\n",
      "        Based on the relevance of the generated answer, you will classify it\n",
      "        as \"NON_RELEVANT\", \"PARTLY_RELEVANT\", or \"RELEVANT\".\n",
      "\n",
      "        Here is the data for evaluation:\n",
      "\n",
      "        Question: ¿Qué premio recibió Messi en 2019 por su trayectoria deportiva?\n",
      "        Generated Answer: En 2019, Messi recibió el premio de Mejor Jugador de 2020 de la Conmebol, y fue considerado el mejor creador de juego de la década 2011-2020. ¿Hay algo más en lo que te pueda ayudar?\n",
      "\n",
      "        Please analyze the content and context of the generated answer in relation to the question\n",
      "        and provide your evaluation in parsable JSON without using code blocks:\n",
      "\n",
      "        {\n",
      "        \"Relevance\": \"NON_RELEVANT\" | \"PARTLY_RELEVANT\" | \"RELEVANT\",\n",
      "        \"Explanation\": \"[Provide a brief explanation for your evaluation in spanish]\"\n",
      "        }\n",
      "------------------------------------\n",
      "Input Tokens: 3913       Cost: $0.00058695\n",
      "Completion Tokens: 24       Cost: $0.00001440\n",
      "Total Cost: $0.00060135\n",
      "------------------------------------\n"
     ]
    },
    {
     "name": "stderr",
     "output_type": "stream",
     "text": [
      " 14%|█▎        | 26/190 [00:53<05:30,  2.02s/it]"
     ]
    },
    {
     "name": "stdout",
     "output_type": "stream",
     "text": [
      "------------------------------------\n",
      "Input Tokens: 236       Cost: $0.00003540\n",
      "Completion Tokens: 65       Cost: $0.00003900\n",
      "Total Cost: $0.00007440\n",
      "------------------------------------\n",
      "You are an expert evaluator for a RAG system.\n",
      "        Your task is to analyze the relevance of the LLM generated answer to the users given question.\n",
      "        The goal is to have 3 classification levels as if the relevance scores were 0, 0.5, or 1.\n",
      "        Based on the relevance of the generated answer, you will classify it\n",
      "        as \"NON_RELEVANT\", \"PARTLY_RELEVANT\", or \"RELEVANT\".\n",
      "\n",
      "        Here is the data for evaluation:\n",
      "\n",
      "        Question: ¿Qué dijo Pelé sobre su deseo de jugar con Messi durante una entrevista en 2019?\n",
      "        Generated Answer: Lo siento, pero no tengo suficiente información para responder a esa pregunta. ¿Hay algo más en lo que pueda ayudarte?\n",
      "\n",
      "        Please analyze the content and context of the generated answer in relation to the question\n",
      "        and provide your evaluation in parsable JSON without using code blocks:\n",
      "\n",
      "        {\n",
      "        \"Relevance\": \"NON_RELEVANT\" | \"PARTLY_RELEVANT\" | \"RELEVANT\",\n",
      "        \"Explanation\": \"[Provide a brief explanation for your evaluation in spanish]\"\n",
      "        }\n",
      "------------------------------------\n",
      "Input Tokens: 4148       Cost: $0.00062220\n",
      "Completion Tokens: 59       Cost: $0.00003540\n",
      "Total Cost: $0.00065760\n",
      "------------------------------------\n"
     ]
    },
    {
     "name": "stderr",
     "output_type": "stream",
     "text": [
      " 14%|█▍        | 27/190 [00:56<05:39,  2.08s/it]"
     ]
    },
    {
     "name": "stdout",
     "output_type": "stream",
     "text": [
      "------------------------------------\n",
      "Input Tokens: 287       Cost: $0.00004305\n",
      "Completion Tokens: 64       Cost: $0.00003840\n",
      "Total Cost: $0.00008145\n",
      "------------------------------------\n",
      "You are an expert evaluator for a RAG system.\n",
      "        Your task is to analyze the relevance of the LLM generated answer to the users given question.\n",
      "        The goal is to have 3 classification levels as if the relevance scores were 0, 0.5, or 1.\n",
      "        Based on the relevance of the generated answer, you will classify it\n",
      "        as \"NON_RELEVANT\", \"PARTLY_RELEVANT\", or \"RELEVANT\".\n",
      "\n",
      "        Here is the data for evaluation:\n",
      "\n",
      "        Question: ¿Cuántos goles anotó Messi en la última jornada de la liga contra el Eibar y cuál fue su total de goles en la temporada 2019-2020?\n",
      "        Generated Answer: En la última jornada de la liga contra el Eibar, Messi anotó dos goles. Su total de goles en la temporada 2019-2020 fue de 36 goles en 34 apariciones en todas las competiciones. Si necesitas más información, estaré encantado de ayudarte.\n",
      "\n",
      "        Please analyze the content and context of the generated answer in relation to the question\n",
      "        and provide your evaluation in parsable JSON without using code blocks:\n",
      "\n",
      "        {\n",
      "        \"Relevance\": \"NON_RELEVANT\" | \"PARTLY_RELEVANT\" | \"RELEVANT\",\n",
      "        \"Explanation\": \"[Provide a brief explanation for your evaluation in spanish]\"\n",
      "        }\n",
      "------------------------------------\n",
      "Input Tokens: 4040       Cost: $0.00060600\n",
      "Completion Tokens: 39       Cost: $0.00002340\n",
      "Total Cost: $0.00062940\n",
      "------------------------------------\n"
     ]
    },
    {
     "name": "stderr",
     "output_type": "stream",
     "text": [
      " 15%|█▍        | 28/190 [00:58<05:30,  2.04s/it]"
     ]
    },
    {
     "name": "stdout",
     "output_type": "stream",
     "text": [
      "------------------------------------\n",
      "Input Tokens: 255       Cost: $0.00003825\n",
      "Completion Tokens: 74       Cost: $0.00004440\n",
      "Total Cost: $0.00008265\n",
      "------------------------------------\n",
      "You are an expert evaluator for a RAG system.\n",
      "        Your task is to analyze the relevance of the LLM generated answer to the users given question.\n",
      "        The goal is to have 3 classification levels as if the relevance scores were 0, 0.5, or 1.\n",
      "        Based on the relevance of the generated answer, you will classify it\n",
      "        as \"NON_RELEVANT\", \"PARTLY_RELEVANT\", or \"RELEVANT\".\n",
      "\n",
      "        Here is the data for evaluation:\n",
      "\n",
      "        Question: ¿Qué premio ganó Messi el 23 de septiembre de 2019 y cuántas veces lo había recibido anteriormente?\n",
      "        Generated Answer: El 23 de septiembre de 2019, Messi ganó su sexto Balón de Oro. Anteriormente, lo había recibido cinco veces. ¿Hay algo más en lo que pueda ayudarte?\n",
      "\n",
      "        Please analyze the content and context of the generated answer in relation to the question\n",
      "        and provide your evaluation in parsable JSON without using code blocks:\n",
      "\n",
      "        {\n",
      "        \"Relevance\": \"NON_RELEVANT\" | \"PARTLY_RELEVANT\" | \"RELEVANT\",\n",
      "        \"Explanation\": \"[Provide a brief explanation for your evaluation in spanish]\"\n",
      "        }\n",
      "------------------------------------\n",
      "Input Tokens: 3608       Cost: $0.00054120\n",
      "Completion Tokens: 23       Cost: $0.00001380\n",
      "Total Cost: $0.00055500\n",
      "------------------------------------\n"
     ]
    },
    {
     "name": "stderr",
     "output_type": "stream",
     "text": [
      " 15%|█▌        | 29/190 [00:59<05:10,  1.93s/it]"
     ]
    },
    {
     "name": "stdout",
     "output_type": "stream",
     "text": [
      "------------------------------------\n",
      "Input Tokens: 242       Cost: $0.00003630\n",
      "Completion Tokens: 53       Cost: $0.00003180\n",
      "Total Cost: $0.00006810\n",
      "------------------------------------\n",
      "You are an expert evaluator for a RAG system.\n",
      "        Your task is to analyze the relevance of the LLM generated answer to the users given question.\n",
      "        The goal is to have 3 classification levels as if the relevance scores were 0, 0.5, or 1.\n",
      "        Based on the relevance of the generated answer, you will classify it\n",
      "        as \"NON_RELEVANT\", \"PARTLY_RELEVANT\", or \"RELEVANT\".\n",
      "\n",
      "        Here is the data for evaluation:\n",
      "\n",
      "        Question: ¿Cuántos hat-tricks había anotado Messi antes del partido contra el Mallorca el 7 de diciembre de 2019?\n",
      "        Generated Answer: Lo siento, pero no tengo suficiente información para responder a eso. ¿Hay algo más con lo que pueda ayudarte?\n",
      "\n",
      "        Please analyze the content and context of the generated answer in relation to the question\n",
      "        and provide your evaluation in parsable JSON without using code blocks:\n",
      "\n",
      "        {\n",
      "        \"Relevance\": \"NON_RELEVANT\" | \"PARTLY_RELEVANT\" | \"RELEVANT\",\n",
      "        \"Explanation\": \"[Provide a brief explanation for your evaluation in spanish]\"\n",
      "        }\n",
      "------------------------------------\n",
      "Input Tokens: 4063       Cost: $0.00060945\n",
      "Completion Tokens: 25       Cost: $0.00001500\n",
      "Total Cost: $0.00062445\n",
      "------------------------------------\n"
     ]
    },
    {
     "name": "stderr",
     "output_type": "stream",
     "text": [
      " 16%|█▌        | 30/190 [01:02<05:43,  2.15s/it]"
     ]
    },
    {
     "name": "stdout",
     "output_type": "stream",
     "text": [
      "------------------------------------\n",
      "Input Tokens: 240       Cost: $0.00003600\n",
      "Completion Tokens: 67       Cost: $0.00004020\n",
      "Total Cost: $0.00007620\n",
      "------------------------------------\n",
      "You are an expert evaluator for a RAG system.\n",
      "        Your task is to analyze the relevance of the LLM generated answer to the users given question.\n",
      "        The goal is to have 3 classification levels as if the relevance scores were 0, 0.5, or 1.\n",
      "        Based on the relevance of the generated answer, you will classify it\n",
      "        as \"NON_RELEVANT\", \"PARTLY_RELEVANT\", or \"RELEVANT\".\n",
      "\n",
      "        Here is the data for evaluation:\n",
      "\n",
      "        Question: ¿Qué ocurrió el 15 de agosto de 2020 que afectó la carrera de Messi en el Barcelona?\n",
      "        Generated Answer: Lo siento, pero no tengo suficiente información para responder a esa pregunta. ¿Hay algo más en lo que te pueda ayudar?\n",
      "\n",
      "        Please analyze the content and context of the generated answer in relation to the question\n",
      "        and provide your evaluation in parsable JSON without using code blocks:\n",
      "\n",
      "        {\n",
      "        \"Relevance\": \"NON_RELEVANT\" | \"PARTLY_RELEVANT\" | \"RELEVANT\",\n",
      "        \"Explanation\": \"[Provide a brief explanation for your evaluation in spanish]\"\n",
      "        }\n",
      "------------------------------------\n",
      "Input Tokens: 4249       Cost: $0.00063735\n",
      "Completion Tokens: 57       Cost: $0.00003420\n",
      "Total Cost: $0.00067155\n",
      "------------------------------------\n"
     ]
    },
    {
     "name": "stderr",
     "output_type": "stream",
     "text": [
      " 16%|█▋        | 31/190 [01:05<06:14,  2.35s/it]"
     ]
    },
    {
     "name": "stdout",
     "output_type": "stream",
     "text": [
      "------------------------------------\n",
      "Input Tokens: 274       Cost: $0.00004110\n",
      "Completion Tokens: 84       Cost: $0.00005040\n",
      "Total Cost: $0.00009150\n",
      "------------------------------------\n",
      "You are an expert evaluator for a RAG system.\n",
      "        Your task is to analyze the relevance of the LLM generated answer to the users given question.\n",
      "        The goal is to have 3 classification levels as if the relevance scores were 0, 0.5, or 1.\n",
      "        Based on the relevance of the generated answer, you will classify it\n",
      "        as \"NON_RELEVANT\", \"PARTLY_RELEVANT\", or \"RELEVANT\".\n",
      "\n",
      "        Here is the data for evaluation:\n",
      "\n",
      "        Question: ¿Cuál fue el deseo que manifestó Messi respecto a su futuro en el Barcelona antes de la temporada 2020-2021?\n",
      "        Generated Answer: Messi había manifestado su deseo de irse del Barcelona varias veces antes de la temporada 2020-2021. A pesar de esto, se incorporó a los entrenamientos de pretemporada con el nuevo técnico, Ronald Koeman, y decidió quedarse en el club.\n",
      "\n",
      "        Please analyze the content and context of the generated answer in relation to the question\n",
      "        and provide your evaluation in parsable JSON without using code blocks:\n",
      "\n",
      "        {\n",
      "        \"Relevance\": \"NON_RELEVANT\" | \"PARTLY_RELEVANT\" | \"RELEVANT\",\n",
      "        \"Explanation\": \"[Provide a brief explanation for your evaluation in spanish]\"\n",
      "        }\n",
      "------------------------------------\n",
      "Input Tokens: 4022       Cost: $0.00060330\n",
      "Completion Tokens: 24       Cost: $0.00001440\n",
      "Total Cost: $0.00061770\n",
      "------------------------------------\n"
     ]
    },
    {
     "name": "stderr",
     "output_type": "stream",
     "text": [
      " 17%|█▋        | 32/190 [01:07<05:47,  2.20s/it]"
     ]
    },
    {
     "name": "stdout",
     "output_type": "stream",
     "text": [
      "------------------------------------\n",
      "Input Tokens: 238       Cost: $0.00003570\n",
      "Completion Tokens: 54       Cost: $0.00003240\n",
      "Total Cost: $0.00006810\n",
      "------------------------------------\n",
      "You are an expert evaluator for a RAG system.\n",
      "        Your task is to analyze the relevance of the LLM generated answer to the users given question.\n",
      "        The goal is to have 3 classification levels as if the relevance scores were 0, 0.5, or 1.\n",
      "        Based on the relevance of the generated answer, you will classify it\n",
      "        as \"NON_RELEVANT\", \"PARTLY_RELEVANT\", or \"RELEVANT\".\n",
      "\n",
      "        Here is the data for evaluation:\n",
      "\n",
      "        Question: ¿Cuántas temporadas en el Barcelona alcanzó Messi al igualar la marca de Xavi y Rexach?\n",
      "        Generated Answer: Lionel Messi alcanzó la marca de Xavi y Rexach al igualar en 17 temporadas en el Barcelona.\n",
      "\n",
      "        Please analyze the content and context of the generated answer in relation to the question\n",
      "        and provide your evaluation in parsable JSON without using code blocks:\n",
      "\n",
      "        {\n",
      "        \"Relevance\": \"NON_RELEVANT\" | \"PARTLY_RELEVANT\" | \"RELEVANT\",\n",
      "        \"Explanation\": \"[Provide a brief explanation for your evaluation in spanish]\"\n",
      "        }\n",
      "------------------------------------\n",
      "Input Tokens: 3644       Cost: $0.00054660\n",
      "Completion Tokens: 22       Cost: $0.00001320\n",
      "Total Cost: $0.00055980\n",
      "------------------------------------\n"
     ]
    },
    {
     "name": "stderr",
     "output_type": "stream",
     "text": [
      " 17%|█▋        | 33/190 [01:09<05:31,  2.11s/it]"
     ]
    },
    {
     "name": "stdout",
     "output_type": "stream",
     "text": [
      "------------------------------------\n",
      "Input Tokens: 235       Cost: $0.00003525\n",
      "Completion Tokens: 69       Cost: $0.00004140\n",
      "Total Cost: $0.00007665\n",
      "------------------------------------\n",
      "You are an expert evaluator for a RAG system.\n",
      "        Your task is to analyze the relevance of the LLM generated answer to the users given question.\n",
      "        The goal is to have 3 classification levels as if the relevance scores were 0, 0.5, or 1.\n",
      "        Based on the relevance of the generated answer, you will classify it\n",
      "        as \"NON_RELEVANT\", \"PARTLY_RELEVANT\", or \"RELEVANT\".\n",
      "\n",
      "        Here is the data for evaluation:\n",
      "\n",
      "        Question: ¿Cómo fue el impacto de Messi en el partido contra el Betis en noviembre de 2020?\n",
      "        Generated Answer: Lo siento, pero no tengo suficiente información para responder eso. ¿Hay algo más en lo que pueda ayudarte?\n",
      "\n",
      "        Please analyze the content and context of the generated answer in relation to the question\n",
      "        and provide your evaluation in parsable JSON without using code blocks:\n",
      "\n",
      "        {\n",
      "        \"Relevance\": \"NON_RELEVANT\" | \"PARTLY_RELEVANT\" | \"RELEVANT\",\n",
      "        \"Explanation\": \"[Provide a brief explanation for your evaluation in spanish]\"\n",
      "        }\n",
      "------------------------------------\n",
      "Input Tokens: 3896       Cost: $0.00058440\n",
      "Completion Tokens: 73       Cost: $0.00004380\n",
      "Total Cost: $0.00062820\n",
      "------------------------------------\n"
     ]
    },
    {
     "name": "stderr",
     "output_type": "stream",
     "text": [
      " 18%|█▊        | 34/190 [01:11<05:39,  2.17s/it]"
     ]
    },
    {
     "name": "stdout",
     "output_type": "stream",
     "text": [
      "------------------------------------\n",
      "Input Tokens: 285       Cost: $0.00004275\n",
      "Completion Tokens: 70       Cost: $0.00004200\n",
      "Total Cost: $0.00008475\n",
      "------------------------------------\n",
      "You are an expert evaluator for a RAG system.\n",
      "        Your task is to analyze the relevance of the LLM generated answer to the users given question.\n",
      "        The goal is to have 3 classification levels as if the relevance scores were 0, 0.5, or 1.\n",
      "        Based on the relevance of the generated answer, you will classify it\n",
      "        as \"NON_RELEVANT\", \"PARTLY_RELEVANT\", or \"RELEVANT\".\n",
      "\n",
      "        Here is the data for evaluation:\n",
      "\n",
      "        Question: ¿Qué logro histórico alcanzó Messi al igualar los 643 goles de Pelé con el Santos?\n",
      "        Generated Answer: Lionel Messi alcanzó un logro histórico al igualar los 643 goles de Pelé con el Santos, convirtiéndose en el máximo goleador de un solo club en la historia del fútbol. Este récord fue un hito significativo en su carrera y en la historia del deporte. Si tienes más preguntas sobre Messi o su carrera, estaré encantado de ayudarte.\n",
      "\n",
      "        Please analyze the content and context of the generated answer in relation to the question\n",
      "        and provide your evaluation in parsable JSON without using code blocks:\n",
      "\n",
      "        {\n",
      "        \"Relevance\": \"NON_RELEVANT\" | \"PARTLY_RELEVANT\" | \"RELEVANT\",\n",
      "        \"Explanation\": \"[Provide a brief explanation for your evaluation in spanish]\"\n",
      "        }\n",
      "------------------------------------\n",
      "Input Tokens: 4120       Cost: $0.00061800\n",
      "Completion Tokens: 63       Cost: $0.00003780\n",
      "Total Cost: $0.00065580\n",
      "------------------------------------\n"
     ]
    },
    {
     "name": "stderr",
     "output_type": "stream",
     "text": [
      " 18%|█▊        | 35/190 [01:13<05:24,  2.09s/it]"
     ]
    },
    {
     "name": "stdout",
     "output_type": "stream",
     "text": [
      "------------------------------------\n",
      "Input Tokens: 282       Cost: $0.00004230\n",
      "Completion Tokens: 64       Cost: $0.00003840\n",
      "Total Cost: $0.00008070\n",
      "------------------------------------\n",
      "You are an expert evaluator for a RAG system.\n",
      "        Your task is to analyze the relevance of the LLM generated answer to the users given question.\n",
      "        The goal is to have 3 classification levels as if the relevance scores were 0, 0.5, or 1.\n",
      "        Based on the relevance of the generated answer, you will classify it\n",
      "        as \"NON_RELEVANT\", \"PARTLY_RELEVANT\", or \"RELEVANT\".\n",
      "\n",
      "        Here is the data for evaluation:\n",
      "\n",
      "        Question: ¿Qué récord estableció Messi al ser nombrado el mejor jugador de la década 2011-2020 por la IFFHS?\n",
      "        Generated Answer: Messi estableció el récord de ser nombrado el mejor jugador de la década 2011-2020 por la IFFHS, lo que refleja su excepcional desempeño y consistencia a lo largo de esos años en el fútbol. Si necesitas más información o alguna otra consulta, estaré encantado de ayudar.\n",
      "\n",
      "        Please analyze the content and context of the generated answer in relation to the question\n",
      "        and provide your evaluation in parsable JSON without using code blocks:\n",
      "\n",
      "        {\n",
      "        \"Relevance\": \"NON_RELEVANT\" | \"PARTLY_RELEVANT\" | \"RELEVANT\",\n",
      "        \"Explanation\": \"[Provide a brief explanation for your evaluation in spanish]\"\n",
      "        }\n",
      "------------------------------------\n",
      "Input Tokens: 3845       Cost: $0.00057675\n",
      "Completion Tokens: 35       Cost: $0.00002100\n",
      "Total Cost: $0.00059775\n",
      "------------------------------------\n"
     ]
    },
    {
     "name": "stderr",
     "output_type": "stream",
     "text": [
      " 19%|█▉        | 36/190 [01:15<05:29,  2.14s/it]"
     ]
    },
    {
     "name": "stdout",
     "output_type": "stream",
     "text": [
      "------------------------------------\n",
      "Input Tokens: 252       Cost: $0.00003780\n",
      "Completion Tokens: 66       Cost: $0.00003960\n",
      "Total Cost: $0.00007740\n",
      "------------------------------------\n",
      "You are an expert evaluator for a RAG system.\n",
      "        Your task is to analyze the relevance of the LLM generated answer to the users given question.\n",
      "        The goal is to have 3 classification levels as if the relevance scores were 0, 0.5, or 1.\n",
      "        Based on the relevance of the generated answer, you will classify it\n",
      "        as \"NON_RELEVANT\", \"PARTLY_RELEVANT\", or \"RELEVANT\".\n",
      "\n",
      "        Here is the data for evaluation:\n",
      "\n",
      "        Question: ¿Cuántos Balones de Oro se espera que gane Messi a lo largo de su carrera según Johan Cruyff?\n",
      "        Generated Answer: Según Johan Cruyff, se espera que Messi gane \"probablemente cinco, seis o siete Balones de Oro\". ¿Hay algo más en lo que te pueda ayudar?\n",
      "\n",
      "        Please analyze the content and context of the generated answer in relation to the question\n",
      "        and provide your evaluation in parsable JSON without using code blocks:\n",
      "\n",
      "        {\n",
      "        \"Relevance\": \"NON_RELEVANT\" | \"PARTLY_RELEVANT\" | \"RELEVANT\",\n",
      "        \"Explanation\": \"[Provide a brief explanation for your evaluation in spanish]\"\n",
      "        }\n",
      "------------------------------------\n",
      "Input Tokens: 4111       Cost: $0.00061665\n",
      "Completion Tokens: 23       Cost: $0.00001380\n",
      "Total Cost: $0.00063045\n",
      "------------------------------------\n"
     ]
    },
    {
     "name": "stderr",
     "output_type": "stream",
     "text": [
      " 19%|█▉        | 37/190 [01:17<05:07,  2.01s/it]"
     ]
    },
    {
     "name": "stdout",
     "output_type": "stream",
     "text": [
      "------------------------------------\n",
      "Input Tokens: 235       Cost: $0.00003525\n",
      "Completion Tokens: 66       Cost: $0.00003960\n",
      "Total Cost: $0.00007485\n",
      "------------------------------------\n",
      "You are an expert evaluator for a RAG system.\n",
      "        Your task is to analyze the relevance of the LLM generated answer to the users given question.\n",
      "        The goal is to have 3 classification levels as if the relevance scores were 0, 0.5, or 1.\n",
      "        Based on the relevance of the generated answer, you will classify it\n",
      "        as \"NON_RELEVANT\", \"PARTLY_RELEVANT\", or \"RELEVANT\".\n",
      "\n",
      "        Here is the data for evaluation:\n",
      "\n",
      "        Question: ¿Cuál fue el récord de goles en La Liga que Messi alcanzó al superar a Pelé?\n",
      "        Generated Answer: Lo siento, pero no tengo suficiente información para responder esa pregunta. ¿Hay algo más en lo que pueda ayudarte?\n",
      "\n",
      "        Please analyze the content and context of the generated answer in relation to the question\n",
      "        and provide your evaluation in parsable JSON without using code blocks:\n",
      "\n",
      "        {\n",
      "        \"Relevance\": \"NON_RELEVANT\" | \"PARTLY_RELEVANT\" | \"RELEVANT\",\n",
      "        \"Explanation\": \"[Provide a brief explanation for your evaluation in spanish]\"\n",
      "        }\n",
      "------------------------------------\n",
      "Input Tokens: 4027       Cost: $0.00060405\n",
      "Completion Tokens: 32       Cost: $0.00001920\n",
      "Total Cost: $0.00062325\n",
      "------------------------------------\n"
     ]
    },
    {
     "name": "stderr",
     "output_type": "stream",
     "text": [
      " 20%|██        | 38/190 [01:19<05:03,  2.00s/it]"
     ]
    },
    {
     "name": "stdout",
     "output_type": "stream",
     "text": [
      "------------------------------------\n",
      "Input Tokens: 240       Cost: $0.00003600\n",
      "Completion Tokens: 69       Cost: $0.00004140\n",
      "Total Cost: $0.00007740\n",
      "------------------------------------\n",
      "You are an expert evaluator for a RAG system.\n",
      "        Your task is to analyze the relevance of the LLM generated answer to the users given question.\n",
      "        The goal is to have 3 classification levels as if the relevance scores were 0, 0.5, or 1.\n",
      "        Based on the relevance of the generated answer, you will classify it\n",
      "        as \"NON_RELEVANT\", \"PARTLY_RELEVANT\", or \"RELEVANT\".\n",
      "\n",
      "        Here is the data for evaluation:\n",
      "\n",
      "        Question: ¿Cuántos títulos ganó Messi con el Barcelona antes de su salida al PSG?\n",
      "        Generated Answer: Lionel Messi ganó un total de 35 títulos con el Barcelona antes de su salida al PSG. Si necesitas más información, estaré encantado de ayudarte.\n",
      "\n",
      "        Please analyze the content and context of the generated answer in relation to the question\n",
      "        and provide your evaluation in parsable JSON without using code blocks:\n",
      "\n",
      "        {\n",
      "        \"Relevance\": \"NON_RELEVANT\" | \"PARTLY_RELEVANT\" | \"RELEVANT\",\n",
      "        \"Explanation\": \"[Provide a brief explanation for your evaluation in spanish]\"\n",
      "        }\n",
      "------------------------------------\n",
      "Input Tokens: 3872       Cost: $0.00058080\n",
      "Completion Tokens: 23       Cost: $0.00001380\n",
      "Total Cost: $0.00059460\n",
      "------------------------------------\n"
     ]
    },
    {
     "name": "stderr",
     "output_type": "stream",
     "text": [
      " 21%|██        | 39/190 [01:21<05:04,  2.02s/it]"
     ]
    },
    {
     "name": "stdout",
     "output_type": "stream",
     "text": [
      "------------------------------------\n",
      "Input Tokens: 232       Cost: $0.00003480\n",
      "Completion Tokens: 57       Cost: $0.00003420\n",
      "Total Cost: $0.00006900\n",
      "------------------------------------\n",
      "You are an expert evaluator for a RAG system.\n",
      "        Your task is to analyze the relevance of the LLM generated answer to the users given question.\n",
      "        The goal is to have 3 classification levels as if the relevance scores were 0, 0.5, or 1.\n",
      "        Based on the relevance of the generated answer, you will classify it\n",
      "        as \"NON_RELEVANT\", \"PARTLY_RELEVANT\", or \"RELEVANT\".\n",
      "\n",
      "        Here is the data for evaluation:\n",
      "\n",
      "        Question: ¿Qué número de dorsal le fue asignado a Messi en el Paris Saint-Germain?\n",
      "        Generated Answer: Lo siento, pero no tengo suficiente información para responder a eso. ¿Hay algo más en lo que pueda ayudarte?\n",
      "\n",
      "        Please analyze the content and context of the generated answer in relation to the question\n",
      "        and provide your evaluation in parsable JSON without using code blocks:\n",
      "\n",
      "        {\n",
      "        \"Relevance\": \"NON_RELEVANT\" | \"PARTLY_RELEVANT\" | \"RELEVANT\",\n",
      "        \"Explanation\": \"[Provide a brief explanation for your evaluation in spanish]\"\n",
      "        }\n",
      "------------------------------------\n",
      "Input Tokens: 4145       Cost: $0.00062175\n",
      "Completion Tokens: 22       Cost: $0.00001320\n",
      "Total Cost: $0.00063495\n",
      "------------------------------------\n"
     ]
    },
    {
     "name": "stderr",
     "output_type": "stream",
     "text": [
      " 21%|██        | 40/190 [01:23<05:06,  2.04s/it]"
     ]
    },
    {
     "name": "stdout",
     "output_type": "stream",
     "text": [
      "------------------------------------\n",
      "Input Tokens: 233       Cost: $0.00003495\n",
      "Completion Tokens: 73       Cost: $0.00004380\n",
      "Total Cost: $0.00007875\n",
      "------------------------------------\n",
      "You are an expert evaluator for a RAG system.\n",
      "        Your task is to analyze the relevance of the LLM generated answer to the users given question.\n",
      "        The goal is to have 3 classification levels as if the relevance scores were 0, 0.5, or 1.\n",
      "        Based on the relevance of the generated answer, you will classify it\n",
      "        as \"NON_RELEVANT\", \"PARTLY_RELEVANT\", or \"RELEVANT\".\n",
      "\n",
      "        Here is the data for evaluation:\n",
      "\n",
      "        Question: ¿Qué logró Messi en su primer partido del año 2022 en la Ligue 1?\n",
      "        Generated Answer: Lo siento, pero no tengo suficiente información para responder eso. ¿Hay algo más en lo que pueda ayudarte?\n",
      "\n",
      "        Please analyze the content and context of the generated answer in relation to the question\n",
      "        and provide your evaluation in parsable JSON without using code blocks:\n",
      "\n",
      "        {\n",
      "        \"Relevance\": \"NON_RELEVANT\" | \"PARTLY_RELEVANT\" | \"RELEVANT\",\n",
      "        \"Explanation\": \"[Provide a brief explanation for your evaluation in spanish]\"\n",
      "        }\n",
      "------------------------------------\n",
      "Input Tokens: 4170       Cost: $0.00062550\n",
      "Completion Tokens: 24       Cost: $0.00001440\n",
      "Total Cost: $0.00063990\n",
      "------------------------------------\n"
     ]
    },
    {
     "name": "stderr",
     "output_type": "stream",
     "text": [
      " 22%|██▏       | 41/190 [01:25<04:50,  1.95s/it]"
     ]
    },
    {
     "name": "stdout",
     "output_type": "stream",
     "text": [
      "------------------------------------\n",
      "Input Tokens: 236       Cost: $0.00003540\n",
      "Completion Tokens: 67       Cost: $0.00004020\n",
      "Total Cost: $0.00007560\n",
      "------------------------------------\n",
      "You are an expert evaluator for a RAG system.\n",
      "        Your task is to analyze the relevance of the LLM generated answer to the users given question.\n",
      "        The goal is to have 3 classification levels as if the relevance scores were 0, 0.5, or 1.\n",
      "        Based on the relevance of the generated answer, you will classify it\n",
      "        as \"NON_RELEVANT\", \"PARTLY_RELEVANT\", or \"RELEVANT\".\n",
      "\n",
      "        Here is the data for evaluation:\n",
      "\n",
      "        Question: ¿Cuántos goles marcó Messi en su primera temporada con el Inter Miami en la MLS?\n",
      "        Generated Answer: I'm sorry, but I don’t have enough information to answer that. Is there anything else I can help you with?\n",
      "\n",
      "        Please analyze the content and context of the generated answer in relation to the question\n",
      "        and provide your evaluation in parsable JSON without using code blocks:\n",
      "\n",
      "        {\n",
      "        \"Relevance\": \"NON_RELEVANT\" | \"PARTLY_RELEVANT\" | \"RELEVANT\",\n",
      "        \"Explanation\": \"[Provide a brief explanation for your evaluation in spanish]\"\n",
      "        }\n",
      "------------------------------------\n",
      "Input Tokens: 3620       Cost: $0.00054300\n",
      "Completion Tokens: 32       Cost: $0.00001920\n",
      "Total Cost: $0.00056220\n",
      "------------------------------------\n"
     ]
    },
    {
     "name": "stderr",
     "output_type": "stream",
     "text": [
      " 22%|██▏       | 42/190 [01:26<04:41,  1.90s/it]"
     ]
    },
    {
     "name": "stdout",
     "output_type": "stream",
     "text": [
      "------------------------------------\n",
      "Input Tokens: 243       Cost: $0.00003645\n",
      "Completion Tokens: 62       Cost: $0.00003720\n",
      "Total Cost: $0.00007365\n",
      "------------------------------------\n",
      "You are an expert evaluator for a RAG system.\n",
      "        Your task is to analyze the relevance of the LLM generated answer to the users given question.\n",
      "        The goal is to have 3 classification levels as if the relevance scores were 0, 0.5, or 1.\n",
      "        Based on the relevance of the generated answer, you will classify it\n",
      "        as \"NON_RELEVANT\", \"PARTLY_RELEVANT\", or \"RELEVANT\".\n",
      "\n",
      "        Here is the data for evaluation:\n",
      "\n",
      "        Question: ¿Qué premio recibió Messi en enero de 2023 por su desempeño en el fútbol internacional?\n",
      "        Generated Answer: En enero de 2023, Messi recibió el Premio The Best FIFA por su desempeño en el fútbol internacional. ¿Hay algo más en lo que pueda ayudarte?\n",
      "\n",
      "        Please analyze the content and context of the generated answer in relation to the question\n",
      "        and provide your evaluation in parsable JSON without using code blocks:\n",
      "\n",
      "        {\n",
      "        \"Relevance\": \"NON_RELEVANT\" | \"PARTLY_RELEVANT\" | \"RELEVANT\",\n",
      "        \"Explanation\": \"[Provide a brief explanation for your evaluation in spanish]\"\n",
      "        }\n",
      "------------------------------------\n",
      "Input Tokens: 4123       Cost: $0.00061845\n",
      "Completion Tokens: 23       Cost: $0.00001380\n",
      "Total Cost: $0.00063225\n",
      "------------------------------------\n"
     ]
    },
    {
     "name": "stderr",
     "output_type": "stream",
     "text": [
      " 23%|██▎       | 43/190 [01:28<04:37,  1.89s/it]"
     ]
    },
    {
     "name": "stdout",
     "output_type": "stream",
     "text": [
      "------------------------------------\n",
      "Input Tokens: 233       Cost: $0.00003495\n",
      "Completion Tokens: 66       Cost: $0.00003960\n",
      "Total Cost: $0.00007455\n",
      "------------------------------------\n",
      "You are an expert evaluator for a RAG system.\n",
      "        Your task is to analyze the relevance of the LLM generated answer to the users given question.\n",
      "        The goal is to have 3 classification levels as if the relevance scores were 0, 0.5, or 1.\n",
      "        Based on the relevance of the generated answer, you will classify it\n",
      "        as \"NON_RELEVANT\", \"PARTLY_RELEVANT\", or \"RELEVANT\".\n",
      "\n",
      "        Here is the data for evaluation:\n",
      "\n",
      "        Question: ¿Qué título ganó Messi con el PSG el 23 de abril de 2022?\n",
      "        Generated Answer: Lo siento, pero no tengo suficiente información para responder a eso. ¿Hay algo más en lo que pueda ayudarte?\n",
      "\n",
      "        Please analyze the content and context of the generated answer in relation to the question\n",
      "        and provide your evaluation in parsable JSON without using code blocks:\n",
      "\n",
      "        {\n",
      "        \"Relevance\": \"NON_RELEVANT\" | \"PARTLY_RELEVANT\" | \"RELEVANT\",\n",
      "        \"Explanation\": \"[Provide a brief explanation for your evaluation in spanish]\"\n",
      "        }\n",
      "------------------------------------\n",
      "Input Tokens: 4132       Cost: $0.00061980\n",
      "Completion Tokens: 22       Cost: $0.00001320\n",
      "Total Cost: $0.00063300\n",
      "------------------------------------\n"
     ]
    },
    {
     "name": "stderr",
     "output_type": "stream",
     "text": [
      " 23%|██▎       | 44/190 [01:30<04:26,  1.82s/it]"
     ]
    },
    {
     "name": "stdout",
     "output_type": "stream",
     "text": [
      "------------------------------------\n",
      "Input Tokens: 234       Cost: $0.00003510\n",
      "Completion Tokens: 67       Cost: $0.00004020\n",
      "Total Cost: $0.00007530\n",
      "------------------------------------\n",
      "You are an expert evaluator for a RAG system.\n",
      "        Your task is to analyze the relevance of the LLM generated answer to the users given question.\n",
      "        The goal is to have 3 classification levels as if the relevance scores were 0, 0.5, or 1.\n",
      "        Based on the relevance of the generated answer, you will classify it\n",
      "        as \"NON_RELEVANT\", \"PARTLY_RELEVANT\", or \"RELEVANT\".\n",
      "\n",
      "        Here is the data for evaluation:\n",
      "\n",
      "        Question: ¿Cuántos goles anotó Messi en la final de la Leagues Cup contra Nashville SC?\n",
      "        Generated Answer: Lo siento, pero no tengo suficiente información para responder eso. ¿Hay algo más en lo que pueda ayudarte?\n",
      "\n",
      "        Please analyze the content and context of the generated answer in relation to the question\n",
      "        and provide your evaluation in parsable JSON without using code blocks:\n",
      "\n",
      "        {\n",
      "        \"Relevance\": \"NON_RELEVANT\" | \"PARTLY_RELEVANT\" | \"RELEVANT\",\n",
      "        \"Explanation\": \"[Provide a brief explanation for your evaluation in spanish]\"\n",
      "        }\n",
      "------------------------------------\n",
      "Input Tokens: 3944       Cost: $0.00059160\n",
      "Completion Tokens: 26       Cost: $0.00001560\n",
      "Total Cost: $0.00060720\n",
      "------------------------------------\n"
     ]
    },
    {
     "name": "stderr",
     "output_type": "stream",
     "text": [
      " 24%|██▎       | 45/190 [01:32<04:22,  1.81s/it]"
     ]
    },
    {
     "name": "stdout",
     "output_type": "stream",
     "text": [
      "------------------------------------\n",
      "Input Tokens: 229       Cost: $0.00003435\n",
      "Completion Tokens: 46       Cost: $0.00002760\n",
      "Total Cost: $0.00006195\n",
      "------------------------------------\n",
      "You are an expert evaluator for a RAG system.\n",
      "        Your task is to analyze the relevance of the LLM generated answer to the users given question.\n",
      "        The goal is to have 3 classification levels as if the relevance scores were 0, 0.5, or 1.\n",
      "        Based on the relevance of the generated answer, you will classify it\n",
      "        as \"NON_RELEVANT\", \"PARTLY_RELEVANT\", or \"RELEVANT\".\n",
      "\n",
      "        Here is the data for evaluation:\n",
      "\n",
      "        Question: ¿Cuándo anunció Messi su contrato con el Inter Miami?\n",
      "        Generated Answer: Lionel Messi anunció su contrato con el Inter Miami el 7 de junio. ¿Hay algo más en lo que pueda ayudarte?\n",
      "\n",
      "        Please analyze the content and context of the generated answer in relation to the question\n",
      "        and provide your evaluation in parsable JSON without using code blocks:\n",
      "\n",
      "        {\n",
      "        \"Relevance\": \"NON_RELEVANT\" | \"PARTLY_RELEVANT\" | \"RELEVANT\",\n",
      "        \"Explanation\": \"[Provide a brief explanation for your evaluation in spanish]\"\n",
      "        }\n",
      "------------------------------------\n",
      "Input Tokens: 3564       Cost: $0.00053460\n",
      "Completion Tokens: 34       Cost: $0.00002040\n",
      "Total Cost: $0.00055500\n",
      "------------------------------------\n"
     ]
    },
    {
     "name": "stderr",
     "output_type": "stream",
     "text": [
      " 24%|██▍       | 46/190 [01:34<04:31,  1.88s/it]"
     ]
    },
    {
     "name": "stdout",
     "output_type": "stream",
     "text": [
      "------------------------------------\n",
      "Input Tokens: 248       Cost: $0.00003720\n",
      "Completion Tokens: 55       Cost: $0.00003300\n",
      "Total Cost: $0.00007020\n",
      "------------------------------------\n",
      "You are an expert evaluator for a RAG system.\n",
      "        Your task is to analyze the relevance of the LLM generated answer to the users given question.\n",
      "        The goal is to have 3 classification levels as if the relevance scores were 0, 0.5, or 1.\n",
      "        Based on the relevance of the generated answer, you will classify it\n",
      "        as \"NON_RELEVANT\", \"PARTLY_RELEVANT\", or \"RELEVANT\".\n",
      "\n",
      "        Here is the data for evaluation:\n",
      "\n",
      "        Question: ¿Cuántos Balones de Oro ha recibido Lionel Messi hasta el 30 de octubre de 2023?\n",
      "        Generated Answer: Lionel Messi ha recibido un total de ocho Balones de Oro hasta el 30 de octubre de 2023. Si necesitas más información, estoy aquí para ayudarte.\n",
      "\n",
      "        Please analyze the content and context of the generated answer in relation to the question\n",
      "        and provide your evaluation in parsable JSON without using code blocks:\n",
      "\n",
      "        {\n",
      "        \"Relevance\": \"NON_RELEVANT\" | \"PARTLY_RELEVANT\" | \"RELEVANT\",\n",
      "        \"Explanation\": \"[Provide a brief explanation for your evaluation in spanish]\"\n",
      "        }\n",
      "------------------------------------\n",
      "Input Tokens: 4111       Cost: $0.00061665\n",
      "Completion Tokens: 23       Cost: $0.00001380\n",
      "Total Cost: $0.00063045\n",
      "------------------------------------\n"
     ]
    },
    {
     "name": "stderr",
     "output_type": "stream",
     "text": [
      " 25%|██▍       | 47/190 [01:35<04:14,  1.78s/it]"
     ]
    },
    {
     "name": "stdout",
     "output_type": "stream",
     "text": [
      "------------------------------------\n",
      "Input Tokens: 238       Cost: $0.00003570\n",
      "Completion Tokens: 58       Cost: $0.00003480\n",
      "Total Cost: $0.00007050\n",
      "------------------------------------\n",
      "You are an expert evaluator for a RAG system.\n",
      "        Your task is to analyze the relevance of the LLM generated answer to the users given question.\n",
      "        The goal is to have 3 classification levels as if the relevance scores were 0, 0.5, or 1.\n",
      "        Based on the relevance of the generated answer, you will classify it\n",
      "        as \"NON_RELEVANT\", \"PARTLY_RELEVANT\", or \"RELEVANT\".\n",
      "\n",
      "        Here is the data for evaluation:\n",
      "\n",
      "        Question: ¿Qué premio recibió Messi el 15 de enero de 2024 y cuántas veces lo ha ganado?\n",
      "        Generated Answer: Lo siento, pero no tengo suficiente información para responder a eso. ¿Hay algo más en lo que pueda ayudarte?\n",
      "\n",
      "        Please analyze the content and context of the generated answer in relation to the question\n",
      "        and provide your evaluation in parsable JSON without using code blocks:\n",
      "\n",
      "        {\n",
      "        \"Relevance\": \"NON_RELEVANT\" | \"PARTLY_RELEVANT\" | \"RELEVANT\",\n",
      "        \"Explanation\": \"[Provide a brief explanation for your evaluation in spanish]\"\n",
      "        }\n",
      "------------------------------------\n",
      "Input Tokens: 3790       Cost: $0.00056850\n",
      "Completion Tokens: 23       Cost: $0.00001380\n",
      "Total Cost: $0.00058230\n",
      "------------------------------------\n"
     ]
    },
    {
     "name": "stderr",
     "output_type": "stream",
     "text": [
      " 25%|██▌       | 48/190 [01:37<04:16,  1.80s/it]"
     ]
    },
    {
     "name": "stdout",
     "output_type": "stream",
     "text": [
      "------------------------------------\n",
      "Input Tokens: 239       Cost: $0.00003585\n",
      "Completion Tokens: 78       Cost: $0.00004680\n",
      "Total Cost: $0.00008265\n",
      "------------------------------------\n",
      "You are an expert evaluator for a RAG system.\n",
      "        Your task is to analyze the relevance of the LLM generated answer to the users given question.\n",
      "        The goal is to have 3 classification levels as if the relevance scores were 0, 0.5, or 1.\n",
      "        Based on the relevance of the generated answer, you will classify it\n",
      "        as \"NON_RELEVANT\", \"PARTLY_RELEVANT\", or \"RELEVANT\".\n",
      "\n",
      "        Here is the data for evaluation:\n",
      "\n",
      "        Question: ¿Qué controversia surgió sobre la elección de Messi como el jugador The Best en comparación con Erling Haaland?\n",
      "        Generated Answer: Lo siento, pero no tengo suficiente información para responder a eso. ¿Hay algo más en lo que puedo ayudarte?\n",
      "\n",
      "        Please analyze the content and context of the generated answer in relation to the question\n",
      "        and provide your evaluation in parsable JSON without using code blocks:\n",
      "\n",
      "        {\n",
      "        \"Relevance\": \"NON_RELEVANT\" | \"PARTLY_RELEVANT\" | \"RELEVANT\",\n",
      "        \"Explanation\": \"[Provide a brief explanation for your evaluation in spanish]\"\n",
      "        }\n",
      "------------------------------------\n",
      "Input Tokens: 3490       Cost: $0.00052350\n",
      "Completion Tokens: 47       Cost: $0.00002820\n",
      "Total Cost: $0.00055170\n",
      "------------------------------------\n"
     ]
    },
    {
     "name": "stderr",
     "output_type": "stream",
     "text": [
      " 26%|██▌       | 49/190 [01:39<04:34,  1.95s/it]"
     ]
    },
    {
     "name": "stdout",
     "output_type": "stream",
     "text": [
      "------------------------------------\n",
      "Input Tokens: 261       Cost: $0.00003915\n",
      "Completion Tokens: 106       Cost: $0.00006360\n",
      "Total Cost: $0.00010275\n",
      "------------------------------------\n",
      "You are an expert evaluator for a RAG system.\n",
      "        Your task is to analyze the relevance of the LLM generated answer to the users given question.\n",
      "        The goal is to have 3 classification levels as if the relevance scores were 0, 0.5, or 1.\n",
      "        Based on the relevance of the generated answer, you will classify it\n",
      "        as \"NON_RELEVANT\", \"PARTLY_RELEVANT\", or \"RELEVANT\".\n",
      "\n",
      "        Here is the data for evaluation:\n",
      "\n",
      "        Question: En qué fecha debutó Messi con la categoría sub-20 de Argentina y contra qué equipo fue su primer partido?\n",
      "        Generated Answer: Lionel Messi debutó con la selección sub-20 de Argentina el 24 de mayo de 2008 en un amistoso contra Cataluña, donde Argentina ganó 1-0. Si necesitas más información, no dudes en preguntar.\n",
      "\n",
      "        Please analyze the content and context of the generated answer in relation to the question\n",
      "        and provide your evaluation in parsable JSON without using code blocks:\n",
      "\n",
      "        {\n",
      "        \"Relevance\": \"NON_RELEVANT\" | \"PARTLY_RELEVANT\" | \"RELEVANT\",\n",
      "        \"Explanation\": \"[Provide a brief explanation for your evaluation in spanish]\"\n",
      "        }\n",
      "------------------------------------\n",
      "Input Tokens: 3692       Cost: $0.00055380\n",
      "Completion Tokens: 22       Cost: $0.00001320\n",
      "Total Cost: $0.00056700\n",
      "------------------------------------\n"
     ]
    },
    {
     "name": "stderr",
     "output_type": "stream",
     "text": [
      " 26%|██▋       | 50/190 [01:42<04:36,  1.98s/it]"
     ]
    },
    {
     "name": "stdout",
     "output_type": "stream",
     "text": [
      "------------------------------------\n",
      "Input Tokens: 246       Cost: $0.00003690\n",
      "Completion Tokens: 81       Cost: $0.00004860\n",
      "Total Cost: $0.00008550\n",
      "------------------------------------\n",
      "You are an expert evaluator for a RAG system.\n",
      "        Your task is to analyze the relevance of the LLM generated answer to the users given question.\n",
      "        The goal is to have 3 classification levels as if the relevance scores were 0, 0.5, or 1.\n",
      "        Based on the relevance of the generated answer, you will classify it\n",
      "        as \"NON_RELEVANT\", \"PARTLY_RELEVANT\", or \"RELEVANT\".\n",
      "\n",
      "        Here is the data for evaluation:\n",
      "\n",
      "        Question: ¿Cuántos goles anotó Messi en el Campeonato Sudamericano Sub-20 de 2005 y en qué posición terminó en la tabla de goleadores?\n",
      "        Generated Answer: Lo siento, pero no tengo suficiente información para responder eso. ¿Hay algo más en lo que pueda ayudarte?\n",
      "\n",
      "        Please analyze the content and context of the generated answer in relation to the question\n",
      "        and provide your evaluation in parsable JSON without using code blocks:\n",
      "\n",
      "        {\n",
      "        \"Relevance\": \"NON_RELEVANT\" | \"PARTLY_RELEVANT\" | \"RELEVANT\",\n",
      "        \"Explanation\": \"[Provide a brief explanation for your evaluation in spanish]\"\n",
      "        }\n",
      "------------------------------------\n",
      "Input Tokens: 3815       Cost: $0.00057225\n",
      "Completion Tokens: 23       Cost: $0.00001380\n",
      "Total Cost: $0.00058605\n",
      "------------------------------------\n"
     ]
    },
    {
     "name": "stderr",
     "output_type": "stream",
     "text": [
      " 27%|██▋       | 51/190 [01:43<04:20,  1.87s/it]"
     ]
    },
    {
     "name": "stdout",
     "output_type": "stream",
     "text": [
      "------------------------------------\n",
      "Input Tokens: 235       Cost: $0.00003525\n",
      "Completion Tokens: 64       Cost: $0.00003840\n",
      "Total Cost: $0.00007365\n",
      "------------------------------------\n",
      "You are an expert evaluator for a RAG system.\n",
      "        Your task is to analyze the relevance of the LLM generated answer to the users given question.\n",
      "        The goal is to have 3 classification levels as if the relevance scores were 0, 0.5, or 1.\n",
      "        Based on the relevance of the generated answer, you will classify it\n",
      "        as \"NON_RELEVANT\", \"PARTLY_RELEVANT\", or \"RELEVANT\".\n",
      "\n",
      "        Here is the data for evaluation:\n",
      "\n",
      "        Question: ¿Cuáles fueron las estadísticas de Messi en los Juegos Olímpicos de Pekín 2008?\n",
      "        Generated Answer: Lo siento, pero no tengo suficiente información para responder a eso. ¿Hay algo más en lo que pueda ayudarte?\n",
      "\n",
      "        Please analyze the content and context of the generated answer in relation to the question\n",
      "        and provide your evaluation in parsable JSON without using code blocks:\n",
      "\n",
      "        {\n",
      "        \"Relevance\": \"NON_RELEVANT\" | \"PARTLY_RELEVANT\" | \"RELEVANT\",\n",
      "        \"Explanation\": \"[Provide a brief explanation for your evaluation in spanish]\"\n",
      "        }\n",
      "------------------------------------\n",
      "Input Tokens: 3790       Cost: $0.00056850\n",
      "Completion Tokens: 24       Cost: $0.00001440\n",
      "Total Cost: $0.00058290\n",
      "------------------------------------\n"
     ]
    },
    {
     "name": "stderr",
     "output_type": "stream",
     "text": [
      " 27%|██▋       | 52/190 [01:45<04:22,  1.90s/it]"
     ]
    },
    {
     "name": "stdout",
     "output_type": "stream",
     "text": [
      "------------------------------------\n",
      "Input Tokens: 238       Cost: $0.00003570\n",
      "Completion Tokens: 73       Cost: $0.00004380\n",
      "Total Cost: $0.00007950\n",
      "------------------------------------\n",
      "You are an expert evaluator for a RAG system.\n",
      "        Your task is to analyze the relevance of the LLM generated answer to the users given question.\n",
      "        The goal is to have 3 classification levels as if the relevance scores were 0, 0.5, or 1.\n",
      "        Based on the relevance of the generated answer, you will classify it\n",
      "        as \"NON_RELEVANT\", \"PARTLY_RELEVANT\", or \"RELEVANT\".\n",
      "\n",
      "        Here is the data for evaluation:\n",
      "\n",
      "        Question: ¿Qué premios recibió Messi al final de su participación en los Juegos Olímpicos de Pekín 2008?\n",
      "        Generated Answer: Lo siento, pero no tengo suficiente información para responder a esa pregunta. ¿Hay algo más en lo que pueda ayudarte?\n",
      "\n",
      "        Please analyze the content and context of the generated answer in relation to the question\n",
      "        and provide your evaluation in parsable JSON without using code blocks:\n",
      "\n",
      "        {\n",
      "        \"Relevance\": \"NON_RELEVANT\" | \"PARTLY_RELEVANT\" | \"RELEVANT\",\n",
      "        \"Explanation\": \"[Provide a brief explanation for your evaluation in spanish]\"\n",
      "        }\n",
      "------------------------------------\n",
      "Input Tokens: 4245       Cost: $0.00063675\n",
      "Completion Tokens: 24       Cost: $0.00001440\n",
      "Total Cost: $0.00065115\n",
      "------------------------------------\n"
     ]
    },
    {
     "name": "stderr",
     "output_type": "stream",
     "text": [
      " 28%|██▊       | 53/190 [01:47<04:17,  1.88s/it]"
     ]
    },
    {
     "name": "stdout",
     "output_type": "stream",
     "text": [
      "------------------------------------\n",
      "Input Tokens: 239       Cost: $0.00003585\n",
      "Completion Tokens: 75       Cost: $0.00004500\n",
      "Total Cost: $0.00008085\n",
      "------------------------------------\n",
      "You are an expert evaluator for a RAG system.\n",
      "        Your task is to analyze the relevance of the LLM generated answer to the users given question.\n",
      "        The goal is to have 3 classification levels as if the relevance scores were 0, 0.5, or 1.\n",
      "        Based on the relevance of the generated answer, you will classify it\n",
      "        as \"NON_RELEVANT\", \"PARTLY_RELEVANT\", or \"RELEVANT\".\n",
      "\n",
      "        Here is the data for evaluation:\n",
      "\n",
      "        Question: ¿Qué sucedió entre Barcelona y la AFA con respecto a la participación de Messi en los Juegos Olímpicos?\n",
      "        Generated Answer: Lo siento, pero no tengo suficiente información para responder a esa pregunta. ¿Hay algo más en lo que pueda ayudarte?\n",
      "\n",
      "        Please analyze the content and context of the generated answer in relation to the question\n",
      "        and provide your evaluation in parsable JSON without using code blocks:\n",
      "\n",
      "        {\n",
      "        \"Relevance\": \"NON_RELEVANT\" | \"PARTLY_RELEVANT\" | \"RELEVANT\",\n",
      "        \"Explanation\": \"[Provide a brief explanation for your evaluation in spanish]\"\n",
      "        }\n",
      "------------------------------------\n",
      "Input Tokens: 3482       Cost: $0.00052230\n",
      "Completion Tokens: 24       Cost: $0.00001440\n",
      "Total Cost: $0.00053670\n",
      "------------------------------------\n"
     ]
    },
    {
     "name": "stderr",
     "output_type": "stream",
     "text": [
      " 28%|██▊       | 54/190 [01:48<04:02,  1.78s/it]"
     ]
    },
    {
     "name": "stdout",
     "output_type": "stream",
     "text": [
      "------------------------------------\n",
      "Input Tokens: 231       Cost: $0.00003465\n",
      "Completion Tokens: 52       Cost: $0.00003120\n",
      "Total Cost: $0.00006585\n",
      "------------------------------------\n",
      "You are an expert evaluator for a RAG system.\n",
      "        Your task is to analyze the relevance of the LLM generated answer to the users given question.\n",
      "        The goal is to have 3 classification levels as if the relevance scores were 0, 0.5, or 1.\n",
      "        Based on the relevance of the generated answer, you will classify it\n",
      "        as \"NON_RELEVANT\", \"PARTLY_RELEVANT\", or \"RELEVANT\".\n",
      "\n",
      "        Here is the data for evaluation:\n",
      "\n",
      "        Question: ¿Cuándo fue convocado Messi por primera vez para la selección absoluta argentina?\n",
      "        Generated Answer: Lionel Messi fue convocado por primera vez para la selección absoluta argentina el 2 de agosto de 2005.\n",
      "\n",
      "        Please analyze the content and context of the generated answer in relation to the question\n",
      "        and provide your evaluation in parsable JSON without using code blocks:\n",
      "\n",
      "        {\n",
      "        \"Relevance\": \"NON_RELEVANT\" | \"PARTLY_RELEVANT\" | \"RELEVANT\",\n",
      "        \"Explanation\": \"[Provide a brief explanation for your evaluation in spanish]\"\n",
      "        }\n",
      "------------------------------------\n",
      "Input Tokens: 3748       Cost: $0.00056220\n",
      "Completion Tokens: 23       Cost: $0.00001380\n",
      "Total Cost: $0.00057600\n",
      "------------------------------------\n"
     ]
    },
    {
     "name": "stderr",
     "output_type": "stream",
     "text": [
      " 29%|██▉       | 55/190 [01:50<03:54,  1.74s/it]"
     ]
    },
    {
     "name": "stdout",
     "output_type": "stream",
     "text": [
      "------------------------------------\n",
      "Input Tokens: 235       Cost: $0.00003525\n",
      "Completion Tokens: 58       Cost: $0.00003480\n",
      "Total Cost: $0.00007005\n",
      "------------------------------------\n",
      "You are an expert evaluator for a RAG system.\n",
      "        Your task is to analyze the relevance of the LLM generated answer to the users given question.\n",
      "        The goal is to have 3 classification levels as if the relevance scores were 0, 0.5, or 1.\n",
      "        Based on the relevance of the generated answer, you will classify it\n",
      "        as \"NON_RELEVANT\", \"PARTLY_RELEVANT\", or \"RELEVANT\".\n",
      "\n",
      "        Here is the data for evaluation:\n",
      "\n",
      "        Question: ¿Cómo fue el debut de Messi con la selección absoluta en un amistoso contra Hungría?\n",
      "        Generated Answer: Lo siento, pero no tengo suficiente información para responder a eso. ¿Hay algo más en lo que pueda ayudarte?\n",
      "\n",
      "        Please analyze the content and context of the generated answer in relation to the question\n",
      "        and provide your evaluation in parsable JSON without using code blocks:\n",
      "\n",
      "        {\n",
      "        \"Relevance\": \"NON_RELEVANT\" | \"PARTLY_RELEVANT\" | \"RELEVANT\",\n",
      "        \"Explanation\": \"[Provide a brief explanation for your evaluation in spanish]\"\n",
      "        }\n",
      "------------------------------------\n",
      "Input Tokens: 3832       Cost: $0.00057480\n",
      "Completion Tokens: 36       Cost: $0.00002160\n",
      "Total Cost: $0.00059640\n",
      "------------------------------------\n"
     ]
    },
    {
     "name": "stderr",
     "output_type": "stream",
     "text": [
      " 29%|██▉       | 56/190 [01:52<03:47,  1.70s/it]"
     ]
    },
    {
     "name": "stdout",
     "output_type": "stream",
     "text": [
      "------------------------------------\n",
      "Input Tokens: 236       Cost: $0.00003540\n",
      "Completion Tokens: 52       Cost: $0.00003120\n",
      "Total Cost: $0.00006660\n",
      "------------------------------------\n",
      "You are an expert evaluator for a RAG system.\n",
      "        Your task is to analyze the relevance of the LLM generated answer to the users given question.\n",
      "        The goal is to have 3 classification levels as if the relevance scores were 0, 0.5, or 1.\n",
      "        Based on the relevance of the generated answer, you will classify it\n",
      "        as \"NON_RELEVANT\", \"PARTLY_RELEVANT\", or \"RELEVANT\".\n",
      "\n",
      "        Here is the data for evaluation:\n",
      "\n",
      "        Question: ¿Cuándo y dónde nació Lionel Messi?\n",
      "        Generated Answer: Lionel Andrés Messi nació el 24 de junio de 1987 en el Hospital Italiano Garibaldi de la ciudad de Rosario, en la provincia de Santa Fe, Argentina.\n",
      "\n",
      "        Please analyze the content and context of the generated answer in relation to the question\n",
      "        and provide your evaluation in parsable JSON without using code blocks:\n",
      "\n",
      "        {\n",
      "        \"Relevance\": \"NON_RELEVANT\" | \"PARTLY_RELEVANT\" | \"RELEVANT\",\n",
      "        \"Explanation\": \"[Provide a brief explanation for your evaluation in spanish]\"\n",
      "        }\n",
      "------------------------------------\n",
      "Input Tokens: 3769       Cost: $0.00056535\n",
      "Completion Tokens: 133       Cost: $0.00007980\n",
      "Total Cost: $0.00064515\n",
      "------------------------------------\n"
     ]
    },
    {
     "name": "stderr",
     "output_type": "stream",
     "text": [
      " 30%|███       | 57/190 [01:55<04:31,  2.04s/it]"
     ]
    },
    {
     "name": "stdout",
     "output_type": "stream",
     "text": [
      "------------------------------------\n",
      "Input Tokens: 336       Cost: $0.00005040\n",
      "Completion Tokens: 65       Cost: $0.00003900\n",
      "Total Cost: $0.00008940\n",
      "------------------------------------\n",
      "You are an expert evaluator for a RAG system.\n",
      "        Your task is to analyze the relevance of the LLM generated answer to the users given question.\n",
      "        The goal is to have 3 classification levels as if the relevance scores were 0, 0.5, or 1.\n",
      "        Based on the relevance of the generated answer, you will classify it\n",
      "        as \"NON_RELEVANT\", \"PARTLY_RELEVANT\", or \"RELEVANT\".\n",
      "\n",
      "        Here is the data for evaluation:\n",
      "\n",
      "        Question: ¿Cómo comenzó Lionel Messi su carrera futbolística en Rosario?\n",
      "        Generated Answer: Lionel Messi comenzó su carrera futbolística en Rosario jugando en las inferiores de Newell's Old Boys entre 1994 y 1999. A una edad temprana, integraba la categoría 1987, conocida como \"La Máquina '87\". Durante su tiempo en Newell's, Messi mostró un talento excepcional, anotando un gran número de goles. En 1999, debido a problemas relacionados con su crecimiento, Messi se trasladó a España, donde el FC Barcelona accedió a pagar el tratamiento hormonal que necesitaba. Esta decisión marcaría el inicio de su carrera profesional en el FC Barcelona. ¿Te gustaría saber algo más sobre Messi?\n",
      "\n",
      "        Please analyze the content and context of the generated answer in relation to the question\n",
      "        and provide your evaluation in parsable JSON without using code blocks:\n",
      "\n",
      "        {\n",
      "        \"Relevance\": \"NON_RELEVANT\" | \"PARTLY_RELEVANT\" | \"RELEVANT\",\n",
      "        \"Explanation\": \"[Provide a brief explanation for your evaluation in spanish]\"\n",
      "        }\n",
      "------------------------------------\n",
      "Input Tokens: 3604       Cost: $0.00054060\n",
      "Completion Tokens: 77       Cost: $0.00004620\n",
      "Total Cost: $0.00058680\n",
      "------------------------------------\n"
     ]
    },
    {
     "name": "stderr",
     "output_type": "stream",
     "text": [
      " 31%|███       | 58/190 [01:57<04:52,  2.22s/it]"
     ]
    },
    {
     "name": "stdout",
     "output_type": "stream",
     "text": [
      "------------------------------------\n",
      "Input Tokens: 285       Cost: $0.00004275\n",
      "Completion Tokens: 63       Cost: $0.00003780\n",
      "Total Cost: $0.00008055\n",
      "------------------------------------\n",
      "You are an expert evaluator for a RAG system.\n",
      "        Your task is to analyze the relevance of the LLM generated answer to the users given question.\n",
      "        The goal is to have 3 classification levels as if the relevance scores were 0, 0.5, or 1.\n",
      "        Based on the relevance of the generated answer, you will classify it\n",
      "        as \"NON_RELEVANT\", \"PARTLY_RELEVANT\", or \"RELEVANT\".\n",
      "\n",
      "        Here is the data for evaluation:\n",
      "\n",
      "        Question: ¿Qué problemas de salud tuvo Lionel Messi en su infancia que afectaron su desarrollo?\n",
      "        Generated Answer: Lionel Messi enfrentó problemas de salud en su infancia, específicamente un déficit de la hormona del crecimiento. Esto lo llevó a recibir un tratamiento hormonal que fue financiado por el FC Barcelona como parte de su fichaje. Estos problemas de salud afectaron su desarrollo y altura durante su niñez. Si necesitas más información sobre otro aspecto de su vida, estaré encantado de ayudarte.\n",
      "\n",
      "        Please analyze the content and context of the generated answer in relation to the question\n",
      "        and provide your evaluation in parsable JSON without using code blocks:\n",
      "\n",
      "        {\n",
      "        \"Relevance\": \"NON_RELEVANT\" | \"PARTLY_RELEVANT\" | \"RELEVANT\",\n",
      "        \"Explanation\": \"[Provide a brief explanation for your evaluation in spanish]\"\n",
      "        }\n",
      "------------------------------------\n",
      "Input Tokens: 3976       Cost: $0.00059640\n",
      "Completion Tokens: 23       Cost: $0.00001380\n",
      "Total Cost: $0.00061020\n",
      "------------------------------------\n"
     ]
    },
    {
     "name": "stderr",
     "output_type": "stream",
     "text": [
      " 31%|███       | 59/190 [01:59<04:44,  2.17s/it]"
     ]
    },
    {
     "name": "stdout",
     "output_type": "stream",
     "text": [
      "------------------------------------\n",
      "Input Tokens: 232       Cost: $0.00003480\n",
      "Completion Tokens: 63       Cost: $0.00003780\n",
      "Total Cost: $0.00007260\n",
      "------------------------------------\n",
      "You are an expert evaluator for a RAG system.\n",
      "        Your task is to analyze the relevance of the LLM generated answer to the users given question.\n",
      "        The goal is to have 3 classification levels as if the relevance scores were 0, 0.5, or 1.\n",
      "        Based on the relevance of the generated answer, you will classify it\n",
      "        as \"NON_RELEVANT\", \"PARTLY_RELEVANT\", or \"RELEVANT\".\n",
      "\n",
      "        Here is the data for evaluation:\n",
      "\n",
      "        Question: ¿Qué ocurrió cuando Messi se probó en River Plate a los trece años?\n",
      "        Generated Answer: Lo siento, pero no tengo suficiente información para responder a eso. ¿Hay algo más en lo que pueda ayudarte?\n",
      "\n",
      "        Please analyze the content and context of the generated answer in relation to the question\n",
      "        and provide your evaluation in parsable JSON without using code blocks:\n",
      "\n",
      "        {\n",
      "        \"Relevance\": \"NON_RELEVANT\" | \"PARTLY_RELEVANT\" | \"RELEVANT\",\n",
      "        \"Explanation\": \"[Provide a brief explanation for your evaluation in spanish]\"\n",
      "        }\n",
      "------------------------------------\n",
      "Input Tokens: 4135       Cost: $0.00062025\n",
      "Completion Tokens: 24       Cost: $0.00001440\n",
      "Total Cost: $0.00063465\n",
      "------------------------------------\n"
     ]
    },
    {
     "name": "stderr",
     "output_type": "stream",
     "text": [
      " 32%|███▏      | 60/190 [02:01<04:29,  2.07s/it]"
     ]
    },
    {
     "name": "stdout",
     "output_type": "stream",
     "text": [
      "------------------------------------\n",
      "Input Tokens: 234       Cost: $0.00003510\n",
      "Completion Tokens: 59       Cost: $0.00003540\n",
      "Total Cost: $0.00007050\n",
      "------------------------------------\n",
      "You are an expert evaluator for a RAG system.\n",
      "        Your task is to analyze the relevance of the LLM generated answer to the users given question.\n",
      "        The goal is to have 3 classification levels as if the relevance scores were 0, 0.5, or 1.\n",
      "        Based on the relevance of the generated answer, you will classify it\n",
      "        as \"NON_RELEVANT\", \"PARTLY_RELEVANT\", or \"RELEVANT\".\n",
      "\n",
      "        Here is the data for evaluation:\n",
      "\n",
      "        Question: ¿Quién fue el responsable de la decisión de fichar a Messi en el FC Barcelona?\n",
      "        Generated Answer: Lo siento, pero no tengo suficiente información para responder a esa pregunta. ¿Hay algo más en lo que pueda ayudarte?\n",
      "\n",
      "        Please analyze the content and context of the generated answer in relation to the question\n",
      "        and provide your evaluation in parsable JSON without using code blocks:\n",
      "\n",
      "        {\n",
      "        \"Relevance\": \"NON_RELEVANT\" | \"PARTLY_RELEVANT\" | \"RELEVANT\",\n",
      "        \"Explanation\": \"[Provide a brief explanation for your evaluation in spanish]\"\n",
      "        }\n",
      "------------------------------------\n",
      "Input Tokens: 3490       Cost: $0.00052350\n",
      "Completion Tokens: 55       Cost: $0.00003300\n",
      "Total Cost: $0.00055650\n",
      "------------------------------------\n"
     ]
    },
    {
     "name": "stderr",
     "output_type": "stream",
     "text": [
      " 32%|███▏      | 61/190 [02:03<04:37,  2.15s/it]"
     ]
    },
    {
     "name": "stdout",
     "output_type": "stream",
     "text": [
      "------------------------------------\n",
      "Input Tokens: 269       Cost: $0.00004035\n",
      "Completion Tokens: 91       Cost: $0.00005460\n",
      "Total Cost: $0.00009495\n",
      "------------------------------------\n",
      "You are an expert evaluator for a RAG system.\n",
      "        Your task is to analyze the relevance of the LLM generated answer to the users given question.\n",
      "        The goal is to have 3 classification levels as if the relevance scores were 0, 0.5, or 1.\n",
      "        Based on the relevance of the generated answer, you will classify it\n",
      "        as \"NON_RELEVANT\", \"PARTLY_RELEVANT\", or \"RELEVANT\".\n",
      "\n",
      "        Here is the data for evaluation:\n",
      "\n",
      "        Question: ¿En qué amistoso marcó Messi su primer gol con la selección argentina y cuál fue el resultado del partido?\n",
      "        Generated Answer: Lionel Messi marcó su primer gol con la selección argentina en un amistoso contra Suiza, el 29 de febrero de 2012. El resultado del partido fue 3-1 a favor de Argentina. ¿Hay algo más en lo que te pueda ayudar?\n",
      "\n",
      "        Please analyze the content and context of the generated answer in relation to the question\n",
      "        and provide your evaluation in parsable JSON without using code blocks:\n",
      "\n",
      "        {\n",
      "        \"Relevance\": \"NON_RELEVANT\" | \"PARTLY_RELEVANT\" | \"RELEVANT\",\n",
      "        \"Explanation\": \"[Provide a brief explanation for your evaluation in spanish]\"\n",
      "        }\n",
      "------------------------------------\n",
      "Input Tokens: 3615       Cost: $0.00054225\n",
      "Completion Tokens: 102       Cost: $0.00006120\n",
      "Total Cost: $0.00060345\n",
      "------------------------------------\n"
     ]
    },
    {
     "name": "stderr",
     "output_type": "stream",
     "text": [
      " 33%|███▎      | 62/190 [02:06<04:38,  2.18s/it]"
     ]
    },
    {
     "name": "stdout",
     "output_type": "stream",
     "text": [
      "------------------------------------\n",
      "Input Tokens: 321       Cost: $0.00004815\n",
      "Completion Tokens: 55       Cost: $0.00003300\n",
      "Total Cost: $0.00008115\n",
      "------------------------------------\n",
      "You are an expert evaluator for a RAG system.\n",
      "        Your task is to analyze the relevance of the LLM generated answer to the users given question.\n",
      "        The goal is to have 3 classification levels as if the relevance scores were 0, 0.5, or 1.\n",
      "        Based on the relevance of the generated answer, you will classify it\n",
      "        as \"NON_RELEVANT\", \"PARTLY_RELEVANT\", or \"RELEVANT\".\n",
      "\n",
      "        Here is the data for evaluation:\n",
      "\n",
      "        Question: ¿Cuál fue la decisión de Pékerman respecto a Messi antes del Mundial de Alemania 2006 y por qué fue criticada?\n",
      "        Generated Answer: Pékerman decidió no incluir a Messi como titular en el primer partido del Mundial de Alemania 2006, y en su lugar, lo hizo ingresar en el segundo tiempo. Esta decisión fue criticada porque muchos consideraron que Messi debía ser titular, dado su talento y la brillantez que había mostrado. La crítica aumentó especialmente después de que Argentina ganó ese partido, pero Messi no tuvo la oportunidad de demostrar su capacidad desde el inicio, lo que generó descontento entre algunos aficionados y analistas.\n",
      "\n",
      "        Please analyze the content and context of the generated answer in relation to the question\n",
      "        and provide your evaluation in parsable JSON without using code blocks:\n",
      "\n",
      "        {\n",
      "        \"Relevance\": \"NON_RELEVANT\" | \"PARTLY_RELEVANT\" | \"RELEVANT\",\n",
      "        \"Explanation\": \"[Provide a brief explanation for your evaluation in spanish]\"\n",
      "        }\n",
      "------------------------------------\n",
      "Input Tokens: 2560       Cost: $0.00038400\n",
      "Completion Tokens: 24       Cost: $0.00001440\n",
      "Total Cost: $0.00039840\n",
      "------------------------------------\n"
     ]
    },
    {
     "name": "stderr",
     "output_type": "stream",
     "text": [
      " 33%|███▎      | 63/190 [02:08<04:35,  2.17s/it]"
     ]
    },
    {
     "name": "stdout",
     "output_type": "stream",
     "text": [
      "------------------------------------\n",
      "Input Tokens: 236       Cost: $0.00003540\n",
      "Completion Tokens: 63       Cost: $0.00003780\n",
      "Total Cost: $0.00007320\n",
      "------------------------------------\n",
      "You are an expert evaluator for a RAG system.\n",
      "        Your task is to analyze the relevance of the LLM generated answer to the users given question.\n",
      "        The goal is to have 3 classification levels as if the relevance scores were 0, 0.5, or 1.\n",
      "        Based on the relevance of the generated answer, you will classify it\n",
      "        as \"NON_RELEVANT\", \"PARTLY_RELEVANT\", or \"RELEVANT\".\n",
      "\n",
      "        Here is the data for evaluation:\n",
      "\n",
      "        Question: ¿Qué logró Messi en su debut en la Copa del Mundo 2006 ante Serbia y Montenegro?\n",
      "        Generated Answer: Lamentablemente, no tengo suficiente información para responder a esa pregunta. ¿Hay algo más en lo que pueda ayudarte?\n",
      "\n",
      "        Please analyze the content and context of the generated answer in relation to the question\n",
      "        and provide your evaluation in parsable JSON without using code blocks:\n",
      "\n",
      "        {\n",
      "        \"Relevance\": \"NON_RELEVANT\" | \"PARTLY_RELEVANT\" | \"RELEVANT\",\n",
      "        \"Explanation\": \"[Provide a brief explanation for your evaluation in spanish]\"\n",
      "        }\n",
      "------------------------------------\n",
      "Input Tokens: 3486       Cost: $0.00052290\n",
      "Completion Tokens: 36       Cost: $0.00002160\n",
      "Total Cost: $0.00054450\n",
      "------------------------------------\n"
     ]
    },
    {
     "name": "stderr",
     "output_type": "stream",
     "text": [
      " 34%|███▎      | 64/190 [02:09<04:10,  1.99s/it]"
     ]
    },
    {
     "name": "stdout",
     "output_type": "stream",
     "text": [
      "------------------------------------\n",
      "Input Tokens: 247       Cost: $0.00003705\n",
      "Completion Tokens: 50       Cost: $0.00003000\n",
      "Total Cost: $0.00006705\n",
      "------------------------------------\n",
      "You are an expert evaluator for a RAG system.\n",
      "        Your task is to analyze the relevance of the LLM generated answer to the users given question.\n",
      "        The goal is to have 3 classification levels as if the relevance scores were 0, 0.5, or 1.\n",
      "        Based on the relevance of the generated answer, you will classify it\n",
      "        as \"NON_RELEVANT\", \"PARTLY_RELEVANT\", or \"RELEVANT\".\n",
      "\n",
      "        Here is the data for evaluation:\n",
      "\n",
      "        Question: ¿Cuándo marcó Messi su primer doblete con la selección argentina y en qué partido fue?\n",
      "        Generated Answer: Messi marcó su primer doblete con la selección argentina el 12 de noviembre de 2011, en un partido contra Uruguay, que Argentina ganó 3-0.\n",
      "\n",
      "        Please analyze the content and context of the generated answer in relation to the question\n",
      "        and provide your evaluation in parsable JSON without using code blocks:\n",
      "\n",
      "        {\n",
      "        \"Relevance\": \"NON_RELEVANT\" | \"PARTLY_RELEVANT\" | \"RELEVANT\",\n",
      "        \"Explanation\": \"[Provide a brief explanation for your evaluation in spanish]\"\n",
      "        }\n",
      "------------------------------------\n",
      "Input Tokens: 3657       Cost: $0.00054855\n",
      "Completion Tokens: 89       Cost: $0.00005340\n",
      "Total Cost: $0.00060195\n",
      "------------------------------------\n"
     ]
    },
    {
     "name": "stderr",
     "output_type": "stream",
     "text": [
      " 34%|███▍      | 65/190 [02:13<05:01,  2.41s/it]"
     ]
    },
    {
     "name": "stdout",
     "output_type": "stream",
     "text": [
      "------------------------------------\n",
      "Input Tokens: 304       Cost: $0.00004560\n",
      "Completion Tokens: 69       Cost: $0.00004140\n",
      "Total Cost: $0.00008700\n",
      "------------------------------------\n",
      "You are an expert evaluator for a RAG system.\n",
      "        Your task is to analyze the relevance of the LLM generated answer to the users given question.\n",
      "        The goal is to have 3 classification levels as if the relevance scores were 0, 0.5, or 1.\n",
      "        Based on the relevance of the generated answer, you will classify it\n",
      "        as \"NON_RELEVANT\", \"PARTLY_RELEVANT\", or \"RELEVANT\".\n",
      "\n",
      "        Here is the data for evaluation:\n",
      "\n",
      "        Question: ¿Cómo reaccionó Diego Maradona respecto a Messi después de asumir como entrenador de la selección argentina en 2008?\n",
      "        Generated Answer: Diego Maradona expresó su admiración por Messi y lo consideró uno de los mejores. En 2009, mientras lo entrenaba en la selección, dijo sobre él: \"Tiene la pelota pegada al pie, es parte de su cuerpo. (...) Eso no lo vi en ningún otro\". Esta declaración demuestra la gran estima que Maradona tenía hacia las habilidades de Messi como futbolista. Si necesitas más información, házmelo saber.\n",
      "\n",
      "        Please analyze the content and context of the generated answer in relation to the question\n",
      "        and provide your evaluation in parsable JSON without using code blocks:\n",
      "\n",
      "        {\n",
      "        \"Relevance\": \"NON_RELEVANT\" | \"PARTLY_RELEVANT\" | \"RELEVANT\",\n",
      "        \"Explanation\": \"[Provide a brief explanation for your evaluation in spanish]\"\n",
      "        }\n",
      "------------------------------------\n",
      "Input Tokens: 4049       Cost: $0.00060735\n",
      "Completion Tokens: 22       Cost: $0.00001320\n",
      "Total Cost: $0.00062055\n",
      "------------------------------------\n"
     ]
    },
    {
     "name": "stderr",
     "output_type": "stream",
     "text": [
      " 35%|███▍      | 66/190 [02:15<04:33,  2.21s/it]"
     ]
    },
    {
     "name": "stdout",
     "output_type": "stream",
     "text": [
      "------------------------------------\n",
      "Input Tokens: 235       Cost: $0.00003525\n",
      "Completion Tokens: 66       Cost: $0.00003960\n",
      "Total Cost: $0.00007485\n",
      "------------------------------------\n",
      "You are an expert evaluator for a RAG system.\n",
      "        Your task is to analyze the relevance of the LLM generated answer to the users given question.\n",
      "        The goal is to have 3 classification levels as if the relevance scores were 0, 0.5, or 1.\n",
      "        Based on the relevance of the generated answer, you will classify it\n",
      "        as \"NON_RELEVANT\", \"PARTLY_RELEVANT\", or \"RELEVANT\".\n",
      "\n",
      "        Here is the data for evaluation:\n",
      "\n",
      "        Question: ¿Cuál fue el resultado de Argentina en el partido inaugural de la Copa América 2011 contra Bolivia?\n",
      "        Generated Answer: El resultado del partido inaugural de la Copa América 2011 contra Bolivia fue un empate 1-1.\n",
      "\n",
      "        Please analyze the content and context of the generated answer in relation to the question\n",
      "        and provide your evaluation in parsable JSON without using code blocks:\n",
      "\n",
      "        {\n",
      "        \"Relevance\": \"NON_RELEVANT\" | \"PARTLY_RELEVANT\" | \"RELEVANT\",\n",
      "        \"Explanation\": \"[Provide a brief explanation for your evaluation in spanish]\"\n",
      "        }\n",
      "------------------------------------\n",
      "Input Tokens: 3556       Cost: $0.00053340\n",
      "Completion Tokens: 64       Cost: $0.00003840\n",
      "Total Cost: $0.00057180\n",
      "------------------------------------\n"
     ]
    },
    {
     "name": "stderr",
     "output_type": "stream",
     "text": [
      " 35%|███▌      | 67/190 [02:16<04:14,  2.07s/it]"
     ]
    },
    {
     "name": "stdout",
     "output_type": "stream",
     "text": [
      "------------------------------------\n",
      "Input Tokens: 279       Cost: $0.00004185\n",
      "Completion Tokens: 73       Cost: $0.00004380\n",
      "Total Cost: $0.00008565\n",
      "------------------------------------\n",
      "You are an expert evaluator for a RAG system.\n",
      "        Your task is to analyze the relevance of the LLM generated answer to the users given question.\n",
      "        The goal is to have 3 classification levels as if the relevance scores were 0, 0.5, or 1.\n",
      "        Based on the relevance of the generated answer, you will classify it\n",
      "        as \"NON_RELEVANT\", \"PARTLY_RELEVANT\", or \"RELEVANT\".\n",
      "\n",
      "        Here is the data for evaluation:\n",
      "\n",
      "        Question: ¿Cómo fue el desempeño de Messi en el partido contra Nigeria durante el Mundial de Sudáfrica 2010?\n",
      "        Generated Answer: En el partido contra Nigeria durante el Mundial de Sudáfrica 2010, Messi tuvo un muy buen desempeño. Fue considerado \"el responsable del 90 % de las maniobras ofensivas\" del equipo, lo que destaca su influencia y participación activa en el juego. Argentina ganó el partido 1-0.\n",
      "\n",
      "        Please analyze the content and context of the generated answer in relation to the question\n",
      "        and provide your evaluation in parsable JSON without using code blocks:\n",
      "\n",
      "        {\n",
      "        \"Relevance\": \"NON_RELEVANT\" | \"PARTLY_RELEVANT\" | \"RELEVANT\",\n",
      "        \"Explanation\": \"[Provide a brief explanation for your evaluation in spanish]\"\n",
      "        }\n",
      "------------------------------------\n",
      "Input Tokens: 3566       Cost: $0.00053490\n",
      "Completion Tokens: 49       Cost: $0.00002940\n",
      "Total Cost: $0.00056430\n",
      "------------------------------------\n"
     ]
    },
    {
     "name": "stderr",
     "output_type": "stream",
     "text": [
      " 36%|███▌      | 68/190 [02:19<04:36,  2.26s/it]"
     ]
    },
    {
     "name": "stdout",
     "output_type": "stream",
     "text": [
      "------------------------------------\n",
      "Input Tokens: 262       Cost: $0.00003930\n",
      "Completion Tokens: 78       Cost: $0.00004680\n",
      "Total Cost: $0.00008610\n",
      "------------------------------------\n",
      "You are an expert evaluator for a RAG system.\n",
      "        Your task is to analyze the relevance of the LLM generated answer to the users given question.\n",
      "        The goal is to have 3 classification levels as if the relevance scores were 0, 0.5, or 1.\n",
      "        Based on the relevance of the generated answer, you will classify it\n",
      "        as \"NON_RELEVANT\", \"PARTLY_RELEVANT\", or \"RELEVANT\".\n",
      "\n",
      "        Here is the data for evaluation:\n",
      "\n",
      "        Question: ¿Qué rol asumió Messi en el partido contra Corea del Sur durante el Mundial de 2010?\n",
      "        Generated Answer: En el partido contra Corea del Sur durante el Mundial de 2010, Messi funcionó como organizador, enganche y delantero, y tuvo incidencia en los cuatro goles del encuentro, que finalizó 4-1 a favor de Argentina.\n",
      "\n",
      "        Please analyze the content and context of the generated answer in relation to the question\n",
      "        and provide your evaluation in parsable JSON without using code blocks:\n",
      "\n",
      "        {\n",
      "        \"Relevance\": \"NON_RELEVANT\" | \"PARTLY_RELEVANT\" | \"RELEVANT\",\n",
      "        \"Explanation\": \"[Provide a brief explanation for your evaluation in spanish]\"\n",
      "        }\n",
      "------------------------------------\n",
      "Input Tokens: 3764       Cost: $0.00056460\n",
      "Completion Tokens: 29       Cost: $0.00001740\n",
      "Total Cost: $0.00058200\n",
      "------------------------------------\n"
     ]
    },
    {
     "name": "stderr",
     "output_type": "stream",
     "text": [
      " 36%|███▋      | 69/190 [02:21<04:24,  2.18s/it]"
     ]
    },
    {
     "name": "stdout",
     "output_type": "stream",
     "text": [
      "------------------------------------\n",
      "Input Tokens: 240       Cost: $0.00003600\n",
      "Completion Tokens: 68       Cost: $0.00004080\n",
      "Total Cost: $0.00007680\n",
      "------------------------------------\n",
      "You are an expert evaluator for a RAG system.\n",
      "        Your task is to analyze the relevance of the LLM generated answer to the users given question.\n",
      "        The goal is to have 3 classification levels as if the relevance scores were 0, 0.5, or 1.\n",
      "        Based on the relevance of the generated answer, you will classify it\n",
      "        as \"NON_RELEVANT\", \"PARTLY_RELEVANT\", or \"RELEVANT\".\n",
      "\n",
      "        Here is the data for evaluation:\n",
      "\n",
      "        Question: ¿Qué hizo Messi el 11 de noviembre de 2011 en el partido contra Brasil?\n",
      "        Generated Answer: El 11 de noviembre de 2011, Messi hizo el único tanto en el partido que Argentina ganó 1-0 frente a Brasil.\n",
      "\n",
      "        Please analyze the content and context of the generated answer in relation to the question\n",
      "        and provide your evaluation in parsable JSON without using code blocks:\n",
      "\n",
      "        {\n",
      "        \"Relevance\": \"NON_RELEVANT\" | \"PARTLY_RELEVANT\" | \"RELEVANT\",\n",
      "        \"Explanation\": \"[Provide a brief explanation for your evaluation in spanish]\"\n",
      "        }\n",
      "------------------------------------\n",
      "Input Tokens: 3879       Cost: $0.00058185\n",
      "Completion Tokens: 76       Cost: $0.00004560\n",
      "Total Cost: $0.00062745\n",
      "------------------------------------\n"
     ]
    },
    {
     "name": "stderr",
     "output_type": "stream",
     "text": [
      " 37%|███▋      | 70/190 [02:23<04:23,  2.19s/it]"
     ]
    },
    {
     "name": "stdout",
     "output_type": "stream",
     "text": [
      "------------------------------------\n",
      "Input Tokens: 289       Cost: $0.00004335\n",
      "Completion Tokens: 82       Cost: $0.00004920\n",
      "Total Cost: $0.00009255\n",
      "------------------------------------\n",
      "You are an expert evaluator for a RAG system.\n",
      "        Your task is to analyze the relevance of the LLM generated answer to the users given question.\n",
      "        The goal is to have 3 classification levels as if the relevance scores were 0, 0.5, or 1.\n",
      "        Based on the relevance of the generated answer, you will classify it\n",
      "        as \"NON_RELEVANT\", \"PARTLY_RELEVANT\", or \"RELEVANT\".\n",
      "\n",
      "        Here is the data for evaluation:\n",
      "\n",
      "        Question: ¿Por qué fue cuestionado Messi después del empate sin goles contra Colombia en la Copa América 2011?\n",
      "        Generated Answer: Messi fue cuestionado después del empate sin goles contra Colombia en la Copa América 2011 porque había tenido un mal partido. La prensa lo criticó por no rendir como lo hacía en el Barcelona y se señalaba que no había jugado de manera efectiva, lo que contribuyó a que todo el equipo se viera superado por un rival considerado \"muy inferior\".\n",
      "\n",
      "        Please analyze the content and context of the generated answer in relation to the question\n",
      "        and provide your evaluation in parsable JSON without using code blocks:\n",
      "\n",
      "        {\n",
      "        \"Relevance\": \"NON_RELEVANT\" | \"PARTLY_RELEVANT\" | \"RELEVANT\",\n",
      "        \"Explanation\": \"[Provide a brief explanation for your evaluation in spanish]\"\n",
      "        }\n",
      "------------------------------------\n",
      "Input Tokens: 3890       Cost: $0.00058350\n",
      "Completion Tokens: 40       Cost: $0.00002400\n",
      "Total Cost: $0.00060750\n",
      "------------------------------------\n"
     ]
    },
    {
     "name": "stderr",
     "output_type": "stream",
     "text": [
      " 37%|███▋      | 71/190 [02:25<04:15,  2.15s/it]"
     ]
    },
    {
     "name": "stdout",
     "output_type": "stream",
     "text": [
      "------------------------------------\n",
      "Input Tokens: 255       Cost: $0.00003825\n",
      "Completion Tokens: 70       Cost: $0.00004200\n",
      "Total Cost: $0.00008025\n",
      "------------------------------------\n",
      "You are an expert evaluator for a RAG system.\n",
      "        Your task is to analyze the relevance of the LLM generated answer to the users given question.\n",
      "        The goal is to have 3 classification levels as if the relevance scores were 0, 0.5, or 1.\n",
      "        Based on the relevance of the generated answer, you will classify it\n",
      "        as \"NON_RELEVANT\", \"PARTLY_RELEVANT\", or \"RELEVANT\".\n",
      "\n",
      "        Here is the data for evaluation:\n",
      "\n",
      "        Question: ¿Cuál fue el primer hat-trick que Messi anotó con la selección argentina y contra qué equipo sucedió?\n",
      "        Generated Answer: El primer hat-trick que Messi anotó con la selección argentina fue en un amistoso contra Suiza el 29 de febrero de 2012. Argentina ganó el partido 3-1.\n",
      "\n",
      "        Please analyze the content and context of the generated answer in relation to the question\n",
      "        and provide your evaluation in parsable JSON without using code blocks:\n",
      "\n",
      "        {\n",
      "        \"Relevance\": \"NON_RELEVANT\" | \"PARTLY_RELEVANT\" | \"RELEVANT\",\n",
      "        \"Explanation\": \"[Provide a brief explanation for your evaluation in spanish]\"\n",
      "        }\n",
      "------------------------------------\n",
      "Input Tokens: 3614       Cost: $0.00054210\n",
      "Completion Tokens: 40       Cost: $0.00002400\n",
      "Total Cost: $0.00056610\n",
      "------------------------------------\n"
     ]
    },
    {
     "name": "stderr",
     "output_type": "stream",
     "text": [
      " 38%|███▊      | 72/190 [02:27<03:59,  2.03s/it]"
     ]
    },
    {
     "name": "stdout",
     "output_type": "stream",
     "text": [
      "------------------------------------\n",
      "Input Tokens: 251       Cost: $0.00003765\n",
      "Completion Tokens: 66       Cost: $0.00003960\n",
      "Total Cost: $0.00007725\n",
      "------------------------------------\n",
      "You are an expert evaluator for a RAG system.\n",
      "        Your task is to analyze the relevance of the LLM generated answer to the users given question.\n",
      "        The goal is to have 3 classification levels as if the relevance scores were 0, 0.5, or 1.\n",
      "        Based on the relevance of the generated answer, you will classify it\n",
      "        as \"NON_RELEVANT\", \"PARTLY_RELEVANT\", or \"RELEVANT\".\n",
      "\n",
      "        Here is the data for evaluation:\n",
      "\n",
      "        Question: ¿Quién fue nombrado como el nuevo director técnico de Argentina después del despido de Batista?\n",
      "        Generated Answer: El nuevo director técnico de Argentina, después del despido de Batista, fue Alejandro Sabella, quien fue nombrado el 5 de agosto. ¿Hay algo más en lo que te pueda ayudar?\n",
      "\n",
      "        Please analyze the content and context of the generated answer in relation to the question\n",
      "        and provide your evaluation in parsable JSON without using code blocks:\n",
      "\n",
      "        {\n",
      "        \"Relevance\": \"NON_RELEVANT\" | \"PARTLY_RELEVANT\" | \"RELEVANT\",\n",
      "        \"Explanation\": \"[Provide a brief explanation for your evaluation in spanish]\"\n",
      "        }\n",
      "------------------------------------\n",
      "Input Tokens: 3487       Cost: $0.00052305\n",
      "Completion Tokens: 51       Cost: $0.00003060\n",
      "Total Cost: $0.00055365\n",
      "------------------------------------\n"
     ]
    },
    {
     "name": "stderr",
     "output_type": "stream",
     "text": [
      " 38%|███▊      | 73/190 [02:29<04:03,  2.08s/it]"
     ]
    },
    {
     "name": "stdout",
     "output_type": "stream",
     "text": [
      "------------------------------------\n",
      "Input Tokens: 262       Cost: $0.00003930\n",
      "Completion Tokens: 70       Cost: $0.00004200\n",
      "Total Cost: $0.00008130\n",
      "------------------------------------\n",
      "You are an expert evaluator for a RAG system.\n",
      "        Your task is to analyze the relevance of the LLM generated answer to the users given question.\n",
      "        The goal is to have 3 classification levels as if the relevance scores were 0, 0.5, or 1.\n",
      "        Based on the relevance of the generated answer, you will classify it\n",
      "        as \"NON_RELEVANT\", \"PARTLY_RELEVANT\", or \"RELEVANT\".\n",
      "\n",
      "        Here is the data for evaluation:\n",
      "\n",
      "        Question: En qué partido Messi se convirtió en capitán de la selección argentina y quién lo reemplazó?\n",
      "        Generated Answer: Messi se convirtió en capitán de la selección argentina en el partido contra Grecia el 22 de junio de 2010. Reemplazó a Javier Mascherano en ese rol. Si tienes más preguntas, estaré encantado de ayudarte.\n",
      "\n",
      "        Please analyze the content and context of the generated answer in relation to the question\n",
      "        and provide your evaluation in parsable JSON without using code blocks:\n",
      "\n",
      "        {\n",
      "        \"Relevance\": \"NON_RELEVANT\" | \"PARTLY_RELEVANT\" | \"RELEVANT\",\n",
      "        \"Explanation\": \"[Provide a brief explanation for your evaluation in spanish]\"\n",
      "        }\n",
      "------------------------------------\n",
      "Input Tokens: 4081       Cost: $0.00061215\n",
      "Completion Tokens: 23       Cost: $0.00001380\n",
      "Total Cost: $0.00062595\n",
      "------------------------------------\n"
     ]
    },
    {
     "name": "stderr",
     "output_type": "stream",
     "text": [
      " 39%|███▉      | 74/190 [02:31<03:51,  1.99s/it]"
     ]
    },
    {
     "name": "stdout",
     "output_type": "stream",
     "text": [
      "------------------------------------\n",
      "Input Tokens: 240       Cost: $0.00003600\n",
      "Completion Tokens: 68       Cost: $0.00004080\n",
      "Total Cost: $0.00007680\n",
      "------------------------------------\n",
      "You are an expert evaluator for a RAG system.\n",
      "        Your task is to analyze the relevance of the LLM generated answer to the users given question.\n",
      "        The goal is to have 3 classification levels as if the relevance scores were 0, 0.5, or 1.\n",
      "        Based on the relevance of the generated answer, you will classify it\n",
      "        as \"NON_RELEVANT\", \"PARTLY_RELEVANT\", or \"RELEVANT\".\n",
      "\n",
      "        Here is the data for evaluation:\n",
      "\n",
      "        Question: ¿Cuántos goles anotó Messi en el amistoso contra Suiza el 29 de febrero de 2012?\n",
      "        Generated Answer: Lo siento, pero no tengo suficiente información para responder a eso. ¿Hay algo más en lo que puedo ayudarte?\n",
      "\n",
      "        Please analyze the content and context of the generated answer in relation to the question\n",
      "        and provide your evaluation in parsable JSON without using code blocks:\n",
      "\n",
      "        {\n",
      "        \"Relevance\": \"NON_RELEVANT\" | \"PARTLY_RELEVANT\" | \"RELEVANT\",\n",
      "        \"Explanation\": \"[Provide a brief explanation for your evaluation in spanish]\"\n",
      "        }\n",
      "------------------------------------\n",
      "Input Tokens: 3974       Cost: $0.00059610\n",
      "Completion Tokens: 33       Cost: $0.00001980\n",
      "Total Cost: $0.00061590\n",
      "------------------------------------\n"
     ]
    },
    {
     "name": "stderr",
     "output_type": "stream",
     "text": [
      " 39%|███▉      | 75/190 [02:33<03:42,  1.94s/it]"
     ]
    },
    {
     "name": "stdout",
     "output_type": "stream",
     "text": [
      "------------------------------------\n",
      "Input Tokens: 247       Cost: $0.00003705\n",
      "Completion Tokens: 50       Cost: $0.00003000\n",
      "Total Cost: $0.00006705\n",
      "------------------------------------\n",
      "You are an expert evaluator for a RAG system.\n",
      "        Your task is to analyze the relevance of the LLM generated answer to the users given question.\n",
      "        The goal is to have 3 classification levels as if the relevance scores were 0, 0.5, or 1.\n",
      "        Based on the relevance of the generated answer, you will classify it\n",
      "        as \"NON_RELEVANT\", \"PARTLY_RELEVANT\", or \"RELEVANT\".\n",
      "\n",
      "        Here is the data for evaluation:\n",
      "\n",
      "        Question: Qué récord alcanzó Messi al anotar contra Chile el 16 de octubre en el estadio Nacional de Santiago?\n",
      "        Generated Answer: El 16 de octubre, al anotar contra Chile, Messi alcanzó el récord de Gabriel Batistuta de doce goles en un año calendario con su selección.\n",
      "\n",
      "        Please analyze the content and context of the generated answer in relation to the question\n",
      "        and provide your evaluation in parsable JSON without using code blocks:\n",
      "\n",
      "        {\n",
      "        \"Relevance\": \"NON_RELEVANT\" | \"PARTLY_RELEVANT\" | \"RELEVANT\",\n",
      "        \"Explanation\": \"[Provide a brief explanation for your evaluation in spanish]\"\n",
      "        }\n",
      "------------------------------------\n",
      "Input Tokens: 3798       Cost: $0.00056970\n",
      "Completion Tokens: 108       Cost: $0.00006480\n",
      "Total Cost: $0.00063450\n",
      "------------------------------------\n"
     ]
    },
    {
     "name": "stderr",
     "output_type": "stream",
     "text": [
      " 40%|████      | 76/190 [02:35<04:03,  2.13s/it]"
     ]
    },
    {
     "name": "stdout",
     "output_type": "stream",
     "text": [
      "------------------------------------\n",
      "Input Tokens: 316       Cost: $0.00004740\n",
      "Completion Tokens: 75       Cost: $0.00004500\n",
      "Total Cost: $0.00009240\n",
      "------------------------------------\n",
      "You are an expert evaluator for a RAG system.\n",
      "        Your task is to analyze the relevance of the LLM generated answer to the users given question.\n",
      "        The goal is to have 3 classification levels as if the relevance scores were 0, 0.5, or 1.\n",
      "        Based on the relevance of the generated answer, you will classify it\n",
      "        as \"NON_RELEVANT\", \"PARTLY_RELEVANT\", or \"RELEVANT\".\n",
      "\n",
      "        Here is the data for evaluation:\n",
      "\n",
      "        Question: ¿Qué ocurrió en la final del Mundial 2014 entre Argentina y Alemania?\n",
      "        Generated Answer: En la final del Mundial 2014, Argentina se enfrentó a Alemania en el Maracaná. El partido terminó 0-0 en el tiempo regular y se jugó un tiempo suplementario. Mario Götze convirtió el gol decisivo en el minuto 114, lo que le dio a Alemania la victoria y dejó a Argentina como subcampeón. Lionel Messi, quien tuvo un destacado desempeño durante el torneo, fue elegido Mejor Jugador del Partido en varios encuentros, pero no logró llevarse el título en esta final.\n",
      "\n",
      "        Please analyze the content and context of the generated answer in relation to the question\n",
      "        and provide your evaluation in parsable JSON without using code blocks:\n",
      "\n",
      "        {\n",
      "        \"Relevance\": \"NON_RELEVANT\" | \"PARTLY_RELEVANT\" | \"RELEVANT\",\n",
      "        \"Explanation\": \"[Provide a brief explanation for your evaluation in spanish]\"\n",
      "        }\n",
      "------------------------------------\n",
      "Input Tokens: 3553       Cost: $0.00053295\n",
      "Completion Tokens: 48       Cost: $0.00002880\n",
      "Total Cost: $0.00056175\n",
      "------------------------------------\n"
     ]
    },
    {
     "name": "stderr",
     "output_type": "stream",
     "text": [
      " 41%|████      | 77/190 [02:37<03:49,  2.03s/it]"
     ]
    },
    {
     "name": "stdout",
     "output_type": "stream",
     "text": [
      "------------------------------------\n",
      "Input Tokens: 260       Cost: $0.00003900\n",
      "Completion Tokens: 65       Cost: $0.00003900\n",
      "Total Cost: $0.00007800\n",
      "------------------------------------\n",
      "You are an expert evaluator for a RAG system.\n",
      "        Your task is to analyze the relevance of the LLM generated answer to the users given question.\n",
      "        The goal is to have 3 classification levels as if the relevance scores were 0, 0.5, or 1.\n",
      "        Based on the relevance of the generated answer, you will classify it\n",
      "        as \"NON_RELEVANT\", \"PARTLY_RELEVANT\", or \"RELEVANT\".\n",
      "\n",
      "        Here is the data for evaluation:\n",
      "\n",
      "        Question: ¿Cuántos goles anotó Messi en el partido contra Nigeria en el Mundial 2014?\n",
      "        Generated Answer: En el partido contra Nigeria en el Mundial 2014, Messi anotó dos goles. El primero fue en el minuto 3 y el segundo de tiro libre en el minuto 45. Si necesitas más información, no dudes en preguntar.\n",
      "\n",
      "        Please analyze the content and context of the generated answer in relation to the question\n",
      "        and provide your evaluation in parsable JSON without using code blocks:\n",
      "\n",
      "        {\n",
      "        \"Relevance\": \"NON_RELEVANT\" | \"PARTLY_RELEVANT\" | \"RELEVANT\",\n",
      "        \"Explanation\": \"[Provide a brief explanation for your evaluation in spanish]\"\n",
      "        }\n",
      "------------------------------------\n",
      "Input Tokens: 3749       Cost: $0.00056235\n",
      "Completion Tokens: 24       Cost: $0.00001440\n",
      "Total Cost: $0.00057675\n",
      "------------------------------------\n"
     ]
    },
    {
     "name": "stderr",
     "output_type": "stream",
     "text": [
      " 41%|████      | 78/190 [02:39<03:44,  2.00s/it]"
     ]
    },
    {
     "name": "stdout",
     "output_type": "stream",
     "text": [
      "------------------------------------\n",
      "Input Tokens: 237       Cost: $0.00003555\n",
      "Completion Tokens: 69       Cost: $0.00004140\n",
      "Total Cost: $0.00007695\n",
      "------------------------------------\n",
      "You are an expert evaluator for a RAG system.\n",
      "        Your task is to analyze the relevance of the LLM generated answer to the users given question.\n",
      "        The goal is to have 3 classification levels as if the relevance scores were 0, 0.5, or 1.\n",
      "        Based on the relevance of the generated answer, you will classify it\n",
      "        as \"NON_RELEVANT\", \"PARTLY_RELEVANT\", or \"RELEVANT\".\n",
      "\n",
      "        Here is the data for evaluation:\n",
      "\n",
      "        Question: ¿Qué premios recibió Messi tras el Mundial 2014 y cuáles fueron las controversias alrededor de estos?\n",
      "        Generated Answer: Lo siento, pero no tengo suficiente información para responder a esa pregunta. ¿Hay algo más en lo que pueda ayudarte?\n",
      "\n",
      "        Please analyze the content and context of the generated answer in relation to the question\n",
      "        and provide your evaluation in parsable JSON without using code blocks:\n",
      "\n",
      "        {\n",
      "        \"Relevance\": \"NON_RELEVANT\" | \"PARTLY_RELEVANT\" | \"RELEVANT\",\n",
      "        \"Explanation\": \"[Provide a brief explanation for your evaluation in spanish]\"\n",
      "        }\n",
      "------------------------------------\n",
      "Input Tokens: 3793       Cost: $0.00056895\n",
      "Completion Tokens: 279       Cost: $0.00016740\n",
      "Total Cost: $0.00073635\n",
      "------------------------------------\n"
     ]
    },
    {
     "name": "stderr",
     "output_type": "stream",
     "text": [
      " 42%|████▏     | 79/190 [02:43<04:57,  2.68s/it]"
     ]
    },
    {
     "name": "stdout",
     "output_type": "stream",
     "text": [
      "------------------------------------\n",
      "Input Tokens: 490       Cost: $0.00007350\n",
      "Completion Tokens: 56       Cost: $0.00003360\n",
      "Total Cost: $0.00010710\n",
      "------------------------------------\n",
      "You are an expert evaluator for a RAG system.\n",
      "        Your task is to analyze the relevance of the LLM generated answer to the users given question.\n",
      "        The goal is to have 3 classification levels as if the relevance scores were 0, 0.5, or 1.\n",
      "        Based on the relevance of the generated answer, you will classify it\n",
      "        as \"NON_RELEVANT\", \"PARTLY_RELEVANT\", or \"RELEVANT\".\n",
      "\n",
      "        Here is the data for evaluation:\n",
      "\n",
      "        Question: ¿Cuáles fueron las estadísticas de Messi bajo la dirección de Alejandro Sabella en la selección argentina?\n",
      "        Generated Answer: Bajo la dirección de Alejandro Sabella, Lionel Messi tuvo un desempeño destacado con la selección argentina. Algunas de las estadísticas y logros relevantes incluyen:\n",
      "\n",
      "- En su primer partido como capitán, el 2 de septiembre de 2011, Argentina ganó 1-0 contra Venezuela.\n",
      "- En el inicio de las eliminatorias para el Mundial 2014, el 7 de octubre de 2011, marcó el segundo gol en la victoria 4-1 sobre Chile.\n",
      "- Anotó un gol contra Colombia en un partido el 15 de noviembre de 2011, contribuyendo al 2-1 de Argentina.\n",
      "- Messi hizo su primer hat-trick con la selección argentina en un amistoso contra Suiza el 29 de febrero de 2012, en el que Argentina ganó 3-1.\n",
      "- A lo largo de 2012, Messi igualó el récord de Gabriel Batistuta al anotar 12 goles en un año calendario con su selección.\n",
      "- También fue fundamental en otros partidos, como en la victoria 3-0 contra Uruguay el 12 de noviembre de 2011, donde anotó dos goles.\n",
      "\n",
      "Estas estadísticas resaltan la importancia de Messi en un periodo crítico para la selección argentina, en el que se reafirmó como el capitán y líder del equipo. ¿Hay algo más en lo que te pueda ayudar?\n",
      "\n",
      "        Please analyze the content and context of the generated answer in relation to the question\n",
      "        and provide your evaluation in parsable JSON without using code blocks:\n",
      "\n",
      "        {\n",
      "        \"Relevance\": \"NON_RELEVANT\" | \"PARTLY_RELEVANT\" | \"RELEVANT\",\n",
      "        \"Explanation\": \"[Provide a brief explanation for your evaluation in spanish]\"\n",
      "        }\n",
      "------------------------------------\n",
      "Input Tokens: 3459       Cost: $0.00051885\n",
      "Completion Tokens: 122       Cost: $0.00007320\n",
      "Total Cost: $0.00059205\n",
      "------------------------------------\n"
     ]
    },
    {
     "name": "stderr",
     "output_type": "stream",
     "text": [
      " 42%|████▏     | 80/190 [02:46<04:53,  2.67s/it]"
     ]
    },
    {
     "name": "stdout",
     "output_type": "stream",
     "text": [
      "------------------------------------\n",
      "Input Tokens: 342       Cost: $0.00005130\n",
      "Completion Tokens: 80       Cost: $0.00004800\n",
      "Total Cost: $0.00009930\n",
      "------------------------------------\n",
      "You are an expert evaluator for a RAG system.\n",
      "        Your task is to analyze the relevance of the LLM generated answer to the users given question.\n",
      "        The goal is to have 3 classification levels as if the relevance scores were 0, 0.5, or 1.\n",
      "        Based on the relevance of the generated answer, you will classify it\n",
      "        as \"NON_RELEVANT\", \"PARTLY_RELEVANT\", or \"RELEVANT\".\n",
      "\n",
      "        Here is the data for evaluation:\n",
      "\n",
      "        Question: ¿Cómo le fue a Messi en la Copa América 2015 y qué decisión tomó respecto al premio de Mejor Jugador del Torneo?\n",
      "        Generated Answer: En la Copa América 2015, Messi tuvo un muy buen desempeño a lo largo de la competición. Argentina llegó a la final, donde se enfrentó a Chile, pero el equipo perdió 4-2 en penales tras un empate sin goles en 120 minutos. A pesar de su gran actuación durante el torneo, luego de la final, Messi anunció su retiro de la selección argentina, haciendo referencia a las últimas finales perdidas. Sin embargo, no se recogen detalles sobre si rechazó el premio de Mejor Jugador del Torneo. Si necesitas más información, estaré encantado de ayudarte.\n",
      "\n",
      "        Please analyze the content and context of the generated answer in relation to the question\n",
      "        and provide your evaluation in parsable JSON without using code blocks:\n",
      "\n",
      "        {\n",
      "        \"Relevance\": \"NON_RELEVANT\" | \"PARTLY_RELEVANT\" | \"RELEVANT\",\n",
      "        \"Explanation\": \"[Provide a brief explanation for your evaluation in spanish]\"\n",
      "        }\n",
      "------------------------------------\n",
      "Input Tokens: 3467       Cost: $0.00052005\n",
      "Completion Tokens: 46       Cost: $0.00002760\n",
      "Total Cost: $0.00054765\n",
      "------------------------------------\n"
     ]
    },
    {
     "name": "stderr",
     "output_type": "stream",
     "text": [
      " 43%|████▎     | 81/190 [02:48<04:21,  2.40s/it]"
     ]
    },
    {
     "name": "stdout",
     "output_type": "stream",
     "text": [
      "------------------------------------\n",
      "Input Tokens: 274       Cost: $0.00004110\n",
      "Completion Tokens: 64       Cost: $0.00003840\n",
      "Total Cost: $0.00007950\n",
      "------------------------------------\n",
      "You are an expert evaluator for a RAG system.\n",
      "        Your task is to analyze the relevance of the LLM generated answer to the users given question.\n",
      "        The goal is to have 3 classification levels as if the relevance scores were 0, 0.5, or 1.\n",
      "        Based on the relevance of the generated answer, you will classify it\n",
      "        as \"NON_RELEVANT\", \"PARTLY_RELEVANT\", or \"RELEVANT\".\n",
      "\n",
      "        Here is the data for evaluation:\n",
      "\n",
      "        Question: ¿Qué dijo Óscar Washington Tabárez sobre Lionel Messi después del partido contra Argentina en la Clasificación de Conmebol para la Copa Mundial de Fútbol de 2018?\n",
      "        Generated Answer: Óscar Washington Tabárez dijo sobre Lionel Messi: \"Es un jugador que no se puede describir, sólo hay que verlo, maravillarse y admirarlo. Messi es un jugador con un nivel por encima de todos los demás.\"\n",
      "\n",
      "        Please analyze the content and context of the generated answer in relation to the question\n",
      "        and provide your evaluation in parsable JSON without using code blocks:\n",
      "\n",
      "        {\n",
      "        \"Relevance\": \"NON_RELEVANT\" | \"PARTLY_RELEVANT\" | \"RELEVANT\",\n",
      "        \"Explanation\": \"[Provide a brief explanation for your evaluation in spanish]\"\n",
      "        }\n",
      "------------------------------------\n",
      "Input Tokens: 4246       Cost: $0.00063690\n",
      "Completion Tokens: 41       Cost: $0.00002460\n",
      "Total Cost: $0.00066150\n",
      "------------------------------------\n"
     ]
    },
    {
     "name": "stderr",
     "output_type": "stream",
     "text": [
      " 43%|████▎     | 82/190 [02:50<04:07,  2.30s/it]"
     ]
    },
    {
     "name": "stdout",
     "output_type": "stream",
     "text": [
      "------------------------------------\n",
      "Input Tokens: 256       Cost: $0.00003840\n",
      "Completion Tokens: 69       Cost: $0.00004140\n",
      "Total Cost: $0.00007980\n",
      "------------------------------------\n",
      "You are an expert evaluator for a RAG system.\n",
      "        Your task is to analyze the relevance of the LLM generated answer to the users given question.\n",
      "        The goal is to have 3 classification levels as if the relevance scores were 0, 0.5, or 1.\n",
      "        Based on the relevance of the generated answer, you will classify it\n",
      "        as \"NON_RELEVANT\", \"PARTLY_RELEVANT\", or \"RELEVANT\".\n",
      "\n",
      "        Here is the data for evaluation:\n",
      "\n",
      "        Question: ¿Cuántos goles anotó Messi en el partido contra Panamá en la Copa América Centenario 2016?\n",
      "        Generated Answer: En el partido contra Panamá en la Copa América Centenario 2016, Messi anotó un hat-trick. Argentina ganó 5-0. ¿Hay algo más en lo que te pueda ayudar?\n",
      "\n",
      "        Please analyze the content and context of the generated answer in relation to the question\n",
      "        and provide your evaluation in parsable JSON without using code blocks:\n",
      "\n",
      "        {\n",
      "        \"Relevance\": \"NON_RELEVANT\" | \"PARTLY_RELEVANT\" | \"RELEVANT\",\n",
      "        \"Explanation\": \"[Provide a brief explanation for your evaluation in spanish]\"\n",
      "        }\n",
      "------------------------------------\n",
      "Input Tokens: 3764       Cost: $0.00056460\n",
      "Completion Tokens: 23       Cost: $0.00001380\n",
      "Total Cost: $0.00057840\n",
      "------------------------------------\n"
     ]
    },
    {
     "name": "stderr",
     "output_type": "stream",
     "text": [
      " 44%|████▎     | 83/190 [02:52<03:53,  2.18s/it]"
     ]
    },
    {
     "name": "stdout",
     "output_type": "stream",
     "text": [
      "------------------------------------\n",
      "Input Tokens: 237       Cost: $0.00003555\n",
      "Completion Tokens: 78       Cost: $0.00004680\n",
      "Total Cost: $0.00008235\n",
      "------------------------------------\n",
      "You are an expert evaluator for a RAG system.\n",
      "        Your task is to analyze the relevance of the LLM generated answer to the users given question.\n",
      "        The goal is to have 3 classification levels as if the relevance scores were 0, 0.5, or 1.\n",
      "        Based on the relevance of the generated answer, you will classify it\n",
      "        as \"NON_RELEVANT\", \"PARTLY_RELEVANT\", or \"RELEVANT\".\n",
      "\n",
      "        Here is the data for evaluation:\n",
      "\n",
      "        Question: ¿Qué marca histórica alcanzó Messi al igualar a Batistuta en cuanto a goles con la selección argentina?\n",
      "        Generated Answer: Messi alcanzó el récord de Gabriel Batistuta de doce goles en un año calendario con la selección argentina.\n",
      "\n",
      "        Please analyze the content and context of the generated answer in relation to the question\n",
      "        and provide your evaluation in parsable JSON without using code blocks:\n",
      "\n",
      "        {\n",
      "        \"Relevance\": \"NON_RELEVANT\" | \"PARTLY_RELEVANT\" | \"RELEVANT\",\n",
      "        \"Explanation\": \"[Provide a brief explanation for your evaluation in spanish]\"\n",
      "        }\n",
      "------------------------------------\n",
      "Input Tokens: 3957       Cost: $0.00059355\n",
      "Completion Tokens: 127       Cost: $0.00007620\n",
      "Total Cost: $0.00066975\n",
      "------------------------------------\n"
     ]
    },
    {
     "name": "stderr",
     "output_type": "stream",
     "text": [
      " 44%|████▍     | 84/190 [02:54<04:02,  2.29s/it]"
     ]
    },
    {
     "name": "stdout",
     "output_type": "stream",
     "text": [
      "------------------------------------\n",
      "Input Tokens: 340       Cost: $0.00005100\n",
      "Completion Tokens: 68       Cost: $0.00004080\n",
      "Total Cost: $0.00009180\n",
      "------------------------------------\n",
      "You are an expert evaluator for a RAG system.\n",
      "        Your task is to analyze the relevance of the LLM generated answer to the users given question.\n",
      "        The goal is to have 3 classification levels as if the relevance scores were 0, 0.5, or 1.\n",
      "        Based on the relevance of the generated answer, you will classify it\n",
      "        as \"NON_RELEVANT\", \"PARTLY_RELEVANT\", or \"RELEVANT\".\n",
      "\n",
      "        Here is the data for evaluation:\n",
      "\n",
      "        Question: ¿Cuál fue la reacción de Messi tras perder la final de la Copa América 2016 contra Chile?\n",
      "        Generated Answer: Tras perder la final de la Copa América 2016 contra Chile, Messi anunció su retiro de la selección argentina, una decisión que no había comunicado previamente a sus compañeros. Se mostró muy desilusionado por haber perdido su cuarta final y expresó: \"Es increíble, pero no se da. Hoy nos pasó otra vez y otra vez los penales. La verdad que es una lástima, pero tiene que ser así. No se da, lo intentamos, lo buscamos, pero ya está. Se terminó para mí la selección.\" Sin embargo, el 12 de agosto del mismo año, confirmó su regreso a la selección.\n",
      "\n",
      "        Please analyze the content and context of the generated answer in relation to the question\n",
      "        and provide your evaluation in parsable JSON without using code blocks:\n",
      "\n",
      "        {\n",
      "        \"Relevance\": \"NON_RELEVANT\" | \"PARTLY_RELEVANT\" | \"RELEVANT\",\n",
      "        \"Explanation\": \"[Provide a brief explanation for your evaluation in spanish]\"\n",
      "        }\n",
      "------------------------------------\n",
      "Input Tokens: 3675       Cost: $0.00055125\n",
      "Completion Tokens: 23       Cost: $0.00001380\n",
      "Total Cost: $0.00056505\n",
      "------------------------------------\n"
     ]
    },
    {
     "name": "stderr",
     "output_type": "stream",
     "text": [
      " 45%|████▍     | 85/190 [02:56<03:51,  2.21s/it]"
     ]
    },
    {
     "name": "stdout",
     "output_type": "stream",
     "text": [
      "------------------------------------\n",
      "Input Tokens: 243       Cost: $0.00003645\n",
      "Completion Tokens: 73       Cost: $0.00004380\n",
      "Total Cost: $0.00008025\n",
      "------------------------------------\n",
      "You are an expert evaluator for a RAG system.\n",
      "        Your task is to analyze the relevance of the LLM generated answer to the users given question.\n",
      "        The goal is to have 3 classification levels as if the relevance scores were 0, 0.5, or 1.\n",
      "        Based on the relevance of the generated answer, you will classify it\n",
      "        as \"NON_RELEVANT\", \"PARTLY_RELEVANT\", or \"RELEVANT\".\n",
      "\n",
      "        Here is the data for evaluation:\n",
      "\n",
      "        Question: ¿Qué sucedió con Messi después de que la FIFA lo sancionara por un insulto a un árbitro en 2017?\n",
      "        Generated Answer: Lo siento, pero no tengo suficiente información para responder a eso. ¿Hay algo más en lo que pueda ayudarte?\n",
      "\n",
      "        Please analyze the content and context of the generated answer in relation to the question\n",
      "        and provide your evaluation in parsable JSON without using code blocks:\n",
      "\n",
      "        {\n",
      "        \"Relevance\": \"NON_RELEVANT\" | \"PARTLY_RELEVANT\" | \"RELEVANT\",\n",
      "        \"Explanation\": \"[Provide a brief explanation for your evaluation in spanish]\"\n",
      "        }\n",
      "------------------------------------\n",
      "Input Tokens: 4044       Cost: $0.00060660\n",
      "Completion Tokens: 23       Cost: $0.00001380\n",
      "Total Cost: $0.00062040\n",
      "------------------------------------\n"
     ]
    },
    {
     "name": "stderr",
     "output_type": "stream",
     "text": [
      " 45%|████▌     | 86/190 [02:58<03:40,  2.12s/it]"
     ]
    },
    {
     "name": "stdout",
     "output_type": "stream",
     "text": [
      "------------------------------------\n",
      "Input Tokens: 232       Cost: $0.00003480\n",
      "Completion Tokens: 73       Cost: $0.00004380\n",
      "Total Cost: $0.00007860\n",
      "------------------------------------\n",
      "You are an expert evaluator for a RAG system.\n",
      "        Your task is to analyze the relevance of the LLM generated answer to the users given question.\n",
      "        The goal is to have 3 classification levels as if the relevance scores were 0, 0.5, or 1.\n",
      "        Based on the relevance of the generated answer, you will classify it\n",
      "        as \"NON_RELEVANT\", \"PARTLY_RELEVANT\", or \"RELEVANT\".\n",
      "\n",
      "        Here is the data for evaluation:\n",
      "\n",
      "        Question: ¿Qué ocurrió el 5 de mayo en relación con la sanción de Messi?\n",
      "        Generated Answer: Lo siento, pero no tengo suficiente información para responder a eso. ¿Hay algo más en lo que puedo ayudarte?\n",
      "\n",
      "        Please analyze the content and context of the generated answer in relation to the question\n",
      "        and provide your evaluation in parsable JSON without using code blocks:\n",
      "\n",
      "        {\n",
      "        \"Relevance\": \"NON_RELEVANT\" | \"PARTLY_RELEVANT\" | \"RELEVANT\",\n",
      "        \"Explanation\": \"[Provide a brief explanation for your evaluation in spanish]\"\n",
      "        }\n",
      "------------------------------------\n",
      "Input Tokens: 3692       Cost: $0.00055380\n",
      "Completion Tokens: 22       Cost: $0.00001320\n",
      "Total Cost: $0.00056700\n",
      "------------------------------------\n"
     ]
    },
    {
     "name": "stderr",
     "output_type": "stream",
     "text": [
      " 46%|████▌     | 87/190 [03:00<03:25,  1.99s/it]"
     ]
    },
    {
     "name": "stdout",
     "output_type": "stream",
     "text": [
      "------------------------------------\n",
      "Input Tokens: 231       Cost: $0.00003465\n",
      "Completion Tokens: 76       Cost: $0.00004560\n",
      "Total Cost: $0.00008025\n",
      "------------------------------------\n",
      "You are an expert evaluator for a RAG system.\n",
      "        Your task is to analyze the relevance of the LLM generated answer to the users given question.\n",
      "        The goal is to have 3 classification levels as if the relevance scores were 0, 0.5, or 1.\n",
      "        Based on the relevance of the generated answer, you will classify it\n",
      "        as \"NON_RELEVANT\", \"PARTLY_RELEVANT\", or \"RELEVANT\".\n",
      "\n",
      "        Here is the data for evaluation:\n",
      "\n",
      "        Question: ¿Cuándo fue designado Jorge Sampaoli como entrenador de la selección argentina?\n",
      "        Generated Answer: Lo siento, pero no tengo suficiente información para responder eso. ¿Hay algo más en lo que puedo ayudarte?\n",
      "\n",
      "        Please analyze the content and context of the generated answer in relation to the question\n",
      "        and provide your evaluation in parsable JSON without using code blocks:\n",
      "\n",
      "        {\n",
      "        \"Relevance\": \"NON_RELEVANT\" | \"PARTLY_RELEVANT\" | \"RELEVANT\",\n",
      "        \"Explanation\": \"[Provide a brief explanation for your evaluation in spanish]\"\n",
      "        }\n",
      "------------------------------------\n",
      "Input Tokens: 3888       Cost: $0.00058320\n",
      "Completion Tokens: 23       Cost: $0.00001380\n",
      "Total Cost: $0.00059700\n",
      "------------------------------------\n"
     ]
    },
    {
     "name": "stderr",
     "output_type": "stream",
     "text": [
      " 46%|████▋     | 88/190 [03:02<03:13,  1.90s/it]"
     ]
    },
    {
     "name": "stdout",
     "output_type": "stream",
     "text": [
      "------------------------------------\n",
      "Input Tokens: 240       Cost: $0.00003600\n",
      "Completion Tokens: 61       Cost: $0.00003660\n",
      "Total Cost: $0.00007260\n",
      "------------------------------------\n",
      "You are an expert evaluator for a RAG system.\n",
      "        Your task is to analyze the relevance of the LLM generated answer to the users given question.\n",
      "        The goal is to have 3 classification levels as if the relevance scores were 0, 0.5, or 1.\n",
      "        Based on the relevance of the generated answer, you will classify it\n",
      "        as \"NON_RELEVANT\", \"PARTLY_RELEVANT\", or \"RELEVANT\".\n",
      "\n",
      "        Here is the data for evaluation:\n",
      "\n",
      "        Question: ¿Cuántos goles anotó Messi en el amistoso contra Haití antes de la Copa Mundial de 2018?\n",
      "        Generated Answer: Lo siento, pero no tengo suficiente información para responder esa pregunta. ¿Hay algo más en lo que pueda ayudarte?\n",
      "\n",
      "        Please analyze the content and context of the generated answer in relation to the question\n",
      "        and provide your evaluation in parsable JSON without using code blocks:\n",
      "\n",
      "        {\n",
      "        \"Relevance\": \"NON_RELEVANT\" | \"PARTLY_RELEVANT\" | \"RELEVANT\",\n",
      "        \"Explanation\": \"[Provide a brief explanation for your evaluation in spanish]\"\n",
      "        }\n",
      "------------------------------------\n",
      "Input Tokens: 3488       Cost: $0.00052320\n",
      "Completion Tokens: 24       Cost: $0.00001440\n",
      "Total Cost: $0.00053760\n",
      "------------------------------------\n"
     ]
    },
    {
     "name": "stderr",
     "output_type": "stream",
     "text": [
      " 47%|████▋     | 89/190 [03:03<03:04,  1.83s/it]"
     ]
    },
    {
     "name": "stdout",
     "output_type": "stream",
     "text": [
      "------------------------------------\n",
      "Input Tokens: 238       Cost: $0.00003570\n",
      "Completion Tokens: 60       Cost: $0.00003600\n",
      "Total Cost: $0.00007170\n",
      "------------------------------------\n",
      "You are an expert evaluator for a RAG system.\n",
      "        Your task is to analyze the relevance of the LLM generated answer to the users given question.\n",
      "        The goal is to have 3 classification levels as if the relevance scores were 0, 0.5, or 1.\n",
      "        Based on the relevance of the generated answer, you will classify it\n",
      "        as \"NON_RELEVANT\", \"PARTLY_RELEVANT\", or \"RELEVANT\".\n",
      "\n",
      "        Here is the data for evaluation:\n",
      "\n",
      "        Question: ¿Qué resultado tuvo Argentina en el primer partido del Mundial contra Islandia y qué hizo Messi en ese partido?\n",
      "        Generated Answer: Lo siento, pero no tengo suficiente información para responder a esa pregunta. ¿Hay algo más en lo que pueda ayudarte?\n",
      "\n",
      "        Please analyze the content and context of the generated answer in relation to the question\n",
      "        and provide your evaluation in parsable JSON without using code blocks:\n",
      "\n",
      "        {\n",
      "        \"Relevance\": \"NON_RELEVANT\" | \"PARTLY_RELEVANT\" | \"RELEVANT\",\n",
      "        \"Explanation\": \"[Provide a brief explanation for your evaluation in spanish]\"\n",
      "        }\n",
      "------------------------------------\n",
      "Input Tokens: 3899       Cost: $0.00058485\n",
      "Completion Tokens: 24       Cost: $0.00001440\n",
      "Total Cost: $0.00059925\n",
      "------------------------------------\n"
     ]
    },
    {
     "name": "stderr",
     "output_type": "stream",
     "text": [
      " 47%|████▋     | 90/190 [03:05<03:01,  1.81s/it]"
     ]
    },
    {
     "name": "stdout",
     "output_type": "stream",
     "text": [
      "------------------------------------\n",
      "Input Tokens: 248       Cost: $0.00003720\n",
      "Completion Tokens: 77       Cost: $0.00004620\n",
      "Total Cost: $0.00008340\n",
      "------------------------------------\n",
      "You are an expert evaluator for a RAG system.\n",
      "        Your task is to analyze the relevance of the LLM generated answer to the users given question.\n",
      "        The goal is to have 3 classification levels as if the relevance scores were 0, 0.5, or 1.\n",
      "        Based on the relevance of the generated answer, you will classify it\n",
      "        as \"NON_RELEVANT\", \"PARTLY_RELEVANT\", or \"RELEVANT\".\n",
      "\n",
      "        Here is the data for evaluation:\n",
      "\n",
      "        Question: ¿Cuál fue el motivo de la ausencia de Messi en el amistoso contra Marruecos y qué repercusiones tuvo en términos económicos para la AFA?\n",
      "        Generated Answer: Lo siento, pero no tengo suficiente información para responder a esa pregunta. ¿Hay algo más en lo que pueda ayudarte?\n",
      "\n",
      "        Please analyze the content and context of the generated answer in relation to the question\n",
      "        and provide your evaluation in parsable JSON without using code blocks:\n",
      "\n",
      "        {\n",
      "        \"Relevance\": \"NON_RELEVANT\" | \"PARTLY_RELEVANT\" | \"RELEVANT\",\n",
      "        \"Explanation\": \"[Provide a brief explanation for your evaluation in spanish]\"\n",
      "        }\n",
      "------------------------------------\n",
      "Input Tokens: 3837       Cost: $0.00057555\n",
      "Completion Tokens: 102       Cost: $0.00006120\n",
      "Total Cost: $0.00063675\n",
      "------------------------------------\n"
     ]
    },
    {
     "name": "stderr",
     "output_type": "stream",
     "text": [
      " 48%|████▊     | 91/190 [03:08<03:28,  2.11s/it]"
     ]
    },
    {
     "name": "stdout",
     "output_type": "stream",
     "text": [
      "------------------------------------\n",
      "Input Tokens: 313       Cost: $0.00004695\n",
      "Completion Tokens: 80       Cost: $0.00004800\n",
      "Total Cost: $0.00009495\n",
      "------------------------------------\n",
      "You are an expert evaluator for a RAG system.\n",
      "        Your task is to analyze the relevance of the LLM generated answer to the users given question.\n",
      "        The goal is to have 3 classification levels as if the relevance scores were 0, 0.5, or 1.\n",
      "        Based on the relevance of the generated answer, you will classify it\n",
      "        as \"NON_RELEVANT\", \"PARTLY_RELEVANT\", or \"RELEVANT\".\n",
      "\n",
      "        Here is the data for evaluation:\n",
      "\n",
      "        Question: ¿Qué críticas recibió Messi tras su actuación en el Mundial 2022 y qué comentó al respecto?\n",
      "        Generated Answer: Lionel Messi recibió críticas tras su actuación en el Mundial 2022, donde reconoció que no había sido su mejor Copa América. Se quejó de la calidad de los terrenos de juego y, después de la derrota ante Brasil en semifinales, cuestionó el arbitraje, alegando que la competición estaba \"preparada\" para que ganara el país anfitrión. Además, se le criticó también por no cantar el himno en partidos anteriores, algo que finalmente hizo en ese torneo.\n",
      "\n",
      "        Please analyze the content and context of the generated answer in relation to the question\n",
      "        and provide your evaluation in parsable JSON without using code blocks:\n",
      "\n",
      "        {\n",
      "        \"Relevance\": \"NON_RELEVANT\" | \"PARTLY_RELEVANT\" | \"RELEVANT\",\n",
      "        \"Explanation\": \"[Provide a brief explanation for your evaluation in spanish]\"\n",
      "        }\n",
      "------------------------------------\n",
      "Input Tokens: 3879       Cost: $0.00058185\n",
      "Completion Tokens: 56       Cost: $0.00003360\n",
      "Total Cost: $0.00061545\n",
      "------------------------------------\n"
     ]
    },
    {
     "name": "stderr",
     "output_type": "stream",
     "text": [
      " 48%|████▊     | 92/190 [03:11<03:45,  2.30s/it]"
     ]
    },
    {
     "name": "stdout",
     "output_type": "stream",
     "text": [
      "------------------------------------\n",
      "Input Tokens: 273       Cost: $0.00004095\n",
      "Completion Tokens: 88       Cost: $0.00005280\n",
      "Total Cost: $0.00009375\n",
      "------------------------------------\n",
      "You are an expert evaluator for a RAG system.\n",
      "        Your task is to analyze the relevance of the LLM generated answer to the users given question.\n",
      "        The goal is to have 3 classification levels as if the relevance scores were 0, 0.5, or 1.\n",
      "        Based on the relevance of the generated answer, you will classify it\n",
      "        as \"NON_RELEVANT\", \"PARTLY_RELEVANT\", or \"RELEVANT\".\n",
      "\n",
      "        Here is the data for evaluation:\n",
      "\n",
      "        Question: ¿Cuántos goles anotó Messi en la Copa América 2021 y qué récords superó con esos goles?\n",
      "        Generated Answer: En la Copa América 2021, Messi anotó 4 goles. Con estos goles, superó el récord de Ronaldo como máximo goleador histórico en torneos mayores internacionales, desplazándolo con un total de 26 goles. ¿Hay algo más en lo que pueda ayudarte?\n",
      "\n",
      "        Please analyze the content and context of the generated answer in relation to the question\n",
      "        and provide your evaluation in parsable JSON without using code blocks:\n",
      "\n",
      "        {\n",
      "        \"Relevance\": \"NON_RELEVANT\" | \"PARTLY_RELEVANT\" | \"RELEVANT\",\n",
      "        \"Explanation\": \"[Provide a brief explanation for your evaluation in spanish]\"\n",
      "        }\n",
      "------------------------------------\n",
      "Input Tokens: 3957       Cost: $0.00059355\n",
      "Completion Tokens: 114       Cost: $0.00006840\n",
      "Total Cost: $0.00066195\n",
      "------------------------------------\n"
     ]
    },
    {
     "name": "stderr",
     "output_type": "stream",
     "text": [
      " 49%|████▉     | 93/190 [03:13<03:45,  2.32s/it]"
     ]
    },
    {
     "name": "stdout",
     "output_type": "stream",
     "text": [
      "------------------------------------\n",
      "Input Tokens: 327       Cost: $0.00004905\n",
      "Completion Tokens: 63       Cost: $0.00003780\n",
      "Total Cost: $0.00008685\n",
      "------------------------------------\n",
      "You are an expert evaluator for a RAG system.\n",
      "        Your task is to analyze the relevance of the LLM generated answer to the users given question.\n",
      "        The goal is to have 3 classification levels as if the relevance scores were 0, 0.5, or 1.\n",
      "        Based on the relevance of the generated answer, you will classify it\n",
      "        as \"NON_RELEVANT\", \"PARTLY_RELEVANT\", or \"RELEVANT\".\n",
      "\n",
      "        Here is the data for evaluation:\n",
      "\n",
      "        Question: ¿Cuándo fue sancionado Messi y cuál fue la razón de su expulsión en el partido contra Chile?\n",
      "        Generated Answer: Lionel Messi fue sancionado el 23 de julio con una multa de 1500 dólares y una suspensión de un encuentro, lo que le impidió jugar el primer partido de la clasificación para el Mundial 2022. La razón de su expulsión en el partido contra Chile fue un altercado con Gary Medel, en el que ambos fueron expulsados en el minuto 37 del encuentro. Messi dio a entender que había sido expulsado por sus quejas sobre el arbitraje en la semifinal de la Copa América. ¿Puedo ayudarte con algo más?\n",
      "\n",
      "        Please analyze the content and context of the generated answer in relation to the question\n",
      "        and provide your evaluation in parsable JSON without using code blocks:\n",
      "\n",
      "        {\n",
      "        \"Relevance\": \"NON_RELEVANT\" | \"PARTLY_RELEVANT\" | \"RELEVANT\",\n",
      "        \"Explanation\": \"[Provide a brief explanation for your evaluation in spanish]\"\n",
      "        }\n",
      "------------------------------------\n",
      "Input Tokens: 3789       Cost: $0.00056835\n",
      "Completion Tokens: 23       Cost: $0.00001380\n",
      "Total Cost: $0.00058215\n",
      "------------------------------------\n"
     ]
    },
    {
     "name": "stderr",
     "output_type": "stream",
     "text": [
      " 49%|████▉     | 94/190 [03:16<04:10,  2.61s/it]"
     ]
    },
    {
     "name": "stdout",
     "output_type": "stream",
     "text": [
      "------------------------------------\n",
      "Input Tokens: 238       Cost: $0.00003570\n",
      "Completion Tokens: 76       Cost: $0.00004560\n",
      "Total Cost: $0.00008130\n",
      "------------------------------------\n",
      "You are an expert evaluator for a RAG system.\n",
      "        Your task is to analyze the relevance of the LLM generated answer to the users given question.\n",
      "        The goal is to have 3 classification levels as if the relevance scores were 0, 0.5, or 1.\n",
      "        Based on the relevance of the generated answer, you will classify it\n",
      "        as \"NON_RELEVANT\", \"PARTLY_RELEVANT\", or \"RELEVANT\".\n",
      "\n",
      "        Here is the data for evaluation:\n",
      "\n",
      "        Question: ¿Cuántos partidos ganó Messi con la selección argentina y cuándo se convirtió en el jugador con más victorias?\n",
      "        Generated Answer: Lo siento, pero no tengo suficiente información para responder esa pregunta. ¿Hay algo más en lo que pueda ayudarte?\n",
      "\n",
      "        Please analyze the content and context of the generated answer in relation to the question\n",
      "        and provide your evaluation in parsable JSON without using code blocks:\n",
      "\n",
      "        {\n",
      "        \"Relevance\": \"NON_RELEVANT\" | \"PARTLY_RELEVANT\" | \"RELEVANT\",\n",
      "        \"Explanation\": \"[Provide a brief explanation for your evaluation in spanish]\"\n",
      "        }\n",
      "------------------------------------\n",
      "Input Tokens: 3561       Cost: $0.00053415\n",
      "Completion Tokens: 73       Cost: $0.00004380\n",
      "Total Cost: $0.00057795\n",
      "------------------------------------\n"
     ]
    },
    {
     "name": "stderr",
     "output_type": "stream",
     "text": [
      " 50%|█████     | 95/190 [03:18<03:49,  2.41s/it]"
     ]
    },
    {
     "name": "stdout",
     "output_type": "stream",
     "text": [
      "------------------------------------\n",
      "Input Tokens: 293       Cost: $0.00004395\n",
      "Completion Tokens: 82       Cost: $0.00004920\n",
      "Total Cost: $0.00009315\n",
      "------------------------------------\n",
      "You are an expert evaluator for a RAG system.\n",
      "        Your task is to analyze the relevance of the LLM generated answer to the users given question.\n",
      "        The goal is to have 3 classification levels as if the relevance scores were 0, 0.5, or 1.\n",
      "        Based on the relevance of the generated answer, you will classify it\n",
      "        as \"NON_RELEVANT\", \"PARTLY_RELEVANT\", or \"RELEVANT\".\n",
      "\n",
      "        Here is the data for evaluation:\n",
      "\n",
      "        Question: ¿Qué logró Messi en la final de la Copa América contra Brasil y cuántos goles y asistencias logró a lo largo del torneo?\n",
      "        Generated Answer: En la final de la Copa América contra Brasil, Messi no anotó goles, pero sí ejecutó dos penales que contribuyeron a la victoria de su equipo por 2-1. A lo largo del torneo, Messi logró un total de 1 gol y 5 asistencias. Si tienes más preguntas o necesitas información adicional, no dudes en preguntar.\n",
      "\n",
      "        Please analyze the content and context of the generated answer in relation to the question\n",
      "        and provide your evaluation in parsable JSON without using code blocks:\n",
      "\n",
      "        {\n",
      "        \"Relevance\": \"NON_RELEVANT\" | \"PARTLY_RELEVANT\" | \"RELEVANT\",\n",
      "        \"Explanation\": \"[Provide a brief explanation for your evaluation in spanish]\"\n",
      "        }\n",
      "------------------------------------\n",
      "Input Tokens: 4092       Cost: $0.00061380\n",
      "Completion Tokens: 22       Cost: $0.00001320\n",
      "Total Cost: $0.00062700\n",
      "------------------------------------\n"
     ]
    },
    {
     "name": "stderr",
     "output_type": "stream",
     "text": [
      " 51%|█████     | 96/190 [03:20<03:27,  2.21s/it]"
     ]
    },
    {
     "name": "stdout",
     "output_type": "stream",
     "text": [
      "------------------------------------\n",
      "Input Tokens: 237       Cost: $0.00003555\n",
      "Completion Tokens: 64       Cost: $0.00003840\n",
      "Total Cost: $0.00007395\n",
      "------------------------------------\n",
      "You are an expert evaluator for a RAG system.\n",
      "        Your task is to analyze the relevance of the LLM generated answer to the users given question.\n",
      "        The goal is to have 3 classification levels as if the relevance scores were 0, 0.5, or 1.\n",
      "        Based on the relevance of the generated answer, you will classify it\n",
      "        as \"NON_RELEVANT\", \"PARTLY_RELEVANT\", or \"RELEVANT\".\n",
      "\n",
      "        Here is the data for evaluation:\n",
      "\n",
      "        Question: ¿Cuántos goles anotó Lionel Messi en mundiales a lo largo de su carrera hasta 2022?\n",
      "        Generated Answer: Lo siento, pero no tengo suficiente información para responder eso. ¿Hay algo más en lo que pueda ayudarte?\n",
      "\n",
      "        Please analyze the content and context of the generated answer in relation to the question\n",
      "        and provide your evaluation in parsable JSON without using code blocks:\n",
      "\n",
      "        {\n",
      "        \"Relevance\": \"NON_RELEVANT\" | \"PARTLY_RELEVANT\" | \"RELEVANT\",\n",
      "        \"Explanation\": \"[Provide a brief explanation for your evaluation in spanish]\"\n",
      "        }\n",
      "------------------------------------\n",
      "Input Tokens: 3997       Cost: $0.00059955\n",
      "Completion Tokens: 60       Cost: $0.00003600\n",
      "Total Cost: $0.00063555\n",
      "------------------------------------\n"
     ]
    },
    {
     "name": "stderr",
     "output_type": "stream",
     "text": [
      " 51%|█████     | 97/190 [03:22<03:21,  2.17s/it]"
     ]
    },
    {
     "name": "stdout",
     "output_type": "stream",
     "text": [
      "------------------------------------\n",
      "Input Tokens: 267       Cost: $0.00004005\n",
      "Completion Tokens: 62       Cost: $0.00003720\n",
      "Total Cost: $0.00007725\n",
      "------------------------------------\n",
      "You are an expert evaluator for a RAG system.\n",
      "        Your task is to analyze the relevance of the LLM generated answer to the users given question.\n",
      "        The goal is to have 3 classification levels as if the relevance scores were 0, 0.5, or 1.\n",
      "        Based on the relevance of the generated answer, you will classify it\n",
      "        as \"NON_RELEVANT\", \"PARTLY_RELEVANT\", or \"RELEVANT\".\n",
      "\n",
      "        Here is the data for evaluation:\n",
      "\n",
      "        Question: ¿En qué partido Messi anotó cinco goles y cuál fue el resultado final?\n",
      "        Generated Answer: Lionel Messi anotó cinco goles en el partido contra el Bayer Leverkusen, que terminó con un resultado de 7-1 a favor del Barcelona en el partido de vuelta por los octavos de final de la Liga de Campeones. ¿Hay algo más en lo que te pueda ayudar?\n",
      "\n",
      "        Please analyze the content and context of the generated answer in relation to the question\n",
      "        and provide your evaluation in parsable JSON without using code blocks:\n",
      "\n",
      "        {\n",
      "        \"Relevance\": \"NON_RELEVANT\" | \"PARTLY_RELEVANT\" | \"RELEVANT\",\n",
      "        \"Explanation\": \"[Provide a brief explanation for your evaluation in spanish]\"\n",
      "        }\n",
      "------------------------------------\n",
      "Input Tokens: 4251       Cost: $0.00063765\n",
      "Completion Tokens: 42       Cost: $0.00002520\n",
      "Total Cost: $0.00066285\n",
      "------------------------------------\n"
     ]
    },
    {
     "name": "stderr",
     "output_type": "stream",
     "text": [
      " 52%|█████▏    | 98/190 [03:24<03:10,  2.08s/it]"
     ]
    },
    {
     "name": "stdout",
     "output_type": "stream",
     "text": [
      "------------------------------------\n",
      "Input Tokens: 255       Cost: $0.00003825\n",
      "Completion Tokens: 67       Cost: $0.00004020\n",
      "Total Cost: $0.00007845\n",
      "------------------------------------\n",
      "You are an expert evaluator for a RAG system.\n",
      "        Your task is to analyze the relevance of the LLM generated answer to the users given question.\n",
      "        The goal is to have 3 classification levels as if the relevance scores were 0, 0.5, or 1.\n",
      "        Based on the relevance of the generated answer, you will classify it\n",
      "        as \"NON_RELEVANT\", \"PARTLY_RELEVANT\", or \"RELEVANT\".\n",
      "\n",
      "        Here is the data for evaluation:\n",
      "\n",
      "        Question: ¿Qué récord alcanzó Argentina al empatar 1-1 con Ecuador el 29 de marzo?\n",
      "        Generated Answer: Argentina igualó su récord de 1993 de 31 partidos sin perder al empatar 1-1 con Ecuador el 29 de marzo. Si tienes más preguntas, estaré encantado de ayudarte.\n",
      "\n",
      "        Please analyze the content and context of the generated answer in relation to the question\n",
      "        and provide your evaluation in parsable JSON without using code blocks:\n",
      "\n",
      "        {\n",
      "        \"Relevance\": \"NON_RELEVANT\" | \"PARTLY_RELEVANT\" | \"RELEVANT\",\n",
      "        \"Explanation\": \"[Provide a brief explanation for your evaluation in spanish]\"\n",
      "        }\n",
      "------------------------------------\n",
      "Input Tokens: 3911       Cost: $0.00058665\n",
      "Completion Tokens: 28       Cost: $0.00001680\n",
      "Total Cost: $0.00060345\n",
      "------------------------------------\n"
     ]
    },
    {
     "name": "stderr",
     "output_type": "stream",
     "text": [
      " 52%|█████▏    | 99/190 [03:26<02:58,  1.96s/it]"
     ]
    },
    {
     "name": "stdout",
     "output_type": "stream",
     "text": [
      "------------------------------------\n",
      "Input Tokens: 236       Cost: $0.00003540\n",
      "Completion Tokens: 52       Cost: $0.00003120\n",
      "Total Cost: $0.00006660\n",
      "------------------------------------\n",
      "You are an expert evaluator for a RAG system.\n",
      "        Your task is to analyze the relevance of the LLM generated answer to the users given question.\n",
      "        The goal is to have 3 classification levels as if the relevance scores were 0, 0.5, or 1.\n",
      "        Based on the relevance of the generated answer, you will classify it\n",
      "        as \"NON_RELEVANT\", \"PARTLY_RELEVANT\", or \"RELEVANT\".\n",
      "\n",
      "        Here is the data for evaluation:\n",
      "\n",
      "        Question: ¿Cuántos partidos invictos logró Argentina antes del Mundial de Catar?\n",
      "        Generated Answer: Argentina logró un récord de 31 partidos invictos antes del Mundial de Catar. ¿Hay algo más en lo que te pueda ayudar?\n",
      "\n",
      "        Please analyze the content and context of the generated answer in relation to the question\n",
      "        and provide your evaluation in parsable JSON without using code blocks:\n",
      "\n",
      "        {\n",
      "        \"Relevance\": \"NON_RELEVANT\" | \"PARTLY_RELEVANT\" | \"RELEVANT\",\n",
      "        \"Explanation\": \"[Provide a brief explanation for your evaluation in spanish]\"\n",
      "        }\n",
      "------------------------------------\n",
      "Input Tokens: 3639       Cost: $0.00054585\n",
      "Completion Tokens: 23       Cost: $0.00001380\n",
      "Total Cost: $0.00055965\n",
      "------------------------------------\n"
     ]
    },
    {
     "name": "stderr",
     "output_type": "stream",
     "text": [
      " 53%|█████▎    | 100/190 [03:27<02:51,  1.91s/it]"
     ]
    },
    {
     "name": "stdout",
     "output_type": "stream",
     "text": [
      "------------------------------------\n",
      "Input Tokens: 242       Cost: $0.00003630\n",
      "Completion Tokens: 78       Cost: $0.00004680\n",
      "Total Cost: $0.00008310\n",
      "------------------------------------\n",
      "You are an expert evaluator for a RAG system.\n",
      "        Your task is to analyze the relevance of the LLM generated answer to the users given question.\n",
      "        The goal is to have 3 classification levels as if the relevance scores were 0, 0.5, or 1.\n",
      "        Based on the relevance of the generated answer, you will classify it\n",
      "        as \"NON_RELEVANT\", \"PARTLY_RELEVANT\", or \"RELEVANT\".\n",
      "\n",
      "        Here is the data for evaluation:\n",
      "\n",
      "        Question: ¿Qué distinción recibió Messi después de la final del Mundial contra Francia y cuántas veces ha sido elegido MVP en su carrera?\n",
      "        Generated Answer: Lo siento, pero no tengo suficiente información para responder a eso. ¿Hay algo más en lo que pueda ayudarte?\n",
      "\n",
      "        Please analyze the content and context of the generated answer in relation to the question\n",
      "        and provide your evaluation in parsable JSON without using code blocks:\n",
      "\n",
      "        {\n",
      "        \"Relevance\": \"NON_RELEVANT\" | \"PARTLY_RELEVANT\" | \"RELEVANT\",\n",
      "        \"Explanation\": \"[Provide a brief explanation for your evaluation in spanish]\"\n",
      "        }\n",
      "------------------------------------\n",
      "Input Tokens: 4115       Cost: $0.00061725\n",
      "Completion Tokens: 22       Cost: $0.00001320\n",
      "Total Cost: $0.00063045\n",
      "------------------------------------\n"
     ]
    },
    {
     "name": "stderr",
     "output_type": "stream",
     "text": [
      " 53%|█████▎    | 101/190 [03:29<02:51,  1.93s/it]"
     ]
    },
    {
     "name": "stdout",
     "output_type": "stream",
     "text": [
      "------------------------------------\n",
      "Input Tokens: 235       Cost: $0.00003525\n",
      "Completion Tokens: 63       Cost: $0.00003780\n",
      "Total Cost: $0.00007305\n",
      "------------------------------------\n",
      "You are an expert evaluator for a RAG system.\n",
      "        Your task is to analyze the relevance of the LLM generated answer to the users given question.\n",
      "        The goal is to have 3 classification levels as if the relevance scores were 0, 0.5, or 1.\n",
      "        Based on the relevance of the generated answer, you will classify it\n",
      "        as \"NON_RELEVANT\", \"PARTLY_RELEVANT\", or \"RELEVANT\".\n",
      "\n",
      "        Here is the data for evaluation:\n",
      "\n",
      "        Question: ¿Cuántos goles ha anotado Messi en torneos mayores internacionales hasta marzo de 2023?\n",
      "        Generated Answer: Lo siento, pero no tengo suficiente información para responder eso. ¿Hay algo más en lo que puedo ayudarte?\n",
      "\n",
      "        Please analyze the content and context of the generated answer in relation to the question\n",
      "        and provide your evaluation in parsable JSON without using code blocks:\n",
      "\n",
      "        {\n",
      "        \"Relevance\": \"NON_RELEVANT\" | \"PARTLY_RELEVANT\" | \"RELEVANT\",\n",
      "        \"Explanation\": \"[Provide a brief explanation for your evaluation in spanish]\"\n",
      "        }\n",
      "------------------------------------\n",
      "Input Tokens: 3884       Cost: $0.00058260\n",
      "Completion Tokens: 24       Cost: $0.00001440\n",
      "Total Cost: $0.00059700\n",
      "------------------------------------\n"
     ]
    },
    {
     "name": "stderr",
     "output_type": "stream",
     "text": [
      " 54%|█████▎    | 102/190 [03:31<02:48,  1.92s/it]"
     ]
    },
    {
     "name": "stdout",
     "output_type": "stream",
     "text": [
      "------------------------------------\n",
      "Input Tokens: 242       Cost: $0.00003630\n",
      "Completion Tokens: 79       Cost: $0.00004740\n",
      "Total Cost: $0.00008370\n",
      "------------------------------------\n",
      "You are an expert evaluator for a RAG system.\n",
      "        Your task is to analyze the relevance of the LLM generated answer to the users given question.\n",
      "        The goal is to have 3 classification levels as if the relevance scores were 0, 0.5, or 1.\n",
      "        Based on the relevance of the generated answer, you will classify it\n",
      "        as \"NON_RELEVANT\", \"PARTLY_RELEVANT\", or \"RELEVANT\".\n",
      "\n",
      "        Here is the data for evaluation:\n",
      "\n",
      "        Question: ¿Cuál fue el récord de partidos jugados en la Copa del Mundo que Messi superó y quién era el poseedor anterior?\n",
      "        Generated Answer: I'm sorry, but I don’t have enough information to answer that. Is there anything else I can help you with?\n",
      "\n",
      "        Please analyze the content and context of the generated answer in relation to the question\n",
      "        and provide your evaluation in parsable JSON without using code blocks:\n",
      "\n",
      "        {\n",
      "        \"Relevance\": \"NON_RELEVANT\" | \"PARTLY_RELEVANT\" | \"RELEVANT\",\n",
      "        \"Explanation\": \"[Provide a brief explanation for your evaluation in spanish]\"\n",
      "        }\n",
      "------------------------------------\n",
      "Input Tokens: 3842       Cost: $0.00057630\n",
      "Completion Tokens: 22       Cost: $0.00001320\n",
      "Total Cost: $0.00058950\n",
      "------------------------------------\n"
     ]
    },
    {
     "name": "stderr",
     "output_type": "stream",
     "text": [
      " 54%|█████▍    | 103/190 [03:33<02:45,  1.91s/it]"
     ]
    },
    {
     "name": "stdout",
     "output_type": "stream",
     "text": [
      "------------------------------------\n",
      "Input Tokens: 233       Cost: $0.00003495\n",
      "Completion Tokens: 68       Cost: $0.00004080\n",
      "Total Cost: $0.00007575\n",
      "------------------------------------\n",
      "You are an expert evaluator for a RAG system.\n",
      "        Your task is to analyze the relevance of the LLM generated answer to the users given question.\n",
      "        The goal is to have 3 classification levels as if the relevance scores were 0, 0.5, or 1.\n",
      "        Based on the relevance of the generated answer, you will classify it\n",
      "        as \"NON_RELEVANT\", \"PARTLY_RELEVANT\", or \"RELEVANT\".\n",
      "\n",
      "        Here is the data for evaluation:\n",
      "\n",
      "        Question: ¿Qué hizo Messi en el partido inaugural de la Copa América 2024 frente a Canadá?\n",
      "        Generated Answer: Lo siento, pero no tengo suficiente información para responder eso. ¿Hay algo más en lo que pueda ayudarte?\n",
      "\n",
      "        Please analyze the content and context of the generated answer in relation to the question\n",
      "        and provide your evaluation in parsable JSON without using code blocks:\n",
      "\n",
      "        {\n",
      "        \"Relevance\": \"NON_RELEVANT\" | \"PARTLY_RELEVANT\" | \"RELEVANT\",\n",
      "        \"Explanation\": \"[Provide a brief explanation for your evaluation in spanish]\"\n",
      "        }\n",
      "------------------------------------\n",
      "Input Tokens: 3719       Cost: $0.00055785\n",
      "Completion Tokens: 27       Cost: $0.00001620\n",
      "Total Cost: $0.00057405\n",
      "------------------------------------\n"
     ]
    },
    {
     "name": "stderr",
     "output_type": "stream",
     "text": [
      " 55%|█████▍    | 104/190 [03:35<02:41,  1.88s/it]"
     ]
    },
    {
     "name": "stdout",
     "output_type": "stream",
     "text": [
      "------------------------------------\n",
      "Input Tokens: 236       Cost: $0.00003540\n",
      "Completion Tokens: 59       Cost: $0.00003540\n",
      "Total Cost: $0.00007080\n",
      "------------------------------------\n",
      "You are an expert evaluator for a RAG system.\n",
      "        Your task is to analyze the relevance of the LLM generated answer to the users given question.\n",
      "        The goal is to have 3 classification levels as if the relevance scores were 0, 0.5, or 1.\n",
      "        Based on the relevance of the generated answer, you will classify it\n",
      "        as \"NON_RELEVANT\", \"PARTLY_RELEVANT\", or \"RELEVANT\".\n",
      "\n",
      "        Here is the data for evaluation:\n",
      "\n",
      "        Question: ¿Por qué Messi no participó en el partido contra Indonesia durante su gira por Asia?\n",
      "        Generated Answer: Messi no participó en el partido contra Indonesia porque había empezado sus vacaciones. ¿Hay algo más en lo que pueda ayudarte?\n",
      "\n",
      "        Please analyze the content and context of the generated answer in relation to the question\n",
      "        and provide your evaluation in parsable JSON without using code blocks:\n",
      "\n",
      "        {\n",
      "        \"Relevance\": \"NON_RELEVANT\" | \"PARTLY_RELEVANT\" | \"RELEVANT\",\n",
      "        \"Explanation\": \"[Provide a brief explanation for your evaluation in spanish]\"\n",
      "        }\n",
      "------------------------------------\n",
      "Input Tokens: 3757       Cost: $0.00056355\n",
      "Completion Tokens: 23       Cost: $0.00001380\n",
      "Total Cost: $0.00057735\n",
      "------------------------------------\n"
     ]
    },
    {
     "name": "stderr",
     "output_type": "stream",
     "text": [
      " 55%|█████▌    | 105/190 [03:37<02:34,  1.82s/it]"
     ]
    },
    {
     "name": "stdout",
     "output_type": "stream",
     "text": [
      "------------------------------------\n",
      "Input Tokens: 244       Cost: $0.00003660\n",
      "Completion Tokens: 72       Cost: $0.00004320\n",
      "Total Cost: $0.00007980\n",
      "------------------------------------\n",
      "You are an expert evaluator for a RAG system.\n",
      "        Your task is to analyze the relevance of the LLM generated answer to the users given question.\n",
      "        The goal is to have 3 classification levels as if the relevance scores were 0, 0.5, or 1.\n",
      "        Based on the relevance of the generated answer, you will classify it\n",
      "        as \"NON_RELEVANT\", \"PARTLY_RELEVANT\", or \"RELEVANT\".\n",
      "\n",
      "        Here is the data for evaluation:\n",
      "\n",
      "        Question: ¿Cómo se describen las habilidades de Messi en el campo de juego y qué apodo se le asignó debido a su estilo de juego?\n",
      "        Generated Answer: Lo siento, pero no tengo suficiente información para responder a eso. ¿Hay algo más en lo que pueda ayudarte?\n",
      "\n",
      "        Please analyze the content and context of the generated answer in relation to the question\n",
      "        and provide your evaluation in parsable JSON without using code blocks:\n",
      "\n",
      "        {\n",
      "        \"Relevance\": \"NON_RELEVANT\" | \"PARTLY_RELEVANT\" | \"RELEVANT\",\n",
      "        \"Explanation\": \"[Provide a brief explanation for your evaluation in spanish]\"\n",
      "        }\n",
      "------------------------------------\n",
      "Input Tokens: 4088       Cost: $0.00061320\n",
      "Completion Tokens: 281       Cost: $0.00016860\n",
      "Total Cost: $0.00078180\n",
      "------------------------------------\n"
     ]
    },
    {
     "name": "stderr",
     "output_type": "stream",
     "text": [
      " 56%|█████▌    | 106/190 [03:44<04:52,  3.48s/it]"
     ]
    },
    {
     "name": "stdout",
     "output_type": "stream",
     "text": [
      "------------------------------------\n",
      "Input Tokens: 491       Cost: $0.00007365\n",
      "Completion Tokens: 85       Cost: $0.00005100\n",
      "Total Cost: $0.00012465\n",
      "------------------------------------\n",
      "You are an expert evaluator for a RAG system.\n",
      "        Your task is to analyze the relevance of the LLM generated answer to the users given question.\n",
      "        The goal is to have 3 classification levels as if the relevance scores were 0, 0.5, or 1.\n",
      "        Based on the relevance of the generated answer, you will classify it\n",
      "        as \"NON_RELEVANT\", \"PARTLY_RELEVANT\", or \"RELEVANT\".\n",
      "\n",
      "        Here is the data for evaluation:\n",
      "\n",
      "        Question: ¿Cómo ha evolucionado la posición de Messi a lo largo de su carrera en el Barcelona?\n",
      "        Generated Answer: Lionel Messi ha experimentado una notable evolución en su posición a lo largo de su carrera en el Barcelona. Inicialmente, comenzó su trayectoria como un extremo, donde se destacó por su velocidad y capacidad de regate. Sin embargo, con el tiempo, el estilo de juego del Barcelona y las necesidades del equipo llevaron a Messi a adoptar un rol más centrado.\n",
      "\n",
      "Bajo la dirección de Pep Guardiola, Messi fue desplazado al eje del ataque, jugando como un falso nueve. Este cambio fue significativo ya que le permitió no solo marcar goles, sino también participar más en la creación de juego, aprovechando su visión y habilidad para asistir a sus compañeros. A partir de allí, se convirtió en el motor del equipo, siendo fundamental en la construcción de las jugadas ofensivas.\n",
      "\n",
      "A medida que avanzaba su carrera, especialmente en los últimos años, Messi también asumió funciones más creativas y de liderazgo, a menudo bajando para recibir el balón y organizar el juego desde posiciones más retrasadas, lo que demuestra su versatilidad y capacidad para adaptarse a diferentes sistemas tácticos. Durante su etapa final en el club, continuó siendo un jugador decisivo, contribuyendo tanto con goles como con asistencias, reafirmándose como una figura central en el juego del Barcelona. \n",
      "\n",
      "Esta evolución de extremo a centro del juego resalta su adaptabilidad y talento excepcional a lo largo de su carrera.\n",
      "\n",
      "        Please analyze the content and context of the generated answer in relation to the question\n",
      "        and provide your evaluation in parsable JSON without using code blocks:\n",
      "\n",
      "        {\n",
      "        \"Relevance\": \"NON_RELEVANT\" | \"PARTLY_RELEVANT\" | \"RELEVANT\",\n",
      "        \"Explanation\": \"[Provide a brief explanation for your evaluation in spanish]\"\n",
      "        }\n",
      "------------------------------------\n",
      "Input Tokens: 3749       Cost: $0.00056235\n",
      "Completion Tokens: 23       Cost: $0.00001380\n",
      "Total Cost: $0.00057615\n",
      "------------------------------------\n"
     ]
    },
    {
     "name": "stderr",
     "output_type": "stream",
     "text": [
      " 56%|█████▋    | 107/190 [03:46<04:20,  3.13s/it]"
     ]
    },
    {
     "name": "stdout",
     "output_type": "stream",
     "text": [
      "------------------------------------\n",
      "Input Tokens: 236       Cost: $0.00003540\n",
      "Completion Tokens: 66       Cost: $0.00003960\n",
      "Total Cost: $0.00007500\n",
      "------------------------------------\n",
      "You are an expert evaluator for a RAG system.\n",
      "        Your task is to analyze the relevance of the LLM generated answer to the users given question.\n",
      "        The goal is to have 3 classification levels as if the relevance scores were 0, 0.5, or 1.\n",
      "        Based on the relevance of the generated answer, you will classify it\n",
      "        as \"NON_RELEVANT\", \"PARTLY_RELEVANT\", or \"RELEVANT\".\n",
      "\n",
      "        Here is the data for evaluation:\n",
      "\n",
      "        Question: ¿Qué habilidades se destacan en Messi que lo convierten en un jugador excepcional durante los contraataques?\n",
      "        Generated Answer: Lo siento, pero no tengo suficiente información para responder eso. ¿Hay algo más en lo que te pueda ayudar?\n",
      "\n",
      "        Please analyze the content and context of the generated answer in relation to the question\n",
      "        and provide your evaluation in parsable JSON without using code blocks:\n",
      "\n",
      "        {\n",
      "        \"Relevance\": \"NON_RELEVANT\" | \"PARTLY_RELEVANT\" | \"RELEVANT\",\n",
      "        \"Explanation\": \"[Provide a brief explanation for your evaluation in spanish]\"\n",
      "        }\n",
      "------------------------------------\n",
      "Input Tokens: 3604       Cost: $0.00054060\n",
      "Completion Tokens: 23       Cost: $0.00001380\n",
      "Total Cost: $0.00055440\n",
      "------------------------------------\n"
     ]
    },
    {
     "name": "stderr",
     "output_type": "stream",
     "text": [
      " 57%|█████▋    | 108/190 [03:48<03:49,  2.80s/it]"
     ]
    },
    {
     "name": "stdout",
     "output_type": "stream",
     "text": [
      "------------------------------------\n",
      "Input Tokens: 231       Cost: $0.00003465\n",
      "Completion Tokens: 70       Cost: $0.00004200\n",
      "Total Cost: $0.00007665\n",
      "------------------------------------\n",
      "You are an expert evaluator for a RAG system.\n",
      "        Your task is to analyze the relevance of the LLM generated answer to the users given question.\n",
      "        The goal is to have 3 classification levels as if the relevance scores were 0, 0.5, or 1.\n",
      "        Based on the relevance of the generated answer, you will classify it\n",
      "        as \"NON_RELEVANT\", \"PARTLY_RELEVANT\", or \"RELEVANT\".\n",
      "\n",
      "        Here is the data for evaluation:\n",
      "\n",
      "        Question: ¿Cuál fue la opinión de Diego Maradona sobre Messi en 2009?\n",
      "        Generated Answer: Lo siento, pero no tengo suficiente información para responder a eso. ¿Hay algo más en lo que pueda ayudarte?\n",
      "\n",
      "        Please analyze the content and context of the generated answer in relation to the question\n",
      "        and provide your evaluation in parsable JSON without using code blocks:\n",
      "\n",
      "        {\n",
      "        \"Relevance\": \"NON_RELEVANT\" | \"PARTLY_RELEVANT\" | \"RELEVANT\",\n",
      "        \"Explanation\": \"[Provide a brief explanation for your evaluation in spanish]\"\n",
      "        }\n",
      "------------------------------------\n",
      "Input Tokens: 3716       Cost: $0.00055740\n",
      "Completion Tokens: 156       Cost: $0.00009360\n",
      "Total Cost: $0.00065100\n",
      "------------------------------------\n"
     ]
    },
    {
     "name": "stderr",
     "output_type": "stream",
     "text": [
      " 57%|█████▋    | 109/190 [03:52<04:01,  2.98s/it]"
     ]
    },
    {
     "name": "stdout",
     "output_type": "stream",
     "text": [
      "------------------------------------\n",
      "Input Tokens: 368       Cost: $0.00005520\n",
      "Completion Tokens: 85       Cost: $0.00005100\n",
      "Total Cost: $0.00010620\n",
      "------------------------------------\n",
      "You are an expert evaluator for a RAG system.\n",
      "        Your task is to analyze the relevance of the LLM generated answer to the users given question.\n",
      "        The goal is to have 3 classification levels as if the relevance scores were 0, 0.5, or 1.\n",
      "        Based on the relevance of the generated answer, you will classify it\n",
      "        as \"NON_RELEVANT\", \"PARTLY_RELEVANT\", or \"RELEVANT\".\n",
      "\n",
      "        Here is the data for evaluation:\n",
      "\n",
      "        Question: ¿Cómo se describe el estilo de juego de Messi en comparación con los primeros años de su carrera?\n",
      "        Generated Answer: En los primeros años de su carrera, Messi era visto como un joven talentoso entre varios otros argentinos, con un estilo de juego que lo llevaba a ser llamado el «Nuevo Maradona». A medida que su carrera avanzó, su estilo se consolidó, convirtiéndose en un pequeño gambeteador zurdo con habilidades excepcionales. Se le comparaba cada vez más con Maradona, no solo por sus destrezas, sino también por su capacidad para influir en el juego de su equipo. Con el tiempo, Messi demostró similitudes destacadas con Maradona, estableciéndose como el mejor jugador argentino después de él. Por lo tanto, su evolución comenzó con un potencial prometedor y se transformó en una realidad de excelencia y liderazgo dentro del campo.\n",
      "\n",
      "        Please analyze the content and context of the generated answer in relation to the question\n",
      "        and provide your evaluation in parsable JSON without using code blocks:\n",
      "\n",
      "        {\n",
      "        \"Relevance\": \"NON_RELEVANT\" | \"PARTLY_RELEVANT\" | \"RELEVANT\",\n",
      "        \"Explanation\": \"[Provide a brief explanation for your evaluation in spanish]\"\n",
      "        }\n",
      "------------------------------------\n",
      "Input Tokens: 3714       Cost: $0.00055710\n",
      "Completion Tokens: 24       Cost: $0.00001440\n",
      "Total Cost: $0.00057150\n",
      "------------------------------------\n"
     ]
    },
    {
     "name": "stderr",
     "output_type": "stream",
     "text": [
      " 58%|█████▊    | 110/190 [03:54<03:33,  2.67s/it]"
     ]
    },
    {
     "name": "stdout",
     "output_type": "stream",
     "text": [
      "------------------------------------\n",
      "Input Tokens: 234       Cost: $0.00003510\n",
      "Completion Tokens: 60       Cost: $0.00003600\n",
      "Total Cost: $0.00007110\n",
      "------------------------------------\n",
      "You are an expert evaluator for a RAG system.\n",
      "        Your task is to analyze the relevance of the LLM generated answer to the users given question.\n",
      "        The goal is to have 3 classification levels as if the relevance scores were 0, 0.5, or 1.\n",
      "        Based on the relevance of the generated answer, you will classify it\n",
      "        as \"NON_RELEVANT\", \"PARTLY_RELEVANT\", or \"RELEVANT\".\n",
      "\n",
      "        Here is the data for evaluation:\n",
      "\n",
      "        Question: ¿Qué cambios hizo Messi en su enfoque de juego a medida que avanzaba su carrera?\n",
      "        Generated Answer: Lo siento, pero no tengo suficiente información para responder a esa pregunta. ¿Hay algo más en lo que pueda ayudarte?\n",
      "\n",
      "        Please analyze the content and context of the generated answer in relation to the question\n",
      "        and provide your evaluation in parsable JSON without using code blocks:\n",
      "\n",
      "        {\n",
      "        \"Relevance\": \"NON_RELEVANT\" | \"PARTLY_RELEVANT\" | \"RELEVANT\",\n",
      "        \"Explanation\": \"[Provide a brief explanation for your evaluation in spanish]\"\n",
      "        }\n",
      "------------------------------------\n",
      "Input Tokens: 3894       Cost: $0.00058410\n",
      "Completion Tokens: 70       Cost: $0.00004200\n",
      "Total Cost: $0.00062610\n",
      "------------------------------------\n"
     ]
    },
    {
     "name": "stderr",
     "output_type": "stream",
     "text": [
      " 58%|█████▊    | 111/190 [03:56<03:25,  2.61s/it]"
     ]
    },
    {
     "name": "stdout",
     "output_type": "stream",
     "text": [
      "------------------------------------\n",
      "Input Tokens: 281       Cost: $0.00004215\n",
      "Completion Tokens: 64       Cost: $0.00003840\n",
      "Total Cost: $0.00008055\n",
      "------------------------------------\n",
      "You are an expert evaluator for a RAG system.\n",
      "        Your task is to analyze the relevance of the LLM generated answer to the users given question.\n",
      "        The goal is to have 3 classification levels as if the relevance scores were 0, 0.5, or 1.\n",
      "        Based on the relevance of the generated answer, you will classify it\n",
      "        as \"NON_RELEVANT\", \"PARTLY_RELEVANT\", or \"RELEVANT\".\n",
      "\n",
      "        Here is the data for evaluation:\n",
      "\n",
      "        Question: ¿Qué documento firmó la familia de Messi el 8 de enero de 2001?\n",
      "        Generated Answer: El 8 de enero de 2001, la familia de Messi firmó un documento en el que se aseguraban un trabajo para el padre de Messi en el fútbol base y el pago del tratamiento hormonal. Esto fue parte del proceso que permitió su fichaje como adolescente por el FC Barcelona. ¿Hay algo más en lo que te pueda ayudar?\n",
      "\n",
      "        Please analyze the content and context of the generated answer in relation to the question\n",
      "        and provide your evaluation in parsable JSON without using code blocks:\n",
      "\n",
      "        {\n",
      "        \"Relevance\": \"NON_RELEVANT\" | \"PARTLY_RELEVANT\" | \"RELEVANT\",\n",
      "        \"Explanation\": \"[Provide a brief explanation for your evaluation in spanish]\"\n",
      "        }\n",
      "------------------------------------\n",
      "Input Tokens: 3902       Cost: $0.00058530\n",
      "Completion Tokens: 41       Cost: $0.00002460\n",
      "Total Cost: $0.00060990\n",
      "------------------------------------\n"
     ]
    },
    {
     "name": "stderr",
     "output_type": "stream",
     "text": [
      " 59%|█████▉    | 112/190 [03:58<03:10,  2.44s/it]"
     ]
    },
    {
     "name": "stdout",
     "output_type": "stream",
     "text": [
      "------------------------------------\n",
      "Input Tokens: 260       Cost: $0.00003900\n",
      "Completion Tokens: 53       Cost: $0.00003180\n",
      "Total Cost: $0.00007080\n",
      "------------------------------------\n",
      "You are an expert evaluator for a RAG system.\n",
      "        Your task is to analyze the relevance of the LLM generated answer to the users given question.\n",
      "        The goal is to have 3 classification levels as if the relevance scores were 0, 0.5, or 1.\n",
      "        Based on the relevance of the generated answer, you will classify it\n",
      "        as \"NON_RELEVANT\", \"PARTLY_RELEVANT\", or \"RELEVANT\".\n",
      "\n",
      "        Here is the data for evaluation:\n",
      "\n",
      "        Question: ¿Cuántos goles anotó Messi durante su tiempo en las inferiores de Newell's desde 1994 hasta 1999?\n",
      "        Generated Answer: Durante su tiempo en las inferiores de Newell's desde 1994 hasta 1999, Messi anotó un total de 234 goles. Si necesitas más información, estaré encantado de ayudar.\n",
      "\n",
      "        Please analyze the content and context of the generated answer in relation to the question\n",
      "        and provide your evaluation in parsable JSON without using code blocks:\n",
      "\n",
      "        {\n",
      "        \"Relevance\": \"NON_RELEVANT\" | \"PARTLY_RELEVANT\" | \"RELEVANT\",\n",
      "        \"Explanation\": \"[Provide a brief explanation for your evaluation in spanish]\"\n",
      "        }\n",
      "------------------------------------\n",
      "Input Tokens: 4236       Cost: $0.00063540\n",
      "Completion Tokens: 23       Cost: $0.00001380\n",
      "Total Cost: $0.00064920\n",
      "------------------------------------\n"
     ]
    },
    {
     "name": "stderr",
     "output_type": "stream",
     "text": [
      " 59%|█████▉    | 113/190 [04:00<02:49,  2.20s/it]"
     ]
    },
    {
     "name": "stdout",
     "output_type": "stream",
     "text": [
      "------------------------------------\n",
      "Input Tokens: 229       Cost: $0.00003435\n",
      "Completion Tokens: 58       Cost: $0.00003480\n",
      "Total Cost: $0.00006915\n",
      "------------------------------------\n",
      "You are an expert evaluator for a RAG system.\n",
      "        Your task is to analyze the relevance of the LLM generated answer to the users given question.\n",
      "        The goal is to have 3 classification levels as if the relevance scores were 0, 0.5, or 1.\n",
      "        Based on the relevance of the generated answer, you will classify it\n",
      "        as \"NON_RELEVANT\", \"PARTLY_RELEVANT\", or \"RELEVANT\".\n",
      "\n",
      "        Here is the data for evaluation:\n",
      "\n",
      "        Question: ¿Qué lesiones sufrió Messi en su primera temporada con el FC Barcelona?\n",
      "        Generated Answer: Lo siento, pero no tengo suficiente información para responder a eso. ¿Hay algo más en lo que pueda ayudarte?\n",
      "\n",
      "        Please analyze the content and context of the generated answer in relation to the question\n",
      "        and provide your evaluation in parsable JSON without using code blocks:\n",
      "\n",
      "        {\n",
      "        \"Relevance\": \"NON_RELEVANT\" | \"PARTLY_RELEVANT\" | \"RELEVANT\",\n",
      "        \"Explanation\": \"[Provide a brief explanation for your evaluation in spanish]\"\n",
      "        }\n",
      "------------------------------------\n",
      "Input Tokens: 3643       Cost: $0.00054645\n",
      "Completion Tokens: 38       Cost: $0.00002280\n",
      "Total Cost: $0.00056925\n",
      "------------------------------------\n"
     ]
    },
    {
     "name": "stderr",
     "output_type": "stream",
     "text": [
      " 60%|██████    | 114/190 [04:01<02:35,  2.04s/it]"
     ]
    },
    {
     "name": "stdout",
     "output_type": "stream",
     "text": [
      "------------------------------------\n",
      "Input Tokens: 254       Cost: $0.00003810\n",
      "Completion Tokens: 60       Cost: $0.00003600\n",
      "Total Cost: $0.00007410\n",
      "------------------------------------\n",
      "You are an expert evaluator for a RAG system.\n",
      "        Your task is to analyze the relevance of the LLM generated answer to the users given question.\n",
      "        The goal is to have 3 classification levels as if the relevance scores were 0, 0.5, or 1.\n",
      "        Based on the relevance of the generated answer, you will classify it\n",
      "        as \"NON_RELEVANT\", \"PARTLY_RELEVANT\", or \"RELEVANT\".\n",
      "\n",
      "        Here is the data for evaluation:\n",
      "\n",
      "        Question: ¿Cuántos partidos y goles tuvo Messi en el Cadete A durante la temporada 2002-2003?\n",
      "        Generated Answer: Durante la temporada 2002-2003, Messi jugó 31 partidos y anotó 38 goles en el Cadete A. ¿Hay algo más en lo que pueda ayudarte?\n",
      "\n",
      "        Please analyze the content and context of the generated answer in relation to the question\n",
      "        and provide your evaluation in parsable JSON without using code blocks:\n",
      "\n",
      "        {\n",
      "        \"Relevance\": \"NON_RELEVANT\" | \"PARTLY_RELEVANT\" | \"RELEVANT\",\n",
      "        \"Explanation\": \"[Provide a brief explanation for your evaluation in spanish]\"\n",
      "        }\n",
      "------------------------------------\n",
      "Input Tokens: 4144       Cost: $0.00062160\n",
      "Completion Tokens: 34       Cost: $0.00002040\n",
      "Total Cost: $0.00064200\n",
      "------------------------------------\n"
     ]
    },
    {
     "name": "stderr",
     "output_type": "stream",
     "text": [
      " 61%|██████    | 115/190 [04:03<02:22,  1.90s/it]"
     ]
    },
    {
     "name": "stdout",
     "output_type": "stream",
     "text": [
      "------------------------------------\n",
      "Input Tokens: 243       Cost: $0.00003645\n",
      "Completion Tokens: 56       Cost: $0.00003360\n",
      "Total Cost: $0.00007005\n",
      "------------------------------------\n",
      "You are an expert evaluator for a RAG system.\n",
      "        Your task is to analyze the relevance of the LLM generated answer to the users given question.\n",
      "        The goal is to have 3 classification levels as if the relevance scores were 0, 0.5, or 1.\n",
      "        Based on the relevance of the generated answer, you will classify it\n",
      "        as \"NON_RELEVANT\", \"PARTLY_RELEVANT\", or \"RELEVANT\".\n",
      "\n",
      "        Here is the data for evaluation:\n",
      "\n",
      "        Question: ¿Cuándo y con qué edad debutó Messi con el primer equipo del FC Barcelona?\n",
      "        Generated Answer: Lionel Messi debutó con el primer equipo del FC Barcelona el 16 de noviembre de 2003, a la edad de 16 años y 145 días.\n",
      "\n",
      "        Please analyze the content and context of the generated answer in relation to the question\n",
      "        and provide your evaluation in parsable JSON without using code blocks:\n",
      "\n",
      "        {\n",
      "        \"Relevance\": \"NON_RELEVANT\" | \"PARTLY_RELEVANT\" | \"RELEVANT\",\n",
      "        \"Explanation\": \"[Provide a brief explanation for your evaluation in spanish]\"\n",
      "        }\n",
      "------------------------------------\n",
      "Input Tokens: 3483       Cost: $0.00052245\n",
      "Completion Tokens: 53       Cost: $0.00003180\n",
      "Total Cost: $0.00055425\n",
      "------------------------------------\n"
     ]
    },
    {
     "name": "stderr",
     "output_type": "stream",
     "text": [
      " 61%|██████    | 116/190 [04:05<02:17,  1.86s/it]"
     ]
    },
    {
     "name": "stdout",
     "output_type": "stream",
     "text": [
      "------------------------------------\n",
      "Input Tokens: 273       Cost: $0.00004095\n",
      "Completion Tokens: 60       Cost: $0.00003600\n",
      "Total Cost: $0.00007695\n",
      "------------------------------------\n",
      "You are an expert evaluator for a RAG system.\n",
      "        Your task is to analyze the relevance of the LLM generated answer to the users given question.\n",
      "        The goal is to have 3 classification levels as if the relevance scores were 0, 0.5, or 1.\n",
      "        Based on the relevance of the generated answer, you will classify it\n",
      "        as \"NON_RELEVANT\", \"PARTLY_RELEVANT\", or \"RELEVANT\".\n",
      "\n",
      "        Here is the data for evaluation:\n",
      "\n",
      "        Question: ¿Cuál fue el comentario de Hernán Crespo en 2018 sobre la necesidad de Messi de un equipo para tener éxito en el Mundial?\n",
      "        Generated Answer: Hernán Crespo comentó en 2018: \"Messi no es Maradona, él solo no gana un Mundial (...) Messi, para ser Messi, necesita al equipo\". Si necesitas más información o tienes otra pregunta, no dudes en decírmelo.\n",
      "\n",
      "        Please analyze the content and context of the generated answer in relation to the question\n",
      "        and provide your evaluation in parsable JSON without using code blocks:\n",
      "\n",
      "        {\n",
      "        \"Relevance\": \"NON_RELEVANT\" | \"PARTLY_RELEVANT\" | \"RELEVANT\",\n",
      "        \"Explanation\": \"[Provide a brief explanation for your evaluation in spanish]\"\n",
      "        }\n",
      "------------------------------------\n",
      "Input Tokens: 3606       Cost: $0.00054090\n",
      "Completion Tokens: 43       Cost: $0.00002580\n",
      "Total Cost: $0.00056670\n",
      "------------------------------------\n"
     ]
    },
    {
     "name": "stderr",
     "output_type": "stream",
     "text": [
      " 62%|██████▏   | 117/190 [04:08<02:38,  2.17s/it]"
     ]
    },
    {
     "name": "stdout",
     "output_type": "stream",
     "text": [
      "------------------------------------\n",
      "Input Tokens: 252       Cost: $0.00003780\n",
      "Completion Tokens: 68       Cost: $0.00004080\n",
      "Total Cost: $0.00007860\n",
      "------------------------------------\n",
      "You are an expert evaluator for a RAG system.\n",
      "        Your task is to analyze the relevance of the LLM generated answer to the users given question.\n",
      "        The goal is to have 3 classification levels as if the relevance scores were 0, 0.5, or 1.\n",
      "        Based on the relevance of the generated answer, you will classify it\n",
      "        as \"NON_RELEVANT\", \"PARTLY_RELEVANT\", or \"RELEVANT\".\n",
      "\n",
      "        Here is the data for evaluation:\n",
      "\n",
      "        Question: ¿Qué opinó Guillermo Hoyos sobre Messi en comparación con Maradona en 2003?\n",
      "        Generated Answer: Guillermo Hoyos, entrenador del Juvenil B y excompañero de Maradona en Boca, comentó en 2003 que \"Leo es lo más parecido que he visto a Diego en mi vida\".\n",
      "\n",
      "        Please analyze the content and context of the generated answer in relation to the question\n",
      "        and provide your evaluation in parsable JSON without using code blocks:\n",
      "\n",
      "        {\n",
      "        \"Relevance\": \"NON_RELEVANT\" | \"PARTLY_RELEVANT\" | \"RELEVANT\",\n",
      "        \"Explanation\": \"[Provide a brief explanation for your evaluation in spanish]\"\n",
      "        }\n",
      "------------------------------------\n",
      "Input Tokens: 3652       Cost: $0.00054780\n",
      "Completion Tokens: 176       Cost: $0.00010560\n",
      "Total Cost: $0.00065340\n",
      "------------------------------------\n"
     ]
    },
    {
     "name": "stderr",
     "output_type": "stream",
     "text": [
      " 62%|██████▏   | 118/190 [04:11<02:54,  2.42s/it]"
     ]
    },
    {
     "name": "stdout",
     "output_type": "stream",
     "text": [
      "------------------------------------\n",
      "Input Tokens: 387       Cost: $0.00005805\n",
      "Completion Tokens: 81       Cost: $0.00004860\n",
      "Total Cost: $0.00010665\n",
      "------------------------------------\n",
      "You are an expert evaluator for a RAG system.\n",
      "        Your task is to analyze the relevance of the LLM generated answer to the users given question.\n",
      "        The goal is to have 3 classification levels as if the relevance scores were 0, 0.5, or 1.\n",
      "        Based on the relevance of the generated answer, you will classify it\n",
      "        as \"NON_RELEVANT\", \"PARTLY_RELEVANT\", or \"RELEVANT\".\n",
      "\n",
      "        Here is the data for evaluation:\n",
      "\n",
      "        Question: ¿Cómo se describe la percepción que tiene la sociedad argentina sobre Messi en comparación con Maradona?\n",
      "        Generated Answer: La percepción que tiene la sociedad argentina sobre Messi en comparación con Maradona es generalmente de menor estima hacia Messi. Esto se debe a varias razones, como las diferencias en sus personalidades, logros futbolísticos y repercusión mediática. Messi es descrito como una persona reservada y sencilla, en contraste con la figura carismática y compleja de Maradona. Además, Maradona fue ídolo de Boca, un club con una gran cantidad de seguidores, mientras que Messi nunca jugó en la liga argentina. A lo largo de su carrera, Messi ha enfrentado críticas, particularmente en sus inicios con la selección argentina, donde se cuestionó su supuesta \"falta de pasión por la camiseta\". Sin embargo, con el tiempo, su vínculo con la hinchada se fortaleció, especialmente después de haber ganado la Copa América en 2021.\n",
      "\n",
      "        Please analyze the content and context of the generated answer in relation to the question\n",
      "        and provide your evaluation in parsable JSON without using code blocks:\n",
      "\n",
      "        {\n",
      "        \"Relevance\": \"NON_RELEVANT\" | \"PARTLY_RELEVANT\" | \"RELEVANT\",\n",
      "        \"Explanation\": \"[Provide a brief explanation for your evaluation in spanish]\"\n",
      "        }\n",
      "------------------------------------\n",
      "Input Tokens: 3653       Cost: $0.00054795\n",
      "Completion Tokens: 75       Cost: $0.00004500\n",
      "Total Cost: $0.00059295\n",
      "------------------------------------\n"
     ]
    },
    {
     "name": "stderr",
     "output_type": "stream",
     "text": [
      " 63%|██████▎   | 119/190 [04:13<02:45,  2.32s/it]"
     ]
    },
    {
     "name": "stdout",
     "output_type": "stream",
     "text": [
      "------------------------------------\n",
      "Input Tokens: 287       Cost: $0.00004305\n",
      "Completion Tokens: 77       Cost: $0.00004620\n",
      "Total Cost: $0.00008925\n",
      "------------------------------------\n",
      "You are an expert evaluator for a RAG system.\n",
      "        Your task is to analyze the relevance of the LLM generated answer to the users given question.\n",
      "        The goal is to have 3 classification levels as if the relevance scores were 0, 0.5, or 1.\n",
      "        Based on the relevance of the generated answer, you will classify it\n",
      "        as \"NON_RELEVANT\", \"PARTLY_RELEVANT\", or \"RELEVANT\".\n",
      "\n",
      "        Here is the data for evaluation:\n",
      "\n",
      "        Question: ¿Qué diferencia de personalidad se menciona entre Messi y Maradona que afecta su estima en Argentina?\n",
      "        Generated Answer: Se menciona que Messi es reservado y sencillo, un hombre sin complicaciones fuera del fútbol, mientras que Maradona tenía una personalidad más carismática y compleja. Esta diferencia de personalidades contribuye a que Messi generalmente sea tenido en menor estima que Maradona en la sociedad argentina, además de los logros futbolísticos y la repercusión mediática de ambos.\n",
      "\n",
      "        Please analyze the content and context of the generated answer in relation to the question\n",
      "        and provide your evaluation in parsable JSON without using code blocks:\n",
      "\n",
      "        {\n",
      "        \"Relevance\": \"NON_RELEVANT\" | \"PARTLY_RELEVANT\" | \"RELEVANT\",\n",
      "        \"Explanation\": \"[Provide a brief explanation for your evaluation in spanish]\"\n",
      "        }\n",
      "------------------------------------\n",
      "Input Tokens: 3864       Cost: $0.00057960\n",
      "Completion Tokens: 58       Cost: $0.00003480\n",
      "Total Cost: $0.00061440\n",
      "------------------------------------\n"
     ]
    },
    {
     "name": "stderr",
     "output_type": "stream",
     "text": [
      " 63%|██████▎   | 120/190 [04:15<02:34,  2.21s/it]"
     ]
    },
    {
     "name": "stdout",
     "output_type": "stream",
     "text": [
      "------------------------------------\n",
      "Input Tokens: 274       Cost: $0.00004110\n",
      "Completion Tokens: 69       Cost: $0.00004140\n",
      "Total Cost: $0.00008250\n",
      "------------------------------------\n",
      "You are an expert evaluator for a RAG system.\n",
      "        Your task is to analyze the relevance of the LLM generated answer to the users given question.\n",
      "        The goal is to have 3 classification levels as if the relevance scores were 0, 0.5, or 1.\n",
      "        Based on the relevance of the generated answer, you will classify it\n",
      "        as \"NON_RELEVANT\", \"PARTLY_RELEVANT\", or \"RELEVANT\".\n",
      "\n",
      "        Here is the data for evaluation:\n",
      "\n",
      "        Question: ¿Cuántas veces se enfrentaron Messi y Cristiano Ronaldo en El Clásico y qué impacto tuvo en La Liga?\n",
      "        Generated Answer: Messi y Cristiano Ronaldo se enfrentaron treinta veces en El Clásico, que es una de las rivalidades futbolísticas más fuertes. Gracias a su presencia, La Liga aumentó sus derechos de televisación en un 234%. ¿Hay algo más en lo que te pueda ayudar?\n",
      "\n",
      "        Please analyze the content and context of the generated answer in relation to the question\n",
      "        and provide your evaluation in parsable JSON without using code blocks:\n",
      "\n",
      "        {\n",
      "        \"Relevance\": \"NON_RELEVANT\" | \"PARTLY_RELEVANT\" | \"RELEVANT\",\n",
      "        \"Explanation\": \"[Provide a brief explanation for your evaluation in spanish]\"\n",
      "        }\n",
      "------------------------------------\n",
      "Input Tokens: 3981       Cost: $0.00059715\n",
      "Completion Tokens: 92       Cost: $0.00005520\n",
      "Total Cost: $0.00065235\n",
      "------------------------------------\n"
     ]
    },
    {
     "name": "stderr",
     "output_type": "stream",
     "text": [
      " 64%|██████▎   | 121/190 [04:17<02:43,  2.37s/it]"
     ]
    },
    {
     "name": "stdout",
     "output_type": "stream",
     "text": [
      "------------------------------------\n",
      "Input Tokens: 307       Cost: $0.00004605\n",
      "Completion Tokens: 83       Cost: $0.00004980\n",
      "Total Cost: $0.00009585\n",
      "------------------------------------\n",
      "You are an expert evaluator for a RAG system.\n",
      "        Your task is to analyze the relevance of the LLM generated answer to the users given question.\n",
      "        The goal is to have 3 classification levels as if the relevance scores were 0, 0.5, or 1.\n",
      "        Based on the relevance of the generated answer, you will classify it\n",
      "        as \"NON_RELEVANT\", \"PARTLY_RELEVANT\", or \"RELEVANT\".\n",
      "\n",
      "        Here is the data for evaluation:\n",
      "\n",
      "        Question: ¿Qué se analizó por primera vez en Europa sobre la entrega del Balón de Oro de 2011?\n",
      "        Generated Answer: En Europa se cuestionó la entrega del Balón de Oro de 2011 a Messi, dado que recibió críticas al considerar que, con la selección argentina, solo había llegado a cuartos de final en el Mundial de Sudáfrica 2010. Este análisis surgió en el contexto de un debate más amplio sobre la credibilidad de los criterios utilizados para la selección y evaluación de los premiados. ¿Hay algo más en lo que te pueda ayudar?\n",
      "\n",
      "        Please analyze the content and context of the generated answer in relation to the question\n",
      "        and provide your evaluation in parsable JSON without using code blocks:\n",
      "\n",
      "        {\n",
      "        \"Relevance\": \"NON_RELEVANT\" | \"PARTLY_RELEVANT\" | \"RELEVANT\",\n",
      "        \"Explanation\": \"[Provide a brief explanation for your evaluation in spanish]\"\n",
      "        }\n",
      "------------------------------------\n",
      "Input Tokens: 3565       Cost: $0.00053475\n",
      "Completion Tokens: 23       Cost: $0.00001380\n",
      "Total Cost: $0.00054855\n",
      "------------------------------------\n"
     ]
    },
    {
     "name": "stderr",
     "output_type": "stream",
     "text": [
      " 64%|██████▍   | 122/190 [04:20<02:38,  2.33s/it]"
     ]
    },
    {
     "name": "stdout",
     "output_type": "stream",
     "text": [
      "------------------------------------\n",
      "Input Tokens: 235       Cost: $0.00003525\n",
      "Completion Tokens: 75       Cost: $0.00004500\n",
      "Total Cost: $0.00008025\n",
      "------------------------------------\n",
      "You are an expert evaluator for a RAG system.\n",
      "        Your task is to analyze the relevance of the LLM generated answer to the users given question.\n",
      "        The goal is to have 3 classification levels as if the relevance scores were 0, 0.5, or 1.\n",
      "        Based on the relevance of the generated answer, you will classify it\n",
      "        as \"NON_RELEVANT\", \"PARTLY_RELEVANT\", or \"RELEVANT\".\n",
      "\n",
      "        Here is the data for evaluation:\n",
      "\n",
      "        Question: ¿Cómo influyó Messi en el atractivo comercial del fútbol según la revista Time en 2014?\n",
      "        Generated Answer: Lo siento, pero no tengo suficiente información para responder a eso. ¿Hay algo más en lo que pueda ayudarte?\n",
      "\n",
      "        Please analyze the content and context of the generated answer in relation to the question\n",
      "        and provide your evaluation in parsable JSON without using code blocks:\n",
      "\n",
      "        {\n",
      "        \"Relevance\": \"NON_RELEVANT\" | \"PARTLY_RELEVANT\" | \"RELEVANT\",\n",
      "        \"Explanation\": \"[Provide a brief explanation for your evaluation in spanish]\"\n",
      "        }\n",
      "------------------------------------\n",
      "Input Tokens: 4040       Cost: $0.00060600\n",
      "Completion Tokens: 22       Cost: $0.00001320\n",
      "Total Cost: $0.00061920\n",
      "------------------------------------\n"
     ]
    },
    {
     "name": "stderr",
     "output_type": "stream",
     "text": [
      " 65%|██████▍   | 123/190 [04:21<02:21,  2.11s/it]"
     ]
    },
    {
     "name": "stdout",
     "output_type": "stream",
     "text": [
      "------------------------------------\n",
      "Input Tokens: 233       Cost: $0.00003495\n",
      "Completion Tokens: 56       Cost: $0.00003360\n",
      "Total Cost: $0.00006855\n",
      "------------------------------------\n",
      "You are an expert evaluator for a RAG system.\n",
      "        Your task is to analyze the relevance of the LLM generated answer to the users given question.\n",
      "        The goal is to have 3 classification levels as if the relevance scores were 0, 0.5, or 1.\n",
      "        Based on the relevance of the generated answer, you will classify it\n",
      "        as \"NON_RELEVANT\", \"PARTLY_RELEVANT\", or \"RELEVANT\".\n",
      "\n",
      "        Here is the data for evaluation:\n",
      "\n",
      "        Question: ¿Cuál fue el impacto financiero que tuvo la salida de Messi del Barcelona en 2021?\n",
      "        Generated Answer: Lo siento, pero no tengo suficiente información para responder eso. ¿Hay algo más en lo que puedo ayudarte?\n",
      "\n",
      "        Please analyze the content and context of the generated answer in relation to the question\n",
      "        and provide your evaluation in parsable JSON without using code blocks:\n",
      "\n",
      "        {\n",
      "        \"Relevance\": \"NON_RELEVANT\" | \"PARTLY_RELEVANT\" | \"RELEVANT\",\n",
      "        \"Explanation\": \"[Provide a brief explanation for your evaluation in spanish]\"\n",
      "        }\n",
      "------------------------------------\n",
      "Input Tokens: 4037       Cost: $0.00060555\n",
      "Completion Tokens: 24       Cost: $0.00001440\n",
      "Total Cost: $0.00061995\n",
      "------------------------------------\n"
     ]
    },
    {
     "name": "stderr",
     "output_type": "stream",
     "text": [
      " 65%|██████▌   | 124/190 [04:23<02:15,  2.05s/it]"
     ]
    },
    {
     "name": "stdout",
     "output_type": "stream",
     "text": [
      "------------------------------------\n",
      "Input Tokens: 237       Cost: $0.00003555\n",
      "Completion Tokens: 67       Cost: $0.00004020\n",
      "Total Cost: $0.00007575\n",
      "------------------------------------\n",
      "You are an expert evaluator for a RAG system.\n",
      "        Your task is to analyze the relevance of the LLM generated answer to the users given question.\n",
      "        The goal is to have 3 classification levels as if the relevance scores were 0, 0.5, or 1.\n",
      "        Based on the relevance of the generated answer, you will classify it\n",
      "        as \"NON_RELEVANT\", \"PARTLY_RELEVANT\", or \"RELEVANT\".\n",
      "\n",
      "        Here is the data for evaluation:\n",
      "\n",
      "        Question: ¿Qué se dijo sobre las redes sociales de Messi en relación con su éxito en comparación al Papa Francisco?\n",
      "        Generated Answer: Lo siento, pero no tengo suficiente información para responder a esa pregunta. ¿Hay algo más en lo que pueda ayudarte?\n",
      "\n",
      "        Please analyze the content and context of the generated answer in relation to the question\n",
      "        and provide your evaluation in parsable JSON without using code blocks:\n",
      "\n",
      "        {\n",
      "        \"Relevance\": \"NON_RELEVANT\" | \"PARTLY_RELEVANT\" | \"RELEVANT\",\n",
      "        \"Explanation\": \"[Provide a brief explanation for your evaluation in spanish]\"\n",
      "        }\n",
      "------------------------------------\n",
      "Input Tokens: 3887       Cost: $0.00058305\n",
      "Completion Tokens: 24       Cost: $0.00001440\n",
      "Total Cost: $0.00059745\n",
      "------------------------------------\n"
     ]
    },
    {
     "name": "stderr",
     "output_type": "stream",
     "text": [
      " 66%|██████▌   | 125/190 [04:25<02:08,  1.97s/it]"
     ]
    },
    {
     "name": "stdout",
     "output_type": "stream",
     "text": [
      "------------------------------------\n",
      "Input Tokens: 237       Cost: $0.00003555\n",
      "Completion Tokens: 72       Cost: $0.00004320\n",
      "Total Cost: $0.00007875\n",
      "------------------------------------\n",
      "You are an expert evaluator for a RAG system.\n",
      "        Your task is to analyze the relevance of the LLM generated answer to the users given question.\n",
      "        The goal is to have 3 classification levels as if the relevance scores were 0, 0.5, or 1.\n",
      "        Based on the relevance of the generated answer, you will classify it\n",
      "        as \"NON_RELEVANT\", \"PARTLY_RELEVANT\", or \"RELEVANT\".\n",
      "\n",
      "        Here is the data for evaluation:\n",
      "\n",
      "        Question: ¿Qué críticas recibió Messi por aceptar ser embajador de Turismo de Arabia Saudita en 2022?\n",
      "        Generated Answer: Lo siento, pero no tengo suficiente información para responder a esa pregunta. ¿Hay algo más en lo que pueda ayudarte?\n",
      "\n",
      "        Please analyze the content and context of the generated answer in relation to the question\n",
      "        and provide your evaluation in parsable JSON without using code blocks:\n",
      "\n",
      "        {\n",
      "        \"Relevance\": \"NON_RELEVANT\" | \"PARTLY_RELEVANT\" | \"RELEVANT\",\n",
      "        \"Explanation\": \"[Provide a brief explanation for your evaluation in spanish]\"\n",
      "        }\n",
      "------------------------------------\n",
      "Input Tokens: 4174       Cost: $0.00062610\n",
      "Completion Tokens: 23       Cost: $0.00001380\n",
      "Total Cost: $0.00063990\n",
      "------------------------------------\n"
     ]
    },
    {
     "name": "stderr",
     "output_type": "stream",
     "text": [
      " 66%|██████▋   | 126/190 [04:27<02:07,  2.00s/it]"
     ]
    },
    {
     "name": "stdout",
     "output_type": "stream",
     "text": [
      "------------------------------------\n",
      "Input Tokens: 234       Cost: $0.00003510\n",
      "Completion Tokens: 64       Cost: $0.00003840\n",
      "Total Cost: $0.00007350\n",
      "------------------------------------\n",
      "You are an expert evaluator for a RAG system.\n",
      "        Your task is to analyze the relevance of the LLM generated answer to the users given question.\n",
      "        The goal is to have 3 classification levels as if the relevance scores were 0, 0.5, or 1.\n",
      "        Based on the relevance of the generated answer, you will classify it\n",
      "        as \"NON_RELEVANT\", \"PARTLY_RELEVANT\", or \"RELEVANT\".\n",
      "\n",
      "        Here is the data for evaluation:\n",
      "\n",
      "        Question: ¿Cuál fue el anuncio realizado por Sony Entertainment en marzo de 2023 relacionado con Messi?\n",
      "        Generated Answer: Lo siento, pero no tengo suficiente información para responder esa pregunta. ¿Hay algo más en lo que pueda ayudarte?\n",
      "\n",
      "        Please analyze the content and context of the generated answer in relation to the question\n",
      "        and provide your evaluation in parsable JSON without using code blocks:\n",
      "\n",
      "        {\n",
      "        \"Relevance\": \"NON_RELEVANT\" | \"PARTLY_RELEVANT\" | \"RELEVANT\",\n",
      "        \"Explanation\": \"[Provide a brief explanation for your evaluation in spanish]\"\n",
      "        }\n",
      "------------------------------------\n",
      "Input Tokens: 4046       Cost: $0.00060690\n",
      "Completion Tokens: 187       Cost: $0.00011220\n",
      "Total Cost: $0.00071910\n",
      "------------------------------------\n"
     ]
    },
    {
     "name": "stderr",
     "output_type": "stream",
     "text": [
      " 67%|██████▋   | 127/190 [04:30<02:30,  2.39s/it]"
     ]
    },
    {
     "name": "stdout",
     "output_type": "stream",
     "text": [
      "------------------------------------\n",
      "Input Tokens: 401       Cost: $0.00006015\n",
      "Completion Tokens: 69       Cost: $0.00004140\n",
      "Total Cost: $0.00010155\n",
      "------------------------------------\n",
      "You are an expert evaluator for a RAG system.\n",
      "        Your task is to analyze the relevance of the LLM generated answer to the users given question.\n",
      "        The goal is to have 3 classification levels as if the relevance scores were 0, 0.5, or 1.\n",
      "        Based on the relevance of the generated answer, you will classify it\n",
      "        as \"NON_RELEVANT\", \"PARTLY_RELEVANT\", or \"RELEVANT\".\n",
      "\n",
      "        Here is the data for evaluation:\n",
      "\n",
      "        Question: ¿Qué nuevas especies biológicas recibieron el nombre de Messi en mayo de 2023 y cuáles son?\n",
      "        Generated Answer: En mayo de 2023, tres paleontólogos argentinos del Centro Nacional Patagónico (CENPAT) del CONICET describieron varias nuevas especies biológicas que llevan el nombre de Messi. Estas especies son:\n",
      "\n",
      "1. Discinisca messi - una nueva especie de braquiópodo marino fósil de antigüedad Mioceno.\n",
      "2. Acanthogonatus messii - una especie de araña de la provincia de Chubut.\n",
      "3. Liolaemus messii - una lagartija de Salta.\n",
      "4. Vultur messii - una especie fósil de cóndor en Catamarca.\n",
      "5. Cercopemyces messii - una especie de hongo del Parque Nacional Baritú.\n",
      "\n",
      "Con estas nuevas designaciones, Messi se convirtió en el futbolista con más especies biológicas con su nombre. ¿Hay algo más en lo que te pueda ayudar?\n",
      "\n",
      "        Please analyze the content and context of the generated answer in relation to the question\n",
      "        and provide your evaluation in parsable JSON without using code blocks:\n",
      "\n",
      "        {\n",
      "        \"Relevance\": \"NON_RELEVANT\" | \"PARTLY_RELEVANT\" | \"RELEVANT\",\n",
      "        \"Explanation\": \"[Provide a brief explanation for your evaluation in spanish]\"\n",
      "        }\n",
      "------------------------------------\n",
      "Input Tokens: 4115       Cost: $0.00061725\n",
      "Completion Tokens: 24       Cost: $0.00001440\n",
      "Total Cost: $0.00063165\n",
      "------------------------------------\n"
     ]
    },
    {
     "name": "stderr",
     "output_type": "stream",
     "text": [
      " 67%|██████▋   | 128/190 [04:32<02:14,  2.17s/it]"
     ]
    },
    {
     "name": "stdout",
     "output_type": "stream",
     "text": [
      "------------------------------------\n",
      "Input Tokens: 245       Cost: $0.00003675\n",
      "Completion Tokens: 64       Cost: $0.00003840\n",
      "Total Cost: $0.00007515\n",
      "------------------------------------\n",
      "You are an expert evaluator for a RAG system.\n",
      "        Your task is to analyze the relevance of the LLM generated answer to the users given question.\n",
      "        The goal is to have 3 classification levels as if the relevance scores were 0, 0.5, or 1.\n",
      "        Based on the relevance of the generated answer, you will classify it\n",
      "        as \"NON_RELEVANT\", \"PARTLY_RELEVANT\", or \"RELEVANT\".\n",
      "\n",
      "        Here is the data for evaluation:\n",
      "\n",
      "        Question: ¿Qué sucedió en Instagram una hora después de que Messi anunció su fichaje por Inter Miami el 7 de junio de 2023?\n",
      "        Generated Answer: I'm sorry, but I don’t have enough information to answer that. Is there anything else I can help you with?\n",
      "\n",
      "        Please analyze the content and context of the generated answer in relation to the question\n",
      "        and provide your evaluation in parsable JSON without using code blocks:\n",
      "\n",
      "        {\n",
      "        \"Relevance\": \"NON_RELEVANT\" | \"PARTLY_RELEVANT\" | \"RELEVANT\",\n",
      "        \"Explanation\": \"[Provide a brief explanation for your evaluation in spanish]\"\n",
      "        }\n",
      "------------------------------------\n",
      "Input Tokens: 3614       Cost: $0.00054210\n",
      "Completion Tokens: 24       Cost: $0.00001440\n",
      "Total Cost: $0.00055650\n",
      "------------------------------------\n"
     ]
    },
    {
     "name": "stderr",
     "output_type": "stream",
     "text": [
      " 68%|██████▊   | 129/190 [04:34<02:02,  2.01s/it]"
     ]
    },
    {
     "name": "stdout",
     "output_type": "stream",
     "text": [
      "------------------------------------\n",
      "Input Tokens: 242       Cost: $0.00003630\n",
      "Completion Tokens: 64       Cost: $0.00003840\n",
      "Total Cost: $0.00007470\n",
      "------------------------------------\n",
      "You are an expert evaluator for a RAG system.\n",
      "        Your task is to analyze the relevance of the LLM generated answer to the users given question.\n",
      "        The goal is to have 3 classification levels as if the relevance scores were 0, 0.5, or 1.\n",
      "        Based on the relevance of the generated answer, you will classify it\n",
      "        as \"NON_RELEVANT\", \"PARTLY_RELEVANT\", or \"RELEVANT\".\n",
      "\n",
      "        Here is the data for evaluation:\n",
      "\n",
      "        Question: ¿Cuál fue el récord de espectadores del partido entre Inter Miami y Cruz Azul que se llevó a cabo después del anuncio de Messi?\n",
      "        Generated Answer: Lo siento, pero no tengo suficiente información para responder a eso. ¿Hay algo más en lo que te pueda ayudar?\n",
      "\n",
      "        Please analyze the content and context of the generated answer in relation to the question\n",
      "        and provide your evaluation in parsable JSON without using code blocks:\n",
      "\n",
      "        {\n",
      "        \"Relevance\": \"NON_RELEVANT\" | \"PARTLY_RELEVANT\" | \"RELEVANT\",\n",
      "        \"Explanation\": \"[Provide a brief explanation for your evaluation in spanish]\"\n",
      "        }\n",
      "------------------------------------\n",
      "Input Tokens: 3879       Cost: $0.00058185\n",
      "Completion Tokens: 22       Cost: $0.00001320\n",
      "Total Cost: $0.00059505\n",
      "------------------------------------\n"
     ]
    },
    {
     "name": "stderr",
     "output_type": "stream",
     "text": [
      " 68%|██████▊   | 130/190 [04:35<01:55,  1.93s/it]"
     ]
    },
    {
     "name": "stdout",
     "output_type": "stream",
     "text": [
      "------------------------------------\n",
      "Input Tokens: 238       Cost: $0.00003570\n",
      "Completion Tokens: 64       Cost: $0.00003840\n",
      "Total Cost: $0.00007410\n",
      "------------------------------------\n",
      "You are an expert evaluator for a RAG system.\n",
      "        Your task is to analyze the relevance of the LLM generated answer to the users given question.\n",
      "        The goal is to have 3 classification levels as if the relevance scores were 0, 0.5, or 1.\n",
      "        Based on the relevance of the generated answer, you will classify it\n",
      "        as \"NON_RELEVANT\", \"PARTLY_RELEVANT\", or \"RELEVANT\".\n",
      "\n",
      "        Here is the data for evaluation:\n",
      "\n",
      "        Question: ¿Cuántos goles y asistencias acumuló Messi a lo largo de su carrera profesional según las estadísticas proporcionadas?\n",
      "        Generated Answer: Lo siento, pero no tengo suficiente información para responder eso. ¿Hay algo más en lo que pueda ayudarte?\n",
      "\n",
      "        Please analyze the content and context of the generated answer in relation to the question\n",
      "        and provide your evaluation in parsable JSON without using code blocks:\n",
      "\n",
      "        {\n",
      "        \"Relevance\": \"NON_RELEVANT\" | \"PARTLY_RELEVANT\" | \"RELEVANT\",\n",
      "        \"Explanation\": \"[Provide a brief explanation for your evaluation in spanish]\"\n",
      "        }\n",
      "------------------------------------\n",
      "Input Tokens: 4136       Cost: $0.00062040\n",
      "Completion Tokens: 23       Cost: $0.00001380\n",
      "Total Cost: $0.00063420\n",
      "------------------------------------\n"
     ]
    },
    {
     "name": "stderr",
     "output_type": "stream",
     "text": [
      " 69%|██████▉   | 131/190 [04:38<01:58,  2.00s/it]"
     ]
    },
    {
     "name": "stdout",
     "output_type": "stream",
     "text": [
      "------------------------------------\n",
      "Input Tokens: 233       Cost: $0.00003495\n",
      "Completion Tokens: 63       Cost: $0.00003780\n",
      "Total Cost: $0.00007275\n",
      "------------------------------------\n",
      "You are an expert evaluator for a RAG system.\n",
      "        Your task is to analyze the relevance of the LLM generated answer to the users given question.\n",
      "        The goal is to have 3 classification levels as if the relevance scores were 0, 0.5, or 1.\n",
      "        Based on the relevance of the generated answer, you will classify it\n",
      "        as \"NON_RELEVANT\", \"PARTLY_RELEVANT\", or \"RELEVANT\".\n",
      "\n",
      "        Here is the data for evaluation:\n",
      "\n",
      "        Question: ¿Cuántos goles anotó Lionel Messi en la Copa Mundial de 2014?\n",
      "        Generated Answer: Lo siento, pero no tengo suficiente información para responder esa pregunta. ¿Hay algo más en lo que pueda ayudarte?\n",
      "\n",
      "        Please analyze the content and context of the generated answer in relation to the question\n",
      "        and provide your evaluation in parsable JSON without using code blocks:\n",
      "\n",
      "        {\n",
      "        \"Relevance\": \"NON_RELEVANT\" | \"PARTLY_RELEVANT\" | \"RELEVANT\",\n",
      "        \"Explanation\": \"[Provide a brief explanation for your evaluation in spanish]\"\n",
      "        }\n",
      "------------------------------------\n",
      "Input Tokens: 3736       Cost: $0.00056040\n",
      "Completion Tokens: 30       Cost: $0.00001800\n",
      "Total Cost: $0.00057840\n",
      "------------------------------------\n"
     ]
    },
    {
     "name": "stderr",
     "output_type": "stream",
     "text": [
      " 69%|██████▉   | 132/190 [04:40<02:05,  2.17s/it]"
     ]
    },
    {
     "name": "stdout",
     "output_type": "stream",
     "text": [
      "------------------------------------\n",
      "Input Tokens: 237       Cost: $0.00003555\n",
      "Completion Tokens: 68       Cost: $0.00004080\n",
      "Total Cost: $0.00007635\n",
      "------------------------------------\n",
      "You are an expert evaluator for a RAG system.\n",
      "        Your task is to analyze the relevance of the LLM generated answer to the users given question.\n",
      "        The goal is to have 3 classification levels as if the relevance scores were 0, 0.5, or 1.\n",
      "        Based on the relevance of the generated answer, you will classify it\n",
      "        as \"NON_RELEVANT\", \"PARTLY_RELEVANT\", or \"RELEVANT\".\n",
      "\n",
      "        Here is the data for evaluation:\n",
      "\n",
      "        Question: ¿Cuál fue el resultado de la Copa América 2021 para Lionel Messi?\n",
      "        Generated Answer: Lionel Messi y la selección de Argentina ganaron la Copa América 2021, venciendo a Brasil en la final en el Maracaná.\n",
      "\n",
      "        Please analyze the content and context of the generated answer in relation to the question\n",
      "        and provide your evaluation in parsable JSON without using code blocks:\n",
      "\n",
      "        {\n",
      "        \"Relevance\": \"NON_RELEVANT\" | \"PARTLY_RELEVANT\" | \"RELEVANT\",\n",
      "        \"Explanation\": \"[Provide a brief explanation for your evaluation in spanish]\"\n",
      "        }\n",
      "------------------------------------\n",
      "Input Tokens: 3624       Cost: $0.00054360\n",
      "Completion Tokens: 42       Cost: $0.00002520\n",
      "Total Cost: $0.00056880\n",
      "------------------------------------\n"
     ]
    },
    {
     "name": "stderr",
     "output_type": "stream",
     "text": [
      " 70%|███████   | 133/190 [04:42<02:00,  2.11s/it]"
     ]
    },
    {
     "name": "stdout",
     "output_type": "stream",
     "text": [
      "------------------------------------\n",
      "Input Tokens: 250       Cost: $0.00003750\n",
      "Completion Tokens: 78       Cost: $0.00004680\n",
      "Total Cost: $0.00008430\n",
      "------------------------------------\n",
      "You are an expert evaluator for a RAG system.\n",
      "        Your task is to analyze the relevance of the LLM generated answer to the users given question.\n",
      "        The goal is to have 3 classification levels as if the relevance scores were 0, 0.5, or 1.\n",
      "        Based on the relevance of the generated answer, you will classify it\n",
      "        as \"NON_RELEVANT\", \"PARTLY_RELEVANT\", or \"RELEVANT\".\n",
      "\n",
      "        Here is the data for evaluation:\n",
      "\n",
      "        Question: ¿En cuántos partidos de la Primera División de España jugó Lionel Messi?\n",
      "        Generated Answer: Lionel Messi jugó un total de nueve partidos en la Primera División de España durante la temporada 2004-2005. Si necesitas más información o tienes otra pregunta, estaré encantado de ayudarte.\n",
      "\n",
      "        Please analyze the content and context of the generated answer in relation to the question\n",
      "        and provide your evaluation in parsable JSON without using code blocks:\n",
      "\n",
      "        {\n",
      "        \"Relevance\": \"NON_RELEVANT\" | \"PARTLY_RELEVANT\" | \"RELEVANT\",\n",
      "        \"Explanation\": \"[Provide a brief explanation for your evaluation in spanish]\"\n",
      "        }\n",
      "------------------------------------\n",
      "Input Tokens: 4246       Cost: $0.00063690\n",
      "Completion Tokens: 24       Cost: $0.00001440\n",
      "Total Cost: $0.00065130\n",
      "------------------------------------\n"
     ]
    },
    {
     "name": "stderr",
     "output_type": "stream",
     "text": [
      " 71%|███████   | 134/190 [04:44<01:54,  2.05s/it]"
     ]
    },
    {
     "name": "stdout",
     "output_type": "stream",
     "text": [
      "------------------------------------\n",
      "Input Tokens: 234       Cost: $0.00003510\n",
      "Completion Tokens: 65       Cost: $0.00003900\n",
      "Total Cost: $0.00007410\n",
      "------------------------------------\n",
      "You are an expert evaluator for a RAG system.\n",
      "        Your task is to analyze the relevance of the LLM generated answer to the users given question.\n",
      "        The goal is to have 3 classification levels as if the relevance scores were 0, 0.5, or 1.\n",
      "        Based on the relevance of the generated answer, you will classify it\n",
      "        as \"NON_RELEVANT\", \"PARTLY_RELEVANT\", or \"RELEVANT\".\n",
      "\n",
      "        Here is the data for evaluation:\n",
      "\n",
      "        Question: ¿Cuántos goles anotó Messi en sus 58 partidos en Ligue 1?\n",
      "        Generated Answer: I'm sorry, but I don’t have enough information to answer that. Is there anything else I can help you with?\n",
      "\n",
      "        Please analyze the content and context of the generated answer in relation to the question\n",
      "        and provide your evaluation in parsable JSON without using code blocks:\n",
      "\n",
      "        {\n",
      "        \"Relevance\": \"NON_RELEVANT\" | \"PARTLY_RELEVANT\" | \"RELEVANT\",\n",
      "        \"Explanation\": \"[Provide a brief explanation for your evaluation in spanish]\"\n",
      "        }\n",
      "------------------------------------\n",
      "Input Tokens: 4066       Cost: $0.00060990\n",
      "Completion Tokens: 45       Cost: $0.00002700\n",
      "Total Cost: $0.00063690\n",
      "------------------------------------\n"
     ]
    },
    {
     "name": "stderr",
     "output_type": "stream",
     "text": [
      " 71%|███████   | 135/190 [04:46<01:51,  2.03s/it]"
     ]
    },
    {
     "name": "stdout",
     "output_type": "stream",
     "text": [
      "------------------------------------\n",
      "Input Tokens: 250       Cost: $0.00003750\n",
      "Completion Tokens: 71       Cost: $0.00004260\n",
      "Total Cost: $0.00008010\n",
      "------------------------------------\n",
      "You are an expert evaluator for a RAG system.\n",
      "        Your task is to analyze the relevance of the LLM generated answer to the users given question.\n",
      "        The goal is to have 3 classification levels as if the relevance scores were 0, 0.5, or 1.\n",
      "        Based on the relevance of the generated answer, you will classify it\n",
      "        as \"NON_RELEVANT\", \"PARTLY_RELEVANT\", or \"RELEVANT\".\n",
      "\n",
      "        Here is the data for evaluation:\n",
      "\n",
      "        Question: ¿Qué promedio de goles tiene Lionel Messi en las categorías juveniles?\n",
      "        Generated Answer: Lionel Messi tiene un promedio de 1.33 goles por partido en las categorías juveniles. Anotó un total de 234 goles en 176 partidos. ¿Hay algo más en lo que te pueda ayudar?\n",
      "\n",
      "        Please analyze the content and context of the generated answer in relation to the question\n",
      "        and provide your evaluation in parsable JSON without using code blocks:\n",
      "\n",
      "        {\n",
      "        \"Relevance\": \"NON_RELEVANT\" | \"PARTLY_RELEVANT\" | \"RELEVANT\",\n",
      "        \"Explanation\": \"[Provide a brief explanation for your evaluation in spanish]\"\n",
      "        }\n",
      "------------------------------------\n",
      "Input Tokens: 3877       Cost: $0.00058155\n",
      "Completion Tokens: 22       Cost: $0.00001320\n",
      "Total Cost: $0.00059475\n",
      "------------------------------------\n"
     ]
    },
    {
     "name": "stderr",
     "output_type": "stream",
     "text": [
      " 72%|███████▏  | 136/190 [04:48<01:45,  1.96s/it]"
     ]
    },
    {
     "name": "stdout",
     "output_type": "stream",
     "text": [
      "------------------------------------\n",
      "Input Tokens: 236       Cost: $0.00003540\n",
      "Completion Tokens: 72       Cost: $0.00004320\n",
      "Total Cost: $0.00007860\n",
      "------------------------------------\n",
      "You are an expert evaluator for a RAG system.\n",
      "        Your task is to analyze the relevance of the LLM generated answer to the users given question.\n",
      "        The goal is to have 3 classification levels as if the relevance scores were 0, 0.5, or 1.\n",
      "        Based on the relevance of the generated answer, you will classify it\n",
      "        as \"NON_RELEVANT\", \"PARTLY_RELEVANT\", or \"RELEVANT\".\n",
      "\n",
      "        Here is the data for evaluation:\n",
      "\n",
      "        Question: ¿Cuántos partidos ha disputado Lionel Messi en la Ligue 1 hasta julio de 2024?\n",
      "        Generated Answer: Lo siento, pero no tengo suficiente información para responder eso. ¿Hay algo más en lo que pueda ayudarte?\n",
      "\n",
      "        Please analyze the content and context of the generated answer in relation to the question\n",
      "        and provide your evaluation in parsable JSON without using code blocks:\n",
      "\n",
      "        {\n",
      "        \"Relevance\": \"NON_RELEVANT\" | \"PARTLY_RELEVANT\" | \"RELEVANT\",\n",
      "        \"Explanation\": \"[Provide a brief explanation for your evaluation in spanish]\"\n",
      "        }\n",
      "------------------------------------\n",
      "Input Tokens: 4065       Cost: $0.00060975\n",
      "Completion Tokens: 23       Cost: $0.00001380\n",
      "Total Cost: $0.00062355\n",
      "------------------------------------\n"
     ]
    },
    {
     "name": "stderr",
     "output_type": "stream",
     "text": [
      " 72%|███████▏  | 137/190 [04:50<01:48,  2.06s/it]"
     ]
    },
    {
     "name": "stdout",
     "output_type": "stream",
     "text": [
      "------------------------------------\n",
      "Input Tokens: 235       Cost: $0.00003525\n",
      "Completion Tokens: 56       Cost: $0.00003360\n",
      "Total Cost: $0.00006885\n",
      "------------------------------------\n",
      "You are an expert evaluator for a RAG system.\n",
      "        Your task is to analyze the relevance of the LLM generated answer to the users given question.\n",
      "        The goal is to have 3 classification levels as if the relevance scores were 0, 0.5, or 1.\n",
      "        Based on the relevance of the generated answer, you will classify it\n",
      "        as \"NON_RELEVANT\", \"PARTLY_RELEVANT\", or \"RELEVANT\".\n",
      "\n",
      "        Here is the data for evaluation:\n",
      "\n",
      "        Question: ¿Cuántos goles ha anotado Messi en su carrera oficial hasta julio de 2024?\n",
      "        Generated Answer: Lo siento, pero no tengo suficiente información para responder a eso. ¿Hay algo más en lo que pueda ayudarte?\n",
      "\n",
      "        Please analyze the content and context of the generated answer in relation to the question\n",
      "        and provide your evaluation in parsable JSON without using code blocks:\n",
      "\n",
      "        {\n",
      "        \"Relevance\": \"NON_RELEVANT\" | \"PARTLY_RELEVANT\" | \"RELEVANT\",\n",
      "        \"Explanation\": \"[Provide a brief explanation for your evaluation in spanish]\"\n",
      "        }\n",
      "------------------------------------\n",
      "Input Tokens: 3898       Cost: $0.00058470\n",
      "Completion Tokens: 23       Cost: $0.00001380\n",
      "Total Cost: $0.00059850\n",
      "------------------------------------\n"
     ]
    },
    {
     "name": "stderr",
     "output_type": "stream",
     "text": [
      " 73%|███████▎  | 138/190 [04:52<01:42,  1.97s/it]"
     ]
    },
    {
     "name": "stdout",
     "output_type": "stream",
     "text": [
      "------------------------------------\n",
      "Input Tokens: 233       Cost: $0.00003495\n",
      "Completion Tokens: 76       Cost: $0.00004560\n",
      "Total Cost: $0.00008055\n",
      "------------------------------------\n",
      "You are an expert evaluator for a RAG system.\n",
      "        Your task is to analyze the relevance of the LLM generated answer to the users given question.\n",
      "        The goal is to have 3 classification levels as if the relevance scores were 0, 0.5, or 1.\n",
      "        Based on the relevance of the generated answer, you will classify it\n",
      "        as \"NON_RELEVANT\", \"PARTLY_RELEVANT\", or \"RELEVANT\".\n",
      "\n",
      "        Here is the data for evaluation:\n",
      "\n",
      "        Question: ¿Cuál es la cantidad total de asistencias que Messi ha registrado en su carrera oficial?\n",
      "        Generated Answer: Lo siento, pero no tengo suficiente información para responder a eso. ¿Hay algo más en lo que pueda ayudarte?\n",
      "\n",
      "        Please analyze the content and context of the generated answer in relation to the question\n",
      "        and provide your evaluation in parsable JSON without using code blocks:\n",
      "\n",
      "        {\n",
      "        \"Relevance\": \"NON_RELEVANT\" | \"PARTLY_RELEVANT\" | \"RELEVANT\",\n",
      "        \"Explanation\": \"[Provide a brief explanation for your evaluation in spanish]\"\n",
      "        }\n",
      "------------------------------------\n",
      "Input Tokens: 3927       Cost: $0.00058905\n",
      "Completion Tokens: 23       Cost: $0.00001380\n",
      "Total Cost: $0.00060285\n",
      "------------------------------------\n"
     ]
    },
    {
     "name": "stderr",
     "output_type": "stream",
     "text": [
      " 73%|███████▎  | 139/190 [04:54<01:44,  2.04s/it]"
     ]
    },
    {
     "name": "stdout",
     "output_type": "stream",
     "text": [
      "------------------------------------\n",
      "Input Tokens: 237       Cost: $0.00003555\n",
      "Completion Tokens: 52       Cost: $0.00003120\n",
      "Total Cost: $0.00006675\n",
      "------------------------------------\n",
      "You are an expert evaluator for a RAG system.\n",
      "        Your task is to analyze the relevance of the LLM generated answer to the users given question.\n",
      "        The goal is to have 3 classification levels as if the relevance scores were 0, 0.5, or 1.\n",
      "        Based on the relevance of the generated answer, you will classify it\n",
      "        as \"NON_RELEVANT\", \"PARTLY_RELEVANT\", or \"RELEVANT\".\n",
      "\n",
      "        Here is the data for evaluation:\n",
      "\n",
      "        Question: ¿Cuántos goles marcó Messi en su trayectoria con la selección argentina hasta julio de 2024?\n",
      "        Generated Answer: Lo siento, pero no tengo suficiente información para responder a eso. ¿Hay algo más en lo que pueda ayudarte?\n",
      "\n",
      "        Please analyze the content and context of the generated answer in relation to the question\n",
      "        and provide your evaluation in parsable JSON without using code blocks:\n",
      "\n",
      "        {\n",
      "        \"Relevance\": \"NON_RELEVANT\" | \"PARTLY_RELEVANT\" | \"RELEVANT\",\n",
      "        \"Explanation\": \"[Provide a brief explanation for your evaluation in spanish]\"\n",
      "        }\n",
      "------------------------------------\n",
      "Input Tokens: 3959       Cost: $0.00059385\n",
      "Completion Tokens: 24       Cost: $0.00001440\n",
      "Total Cost: $0.00060825\n",
      "------------------------------------\n"
     ]
    },
    {
     "name": "stderr",
     "output_type": "stream",
     "text": [
      " 74%|███████▎  | 140/190 [04:56<01:42,  2.05s/it]"
     ]
    },
    {
     "name": "stdout",
     "output_type": "stream",
     "text": [
      "------------------------------------\n",
      "Input Tokens: 236       Cost: $0.00003540\n",
      "Completion Tokens: 59       Cost: $0.00003540\n",
      "Total Cost: $0.00007080\n",
      "------------------------------------\n",
      "You are an expert evaluator for a RAG system.\n",
      "        Your task is to analyze the relevance of the LLM generated answer to the users given question.\n",
      "        The goal is to have 3 classification levels as if the relevance scores were 0, 0.5, or 1.\n",
      "        Based on the relevance of the generated answer, you will classify it\n",
      "        as \"NON_RELEVANT\", \"PARTLY_RELEVANT\", or \"RELEVANT\".\n",
      "\n",
      "        Here is the data for evaluation:\n",
      "\n",
      "        Question: ¿Qué fecha se registró el gol número mil de Messi y contra qué equipo lo anotó?\n",
      "        Generated Answer: Lo siento, pero no tengo suficiente información para responder a esa pregunta. ¿Hay algo más en lo que pueda ayudarte?\n",
      "\n",
      "        Please analyze the content and context of the generated answer in relation to the question\n",
      "        and provide your evaluation in parsable JSON without using code blocks:\n",
      "\n",
      "        {\n",
      "        \"Relevance\": \"NON_RELEVANT\" | \"PARTLY_RELEVANT\" | \"RELEVANT\",\n",
      "        \"Explanation\": \"[Provide a brief explanation for your evaluation in spanish]\"\n",
      "        }\n",
      "------------------------------------\n",
      "Input Tokens: 3203       Cost: $0.00048045\n",
      "Completion Tokens: 46       Cost: $0.00002760\n",
      "Total Cost: $0.00050805\n",
      "------------------------------------\n"
     ]
    },
    {
     "name": "stderr",
     "output_type": "stream",
     "text": [
      " 74%|███████▍  | 141/190 [04:59<01:46,  2.18s/it]"
     ]
    },
    {
     "name": "stdout",
     "output_type": "stream",
     "text": [
      "------------------------------------\n",
      "Input Tokens: 258       Cost: $0.00003870\n",
      "Completion Tokens: 77       Cost: $0.00004620\n",
      "Total Cost: $0.00008490\n",
      "------------------------------------\n",
      "You are an expert evaluator for a RAG system.\n",
      "        Your task is to analyze the relevance of the LLM generated answer to the users given question.\n",
      "        The goal is to have 3 classification levels as if the relevance scores were 0, 0.5, or 1.\n",
      "        Based on the relevance of the generated answer, you will classify it\n",
      "        as \"NON_RELEVANT\", \"PARTLY_RELEVANT\", or \"RELEVANT\".\n",
      "\n",
      "        Here is the data for evaluation:\n",
      "\n",
      "        Question: ¿Cuántos goles anotó Lionel Messi en 2012 para entrar en el Guinness World Records?\n",
      "        Generated Answer: Lionel Messi anotó 86 goles en el año 2012 para ingresar al Guinness World Records. Sin embargo, terminó el año con un total de 91 goles. ¿Hay algo más en lo que te pueda ayudar?\n",
      "\n",
      "        Please analyze the content and context of the generated answer in relation to the question\n",
      "        and provide your evaluation in parsable JSON without using code blocks:\n",
      "\n",
      "        {\n",
      "        \"Relevance\": \"NON_RELEVANT\" | \"PARTLY_RELEVANT\" | \"RELEVANT\",\n",
      "        \"Explanation\": \"[Provide a brief explanation for your evaluation in spanish]\"\n",
      "        }\n",
      "------------------------------------\n",
      "Input Tokens: 3762       Cost: $0.00056430\n",
      "Completion Tokens: 23       Cost: $0.00001380\n",
      "Total Cost: $0.00057810\n",
      "------------------------------------\n"
     ]
    },
    {
     "name": "stderr",
     "output_type": "stream",
     "text": [
      " 75%|███████▍  | 142/190 [05:00<01:38,  2.06s/it]"
     ]
    },
    {
     "name": "stdout",
     "output_type": "stream",
     "text": [
      "------------------------------------\n",
      "Input Tokens: 235       Cost: $0.00003525\n",
      "Completion Tokens: 68       Cost: $0.00004080\n",
      "Total Cost: $0.00007605\n",
      "------------------------------------\n",
      "You are an expert evaluator for a RAG system.\n",
      "        Your task is to analyze the relevance of the LLM generated answer to the users given question.\n",
      "        The goal is to have 3 classification levels as if the relevance scores were 0, 0.5, or 1.\n",
      "        Based on the relevance of the generated answer, you will classify it\n",
      "        as \"NON_RELEVANT\", \"PARTLY_RELEVANT\", or \"RELEVANT\".\n",
      "\n",
      "        Here is the data for evaluation:\n",
      "\n",
      "        Question: ¿Cuántas veces ha ganado Messi el Balón de Oro a lo largo de su carrera?\n",
      "        Generated Answer: Lo siento, pero no tengo suficiente información para responder a eso. ¿Hay algo más en lo que pueda ayudarte?\n",
      "\n",
      "        Please analyze the content and context of the generated answer in relation to the question\n",
      "        and provide your evaluation in parsable JSON without using code blocks:\n",
      "\n",
      "        {\n",
      "        \"Relevance\": \"NON_RELEVANT\" | \"PARTLY_RELEVANT\" | \"RELEVANT\",\n",
      "        \"Explanation\": \"[Provide a brief explanation for your evaluation in spanish]\"\n",
      "        }\n",
      "------------------------------------\n",
      "Input Tokens: 4038       Cost: $0.00060570\n",
      "Completion Tokens: 22       Cost: $0.00001320\n",
      "Total Cost: $0.00061890\n",
      "------------------------------------\n"
     ]
    },
    {
     "name": "stderr",
     "output_type": "stream",
     "text": [
      " 75%|███████▌  | 143/190 [05:02<01:31,  1.95s/it]"
     ]
    },
    {
     "name": "stdout",
     "output_type": "stream",
     "text": [
      "------------------------------------\n",
      "Input Tokens: 231       Cost: $0.00003465\n",
      "Completion Tokens: 57       Cost: $0.00003420\n",
      "Total Cost: $0.00006885\n",
      "------------------------------------\n",
      "You are an expert evaluator for a RAG system.\n",
      "        Your task is to analyze the relevance of the LLM generated answer to the users given question.\n",
      "        The goal is to have 3 classification levels as if the relevance scores were 0, 0.5, or 1.\n",
      "        Based on the relevance of the generated answer, you will classify it\n",
      "        as \"NON_RELEVANT\", \"PARTLY_RELEVANT\", or \"RELEVANT\".\n",
      "\n",
      "        Here is the data for evaluation:\n",
      "\n",
      "        Question: ¿Cuál es el récord de goles oficiales anotados por Messi en una misma temporada?\n",
      "        Generated Answer: Lo siento, pero no tengo suficiente información para responder eso. ¿Hay algo más en lo que pueda ayudarte?\n",
      "\n",
      "        Please analyze the content and context of the generated answer in relation to the question\n",
      "        and provide your evaluation in parsable JSON without using code blocks:\n",
      "\n",
      "        {\n",
      "        \"Relevance\": \"NON_RELEVANT\" | \"PARTLY_RELEVANT\" | \"RELEVANT\",\n",
      "        \"Explanation\": \"[Provide a brief explanation for your evaluation in spanish]\"\n",
      "        }\n",
      "------------------------------------\n",
      "Input Tokens: 4042       Cost: $0.00060630\n",
      "Completion Tokens: 23       Cost: $0.00001380\n",
      "Total Cost: $0.00062010\n",
      "------------------------------------\n"
     ]
    },
    {
     "name": "stderr",
     "output_type": "stream",
     "text": [
      " 76%|███████▌  | 144/190 [05:04<01:33,  2.03s/it]"
     ]
    },
    {
     "name": "stdout",
     "output_type": "stream",
     "text": [
      "------------------------------------\n",
      "Input Tokens: 237       Cost: $0.00003555\n",
      "Completion Tokens: 68       Cost: $0.00004080\n",
      "Total Cost: $0.00007635\n",
      "------------------------------------\n",
      "You are an expert evaluator for a RAG system.\n",
      "        Your task is to analyze the relevance of the LLM generated answer to the users given question.\n",
      "        The goal is to have 3 classification levels as if the relevance scores were 0, 0.5, or 1.\n",
      "        Based on the relevance of the generated answer, you will classify it\n",
      "        as \"NON_RELEVANT\", \"PARTLY_RELEVANT\", or \"RELEVANT\".\n",
      "\n",
      "        Here is the data for evaluation:\n",
      "\n",
      "        Question: ¿Cuántos goles ha anotado Messi como máximo goleador argentino en mundiales hasta 2022?\n",
      "        Generated Answer: Lo siento, pero no tengo suficiente información para responder esa pregunta. ¿Hay algo más en lo que pueda ayudarte?\n",
      "\n",
      "        Please analyze the content and context of the generated answer in relation to the question\n",
      "        and provide your evaluation in parsable JSON without using code blocks:\n",
      "\n",
      "        {\n",
      "        \"Relevance\": \"NON_RELEVANT\" | \"PARTLY_RELEVANT\" | \"RELEVANT\",\n",
      "        \"Explanation\": \"[Provide a brief explanation for your evaluation in spanish]\"\n",
      "        }\n",
      "------------------------------------\n",
      "Input Tokens: 3990       Cost: $0.00059850\n",
      "Completion Tokens: 46       Cost: $0.00002760\n",
      "Total Cost: $0.00062610\n",
      "------------------------------------\n"
     ]
    },
    {
     "name": "stderr",
     "output_type": "stream",
     "text": [
      " 76%|███████▋  | 145/190 [05:06<01:31,  2.04s/it]"
     ]
    },
    {
     "name": "stdout",
     "output_type": "stream",
     "text": [
      "------------------------------------\n",
      "Input Tokens: 259       Cost: $0.00003885\n",
      "Completion Tokens: 79       Cost: $0.00004740\n",
      "Total Cost: $0.00008625\n",
      "------------------------------------\n",
      "You are an expert evaluator for a RAG system.\n",
      "        Your task is to analyze the relevance of the LLM generated answer to the users given question.\n",
      "        The goal is to have 3 classification levels as if the relevance scores were 0, 0.5, or 1.\n",
      "        Based on the relevance of the generated answer, you will classify it\n",
      "        as \"NON_RELEVANT\", \"PARTLY_RELEVANT\", or \"RELEVANT\".\n",
      "\n",
      "        Here is the data for evaluation:\n",
      "\n",
      "        Question: ¿Qué jugador tiene el récord de más partidos disputados en Copas del Mundo hasta 2022?\n",
      "        Generated Answer: El récord de más partidos disputados en Copas del Mundo hasta 2022 lo tenía Lothar Matthäus, quien jugó 26 partidos. Si necesitas más información o tienes otra pregunta, estoy aquí para ayudarte.\n",
      "\n",
      "        Please analyze the content and context of the generated answer in relation to the question\n",
      "        and provide your evaluation in parsable JSON without using code blocks:\n",
      "\n",
      "        {\n",
      "        \"Relevance\": \"NON_RELEVANT\" | \"PARTLY_RELEVANT\" | \"RELEVANT\",\n",
      "        \"Explanation\": \"[Provide a brief explanation for your evaluation in spanish]\"\n",
      "        }\n",
      "------------------------------------\n",
      "Input Tokens: 4019       Cost: $0.00060285\n",
      "Completion Tokens: 32       Cost: $0.00001920\n",
      "Total Cost: $0.00062205\n",
      "------------------------------------\n"
     ]
    },
    {
     "name": "stderr",
     "output_type": "stream",
     "text": [
      " 77%|███████▋  | 146/190 [05:08<01:26,  1.97s/it]"
     ]
    },
    {
     "name": "stdout",
     "output_type": "stream",
     "text": [
      "------------------------------------\n",
      "Input Tokens: 243       Cost: $0.00003645\n",
      "Completion Tokens: 54       Cost: $0.00003240\n",
      "Total Cost: $0.00006885\n",
      "------------------------------------\n",
      "You are an expert evaluator for a RAG system.\n",
      "        Your task is to analyze the relevance of the LLM generated answer to the users given question.\n",
      "        The goal is to have 3 classification levels as if the relevance scores were 0, 0.5, or 1.\n",
      "        Based on the relevance of the generated answer, you will classify it\n",
      "        as \"NON_RELEVANT\", \"PARTLY_RELEVANT\", or \"RELEVANT\".\n",
      "\n",
      "        Here is the data for evaluation:\n",
      "\n",
      "        Question: ¿Cuántos goles anotó Lionel Messi durante su tiempo en el F. C. Barcelona?\n",
      "        Generated Answer: Lionel Messi anotó un total de 672 goles durante su tiempo en el F. C. Barcelona. ¿Hay algo más en lo que pueda ayudarte?\n",
      "\n",
      "        Please analyze the content and context of the generated answer in relation to the question\n",
      "        and provide your evaluation in parsable JSON without using code blocks:\n",
      "\n",
      "        {\n",
      "        \"Relevance\": \"NON_RELEVANT\" | \"PARTLY_RELEVANT\" | \"RELEVANT\",\n",
      "        \"Explanation\": \"[Provide a brief explanation for your evaluation in spanish]\"\n",
      "        }\n",
      "------------------------------------\n",
      "Input Tokens: 4000       Cost: $0.00060000\n",
      "Completion Tokens: 161       Cost: $0.00009660\n",
      "Total Cost: $0.00069660\n",
      "------------------------------------\n"
     ]
    },
    {
     "name": "stderr",
     "output_type": "stream",
     "text": [
      " 77%|███████▋  | 147/190 [05:12<01:44,  2.44s/it]"
     ]
    },
    {
     "name": "stdout",
     "output_type": "stream",
     "text": [
      "------------------------------------\n",
      "Input Tokens: 372       Cost: $0.00005580\n",
      "Completion Tokens: 56       Cost: $0.00003360\n",
      "Total Cost: $0.00008940\n",
      "------------------------------------\n",
      "You are an expert evaluator for a RAG system.\n",
      "        Your task is to analyze the relevance of the LLM generated answer to the users given question.\n",
      "        The goal is to have 3 classification levels as if the relevance scores were 0, 0.5, or 1.\n",
      "        Based on the relevance of the generated answer, you will classify it\n",
      "        as \"NON_RELEVANT\", \"PARTLY_RELEVANT\", or \"RELEVANT\".\n",
      "\n",
      "        Here is the data for evaluation:\n",
      "\n",
      "        Question: ¿Cuáles son algunos de los títulos que ganó Lionel Messi con el F. C. Barcelona?\n",
      "        Generated Answer: Lionel Messi ganó numerosos títulos con el F. C. Barcelona, entre los que se destacan:\n",
      "\n",
      "1. La Liga: 10 títulos.\n",
      "2. Copa del Rey: Múltiples títulos, entre ellos ganó su primera copa como capitán en la final de 2021.\n",
      "3. Supercopa de España: Varias ediciones, incluyendo su primer título como capitán en 2018.\n",
      "4. Liga de Campeones de la UEFA: Ganó múltiples trofeos durante su carrera en el club.\n",
      "5. Copa Mundial de Clubes: También obtuvo este título en varias ocasiones.\n",
      "\n",
      "Estos son solo algunos ejemplos de los muchos trofeos que Messi levantó durante su exitosa etapa en el club. Si necesitas más información o detalles sobre algún título específico, házmelo saber.\n",
      "\n",
      "        Please analyze the content and context of the generated answer in relation to the question\n",
      "        and provide your evaluation in parsable JSON without using code blocks:\n",
      "\n",
      "        {\n",
      "        \"Relevance\": \"NON_RELEVANT\" | \"PARTLY_RELEVANT\" | \"RELEVANT\",\n",
      "        \"Explanation\": \"[Provide a brief explanation for your evaluation in spanish]\"\n",
      "        }\n",
      "------------------------------------\n",
      "Input Tokens: 3761       Cost: $0.00056415\n",
      "Completion Tokens: 54       Cost: $0.00003240\n",
      "Total Cost: $0.00059655\n",
      "------------------------------------\n"
     ]
    },
    {
     "name": "stderr",
     "output_type": "stream",
     "text": [
      " 78%|███████▊  | 148/190 [05:15<01:47,  2.57s/it]"
     ]
    },
    {
     "name": "stdout",
     "output_type": "stream",
     "text": [
      "------------------------------------\n",
      "Input Tokens: 258       Cost: $0.00003870\n",
      "Completion Tokens: 79       Cost: $0.00004740\n",
      "Total Cost: $0.00008610\n",
      "------------------------------------\n",
      "You are an expert evaluator for a RAG system.\n",
      "        Your task is to analyze the relevance of the LLM generated answer to the users given question.\n",
      "        The goal is to have 3 classification levels as if the relevance scores were 0, 0.5, or 1.\n",
      "        Based on the relevance of the generated answer, you will classify it\n",
      "        as \"NON_RELEVANT\", \"PARTLY_RELEVANT\", or \"RELEVANT\".\n",
      "\n",
      "        Here is the data for evaluation:\n",
      "\n",
      "        Question: ¿Qué títulos ganó Messi con la selección argentina sub-20?\n",
      "        Generated Answer: Lionel Messi ganó el Mundial Sub-20 de 2005 y la Medalla de Oro en los Juegos Olímpicos de Pekín 2008 con la selección argentina sub-20. Si necesitas más información o tienes otra pregunta, estaré encantado de ayudarte.\n",
      "\n",
      "        Please analyze the content and context of the generated answer in relation to the question\n",
      "        and provide your evaluation in parsable JSON without using code blocks:\n",
      "\n",
      "        {\n",
      "        \"Relevance\": \"NON_RELEVANT\" | \"PARTLY_RELEVANT\" | \"RELEVANT\",\n",
      "        \"Explanation\": \"[Provide a brief explanation for your evaluation in spanish]\"\n",
      "        }\n",
      "------------------------------------\n",
      "Input Tokens: 3894       Cost: $0.00058410\n",
      "Completion Tokens: 23       Cost: $0.00001380\n",
      "Total Cost: $0.00059790\n",
      "------------------------------------\n"
     ]
    },
    {
     "name": "stderr",
     "output_type": "stream",
     "text": [
      " 78%|███████▊  | 149/190 [05:16<01:33,  2.27s/it]"
     ]
    },
    {
     "name": "stdout",
     "output_type": "stream",
     "text": [
      "------------------------------------\n",
      "Input Tokens: 234       Cost: $0.00003510\n",
      "Completion Tokens: 57       Cost: $0.00003420\n",
      "Total Cost: $0.00006930\n",
      "------------------------------------\n",
      "You are an expert evaluator for a RAG system.\n",
      "        Your task is to analyze the relevance of the LLM generated answer to the users given question.\n",
      "        The goal is to have 3 classification levels as if the relevance scores were 0, 0.5, or 1.\n",
      "        Based on the relevance of the generated answer, you will classify it\n",
      "        as \"NON_RELEVANT\", \"PARTLY_RELEVANT\", or \"RELEVANT\".\n",
      "\n",
      "        Here is the data for evaluation:\n",
      "\n",
      "        Question: ¿Cuántos goles anotó Messi en el Paris Saint-Germain según la información proporcionada?\n",
      "        Generated Answer: Lo siento, pero no tengo suficiente información para responder a eso. ¿Hay algo más en lo que pueda ayudarte?\n",
      "\n",
      "        Please analyze the content and context of the generated answer in relation to the question\n",
      "        and provide your evaluation in parsable JSON without using code blocks:\n",
      "\n",
      "        {\n",
      "        \"Relevance\": \"NON_RELEVANT\" | \"PARTLY_RELEVANT\" | \"RELEVANT\",\n",
      "        \"Explanation\": \"[Provide a brief explanation for your evaluation in spanish]\"\n",
      "        }\n",
      "------------------------------------\n",
      "Input Tokens: 3744       Cost: $0.00056160\n",
      "Completion Tokens: 140       Cost: $0.00008400\n",
      "Total Cost: $0.00064560\n",
      "------------------------------------\n"
     ]
    },
    {
     "name": "stderr",
     "output_type": "stream",
     "text": [
      " 79%|███████▉  | 150/190 [05:19<01:33,  2.34s/it]"
     ]
    },
    {
     "name": "stdout",
     "output_type": "stream",
     "text": [
      "------------------------------------\n",
      "Input Tokens: 351       Cost: $0.00005265\n",
      "Completion Tokens: 68       Cost: $0.00004080\n",
      "Total Cost: $0.00009345\n",
      "------------------------------------\n",
      "You are an expert evaluator for a RAG system.\n",
      "        Your task is to analyze the relevance of the LLM generated answer to the users given question.\n",
      "        The goal is to have 3 classification levels as if the relevance scores were 0, 0.5, or 1.\n",
      "        Based on the relevance of the generated answer, you will classify it\n",
      "        as \"NON_RELEVANT\", \"PARTLY_RELEVANT\", or \"RELEVANT\".\n",
      "\n",
      "        Here is the data for evaluation:\n",
      "\n",
      "        Question: ¿Qué distinciones individuales y títulos internacionales se mencionan en el texto relacionados con Messi?\n",
      "        Generated Answer: En el texto se mencionan las siguientes distinciones individuales y títulos internacionales relacionados con Lionel Messi:\n",
      "\n",
      "**Títulos Internacionales:**\n",
      "1. Copa América 2021 ante Brasil.\n",
      "2. Finalissima frente a Italia.\n",
      "3. Mundial de Catar 2022 contra Francia.\n",
      "4. Copa América 2024 a Colombia.\n",
      "\n",
      "**Distinciones Individuales:**\n",
      "- Messi fue elegido como el Jugador Budweiser del partido en el encuentro contra Grecia en el Mundial de Sudáfrica 2010.\n",
      "- Fue elegido mejor jugador del partido frente a Bolivia y Costa Rica en la Copa América 2011.\n",
      "\n",
      "Si deseas saber más o tienes otra pregunta, estaré encantado de ayudarte.\n",
      "\n",
      "        Please analyze the content and context of the generated answer in relation to the question\n",
      "        and provide your evaluation in parsable JSON without using code blocks:\n",
      "\n",
      "        {\n",
      "        \"Relevance\": \"NON_RELEVANT\" | \"PARTLY_RELEVANT\" | \"RELEVANT\",\n",
      "        \"Explanation\": \"[Provide a brief explanation for your evaluation in spanish]\"\n",
      "        }\n",
      "------------------------------------\n",
      "Input Tokens: 3768       Cost: $0.00056520\n",
      "Completion Tokens: 24       Cost: $0.00001440\n",
      "Total Cost: $0.00057960\n",
      "------------------------------------\n"
     ]
    },
    {
     "name": "stderr",
     "output_type": "stream",
     "text": [
      " 79%|███████▉  | 151/190 [05:21<01:27,  2.24s/it]"
     ]
    },
    {
     "name": "stdout",
     "output_type": "stream",
     "text": [
      "------------------------------------\n",
      "Input Tokens: 242       Cost: $0.00003630\n",
      "Completion Tokens: 65       Cost: $0.00003900\n",
      "Total Cost: $0.00007530\n",
      "------------------------------------\n",
      "You are an expert evaluator for a RAG system.\n",
      "        Your task is to analyze the relevance of the LLM generated answer to the users given question.\n",
      "        The goal is to have 3 classification levels as if the relevance scores were 0, 0.5, or 1.\n",
      "        Based on the relevance of the generated answer, you will classify it\n",
      "        as \"NON_RELEVANT\", \"PARTLY_RELEVANT\", or \"RELEVANT\".\n",
      "\n",
      "        Here is the data for evaluation:\n",
      "\n",
      "        Question: ¿Cuántos Balones de Oro ha ganado Lionel Messi a lo largo de su carrera y en qué años ganó cada uno?\n",
      "        Generated Answer: I'm sorry, but I don’t have enough information to answer that. Is there anything else I can help you with?\n",
      "\n",
      "        Please analyze the content and context of the generated answer in relation to the question\n",
      "        and provide your evaluation in parsable JSON without using code blocks:\n",
      "\n",
      "        {\n",
      "        \"Relevance\": \"NON_RELEVANT\" | \"PARTLY_RELEVANT\" | \"RELEVANT\",\n",
      "        \"Explanation\": \"[Provide a brief explanation for your evaluation in spanish]\"\n",
      "        }\n",
      "------------------------------------\n",
      "Input Tokens: 4210       Cost: $0.00063150\n",
      "Completion Tokens: 24       Cost: $0.00001440\n",
      "Total Cost: $0.00064590\n",
      "------------------------------------\n"
     ]
    },
    {
     "name": "stderr",
     "output_type": "stream",
     "text": [
      " 80%|████████  | 152/190 [05:23<01:22,  2.17s/it]"
     ]
    },
    {
     "name": "stdout",
     "output_type": "stream",
     "text": [
      "------------------------------------\n",
      "Input Tokens: 234       Cost: $0.00003510\n",
      "Completion Tokens: 60       Cost: $0.00003600\n",
      "Total Cost: $0.00007110\n",
      "------------------------------------\n",
      "You are an expert evaluator for a RAG system.\n",
      "        Your task is to analyze the relevance of the LLM generated answer to the users given question.\n",
      "        The goal is to have 3 classification levels as if the relevance scores were 0, 0.5, or 1.\n",
      "        Based on the relevance of the generated answer, you will classify it\n",
      "        as \"NON_RELEVANT\", \"PARTLY_RELEVANT\", or \"RELEVANT\".\n",
      "\n",
      "        Here is the data for evaluation:\n",
      "\n",
      "        Question: ¿Qué relación tiene Messi con Antonela Roccuzzo y cuándo contrajeron matrimonio?\n",
      "        Generated Answer: Lo siento, pero no tengo suficiente información para responder a esa pregunta. ¿Hay algo más en lo que pueda ayudarte?\n",
      "\n",
      "        Please analyze the content and context of the generated answer in relation to the question\n",
      "        and provide your evaluation in parsable JSON without using code blocks:\n",
      "\n",
      "        {\n",
      "        \"Relevance\": \"NON_RELEVANT\" | \"PARTLY_RELEVANT\" | \"RELEVANT\",\n",
      "        \"Explanation\": \"[Provide a brief explanation for your evaluation in spanish]\"\n",
      "        }\n",
      "------------------------------------\n",
      "Input Tokens: 3993       Cost: $0.00059895\n",
      "Completion Tokens: 23       Cost: $0.00001380\n",
      "Total Cost: $0.00061275\n",
      "------------------------------------\n"
     ]
    },
    {
     "name": "stderr",
     "output_type": "stream",
     "text": [
      " 81%|████████  | 153/190 [05:25<01:20,  2.17s/it]"
     ]
    },
    {
     "name": "stdout",
     "output_type": "stream",
     "text": [
      "------------------------------------\n",
      "Input Tokens: 231       Cost: $0.00003465\n",
      "Completion Tokens: 62       Cost: $0.00003720\n",
      "Total Cost: $0.00007185\n",
      "------------------------------------\n",
      "You are an expert evaluator for a RAG system.\n",
      "        Your task is to analyze the relevance of the LLM generated answer to the users given question.\n",
      "        The goal is to have 3 classification levels as if the relevance scores were 0, 0.5, or 1.\n",
      "        Based on the relevance of the generated answer, you will classify it\n",
      "        as \"NON_RELEVANT\", \"PARTLY_RELEVANT\", or \"RELEVANT\".\n",
      "\n",
      "        Here is the data for evaluation:\n",
      "\n",
      "        Question: ¿Cuáles son los nombres y fechas de nacimiento de los hijos de Messi?\n",
      "        Generated Answer: Lo siento, pero no tengo suficiente información para responder a eso. ¿Hay algo más en lo que pueda ayudarte?\n",
      "\n",
      "        Please analyze the content and context of the generated answer in relation to the question\n",
      "        and provide your evaluation in parsable JSON without using code blocks:\n",
      "\n",
      "        {\n",
      "        \"Relevance\": \"NON_RELEVANT\" | \"PARTLY_RELEVANT\" | \"RELEVANT\",\n",
      "        \"Explanation\": \"[Provide a brief explanation for your evaluation in spanish]\"\n",
      "        }\n",
      "------------------------------------\n",
      "Input Tokens: 3604       Cost: $0.00054060\n",
      "Completion Tokens: 23       Cost: $0.00001380\n",
      "Total Cost: $0.00055440\n",
      "------------------------------------\n"
     ]
    },
    {
     "name": "stderr",
     "output_type": "stream",
     "text": [
      " 81%|████████  | 154/190 [05:27<01:14,  2.07s/it]"
     ]
    },
    {
     "name": "stdout",
     "output_type": "stream",
     "text": [
      "------------------------------------\n",
      "Input Tokens: 232       Cost: $0.00003480\n",
      "Completion Tokens: 58       Cost: $0.00003480\n",
      "Total Cost: $0.00006960\n",
      "------------------------------------\n",
      "You are an expert evaluator for a RAG system.\n",
      "        Your task is to analyze the relevance of the LLM generated answer to the users given question.\n",
      "        The goal is to have 3 classification levels as if the relevance scores were 0, 0.5, or 1.\n",
      "        Based on the relevance of the generated answer, you will classify it\n",
      "        as \"NON_RELEVANT\", \"PARTLY_RELEVANT\", or \"RELEVANT\".\n",
      "\n",
      "        Here is the data for evaluation:\n",
      "\n",
      "        Question: ¿Qué actividades realiza la Fundación Leo Messi y en qué áreas se enfoca principalmente?\n",
      "        Generated Answer: Lo siento, pero no tengo suficiente información para responder a eso. ¿Hay algo más en lo que pueda ayudarte?\n",
      "\n",
      "        Please analyze the content and context of the generated answer in relation to the question\n",
      "        and provide your evaluation in parsable JSON without using code blocks:\n",
      "\n",
      "        {\n",
      "        \"Relevance\": \"NON_RELEVANT\" | \"PARTLY_RELEVANT\" | \"RELEVANT\",\n",
      "        \"Explanation\": \"[Provide a brief explanation for your evaluation in spanish]\"\n",
      "        }\n",
      "------------------------------------\n",
      "Input Tokens: 3922       Cost: $0.00058830\n",
      "Completion Tokens: 24       Cost: $0.00001440\n",
      "Total Cost: $0.00060270\n",
      "------------------------------------\n"
     ]
    },
    {
     "name": "stderr",
     "output_type": "stream",
     "text": [
      " 82%|████████▏ | 155/190 [05:29<01:10,  2.01s/it]"
     ]
    },
    {
     "name": "stdout",
     "output_type": "stream",
     "text": [
      "------------------------------------\n",
      "Input Tokens: 233       Cost: $0.00003495\n",
      "Completion Tokens: 67       Cost: $0.00004020\n",
      "Total Cost: $0.00007515\n",
      "------------------------------------\n",
      "You are an expert evaluator for a RAG system.\n",
      "        Your task is to analyze the relevance of the LLM generated answer to the users given question.\n",
      "        The goal is to have 3 classification levels as if the relevance scores were 0, 0.5, or 1.\n",
      "        Based on the relevance of the generated answer, you will classify it\n",
      "        as \"NON_RELEVANT\", \"PARTLY_RELEVANT\", or \"RELEVANT\".\n",
      "\n",
      "        Here is the data for evaluation:\n",
      "\n",
      "        Question: ¿En qué año empezó Messi su relación con Antonela y cómo se conocieron?\n",
      "        Generated Answer: Lo siento, pero no tengo suficiente información para responder a esa pregunta. ¿Hay algo más en lo que pueda ayudarte?\n",
      "\n",
      "        Please analyze the content and context of the generated answer in relation to the question\n",
      "        and provide your evaluation in parsable JSON without using code blocks:\n",
      "\n",
      "        {\n",
      "        \"Relevance\": \"NON_RELEVANT\" | \"PARTLY_RELEVANT\" | \"RELEVANT\",\n",
      "        \"Explanation\": \"[Provide a brief explanation for your evaluation in spanish]\"\n",
      "        }\n",
      "------------------------------------\n",
      "Input Tokens: 3894       Cost: $0.00058410\n",
      "Completion Tokens: 23       Cost: $0.00001380\n",
      "Total Cost: $0.00059790\n",
      "------------------------------------\n"
     ]
    },
    {
     "name": "stderr",
     "output_type": "stream",
     "text": [
      " 82%|████████▏ | 156/190 [05:30<01:06,  1.96s/it]"
     ]
    },
    {
     "name": "stdout",
     "output_type": "stream",
     "text": [
      "------------------------------------\n",
      "Input Tokens: 233       Cost: $0.00003495\n",
      "Completion Tokens: 75       Cost: $0.00004500\n",
      "Total Cost: $0.00007995\n",
      "------------------------------------\n",
      "You are an expert evaluator for a RAG system.\n",
      "        Your task is to analyze the relevance of the LLM generated answer to the users given question.\n",
      "        The goal is to have 3 classification levels as if the relevance scores were 0, 0.5, or 1.\n",
      "        Based on the relevance of the generated answer, you will classify it\n",
      "        as \"NON_RELEVANT\", \"PARTLY_RELEVANT\", or \"RELEVANT\".\n",
      "\n",
      "        Here is the data for evaluation:\n",
      "\n",
      "        Question: ¿Desde cuándo Lionel Messi es Embajador de Buena Voluntad de Unicef?\n",
      "        Generated Answer: Lo siento, pero no tengo suficiente información para responder eso. ¿Hay algo más en lo que te pueda ayudar?\n",
      "\n",
      "        Please analyze the content and context of the generated answer in relation to the question\n",
      "        and provide your evaluation in parsable JSON without using code blocks:\n",
      "\n",
      "        {\n",
      "        \"Relevance\": \"NON_RELEVANT\" | \"PARTLY_RELEVANT\" | \"RELEVANT\",\n",
      "        \"Explanation\": \"[Provide a brief explanation for your evaluation in spanish]\"\n",
      "        }\n",
      "------------------------------------\n",
      "Input Tokens: 4034       Cost: $0.00060510\n",
      "Completion Tokens: 128       Cost: $0.00007680\n",
      "Total Cost: $0.00068190\n",
      "------------------------------------\n"
     ]
    },
    {
     "name": "stderr",
     "output_type": "stream",
     "text": [
      " 83%|████████▎ | 157/190 [05:33<01:11,  2.17s/it]"
     ]
    },
    {
     "name": "stdout",
     "output_type": "stream",
     "text": [
      "------------------------------------\n",
      "Input Tokens: 337       Cost: $0.00005055\n",
      "Completion Tokens: 72       Cost: $0.00004320\n",
      "Total Cost: $0.00009375\n",
      "------------------------------------\n",
      "You are an expert evaluator for a RAG system.\n",
      "        Your task is to analyze the relevance of the LLM generated answer to the users given question.\n",
      "        The goal is to have 3 classification levels as if the relevance scores were 0, 0.5, or 1.\n",
      "        Based on the relevance of the generated answer, you will classify it\n",
      "        as \"NON_RELEVANT\", \"PARTLY_RELEVANT\", or \"RELEVANT\".\n",
      "\n",
      "        Here is the data for evaluation:\n",
      "\n",
      "        Question: ¿Cuáles son los roles de los miembros de la familia Messi en su carrera profesional?\n",
      "        Generated Answer: Lionel Messi proviene de una familia que ha tenido un papel importante en su carrera. Su padre, Jorge Horacio Messi, trabajó en el fútbol base y fue clave en el traslado de la familia a España para que Lionel pudiera seguir su carrera futbolística. Además, su abuela materna, Celia, fue un gran apoyo para él, alentándolo a dedicarse al fútbol, lo que le llevó a señalar al cielo con ambas manos cada vez que marca un gol en su honor. Sus hermanos y su hermana también forman parte de su vida personal, pero no se menciona que tengan un rol directo en su carrera profesional.\n",
      "\n",
      "        Please analyze the content and context of the generated answer in relation to the question\n",
      "        and provide your evaluation in parsable JSON without using code blocks:\n",
      "\n",
      "        {\n",
      "        \"Relevance\": \"NON_RELEVANT\" | \"PARTLY_RELEVANT\" | \"RELEVANT\",\n",
      "        \"Explanation\": \"[Provide a brief explanation for your evaluation in spanish]\"\n",
      "        }\n",
      "------------------------------------\n",
      "Input Tokens: 3817       Cost: $0.00057255\n",
      "Completion Tokens: 23       Cost: $0.00001380\n",
      "Total Cost: $0.00058635\n",
      "------------------------------------\n"
     ]
    },
    {
     "name": "stderr",
     "output_type": "stream",
     "text": [
      " 83%|████████▎ | 158/190 [05:35<01:05,  2.06s/it]"
     ]
    },
    {
     "name": "stdout",
     "output_type": "stream",
     "text": [
      "------------------------------------\n",
      "Input Tokens: 238       Cost: $0.00003570\n",
      "Completion Tokens: 70       Cost: $0.00004200\n",
      "Total Cost: $0.00007770\n",
      "------------------------------------\n",
      "You are an expert evaluator for a RAG system.\n",
      "        Your task is to analyze the relevance of the LLM generated answer to the users given question.\n",
      "        The goal is to have 3 classification levels as if the relevance scores were 0, 0.5, or 1.\n",
      "        Based on the relevance of the generated answer, you will classify it\n",
      "        as \"NON_RELEVANT\", \"PARTLY_RELEVANT\", or \"RELEVANT\".\n",
      "\n",
      "        Here is the data for evaluation:\n",
      "\n",
      "        Question: ¿Qué campaña de concienciación participó Messi convocado por la OMS en marzo de 2020?\n",
      "        Generated Answer: Lo siento, pero no tengo suficiente información para responder a eso. ¿Hay algo más en lo que pueda ayudarte?\n",
      "\n",
      "        Please analyze the content and context of the generated answer in relation to the question\n",
      "        and provide your evaluation in parsable JSON without using code blocks:\n",
      "\n",
      "        {\n",
      "        \"Relevance\": \"NON_RELEVANT\" | \"PARTLY_RELEVANT\" | \"RELEVANT\",\n",
      "        \"Explanation\": \"[Provide a brief explanation for your evaluation in spanish]\"\n",
      "        }\n",
      "------------------------------------\n",
      "Input Tokens: 3709       Cost: $0.00055635\n",
      "Completion Tokens: 23       Cost: $0.00001380\n",
      "Total Cost: $0.00057015\n",
      "------------------------------------\n"
     ]
    },
    {
     "name": "stderr",
     "output_type": "stream",
     "text": [
      " 84%|████████▎ | 159/190 [05:37<01:03,  2.04s/it]"
     ]
    },
    {
     "name": "stdout",
     "output_type": "stream",
     "text": [
      "------------------------------------\n",
      "Input Tokens: 235       Cost: $0.00003525\n",
      "Completion Tokens: 61       Cost: $0.00003660\n",
      "Total Cost: $0.00007185\n",
      "------------------------------------\n",
      "You are an expert evaluator for a RAG system.\n",
      "        Your task is to analyze the relevance of the LLM generated answer to the users given question.\n",
      "        The goal is to have 3 classification levels as if the relevance scores were 0, 0.5, or 1.\n",
      "        Based on the relevance of the generated answer, you will classify it\n",
      "        as \"NON_RELEVANT\", \"PARTLY_RELEVANT\", or \"RELEVANT\".\n",
      "\n",
      "        Here is the data for evaluation:\n",
      "\n",
      "        Question: ¿Qué sospechas sobre Lionel Messi fueron investigadas en 2013 relacionadas con su situación fiscal?\n",
      "        Generated Answer: Lo siento, pero no tengo suficiente información para responder a eso. ¿Hay algo más en lo que pueda ayudarte?\n",
      "\n",
      "        Please analyze the content and context of the generated answer in relation to the question\n",
      "        and provide your evaluation in parsable JSON without using code blocks:\n",
      "\n",
      "        {\n",
      "        \"Relevance\": \"NON_RELEVANT\" | \"PARTLY_RELEVANT\" | \"RELEVANT\",\n",
      "        \"Explanation\": \"[Provide a brief explanation for your evaluation in spanish]\"\n",
      "        }\n",
      "------------------------------------\n",
      "Input Tokens: 3821       Cost: $0.00057315\n",
      "Completion Tokens: 24       Cost: $0.00001440\n",
      "Total Cost: $0.00058755\n",
      "------------------------------------\n"
     ]
    },
    {
     "name": "stderr",
     "output_type": "stream",
     "text": [
      " 84%|████████▍ | 160/190 [05:39<01:01,  2.06s/it]"
     ]
    },
    {
     "name": "stdout",
     "output_type": "stream",
     "text": [
      "------------------------------------\n",
      "Input Tokens: 238       Cost: $0.00003570\n",
      "Completion Tokens: 62       Cost: $0.00003720\n",
      "Total Cost: $0.00007290\n",
      "------------------------------------\n",
      "You are an expert evaluator for a RAG system.\n",
      "        Your task is to analyze the relevance of the LLM generated answer to the users given question.\n",
      "        The goal is to have 3 classification levels as if the relevance scores were 0, 0.5, or 1.\n",
      "        Based on the relevance of the generated answer, you will classify it\n",
      "        as \"NON_RELEVANT\", \"PARTLY_RELEVANT\", or \"RELEVANT\".\n",
      "\n",
      "        Here is the data for evaluation:\n",
      "\n",
      "        Question: ¿Cuál fue la decisión del Tribunal Supremo español respecto a Messi en julio de 2017 por delitos fiscales?\n",
      "        Generated Answer: Lo siento, pero no tengo suficiente información para responder a esa pregunta. ¿Hay algo más en lo que pueda ayudarte?\n",
      "\n",
      "        Please analyze the content and context of the generated answer in relation to the question\n",
      "        and provide your evaluation in parsable JSON without using code blocks:\n",
      "\n",
      "        {\n",
      "        \"Relevance\": \"NON_RELEVANT\" | \"PARTLY_RELEVANT\" | \"RELEVANT\",\n",
      "        \"Explanation\": \"[Provide a brief explanation for your evaluation in spanish]\"\n",
      "        }\n",
      "------------------------------------\n",
      "Input Tokens: 4066       Cost: $0.00060990\n",
      "Completion Tokens: 24       Cost: $0.00001440\n",
      "Total Cost: $0.00062430\n",
      "------------------------------------\n"
     ]
    },
    {
     "name": "stderr",
     "output_type": "stream",
     "text": [
      " 85%|████████▍ | 161/190 [05:41<01:00,  2.09s/it]"
     ]
    },
    {
     "name": "stdout",
     "output_type": "stream",
     "text": [
      "------------------------------------\n",
      "Input Tokens: 239       Cost: $0.00003585\n",
      "Completion Tokens: 65       Cost: $0.00003900\n",
      "Total Cost: $0.00007485\n",
      "------------------------------------\n",
      "You are an expert evaluator for a RAG system.\n",
      "        Your task is to analyze the relevance of the LLM generated answer to the users given question.\n",
      "        The goal is to have 3 classification levels as if the relevance scores were 0, 0.5, or 1.\n",
      "        Based on the relevance of the generated answer, you will classify it\n",
      "        as \"NON_RELEVANT\", \"PARTLY_RELEVANT\", or \"RELEVANT\".\n",
      "\n",
      "        Here is the data for evaluation:\n",
      "\n",
      "        Question: ¿Cuántos goles anotó Messi en total durante su estancia en las categorías juveniles en 2005?\n",
      "        Generated Answer: Lo siento, pero no tengo suficiente información para responder a esa pregunta. ¿Hay algo más en lo que pueda ayudarte?\n",
      "\n",
      "        Please analyze the content and context of the generated answer in relation to the question\n",
      "        and provide your evaluation in parsable JSON without using code blocks:\n",
      "\n",
      "        {\n",
      "        \"Relevance\": \"NON_RELEVANT\" | \"PARTLY_RELEVANT\" | \"RELEVANT\",\n",
      "        \"Explanation\": \"[Provide a brief explanation for your evaluation in spanish]\"\n",
      "        }\n",
      "------------------------------------\n",
      "Input Tokens: 3692       Cost: $0.00055380\n",
      "Completion Tokens: 63       Cost: $0.00003780\n",
      "Total Cost: $0.00059160\n",
      "------------------------------------\n"
     ]
    },
    {
     "name": "stderr",
     "output_type": "stream",
     "text": [
      " 85%|████████▌ | 162/190 [05:43<01:00,  2.16s/it]"
     ]
    },
    {
     "name": "stdout",
     "output_type": "stream",
     "text": [
      "------------------------------------\n",
      "Input Tokens: 271       Cost: $0.00004065\n",
      "Completion Tokens: 58       Cost: $0.00003480\n",
      "Total Cost: $0.00007545\n",
      "------------------------------------\n",
      "You are an expert evaluator for a RAG system.\n",
      "        Your task is to analyze the relevance of the LLM generated answer to the users given question.\n",
      "        The goal is to have 3 classification levels as if the relevance scores were 0, 0.5, or 1.\n",
      "        Based on the relevance of the generated answer, you will classify it\n",
      "        as \"NON_RELEVANT\", \"PARTLY_RELEVANT\", or \"RELEVANT\".\n",
      "\n",
      "        Here is the data for evaluation:\n",
      "\n",
      "        Question: ¿Qué logro Messi en su debut en La Liga y a qué edad sucedió?\n",
      "        Generated Answer: Lionel Messi debutó en La Liga el 16 de noviembre de 2003, a la edad de 16 años y 145 días. En ese momento, se convirtió en uno de los jugadores más jóvenes en debutar en la competición. Si deseas saber más sobre su carrera, no dudes en preguntar.\n",
      "\n",
      "        Please analyze the content and context of the generated answer in relation to the question\n",
      "        and provide your evaluation in parsable JSON without using code blocks:\n",
      "\n",
      "        {\n",
      "        \"Relevance\": \"NON_RELEVANT\" | \"PARTLY_RELEVANT\" | \"RELEVANT\",\n",
      "        \"Explanation\": \"[Provide a brief explanation for your evaluation in spanish]\"\n",
      "        }\n",
      "------------------------------------\n",
      "Input Tokens: 3708       Cost: $0.00055620\n",
      "Completion Tokens: 64       Cost: $0.00003840\n",
      "Total Cost: $0.00059460\n",
      "------------------------------------\n"
     ]
    },
    {
     "name": "stderr",
     "output_type": "stream",
     "text": [
      " 86%|████████▌ | 163/190 [05:45<00:56,  2.08s/it]"
     ]
    },
    {
     "name": "stdout",
     "output_type": "stream",
     "text": [
      "------------------------------------\n",
      "Input Tokens: 274       Cost: $0.00004110\n",
      "Completion Tokens: 73       Cost: $0.00004380\n",
      "Total Cost: $0.00008490\n",
      "------------------------------------\n",
      "You are an expert evaluator for a RAG system.\n",
      "        Your task is to analyze the relevance of the LLM generated answer to the users given question.\n",
      "        The goal is to have 3 classification levels as if the relevance scores were 0, 0.5, or 1.\n",
      "        Based on the relevance of the generated answer, you will classify it\n",
      "        as \"NON_RELEVANT\", \"PARTLY_RELEVANT\", or \"RELEVANT\".\n",
      "\n",
      "        Here is the data for evaluation:\n",
      "\n",
      "        Question: ¿Quién fue el entrenador que confió en Messi cuando apenas tenía diecisiete años?\n",
      "        Generated Answer: El entrenador que confió en Messi cuando apenas tenía diecisiete años fue Frank Rijkaard, quien lo convocó para jugar en el primer equipo del Barcelona. Fue en un partido de exhibición ante el Fútbol Club Oporto, donde Messi debutó oficialmente. Si necesitas más información, no dudes en preguntar.\n",
      "\n",
      "        Please analyze the content and context of the generated answer in relation to the question\n",
      "        and provide your evaluation in parsable JSON without using code blocks:\n",
      "\n",
      "        {\n",
      "        \"Relevance\": \"NON_RELEVANT\" | \"PARTLY_RELEVANT\" | \"RELEVANT\",\n",
      "        \"Explanation\": \"[Provide a brief explanation for your evaluation in spanish]\"\n",
      "        }\n",
      "------------------------------------\n",
      "Input Tokens: 4231       Cost: $0.00063465\n",
      "Completion Tokens: 24       Cost: $0.00001440\n",
      "Total Cost: $0.00064905\n",
      "------------------------------------\n"
     ]
    },
    {
     "name": "stderr",
     "output_type": "stream",
     "text": [
      " 86%|████████▋ | 164/190 [05:47<00:51,  1.99s/it]"
     ]
    },
    {
     "name": "stdout",
     "output_type": "stream",
     "text": [
      "------------------------------------\n",
      "Input Tokens: 238       Cost: $0.00003570\n",
      "Completion Tokens: 74       Cost: $0.00004440\n",
      "Total Cost: $0.00008010\n",
      "------------------------------------\n",
      "You are an expert evaluator for a RAG system.\n",
      "        Your task is to analyze the relevance of the LLM generated answer to the users given question.\n",
      "        The goal is to have 3 classification levels as if the relevance scores were 0, 0.5, or 1.\n",
      "        Based on the relevance of the generated answer, you will classify it\n",
      "        as \"NON_RELEVANT\", \"PARTLY_RELEVANT\", or \"RELEVANT\".\n",
      "\n",
      "        Here is the data for evaluation:\n",
      "\n",
      "        Question: En qué temporada Messi jugó diecisiete partidos con el Barcelona B y cuántos goles marcó?\n",
      "        Generated Answer: Lo siento, pero no tengo suficiente información para responder a esa pregunta. ¿Hay algo más en lo que pueda ayudarte?\n",
      "\n",
      "        Please analyze the content and context of the generated answer in relation to the question\n",
      "        and provide your evaluation in parsable JSON without using code blocks:\n",
      "\n",
      "        {\n",
      "        \"Relevance\": \"NON_RELEVANT\" | \"PARTLY_RELEVANT\" | \"RELEVANT\",\n",
      "        \"Explanation\": \"[Provide a brief explanation for your evaluation in spanish]\"\n",
      "        }\n",
      "------------------------------------\n",
      "Input Tokens: 4150       Cost: $0.00062250\n",
      "Completion Tokens: 23       Cost: $0.00001380\n",
      "Total Cost: $0.00063630\n",
      "------------------------------------\n"
     ]
    },
    {
     "name": "stderr",
     "output_type": "stream",
     "text": [
      " 87%|████████▋ | 165/190 [05:49<00:49,  2.00s/it]"
     ]
    },
    {
     "name": "stdout",
     "output_type": "stream",
     "text": [
      "------------------------------------\n",
      "Input Tokens: 242       Cost: $0.00003630\n",
      "Completion Tokens: 82       Cost: $0.00004920\n",
      "Total Cost: $0.00008550\n",
      "------------------------------------\n",
      "You are an expert evaluator for a RAG system.\n",
      "        Your task is to analyze the relevance of the LLM generated answer to the users given question.\n",
      "        The goal is to have 3 classification levels as if the relevance scores were 0, 0.5, or 1.\n",
      "        Based on the relevance of the generated answer, you will classify it\n",
      "        as \"NON_RELEVANT\", \"PARTLY_RELEVANT\", or \"RELEVANT\".\n",
      "\n",
      "        Here is the data for evaluation:\n",
      "\n",
      "        Question: ¿Qué ocurrió el 1 de mayo de 2005 en un partido contra el Albacete Balompié para Messi?\n",
      "        Generated Answer: Lo siento, pero no tengo suficiente información para responder a eso. ¿Hay algo más en lo que pueda ayudarte?\n",
      "\n",
      "        Please analyze the content and context of the generated answer in relation to the question\n",
      "        and provide your evaluation in parsable JSON without using code blocks:\n",
      "\n",
      "        {\n",
      "        \"Relevance\": \"NON_RELEVANT\" | \"PARTLY_RELEVANT\" | \"RELEVANT\",\n",
      "        \"Explanation\": \"[Provide a brief explanation for your evaluation in spanish]\"\n",
      "        }\n",
      "------------------------------------\n",
      "Input Tokens: 3983       Cost: $0.00059745\n",
      "Completion Tokens: 65       Cost: $0.00003900\n",
      "Total Cost: $0.00063645\n",
      "------------------------------------\n"
     ]
    },
    {
     "name": "stderr",
     "output_type": "stream",
     "text": [
      " 87%|████████▋ | 166/190 [05:52<00:54,  2.28s/it]"
     ]
    },
    {
     "name": "stdout",
     "output_type": "stream",
     "text": [
      "------------------------------------\n",
      "Input Tokens: 279       Cost: $0.00004185\n",
      "Completion Tokens: 70       Cost: $0.00004200\n",
      "Total Cost: $0.00008385\n",
      "------------------------------------\n",
      "You are an expert evaluator for a RAG system.\n",
      "        Your task is to analyze the relevance of the LLM generated answer to the users given question.\n",
      "        The goal is to have 3 classification levels as if the relevance scores were 0, 0.5, or 1.\n",
      "        Based on the relevance of the generated answer, you will classify it\n",
      "        as \"NON_RELEVANT\", \"PARTLY_RELEVANT\", or \"RELEVANT\".\n",
      "\n",
      "        Here is the data for evaluation:\n",
      "\n",
      "        Question: ¿Qué ocurrió con Messi el 13 de agosto de 2007 durante la Supercopa de España?\n",
      "        Generated Answer: El 13 de agosto de 2007, en el partido de ida de la Supercopa de España, Messi participó en el encuentro contra el Sevilla. En ese partido, dio una asistencia y anotó un gol en el empate 2-2. Si necesitas más información, estaré encantado de ayudarte.\n",
      "\n",
      "        Please analyze the content and context of the generated answer in relation to the question\n",
      "        and provide your evaluation in parsable JSON without using code blocks:\n",
      "\n",
      "        {\n",
      "        \"Relevance\": \"NON_RELEVANT\" | \"PARTLY_RELEVANT\" | \"RELEVANT\",\n",
      "        \"Explanation\": \"[Provide a brief explanation for your evaluation in spanish]\"\n",
      "        }\n",
      "------------------------------------\n",
      "Input Tokens: 4066       Cost: $0.00060990\n",
      "Completion Tokens: 98       Cost: $0.00005880\n",
      "Total Cost: $0.00066870\n",
      "------------------------------------\n"
     ]
    },
    {
     "name": "stderr",
     "output_type": "stream",
     "text": [
      " 88%|████████▊ | 167/190 [05:55<00:55,  2.41s/it]"
     ]
    },
    {
     "name": "stdout",
     "output_type": "stream",
     "text": [
      "------------------------------------\n",
      "Input Tokens: 308       Cost: $0.00004620\n",
      "Completion Tokens: 71       Cost: $0.00004260\n",
      "Total Cost: $0.00008880\n",
      "------------------------------------\n",
      "You are an expert evaluator for a RAG system.\n",
      "        Your task is to analyze the relevance of the LLM generated answer to the users given question.\n",
      "        The goal is to have 3 classification levels as if the relevance scores were 0, 0.5, or 1.\n",
      "        Based on the relevance of the generated answer, you will classify it\n",
      "        as \"NON_RELEVANT\", \"PARTLY_RELEVANT\", or \"RELEVANT\".\n",
      "\n",
      "        Here is the data for evaluation:\n",
      "\n",
      "        Question: ¿Por qué Messi no pudo participar en las primeras jornadas de La Liga en 2007?\n",
      "        Generated Answer: Messi no pudo participar en las primeras jornadas de La Liga en 2007 porque su situación como extranjero no había sido regularizada. Aunque el Barcelona había recurrido a la Real Federación Española de Fútbol para que lo considerara asimilado, la Comisión Delegada de la Liga Profesional rechazó esa concesión. Sin embargo, pudo jugar en la Liga a partir del 1 de octubre, una vez que obtuvo su nacionalización. ¿Hay algo más en lo que pueda ayudarte?\n",
      "\n",
      "        Please analyze the content and context of the generated answer in relation to the question\n",
      "        and provide your evaluation in parsable JSON without using code blocks:\n",
      "\n",
      "        {\n",
      "        \"Relevance\": \"NON_RELEVANT\" | \"PARTLY_RELEVANT\" | \"RELEVANT\",\n",
      "        \"Explanation\": \"[Provide a brief explanation for your evaluation in spanish]\"\n",
      "        }\n",
      "------------------------------------\n",
      "Input Tokens: 4009       Cost: $0.00060135\n",
      "Completion Tokens: 83       Cost: $0.00004980\n",
      "Total Cost: $0.00065115\n",
      "------------------------------------\n"
     ]
    },
    {
     "name": "stderr",
     "output_type": "stream",
     "text": [
      " 88%|████████▊ | 168/190 [05:57<00:53,  2.42s/it]"
     ]
    },
    {
     "name": "stdout",
     "output_type": "stream",
     "text": [
      "------------------------------------\n",
      "Input Tokens: 297       Cost: $0.00004455\n",
      "Completion Tokens: 68       Cost: $0.00004080\n",
      "Total Cost: $0.00008535\n",
      "------------------------------------\n",
      "You are an expert evaluator for a RAG system.\n",
      "        Your task is to analyze the relevance of the LLM generated answer to the users given question.\n",
      "        The goal is to have 3 classification levels as if the relevance scores were 0, 0.5, or 1.\n",
      "        Based on the relevance of the generated answer, you will classify it\n",
      "        as \"NON_RELEVANT\", \"PARTLY_RELEVANT\", or \"RELEVANT\".\n",
      "\n",
      "        Here is the data for evaluation:\n",
      "\n",
      "        Question: ¿Cuál fue la reacción del entrenador Fabio Capello tras el rendimiento de Messi en el Trofeo Joan Gamper?\n",
      "        Generated Answer: Fabio Capello, entrenador de la Juventus, quedó tan impresionado por el rendimiento de Messi en el Trofeo Joan Gamper que le pidió a Frank Rijkaard, entrenador del Barcelona, si podía cederlo. Además, en la conferencia de prensa posterior al partido, mencionó que \"nunca había visto a un jugador con tanta calidad a esta edad y con esa personalidad con una camiseta tan importante\".\n",
      "\n",
      "        Please analyze the content and context of the generated answer in relation to the question\n",
      "        and provide your evaluation in parsable JSON without using code blocks:\n",
      "\n",
      "        {\n",
      "        \"Relevance\": \"NON_RELEVANT\" | \"PARTLY_RELEVANT\" | \"RELEVANT\",\n",
      "        \"Explanation\": \"[Provide a brief explanation for your evaluation in spanish]\"\n",
      "        }\n",
      "------------------------------------\n",
      "Input Tokens: 3704       Cost: $0.00055560\n",
      "Completion Tokens: 24       Cost: $0.00001440\n",
      "Total Cost: $0.00057000\n",
      "------------------------------------\n"
     ]
    },
    {
     "name": "stderr",
     "output_type": "stream",
     "text": [
      " 89%|████████▉ | 169/190 [05:59<00:46,  2.20s/it]"
     ]
    },
    {
     "name": "stdout",
     "output_type": "stream",
     "text": [
      "------------------------------------\n",
      "Input Tokens: 234       Cost: $0.00003510\n",
      "Completion Tokens: 56       Cost: $0.00003360\n",
      "Total Cost: $0.00006870\n",
      "------------------------------------\n",
      "You are an expert evaluator for a RAG system.\n",
      "        Your task is to analyze the relevance of the LLM generated answer to the users given question.\n",
      "        The goal is to have 3 classification levels as if the relevance scores were 0, 0.5, or 1.\n",
      "        Based on the relevance of the generated answer, you will classify it\n",
      "        as \"NON_RELEVANT\", \"PARTLY_RELEVANT\", or \"RELEVANT\".\n",
      "\n",
      "        Here is the data for evaluation:\n",
      "\n",
      "        Question: ¿Cuál fue el evento que fue considerado un momento bisagra en la carrera de Messi?\n",
      "        Generated Answer: Lo siento, pero no tengo suficiente información para responder a esa pregunta. ¿Hay algo más en lo que pueda ayudarte?\n",
      "\n",
      "        Please analyze the content and context of the generated answer in relation to the question\n",
      "        and provide your evaluation in parsable JSON without using code blocks:\n",
      "\n",
      "        {\n",
      "        \"Relevance\": \"NON_RELEVANT\" | \"PARTLY_RELEVANT\" | \"RELEVANT\",\n",
      "        \"Explanation\": \"[Provide a brief explanation for your evaluation in spanish]\"\n",
      "        }\n",
      "------------------------------------\n",
      "Input Tokens: 3967       Cost: $0.00059505\n",
      "Completion Tokens: 23       Cost: $0.00001380\n",
      "Total Cost: $0.00060885\n",
      "------------------------------------\n"
     ]
    },
    {
     "name": "stderr",
     "output_type": "stream",
     "text": [
      " 89%|████████▉ | 170/190 [06:01<00:40,  2.04s/it]"
     ]
    },
    {
     "name": "stdout",
     "output_type": "stream",
     "text": [
      "------------------------------------\n",
      "Input Tokens: 235       Cost: $0.00003525\n",
      "Completion Tokens: 73       Cost: $0.00004380\n",
      "Total Cost: $0.00007905\n",
      "------------------------------------\n",
      "You are an expert evaluator for a RAG system.\n",
      "        Your task is to analyze the relevance of the LLM generated answer to the users given question.\n",
      "        The goal is to have 3 classification levels as if the relevance scores were 0, 0.5, or 1.\n",
      "        Based on the relevance of the generated answer, you will classify it\n",
      "        as \"NON_RELEVANT\", \"PARTLY_RELEVANT\", or \"RELEVANT\".\n",
      "\n",
      "        Here is the data for evaluation:\n",
      "\n",
      "        Question: ¿Qué premio recibió Messi en diciembre de 2005 y quiénes fueron los otros nominados?\n",
      "        Generated Answer: Lo siento, pero no tengo suficiente información para responder a eso. ¿Hay algo más en lo que pueda ayudarte?\n",
      "\n",
      "        Please analyze the content and context of the generated answer in relation to the question\n",
      "        and provide your evaluation in parsable JSON without using code blocks:\n",
      "\n",
      "        {\n",
      "        \"Relevance\": \"NON_RELEVANT\" | \"PARTLY_RELEVANT\" | \"RELEVANT\",\n",
      "        \"Explanation\": \"[Provide a brief explanation for your evaluation in spanish]\"\n",
      "        }\n",
      "------------------------------------\n",
      "Input Tokens: 3994       Cost: $0.00059910\n",
      "Completion Tokens: 24       Cost: $0.00001440\n",
      "Total Cost: $0.00061350\n",
      "------------------------------------\n"
     ]
    },
    {
     "name": "stderr",
     "output_type": "stream",
     "text": [
      " 90%|█████████ | 171/190 [06:02<00:37,  1.99s/it]"
     ]
    },
    {
     "name": "stdout",
     "output_type": "stream",
     "text": [
      "------------------------------------\n",
      "Input Tokens: 243       Cost: $0.00003645\n",
      "Completion Tokens: 72       Cost: $0.00004320\n",
      "Total Cost: $0.00007965\n",
      "------------------------------------\n",
      "You are an expert evaluator for a RAG system.\n",
      "        Your task is to analyze the relevance of the LLM generated answer to the users given question.\n",
      "        The goal is to have 3 classification levels as if the relevance scores were 0, 0.5, or 1.\n",
      "        Based on the relevance of the generated answer, you will classify it\n",
      "        as \"NON_RELEVANT\", \"PARTLY_RELEVANT\", or \"RELEVANT\".\n",
      "\n",
      "        Here is the data for evaluation:\n",
      "\n",
      "        Question: ¿Cuáles fueron los dos goles que Lionel Messi anotó en la Copa del Rey contra el Getafe FC en 2007?\n",
      "        Generated Answer: Lo siento, pero no tengo suficiente información para responder a esa pregunta. ¿Hay algo más en lo que pueda ayudarte?\n",
      "\n",
      "        Please analyze the content and context of the generated answer in relation to the question\n",
      "        and provide your evaluation in parsable JSON without using code blocks:\n",
      "\n",
      "        {\n",
      "        \"Relevance\": \"NON_RELEVANT\" | \"PARTLY_RELEVANT\" | \"RELEVANT\",\n",
      "        \"Explanation\": \"[Provide a brief explanation for your evaluation in spanish]\"\n",
      "        }\n",
      "------------------------------------\n",
      "Input Tokens: 4253       Cost: $0.00063795\n",
      "Completion Tokens: 24       Cost: $0.00001440\n",
      "Total Cost: $0.00065235\n",
      "------------------------------------\n"
     ]
    },
    {
     "name": "stderr",
     "output_type": "stream",
     "text": [
      " 91%|█████████ | 172/190 [06:04<00:33,  1.86s/it]"
     ]
    },
    {
     "name": "stdout",
     "output_type": "stream",
     "text": [
      "------------------------------------\n",
      "Input Tokens: 241       Cost: $0.00003615\n",
      "Completion Tokens: 64       Cost: $0.00003840\n",
      "Total Cost: $0.00007455\n",
      "------------------------------------\n",
      "You are an expert evaluator for a RAG system.\n",
      "        Your task is to analyze the relevance of the LLM generated answer to the users given question.\n",
      "        The goal is to have 3 classification levels as if the relevance scores were 0, 0.5, or 1.\n",
      "        Based on the relevance of the generated answer, you will classify it\n",
      "        as \"NON_RELEVANT\", \"PARTLY_RELEVANT\", or \"RELEVANT\".\n",
      "\n",
      "        Here is the data for evaluation:\n",
      "\n",
      "        Question: ¿Cuántos goles anotó Messi en total durante la temporada 2006-07, incluyendo todas las competiciones?\n",
      "        Generated Answer: Lo siento, pero no tengo suficiente información para responder a esa pregunta. ¿Hay algo más en lo que puedo ayudarte?\n",
      "\n",
      "        Please analyze the content and context of the generated answer in relation to the question\n",
      "        and provide your evaluation in parsable JSON without using code blocks:\n",
      "\n",
      "        {\n",
      "        \"Relevance\": \"NON_RELEVANT\" | \"PARTLY_RELEVANT\" | \"RELEVANT\",\n",
      "        \"Explanation\": \"[Provide a brief explanation for your evaluation in spanish]\"\n",
      "        }\n",
      "------------------------------------\n",
      "Input Tokens: 3925       Cost: $0.00058875\n",
      "Completion Tokens: 24       Cost: $0.00001440\n",
      "Total Cost: $0.00060315\n",
      "------------------------------------\n"
     ]
    },
    {
     "name": "stderr",
     "output_type": "stream",
     "text": [
      " 91%|█████████ | 173/190 [06:06<00:30,  1.78s/it]"
     ]
    },
    {
     "name": "stdout",
     "output_type": "stream",
     "text": [
      "------------------------------------\n",
      "Input Tokens: 237       Cost: $0.00003555\n",
      "Completion Tokens: 69       Cost: $0.00004140\n",
      "Total Cost: $0.00007695\n",
      "------------------------------------\n",
      "You are an expert evaluator for a RAG system.\n",
      "        Your task is to analyze the relevance of the LLM generated answer to the users given question.\n",
      "        The goal is to have 3 classification levels as if the relevance scores were 0, 0.5, or 1.\n",
      "        Based on the relevance of the generated answer, you will classify it\n",
      "        as \"NON_RELEVANT\", \"PARTLY_RELEVANT\", or \"RELEVANT\".\n",
      "\n",
      "        Here is the data for evaluation:\n",
      "\n",
      "        Question: ¿Qué lesiones sufrió Messi durante la temporada 2006-07 y cuánto tiempo estuvo fuera de juego?\n",
      "        Generated Answer: Lo siento, pero no tengo suficiente información para responder a esa pregunta. ¿Hay algo más en lo que puedo ayudarte?\n",
      "\n",
      "        Please analyze the content and context of the generated answer in relation to the question\n",
      "        and provide your evaluation in parsable JSON without using code blocks:\n",
      "\n",
      "        {\n",
      "        \"Relevance\": \"NON_RELEVANT\" | \"PARTLY_RELEVANT\" | \"RELEVANT\",\n",
      "        \"Explanation\": \"[Provide a brief explanation for your evaluation in spanish]\"\n",
      "        }\n",
      "------------------------------------\n",
      "Input Tokens: 3613       Cost: $0.00054195\n",
      "Completion Tokens: 71       Cost: $0.00004260\n",
      "Total Cost: $0.00058455\n",
      "------------------------------------\n"
     ]
    },
    {
     "name": "stderr",
     "output_type": "stream",
     "text": [
      " 92%|█████████▏| 174/190 [06:08<00:31,  1.97s/it]"
     ]
    },
    {
     "name": "stdout",
     "output_type": "stream",
     "text": [
      "------------------------------------\n",
      "Input Tokens: 289       Cost: $0.00004335\n",
      "Completion Tokens: 86       Cost: $0.00005160\n",
      "Total Cost: $0.00009495\n",
      "------------------------------------\n",
      "You are an expert evaluator for a RAG system.\n",
      "        Your task is to analyze the relevance of the LLM generated answer to the users given question.\n",
      "        The goal is to have 3 classification levels as if the relevance scores were 0, 0.5, or 1.\n",
      "        Based on the relevance of the generated answer, you will classify it\n",
      "        as \"NON_RELEVANT\", \"PARTLY_RELEVANT\", or \"RELEVANT\".\n",
      "\n",
      "        Here is the data for evaluation:\n",
      "\n",
      "        Question: ¿Qué premiación otorgó FIFPro a Messi en 2006 y cuántas veces lo ganó en los años siguientes?\n",
      "        Generated Answer: En 2006, Messi fue premiado por FIFPro con el galardón de \"Mejor Jugador Joven\". En los años siguientes, ganó este premio en otras ocasiones, aunque el texto proporcionado no especifica cuántas veces más lo ganó. Estoy aquí para ayudar, si tienes alguna otra pregunta, no dudes en decirme.\n",
      "\n",
      "        Please analyze the content and context of the generated answer in relation to the question\n",
      "        and provide your evaluation in parsable JSON without using code blocks:\n",
      "\n",
      "        {\n",
      "        \"Relevance\": \"NON_RELEVANT\" | \"PARTLY_RELEVANT\" | \"RELEVANT\",\n",
      "        \"Explanation\": \"[Provide a brief explanation for your evaluation in spanish]\"\n",
      "        }\n",
      "------------------------------------\n",
      "Input Tokens: 4150       Cost: $0.00062250\n",
      "Completion Tokens: 24       Cost: $0.00001440\n",
      "Total Cost: $0.00063690\n",
      "------------------------------------\n"
     ]
    },
    {
     "name": "stderr",
     "output_type": "stream",
     "text": [
      " 92%|█████████▏| 175/190 [06:10<00:28,  1.89s/it]"
     ]
    },
    {
     "name": "stdout",
     "output_type": "stream",
     "text": [
      "------------------------------------\n",
      "Input Tokens: 240       Cost: $0.00003600\n",
      "Completion Tokens: 68       Cost: $0.00004080\n",
      "Total Cost: $0.00007680\n",
      "------------------------------------\n",
      "You are an expert evaluator for a RAG system.\n",
      "        Your task is to analyze the relevance of the LLM generated answer to the users given question.\n",
      "        The goal is to have 3 classification levels as if the relevance scores were 0, 0.5, or 1.\n",
      "        Based on the relevance of the generated answer, you will classify it\n",
      "        as \"NON_RELEVANT\", \"PARTLY_RELEVANT\", or \"RELEVANT\".\n",
      "\n",
      "        Here is the data for evaluation:\n",
      "\n",
      "        Question: ¿Qué contrato firmó Messi en junio de 2008 y cuál fue su impacto en su salario en el Barcelona?\n",
      "        Generated Answer: Lo siento, pero no tengo suficiente información para responder a esa pregunta. ¿Hay algo más en lo que pueda ayudarte?\n",
      "\n",
      "        Please analyze the content and context of the generated answer in relation to the question\n",
      "        and provide your evaluation in parsable JSON without using code blocks:\n",
      "\n",
      "        {\n",
      "        \"Relevance\": \"NON_RELEVANT\" | \"PARTLY_RELEVANT\" | \"RELEVANT\",\n",
      "        \"Explanation\": \"[Provide a brief explanation for your evaluation in spanish]\"\n",
      "        }\n",
      "------------------------------------\n",
      "Input Tokens: 4038       Cost: $0.00060570\n",
      "Completion Tokens: 29       Cost: $0.00001740\n",
      "Total Cost: $0.00062310\n",
      "------------------------------------\n"
     ]
    },
    {
     "name": "stderr",
     "output_type": "stream",
     "text": [
      " 93%|█████████▎| 176/190 [06:12<00:27,  1.94s/it]"
     ]
    },
    {
     "name": "stdout",
     "output_type": "stream",
     "text": [
      "------------------------------------\n",
      "Input Tokens: 238       Cost: $0.00003570\n",
      "Completion Tokens: 72       Cost: $0.00004320\n",
      "Total Cost: $0.00007890\n",
      "------------------------------------\n",
      "You are an expert evaluator for a RAG system.\n",
      "        Your task is to analyze the relevance of the LLM generated answer to the users given question.\n",
      "        The goal is to have 3 classification levels as if the relevance scores were 0, 0.5, or 1.\n",
      "        Based on the relevance of the generated answer, you will classify it\n",
      "        as \"NON_RELEVANT\", \"PARTLY_RELEVANT\", or \"RELEVANT\".\n",
      "\n",
      "        Here is the data for evaluation:\n",
      "\n",
      "        Question: ¿Cuántos goles anotó Messi en el partido amistoso contra el Dundee United?\n",
      "        Generated Answer: Messi anotó un hat-trick en el partido amistoso contra el Dundee United. ¿Hay algo más en lo que te pueda ayudar?\n",
      "\n",
      "        Please analyze the content and context of the generated answer in relation to the question\n",
      "        and provide your evaluation in parsable JSON without using code blocks:\n",
      "\n",
      "        {\n",
      "        \"Relevance\": \"NON_RELEVANT\" | \"PARTLY_RELEVANT\" | \"RELEVANT\",\n",
      "        \"Explanation\": \"[Provide a brief explanation for your evaluation in spanish]\"\n",
      "        }\n",
      "------------------------------------\n",
      "Input Tokens: 3887       Cost: $0.00058305\n",
      "Completion Tokens: 36       Cost: $0.00002160\n",
      "Total Cost: $0.00060465\n",
      "------------------------------------\n"
     ]
    },
    {
     "name": "stderr",
     "output_type": "stream",
     "text": [
      " 93%|█████████▎| 177/190 [06:14<00:27,  2.11s/it]"
     ]
    },
    {
     "name": "stdout",
     "output_type": "stream",
     "text": [
      "------------------------------------\n",
      "Input Tokens: 243       Cost: $0.00003645\n",
      "Completion Tokens: 79       Cost: $0.00004740\n",
      "Total Cost: $0.00008385\n",
      "------------------------------------\n",
      "You are an expert evaluator for a RAG system.\n",
      "        Your task is to analyze the relevance of the LLM generated answer to the users given question.\n",
      "        The goal is to have 3 classification levels as if the relevance scores were 0, 0.5, or 1.\n",
      "        Based on the relevance of the generated answer, you will classify it\n",
      "        as \"NON_RELEVANT\", \"PARTLY_RELEVANT\", or \"RELEVANT\".\n",
      "\n",
      "        Here is the data for evaluation:\n",
      "\n",
      "        Question: ¿Qué premio recibió Messi por ser el mejor jugador de la primera división española?\n",
      "        Generated Answer: Lionel Messi recibió el trofeo Pichichi como máximo goleador de La Liga. Este premio se otorga al jugador que más goles anota en la primera división española.\n",
      "\n",
      "        Please analyze the content and context of the generated answer in relation to the question\n",
      "        and provide your evaluation in parsable JSON without using code blocks:\n",
      "\n",
      "        {\n",
      "        \"Relevance\": \"NON_RELEVANT\" | \"PARTLY_RELEVANT\" | \"RELEVANT\",\n",
      "        \"Explanation\": \"[Provide a brief explanation for your evaluation in spanish]\"\n",
      "        }\n",
      "------------------------------------\n",
      "Input Tokens: 4132       Cost: $0.00061980\n",
      "Completion Tokens: 23       Cost: $0.00001380\n",
      "Total Cost: $0.00063360\n",
      "------------------------------------\n"
     ]
    },
    {
     "name": "stderr",
     "output_type": "stream",
     "text": [
      " 94%|█████████▎| 178/190 [06:16<00:24,  2.04s/it]"
     ]
    },
    {
     "name": "stdout",
     "output_type": "stream",
     "text": [
      "------------------------------------\n",
      "Input Tokens: 234       Cost: $0.00003510\n",
      "Completion Tokens: 68       Cost: $0.00004080\n",
      "Total Cost: $0.00007590\n",
      "------------------------------------\n",
      "You are an expert evaluator for a RAG system.\n",
      "        Your task is to analyze the relevance of the LLM generated answer to the users given question.\n",
      "        The goal is to have 3 classification levels as if the relevance scores were 0, 0.5, or 1.\n",
      "        Based on the relevance of the generated answer, you will classify it\n",
      "        as \"NON_RELEVANT\", \"PARTLY_RELEVANT\", or \"RELEVANT\".\n",
      "\n",
      "        Here is the data for evaluation:\n",
      "\n",
      "        Question: ¿En qué partido Messi hizo su primer gol en una final con el primer equipo del Barcelona?\n",
      "        Generated Answer: Lo siento, pero no tengo suficiente información para responder esa pregunta. ¿Hay algo más en lo que pueda ayudarte?\n",
      "\n",
      "        Please analyze the content and context of the generated answer in relation to the question\n",
      "        and provide your evaluation in parsable JSON without using code blocks:\n",
      "\n",
      "        {\n",
      "        \"Relevance\": \"NON_RELEVANT\" | \"PARTLY_RELEVANT\" | \"RELEVANT\",\n",
      "        \"Explanation\": \"[Provide a brief explanation for your evaluation in spanish]\"\n",
      "        }\n",
      "------------------------------------\n",
      "Input Tokens: 4059       Cost: $0.00060885\n",
      "Completion Tokens: 51       Cost: $0.00003060\n",
      "Total Cost: $0.00063945\n",
      "------------------------------------\n"
     ]
    },
    {
     "name": "stderr",
     "output_type": "stream",
     "text": [
      " 94%|█████████▍| 179/190 [06:18<00:21,  1.97s/it]"
     ]
    },
    {
     "name": "stdout",
     "output_type": "stream",
     "text": [
      "------------------------------------\n",
      "Input Tokens: 264       Cost: $0.00003960\n",
      "Completion Tokens: 61       Cost: $0.00003660\n",
      "Total Cost: $0.00007620\n",
      "------------------------------------\n",
      "You are an expert evaluator for a RAG system.\n",
      "        Your task is to analyze the relevance of the LLM generated answer to the users given question.\n",
      "        The goal is to have 3 classification levels as if the relevance scores were 0, 0.5, or 1.\n",
      "        Based on the relevance of the generated answer, you will classify it\n",
      "        as \"NON_RELEVANT\", \"PARTLY_RELEVANT\", or \"RELEVANT\".\n",
      "\n",
      "        Here is the data for evaluation:\n",
      "\n",
      "        Question: ¿Cuál fue la mayor goleada de Messi contra el Real Madrid en el Santiago Bernabéu?\n",
      "        Generated Answer: La mayor goleada de Messi contra el Real Madrid en el Santiago Bernabéu fue un partido en el que el Barcelona ganó 6-2, lo cual ocurrió el 2 de mayo. En ese partido, Messi anotó un doblete.\n",
      "\n",
      "        Please analyze the content and context of the generated answer in relation to the question\n",
      "        and provide your evaluation in parsable JSON without using code blocks:\n",
      "\n",
      "        {\n",
      "        \"Relevance\": \"NON_RELEVANT\" | \"PARTLY_RELEVANT\" | \"RELEVANT\",\n",
      "        \"Explanation\": \"[Provide a brief explanation for your evaluation in spanish]\"\n",
      "        }\n",
      "------------------------------------\n",
      "Input Tokens: 4183       Cost: $0.00062745\n",
      "Completion Tokens: 23       Cost: $0.00001380\n",
      "Total Cost: $0.00064125\n",
      "------------------------------------\n"
     ]
    },
    {
     "name": "stderr",
     "output_type": "stream",
     "text": [
      " 95%|█████████▍| 180/190 [06:20<00:19,  1.91s/it]"
     ]
    },
    {
     "name": "stdout",
     "output_type": "stream",
     "text": [
      "------------------------------------\n",
      "Input Tokens: 237       Cost: $0.00003555\n",
      "Completion Tokens: 66       Cost: $0.00003960\n",
      "Total Cost: $0.00007515\n",
      "------------------------------------\n",
      "You are an expert evaluator for a RAG system.\n",
      "        Your task is to analyze the relevance of the LLM generated answer to the users given question.\n",
      "        The goal is to have 3 classification levels as if the relevance scores were 0, 0.5, or 1.\n",
      "        Based on the relevance of the generated answer, you will classify it\n",
      "        as \"NON_RELEVANT\", \"PARTLY_RELEVANT\", or \"RELEVANT\".\n",
      "\n",
      "        Here is the data for evaluation:\n",
      "\n",
      "        Question: ¿Cuántas asistencias y goles hizo Messi en su primera campaña ininterrumpida con el Barcelona?\n",
      "        Generated Answer: Lo siento, pero no tengo suficiente información para responder a eso. ¿Hay algo más en lo que pueda ayudarte?\n",
      "\n",
      "        Please analyze the content and context of the generated answer in relation to the question\n",
      "        and provide your evaluation in parsable JSON without using code blocks:\n",
      "\n",
      "        {\n",
      "        \"Relevance\": \"NON_RELEVANT\" | \"PARTLY_RELEVANT\" | \"RELEVANT\",\n",
      "        \"Explanation\": \"[Provide a brief explanation for your evaluation in spanish]\"\n",
      "        }\n",
      "------------------------------------\n",
      "Input Tokens: 4091       Cost: $0.00061365\n",
      "Completion Tokens: 24       Cost: $0.00001440\n",
      "Total Cost: $0.00062805\n",
      "------------------------------------\n"
     ]
    },
    {
     "name": "stderr",
     "output_type": "stream",
     "text": [
      " 95%|█████████▌| 181/190 [06:22<00:18,  2.04s/it]"
     ]
    },
    {
     "name": "stdout",
     "output_type": "stream",
     "text": [
      "------------------------------------\n",
      "Input Tokens: 241       Cost: $0.00003615\n",
      "Completion Tokens: 74       Cost: $0.00004440\n",
      "Total Cost: $0.00008055\n",
      "------------------------------------\n",
      "You are an expert evaluator for a RAG system.\n",
      "        Your task is to analyze the relevance of the LLM generated answer to the users given question.\n",
      "        The goal is to have 3 classification levels as if the relevance scores were 0, 0.5, or 1.\n",
      "        Based on the relevance of the generated answer, you will classify it\n",
      "        as \"NON_RELEVANT\", \"PARTLY_RELEVANT\", or \"RELEVANT\".\n",
      "\n",
      "        Here is the data for evaluation:\n",
      "\n",
      "        Question: ¿Cuántos goles anotó Lionel Messi en la Liga de Campeones durante la temporada 2010-2011?\n",
      "        Generated Answer: I'm sorry, but I don’t have enough information to answer that. Is there anything else I can help you with?\n",
      "\n",
      "        Please analyze the content and context of the generated answer in relation to the question\n",
      "        and provide your evaluation in parsable JSON without using code blocks:\n",
      "\n",
      "        {\n",
      "        \"Relevance\": \"NON_RELEVANT\" | \"PARTLY_RELEVANT\" | \"RELEVANT\",\n",
      "        \"Explanation\": \"[Provide a brief explanation for your evaluation in spanish]\"\n",
      "        }\n",
      "------------------------------------\n",
      "Input Tokens: 3896       Cost: $0.00058440\n",
      "Completion Tokens: 121       Cost: $0.00007260\n",
      "Total Cost: $0.00065700\n",
      "------------------------------------\n"
     ]
    },
    {
     "name": "stderr",
     "output_type": "stream",
     "text": [
      " 96%|█████████▌| 182/190 [06:26<00:21,  2.64s/it]"
     ]
    },
    {
     "name": "stdout",
     "output_type": "stream",
     "text": [
      "------------------------------------\n",
      "Input Tokens: 333       Cost: $0.00004995\n",
      "Completion Tokens: 96       Cost: $0.00005760\n",
      "Total Cost: $0.00010755\n",
      "------------------------------------\n",
      "You are an expert evaluator for a RAG system.\n",
      "        Your task is to analyze the relevance of the LLM generated answer to the users given question.\n",
      "        The goal is to have 3 classification levels as if the relevance scores were 0, 0.5, or 1.\n",
      "        Based on the relevance of the generated answer, you will classify it\n",
      "        as \"NON_RELEVANT\", \"PARTLY_RELEVANT\", or \"RELEVANT\".\n",
      "\n",
      "        Here is the data for evaluation:\n",
      "\n",
      "        Question: ¿Qué premio ganó Lionel Messi el 2 de diciembre de 2009 y por qué fue significativo?\n",
      "        Generated Answer: Lionel Messi ganó el Balón de Oro el 2 de diciembre de 2009. Este premio fue significativo porque representó un reconocimiento a su extraordinaria actuación en el fútbol, consolidándolo como uno de los mejores futbolistas del mundo. Además, fue un momento histórico, ya que fue el primer Balón de Oro que se entregó tras la fusión con el FIFA World Player, lo que elevó aún más su prestigio y marcó el inicio de una era en la que Messi se destacó como una figura central en el deporte. ¿Hay algo más en lo que te pueda ayudar?\n",
      "\n",
      "        Please analyze the content and context of the generated answer in relation to the question\n",
      "        and provide your evaluation in parsable JSON without using code blocks:\n",
      "\n",
      "        {\n",
      "        \"Relevance\": \"NON_RELEVANT\" | \"PARTLY_RELEVANT\" | \"RELEVANT\",\n",
      "        \"Explanation\": \"[Provide a brief explanation for your evaluation in spanish]\"\n",
      "        }\n",
      "------------------------------------\n",
      "Input Tokens: 3823       Cost: $0.00057345\n",
      "Completion Tokens: 24       Cost: $0.00001440\n",
      "Total Cost: $0.00058785\n",
      "------------------------------------\n"
     ]
    },
    {
     "name": "stderr",
     "output_type": "stream",
     "text": [
      " 96%|█████████▋| 183/190 [06:52<01:06,  9.55s/it]"
     ]
    },
    {
     "name": "stdout",
     "output_type": "stream",
     "text": [
      "------------------------------------\n",
      "Input Tokens: 240       Cost: $0.00003600\n",
      "Completion Tokens: 65       Cost: $0.00003900\n",
      "Total Cost: $0.00007500\n",
      "------------------------------------\n",
      "You are an expert evaluator for a RAG system.\n",
      "        Your task is to analyze the relevance of the LLM generated answer to the users given question.\n",
      "        The goal is to have 3 classification levels as if the relevance scores were 0, 0.5, or 1.\n",
      "        Based on the relevance of the generated answer, you will classify it\n",
      "        as \"NON_RELEVANT\", \"PARTLY_RELEVANT\", or \"RELEVANT\".\n",
      "\n",
      "        Here is the data for evaluation:\n",
      "\n",
      "        Question: ¿Cuál fue el salario de Messi tras la renovación de su contrato en septiembre y qué lo hizo destacar en ese momento?\n",
      "        Generated Answer: Lo siento, pero no tengo suficiente información para responder a esa pregunta. ¿Hay algo más en lo que pueda ayudarte?\n",
      "\n",
      "        Please analyze the content and context of the generated answer in relation to the question\n",
      "        and provide your evaluation in parsable JSON without using code blocks:\n",
      "\n",
      "        {\n",
      "        \"Relevance\": \"NON_RELEVANT\" | \"PARTLY_RELEVANT\" | \"RELEVANT\",\n",
      "        \"Explanation\": \"[Provide a brief explanation for your evaluation in spanish]\"\n",
      "        }\n",
      "------------------------------------\n",
      "Input Tokens: 3985       Cost: $0.00059775\n",
      "Completion Tokens: 23       Cost: $0.00001380\n",
      "Total Cost: $0.00061155\n",
      "------------------------------------\n"
     ]
    },
    {
     "name": "stderr",
     "output_type": "stream",
     "text": [
      " 97%|█████████▋| 184/190 [06:54<00:43,  7.24s/it]"
     ]
    },
    {
     "name": "stdout",
     "output_type": "stream",
     "text": [
      "------------------------------------\n",
      "Input Tokens: 239       Cost: $0.00003585\n",
      "Completion Tokens: 63       Cost: $0.00003780\n",
      "Total Cost: $0.00007365\n",
      "------------------------------------\n",
      "You are an expert evaluator for a RAG system.\n",
      "        Your task is to analyze the relevance of the LLM generated answer to the users given question.\n",
      "        The goal is to have 3 classification levels as if the relevance scores were 0, 0.5, or 1.\n",
      "        Based on the relevance of the generated answer, you will classify it\n",
      "        as \"NON_RELEVANT\", \"PARTLY_RELEVANT\", or \"RELEVANT\".\n",
      "\n",
      "        Here is the data for evaluation:\n",
      "\n",
      "        Question: ¿Qué récord logró Messi al anotar un hat trick contra el Sevilla el 30 de octubre de 2010?\n",
      "        Generated Answer: Lo siento, pero no tengo suficiente información para responder a eso. ¿Hay algo más en lo que puedo ayudarte?\n",
      "\n",
      "        Please analyze the content and context of the generated answer in relation to the question\n",
      "        and provide your evaluation in parsable JSON without using code blocks:\n",
      "\n",
      "        {\n",
      "        \"Relevance\": \"NON_RELEVANT\" | \"PARTLY_RELEVANT\" | \"RELEVANT\",\n",
      "        \"Explanation\": \"[Provide a brief explanation for your evaluation in spanish]\"\n",
      "        }\n",
      "------------------------------------\n",
      "Input Tokens: 3737       Cost: $0.00056055\n",
      "Completion Tokens: 23       Cost: $0.00001380\n",
      "Total Cost: $0.00057435\n",
      "------------------------------------\n"
     ]
    },
    {
     "name": "stderr",
     "output_type": "stream",
     "text": [
      " 97%|█████████▋| 185/190 [06:56<00:28,  5.68s/it]"
     ]
    },
    {
     "name": "stdout",
     "output_type": "stream",
     "text": [
      "------------------------------------\n",
      "Input Tokens: 243       Cost: $0.00003645\n",
      "Completion Tokens: 68       Cost: $0.00004080\n",
      "Total Cost: $0.00007725\n",
      "------------------------------------\n",
      "You are an expert evaluator for a RAG system.\n",
      "        Your task is to analyze the relevance of the LLM generated answer to the users given question.\n",
      "        The goal is to have 3 classification levels as if the relevance scores were 0, 0.5, or 1.\n",
      "        Based on the relevance of the generated answer, you will classify it\n",
      "        as \"NON_RELEVANT\", \"PARTLY_RELEVANT\", or \"RELEVANT\".\n",
      "\n",
      "        Here is the data for evaluation:\n",
      "\n",
      "        Question: ¿Qué impacto tuvo Messi en la final de la Liga de Campeones contra el Manchester United el 28 de mayo de 2011?\n",
      "        Generated Answer: Lo siento, pero no tengo suficiente información para responder a eso. ¿Hay algo más en lo que pueda ayudarte?\n",
      "\n",
      "        Please analyze the content and context of the generated answer in relation to the question\n",
      "        and provide your evaluation in parsable JSON without using code blocks:\n",
      "\n",
      "        {\n",
      "        \"Relevance\": \"NON_RELEVANT\" | \"PARTLY_RELEVANT\" | \"RELEVANT\",\n",
      "        \"Explanation\": \"[Provide a brief explanation for your evaluation in spanish]\"\n",
      "        }\n",
      "------------------------------------\n",
      "Input Tokens: 3771       Cost: $0.00056565\n",
      "Completion Tokens: 36       Cost: $0.00002160\n",
      "Total Cost: $0.00058725\n",
      "------------------------------------\n"
     ]
    },
    {
     "name": "stderr",
     "output_type": "stream",
     "text": [
      " 98%|█████████▊| 186/190 [06:58<00:18,  4.61s/it]"
     ]
    },
    {
     "name": "stdout",
     "output_type": "stream",
     "text": [
      "------------------------------------\n",
      "Input Tokens: 253       Cost: $0.00003795\n",
      "Completion Tokens: 61       Cost: $0.00003660\n",
      "Total Cost: $0.00007455\n",
      "------------------------------------\n",
      "You are an expert evaluator for a RAG system.\n",
      "        Your task is to analyze the relevance of the LLM generated answer to the users given question.\n",
      "        The goal is to have 3 classification levels as if the relevance scores were 0, 0.5, or 1.\n",
      "        Based on the relevance of the generated answer, you will classify it\n",
      "        as \"NON_RELEVANT\", \"PARTLY_RELEVANT\", or \"RELEVANT\".\n",
      "\n",
      "        Here is the data for evaluation:\n",
      "\n",
      "        Question: ¿Cuántos goles anotó Messi en la final de la Copa Mundial de Clubes de 2011 contra el Santos?\n",
      "        Generated Answer: Lionel Messi anotó dos goles en la final de la Copa Mundial de Clubes de 2011 contra el Santos. ¿Hay algo más en lo que te pueda ayudar?\n",
      "\n",
      "        Please analyze the content and context of the generated answer in relation to the question\n",
      "        and provide your evaluation in parsable JSON without using code blocks:\n",
      "\n",
      "        {\n",
      "        \"Relevance\": \"NON_RELEVANT\" | \"PARTLY_RELEVANT\" | \"RELEVANT\",\n",
      "        \"Explanation\": \"[Provide a brief explanation for your evaluation in spanish]\"\n",
      "        }\n",
      "------------------------------------\n",
      "Input Tokens: 3988       Cost: $0.00059820\n",
      "Completion Tokens: 27       Cost: $0.00001620\n",
      "Total Cost: $0.00061440\n",
      "------------------------------------\n"
     ]
    },
    {
     "name": "stderr",
     "output_type": "stream",
     "text": [
      " 98%|█████████▊| 187/190 [06:59<00:11,  3.73s/it]"
     ]
    },
    {
     "name": "stdout",
     "output_type": "stream",
     "text": [
      "------------------------------------\n",
      "Input Tokens: 245       Cost: $0.00003675\n",
      "Completion Tokens: 56       Cost: $0.00003360\n",
      "Total Cost: $0.00007035\n",
      "------------------------------------\n",
      "You are an expert evaluator for a RAG system.\n",
      "        Your task is to analyze the relevance of the LLM generated answer to the users given question.\n",
      "        The goal is to have 3 classification levels as if the relevance scores were 0, 0.5, or 1.\n",
      "        Based on the relevance of the generated answer, you will classify it\n",
      "        as \"NON_RELEVANT\", \"PARTLY_RELEVANT\", or \"RELEVANT\".\n",
      "\n",
      "        Here is the data for evaluation:\n",
      "\n",
      "        Question: ¿Qué récord alcanzó Messi al marcar cinco goles en un solo partido de la Liga de Campeones contra el Bayer Leverkusen?\n",
      "        Generated Answer: Messi se convirtió en el primer jugador que marcó cinco goles en un solo partido en la historia de la Liga de Campeones.\n",
      "\n",
      "        Please analyze the content and context of the generated answer in relation to the question\n",
      "        and provide your evaluation in parsable JSON without using code blocks:\n",
      "\n",
      "        {\n",
      "        \"Relevance\": \"NON_RELEVANT\" | \"PARTLY_RELEVANT\" | \"RELEVANT\",\n",
      "        \"Explanation\": \"[Provide a brief explanation for your evaluation in spanish]\"\n",
      "        }\n",
      "------------------------------------\n",
      "Input Tokens: 3709       Cost: $0.00055635\n",
      "Completion Tokens: 33       Cost: $0.00001980\n",
      "Total Cost: $0.00057615\n",
      "------------------------------------\n"
     ]
    },
    {
     "name": "stderr",
     "output_type": "stream",
     "text": [
      " 99%|█████████▉| 188/190 [07:01<00:06,  3.16s/it]"
     ]
    },
    {
     "name": "stdout",
     "output_type": "stream",
     "text": [
      "------------------------------------\n",
      "Input Tokens: 254       Cost: $0.00003810\n",
      "Completion Tokens: 76       Cost: $0.00004560\n",
      "Total Cost: $0.00008370\n",
      "------------------------------------\n",
      "You are an expert evaluator for a RAG system.\n",
      "        Your task is to analyze the relevance of the LLM generated answer to the users given question.\n",
      "        The goal is to have 3 classification levels as if the relevance scores were 0, 0.5, or 1.\n",
      "        Based on the relevance of the generated answer, you will classify it\n",
      "        as \"NON_RELEVANT\", \"PARTLY_RELEVANT\", or \"RELEVANT\".\n",
      "\n",
      "        Here is the data for evaluation:\n",
      "\n",
      "        Question: ¿Cuál fue el premio que Messi recibió el 10 de enero de 2011 y cuántas veces lo había ganado hasta ese momento?\n",
      "        Generated Answer: El 10 de enero de 2011, Messi recibió el Balón de Oro inaugural de la FIFA. Hasta ese momento, lo había ganado en tres ocasiones.\n",
      "\n",
      "        Please analyze the content and context of the generated answer in relation to the question\n",
      "        and provide your evaluation in parsable JSON without using code blocks:\n",
      "\n",
      "        {\n",
      "        \"Relevance\": \"NON_RELEVANT\" | \"PARTLY_RELEVANT\" | \"RELEVANT\",\n",
      "        \"Explanation\": \"[Provide a brief explanation for your evaluation in spanish]\"\n",
      "        }\n",
      "------------------------------------\n",
      "Input Tokens: 4120       Cost: $0.00061800\n",
      "Completion Tokens: 23       Cost: $0.00001380\n",
      "Total Cost: $0.00063180\n",
      "------------------------------------\n"
     ]
    },
    {
     "name": "stderr",
     "output_type": "stream",
     "text": [
      " 99%|█████████▉| 189/190 [07:03<00:02,  2.75s/it]"
     ]
    },
    {
     "name": "stdout",
     "output_type": "stream",
     "text": [
      "------------------------------------\n",
      "Input Tokens: 236       Cost: $0.00003540\n",
      "Completion Tokens: 76       Cost: $0.00004560\n",
      "Total Cost: $0.00008100\n",
      "------------------------------------\n",
      "You are an expert evaluator for a RAG system.\n",
      "        Your task is to analyze the relevance of the LLM generated answer to the users given question.\n",
      "        The goal is to have 3 classification levels as if the relevance scores were 0, 0.5, or 1.\n",
      "        Based on the relevance of the generated answer, you will classify it\n",
      "        as \"NON_RELEVANT\", \"PARTLY_RELEVANT\", or \"RELEVANT\".\n",
      "\n",
      "        Here is the data for evaluation:\n",
      "\n",
      "        Question: ¿Cuántos hat-tricks y pokers realizó Messi durante la temporada 2011-12?\n",
      "        Generated Answer: Lo siento, pero no tengo suficiente información para responder a eso. ¿Hay algo más en lo que pueda ayudarte?\n",
      "\n",
      "        Please analyze the content and context of the generated answer in relation to the question\n",
      "        and provide your evaluation in parsable JSON without using code blocks:\n",
      "\n",
      "        {\n",
      "        \"Relevance\": \"NON_RELEVANT\" | \"PARTLY_RELEVANT\" | \"RELEVANT\",\n",
      "        \"Explanation\": \"[Provide a brief explanation for your evaluation in spanish]\"\n",
      "        }\n",
      "------------------------------------\n",
      "Input Tokens: 3356       Cost: $0.00050340\n",
      "Completion Tokens: 66       Cost: $0.00003960\n",
      "Total Cost: $0.00054300\n",
      "------------------------------------\n"
     ]
    },
    {
     "name": "stderr",
     "output_type": "stream",
     "text": [
      "100%|██████████| 190/190 [07:06<00:00,  2.24s/it]"
     ]
    },
    {
     "name": "stdout",
     "output_type": "stream",
     "text": [
      "------------------------------------\n",
      "Input Tokens: 287       Cost: $0.00004305\n",
      "Completion Tokens: 65       Cost: $0.00003900\n",
      "Total Cost: $0.00008205\n",
      "------------------------------------\n",
      "You are an expert evaluator for a RAG system.\n",
      "        Your task is to analyze the relevance of the LLM generated answer to the users given question.\n",
      "        The goal is to have 3 classification levels as if the relevance scores were 0, 0.5, or 1.\n",
      "        Based on the relevance of the generated answer, you will classify it\n",
      "        as \"NON_RELEVANT\", \"PARTLY_RELEVANT\", or \"RELEVANT\".\n",
      "\n",
      "        Here is the data for evaluation:\n",
      "\n",
      "        Question: ¿Qué récord de goles en una temporada superó Messi durante la temporada 2011-12 y cuántos goles anotó en total?\n",
      "        Generated Answer: Durante la temporada 2011-12, Messi superó el récord de más goles oficiales en una misma temporada (club y selección nacional) al anotar un total de 82 goles en 69 partidos. Este logro le permitió establecer un nuevo récord en la historia del fútbol. Si necesitas más información, no dudes en preguntar.\n",
      "\n",
      "        Please analyze the content and context of the generated answer in relation to the question\n",
      "        and provide your evaluation in parsable JSON without using code blocks:\n",
      "\n",
      "        {\n",
      "        \"Relevance\": \"NON_RELEVANT\" | \"PARTLY_RELEVANT\" | \"RELEVANT\",\n",
      "        \"Explanation\": \"[Provide a brief explanation for your evaluation in spanish]\"\n",
      "        }\n"
     ]
    },
    {
     "name": "stderr",
     "output_type": "stream",
     "text": [
      "\n"
     ]
    }
   ],
   "source": [
    "evaluations = []\n",
    "\n",
    "for record in tqdm(questions_dict):\n",
    "    \n",
    "    question = record['question']\n",
    "    answer_llm = generate_answer(question, collection) \n",
    "\n",
    "    prompt = build_llm_as_a_judge_prompt(question, answer_llm)\n",
    "    evaluation = llm(prompt)\n",
    "\n",
    "    evaluation = json.loads(evaluation)\n",
    "    evaluations.append((record, answer_llm, evaluation))"
   ]
  },
  {
   "cell_type": "code",
   "execution_count": 638,
   "metadata": {},
   "outputs": [
    {
     "data": {
      "text/plain": [
       "({'chunk_id': 'Lionel_Messi_Wikipedia_Page-1',\n",
       "  'question': '¿Cuál es el nombre completo de Lionel Messi y cuál es su apodo más conocido en el mundo del fútbol?'},\n",
       " 'El nombre completo de Lionel Messi es Lionel Andrés Messi Cuccittini y su apodo más conocido en el mundo del fútbol es \"Leo\".',\n",
       " {'Relevance': 'RELEVANT',\n",
       "  'Explanation': 'La respuesta generada proporciona tanto el nombre completo de Lionel Messi como su apodo más conocido en el mundo del fútbol, cumpliendo completamente con la pregunta formulada.'})"
      ]
     },
     "execution_count": 638,
     "metadata": {},
     "output_type": "execute_result"
    }
   ],
   "source": [
    "evaluations[0]"
   ]
  },
  {
   "cell_type": "code",
   "execution_count": 645,
   "metadata": {},
   "outputs": [],
   "source": [
    "df_eval = pd.DataFrame(evaluations, columns=['record', 'answer', 'evaluation'])\n",
    "\n",
    "df_eval = df_eval.reset_index()\n",
    "df_eval.rename(columns={'index':'eval_id'}, inplace=True)\n",
    "\n",
    "df_eval['chunk_id'] = df_eval.record.apply(lambda d: d['chunk_id'])\n",
    "df_eval['question'] = df_eval.record.apply(lambda d: d['question'])\n",
    "\n",
    "df_eval['relevance'] = df_eval.evaluation.apply(lambda d: d['Relevance'])\n",
    "df_eval['explanation'] = df_eval.evaluation.apply(lambda d: d['Explanation'])\n",
    "\n",
    "del df_eval['record']\n",
    "del df_eval['evaluation']"
   ]
  },
  {
   "cell_type": "code",
   "execution_count": 648,
   "metadata": {},
   "outputs": [],
   "source": [
    "df_eval = df_eval[['eval_id', 'chunk_id', 'question', 'answer', 'relevance', 'explanation']]"
   ]
  },
  {
   "cell_type": "code",
   "execution_count": 650,
   "metadata": {},
   "outputs": [
    {
     "data": {
      "text/plain": [
       "relevance\n",
       "NON_RELEVANT       91\n",
       "RELEVANT           84\n",
       "PARTLY_RELEVANT    15\n",
       "Name: count, dtype: int64"
      ]
     },
     "execution_count": 650,
     "metadata": {},
     "output_type": "execute_result"
    }
   ],
   "source": [
    "df_eval.relevance.value_counts()"
   ]
  },
  {
   "cell_type": "code",
   "execution_count": 651,
   "metadata": {},
   "outputs": [],
   "source": [
    "df_eval.to_csv(\"LionelMessiRagSource-PageChunk-Evaluation.csv\",sep=\";\")"
   ]
  },
  {
   "cell_type": "code",
   "execution_count": 653,
   "metadata": {},
   "outputs": [
    {
     "data": {
      "text/plain": [
       "''"
      ]
     },
     "execution_count": 653,
     "metadata": {},
     "output_type": "execute_result"
    }
   ],
   "source": [
    "\"\""
   ]
  },
  {
   "cell_type": "code",
   "execution_count": null,
   "metadata": {},
   "outputs": [],
   "source": []
  }
 ],
 "metadata": {
  "kernelspec": {
   "display_name": "messiXpert-RAG-venv",
   "language": "python",
   "name": "python3"
  },
  "language_info": {
   "codemirror_mode": {
    "name": "ipython",
    "version": 3
   },
   "file_extension": ".py",
   "mimetype": "text/x-python",
   "name": "python",
   "nbconvert_exporter": "python",
   "pygments_lexer": "ipython3",
   "version": "3.11.4"
  }
 },
 "nbformat": 4,
 "nbformat_minor": 2
}
