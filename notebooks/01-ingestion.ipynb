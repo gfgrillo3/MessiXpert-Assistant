{
 "cells": [
  {
   "cell_type": "code",
   "execution_count": 298,
   "metadata": {},
   "outputs": [],
   "source": [
    "import os\n",
    "import re\n",
    "import time\n",
    "from io import StringIO\n",
    "\n",
    "from dotenv import load_dotenv\n",
    "\n",
    "import pandas as pd\n",
    "\n",
    "from tqdm.auto import tqdm\n",
    "\n",
    "import requests\n",
    "from bs4 import BeautifulSoup\n",
    "\n",
    "from sentence_transformers import SentenceTransformer\n",
    "\n",
    "import tiktoken\n",
    "\n",
    "from elasticsearch import Elasticsearch\n"
   ]
  },
  {
   "cell_type": "code",
   "execution_count": 297,
   "metadata": {},
   "outputs": [
    {
     "name": "stdout",
     "output_type": "stream",
     "text": [
      "Collecting elasticsearch\n",
      "  Downloading elasticsearch-8.15.1-py3-none-any.whl.metadata (8.7 kB)\n",
      "Collecting elastic-transport<9,>=8.13 (from elasticsearch)\n",
      "  Downloading elastic_transport-8.15.0-py3-none-any.whl.metadata (3.6 kB)\n",
      "Requirement already satisfied: urllib3<3,>=1.26.2 in c:\\users\\taligent\\desktop\\proyectos\\llm-zoomcamp\\messixpert-rag\\messixpert-rag-venv\\lib\\site-packages (from elastic-transport<9,>=8.13->elasticsearch) (2.2.3)\n",
      "Requirement already satisfied: certifi in c:\\users\\taligent\\desktop\\proyectos\\llm-zoomcamp\\messixpert-rag\\messixpert-rag-venv\\lib\\site-packages (from elastic-transport<9,>=8.13->elasticsearch) (2024.8.30)\n",
      "Downloading elasticsearch-8.15.1-py3-none-any.whl (524 kB)\n",
      "   ---------------------------------------- 0.0/524.6 kB ? eta -:--:--\n",
      "   ---------------------------------------- 524.6/524.6 kB 4.2 MB/s eta 0:00:00\n",
      "Downloading elastic_transport-8.15.0-py3-none-any.whl (64 kB)\n",
      "Installing collected packages: elastic-transport, elasticsearch\n",
      "Successfully installed elastic-transport-8.15.0 elasticsearch-8.15.1\n"
     ]
    }
   ],
   "source": [
    "#!pip install elasticsearch "
   ]
  },
  {
   "cell_type": "markdown",
   "metadata": {},
   "source": [
    "# "
   ]
  },
  {
   "cell_type": "code",
   "execution_count": 4,
   "metadata": {},
   "outputs": [
    {
     "data": {
      "text/plain": [
       "True"
      ]
     },
     "execution_count": 4,
     "metadata": {},
     "output_type": "execute_result"
    }
   ],
   "source": [
    "load_dotenv()"
   ]
  },
  {
   "cell_type": "markdown",
   "metadata": {},
   "source": [
    "# "
   ]
  },
  {
   "cell_type": "markdown",
   "metadata": {},
   "source": [
    "# "
   ]
  },
  {
   "cell_type": "markdown",
   "metadata": {},
   "source": [
    "# Scrapping the wiki page"
   ]
  },
  {
   "cell_type": "code",
   "execution_count": 47,
   "metadata": {},
   "outputs": [],
   "source": [
    "# Function for scrapping any wikipedia page and save the raw html data\n",
    "def scrape_wikipedia_page(url,raw_data_filepath='../data/raw/'):\n",
    "\n",
    "    response = requests.get(url)\n",
    "\n",
    "    raw_data_filename = re.search(r'wiki/(.*)', url).group().replace('/', '_')\n",
    "    raw_file_path = f'{raw_data_filepath}{raw_data_filename}.html'\n",
    "\n",
    "    os.makedirs('data/raw', exist_ok=True)\n",
    "    with open(raw_file_path, 'w', encoding='utf-8') as file:\n",
    "        file.write(response.text)\n",
    "\n",
    "\n",
    "    return response.text"
   ]
  },
  {
   "cell_type": "code",
   "execution_count": 38,
   "metadata": {},
   "outputs": [],
   "source": [
    "# Function for scrapping any html from wikipedia and extract each content with it related format (Headers, Paragraphs and tables)\n",
    "def scrape_wikipedia_html(html_content):\n",
    "    soup = BeautifulSoup(html_content, 'html.parser')\n",
    "    \n",
    "    # Extracting the main content of the wiki\n",
    "    content = soup.find('div', {'class': 'mw-parser-output'})\n",
    "    \n",
    "    # Extracting all the formats of the content\n",
    "    extracted_content = content.find_all(['p', 'h1', 'h2', 'h3', 'h4', 'h5', 'h6', 'table'])\n",
    "    \n",
    "    return extracted_content"
   ]
  },
  {
   "cell_type": "code",
   "execution_count": 124,
   "metadata": {},
   "outputs": [],
   "source": [
    "# Function for standard text cleaning. Cleaning special characters and normalizing the text.\n",
    "def clean_text(text):\n",
    "\n",
    "    clean_text = re.sub(r'\\s+', ' ', text)  # Cleaning extra whitespaces\n",
    "    #clean_text = re.sub(r'[^\\w\\s]', '', clean_text)  # Cleaning special characters\n",
    "    clean_text = clean_text.strip() # Cleaning whitespaces at the start and at the end\n",
    "\n",
    "    return clean_text\n"
   ]
  },
  {
   "cell_type": "code",
   "execution_count": 113,
   "metadata": {},
   "outputs": [],
   "source": [
    "# Function for counting tokens in a text\n",
    "def count_tokens(text):\n",
    "    \"\"\"Función para contar el número de tokens en un texto.\"\"\"\n",
    "    return len(encoding.encode(text))"
   ]
  },
  {
   "cell_type": "code",
   "execution_count": 109,
   "metadata": {},
   "outputs": [],
   "source": [
    "# Aux function for processing the headers when chunking an HTML.\n",
    "# The headers will be used as an important feature to store with the chunk content for improving the RAG accuracy-\n",
    "def chunking_processing_HTML_headers(elem, current_headers):\n",
    "    level = int(elem.name[1])\n",
    "    current_headers[f'h{level}'] = elem.text.strip()\n",
    "    \n",
    "    # Cleaning headers with less level\n",
    "    for i in range(level + 1, 7):\n",
    "        current_headers[f'h{i}'] = ''\n",
    "\n",
    "    return current_headers"
   ]
  },
  {
   "cell_type": "code",
   "execution_count": 269,
   "metadata": {},
   "outputs": [],
   "source": [
    "# Aux function for processing  the paragraphs when chunking an HTML.\n",
    "# It needs the info of the actual chunk, actual chunk size, max chunk size and headers.\n",
    "# It process the paragraph. If the chunk size with the current paragraph will be larger than the max chunk size,\n",
    "# the current chunk is stored with the relevant info, and a new chunk is created is created from the actual paragraph info. \n",
    "# If the chunk size is smaller than the max chunk size, then the paragraph is appended to the current chunk, updating the relevant info.\n",
    "def chunking_processing_HTML_paragraphs(paragraph, current_headers, current_chunk, current_token_count, max_chunk_size, chunks, ingestion_timestamp, chunk_incremental_counter, source_url):\n",
    "\n",
    "    headers_concat = \" > \".join([current_headers[f'h{i}'] for i in range(1, 7) if current_headers[f'h{i}']])\n",
    "    chunk_text = paragraph\n",
    "\n",
    "    tokens_in_chunk = count_tokens(chunk_text)\n",
    "    \n",
    "    if current_token_count + tokens_in_chunk <= max_chunk_size:\n",
    "        current_chunk += chunk_text + \" \"\n",
    "        current_token_count += tokens_in_chunk\n",
    "    else:\n",
    "        # Add the chunk for storing and reset the information\n",
    "        chunks.append({\n",
    "            \"content\": current_chunk.strip(),             \n",
    "            \"headers_concat\": headers_concat,  \n",
    "            \"chunk_size\": current_token_count+tokens_in_chunk,     \n",
    "            \"source_url\": source_url,                 \n",
    "            \"content_type\": \"paragraph\",\n",
    "            \"ingestion_date\": ingestion_timestamp,\n",
    "            \"chunk_id\": f\"{ingestion_timestamp}_{chunk_incremental_counter:06d}\"\n",
    "            })\n",
    "        \n",
    "        chunk_incremental_counter+=1\n",
    "        current_chunk = chunk_text + \" \"\n",
    "        current_token_count = tokens_in_chunk\n",
    "\n",
    "    return current_chunk, current_token_count, chunks, headers_concat, chunk_incremental_counter"
   ]
  },
  {
   "cell_type": "code",
   "execution_count": 273,
   "metadata": {},
   "outputs": [],
   "source": [
    "# Aux function for processing  the tables when chunking an HTML.\n",
    "# It needs the info of the actual chunk, actual chunk size, max chunk size and headers.\n",
    "# It process the table in a single chunk for avoiding a splitting of the table that could generate misinformation and errors.\n",
    "def chunking_processing_HTML_tables(table_html, current_headers, current_chunk, current_token_count, max_chunk_size, chunks, ingestion_timestamp, chunk_incremental_counter, source_url):\n",
    "    try:\n",
    "        table_df = pd.read_html(StringIO(table_html))[0]\n",
    "        table_text = table_df.to_string(index=False)\n",
    "        headers_concat = \" > \".join([current_headers[f'h{i}'] for i in range(1, 7) if current_headers[f'h{i}']])\n",
    "        chunk_text = table_text\n",
    "\n",
    "        tokens_in_chunk = count_tokens(chunk_text)\n",
    "\n",
    "        # Handling the chunk with the objective of mantaining the table in a single chunk.\n",
    "        if current_chunk and current_token_count + tokens_in_chunk > max_chunk_size:\n",
    "            # If the chunk will be larger, then we will store it first, before storing the table.\n",
    "            # Add the chunk for storing and reset the information\n",
    "            chunks.append({\n",
    "                \"content\": current_chunk.strip(),             \n",
    "                \"headers_concat\": headers_concat,  \n",
    "                \"chunk_size\": current_token_count+tokens_in_chunk,     \n",
    "                \"source_url\": source_url,                 \n",
    "                \"content_type\": \"paragraph\",\n",
    "                \"ingestion_date\": ingestion_timestamp,\n",
    "                \"chunk_id\": f\"{ingestion_timestamp}_{chunk_incremental_counter:06d}\"\n",
    "                })\n",
    "            chunk_incremental_counter+=1\n",
    "            current_chunk = \"\"  \n",
    "            current_token_count = 0\n",
    "\n",
    "        # Add the whole table content in the same chunk\n",
    "        # Add the chunk for storing and reset the information\n",
    "        chunks.append({\n",
    "            \"content\": chunk_text.strip(),             \n",
    "            \"headers_concat\": headers_concat,  \n",
    "            \"chunk_size\": current_token_count+tokens_in_chunk,     \n",
    "            \"source_url\": source_url,                 \n",
    "            \"content_type\": \"paragraph+table\",\n",
    "            \"ingestion_date\": ingestion_timestamp,\n",
    "            \"chunk_id\": f\"{ingestion_timestamp}_{chunk_incremental_counter:06d}\"\n",
    "            })\n",
    "        \n",
    "        chunk_incremental_counter+=1\n",
    "        current_chunk = \"\"  # Reset the chunk after adding the table\n",
    "        current_token_count = 0\n",
    "\n",
    "    except ValueError:\n",
    "        headers_concat = \" > \".join([current_headers[f'h{i}'] for i in range(1, 7) if current_headers[f'h{i}']])\n",
    "        chunks.append({'content': 'Error processing the table', 'headers_concat': headers_concat})\n",
    "\n",
    "    return current_chunk, current_token_count, chunks, headers_concat, chunk_incremental_counter\n",
    "    "
   ]
  },
  {
   "cell_type": "code",
   "execution_count": 271,
   "metadata": {},
   "outputs": [],
   "source": [
    "# Function for processing an html and generating chunks in an strategic way based on the best practices.\n",
    "# It could recieve the max_chunk_size parameter. If a chunk is going to be larger than it, then the chunk will be splitted.\n",
    "\n",
    "def create_chunks_with_headers(elements, source_url, max_chunk_size=500):\n",
    "\n",
    "    # Generating the variables used to store with the chunk content.\n",
    "    ingestion_timestamp = time.strftime(\"%Y%m%d%H%M%S\")\n",
    "    chunk_incremental_counter = 0\n",
    "\n",
    "\n",
    "    ################################################\n",
    "    chunks = []\n",
    "    current_headers = {f'h{i}': '' for i in range(1, 7)}\n",
    "    current_chunk = \"\"\n",
    "    current_token_count = 0\n",
    "\n",
    "    # Iterating over the HTML elements and processing the headers, paragraphs, and tables in different ways.\n",
    "    for elem in elements:\n",
    "\n",
    "        # If it's a header, we should update the current_header info.\n",
    "        if elem.name in ['h1', 'h2', 'h3', 'h4', 'h5', 'h6']:\n",
    "            current_headers = chunking_processing_HTML_headers(elem, current_headers)\n",
    "\n",
    "        # If it's a paragraph, whe should update the chubk content info, considering the chunk_size and actual chunk info and size.\n",
    "        elif elem.name == 'p':\n",
    "            paragraph = clean_text(elem.text)\n",
    "            current_chunk, current_token_count, chunks, headers_concat, chunk_incremental_counter = chunking_processing_HTML_paragraphs(paragraph, current_headers, \n",
    "                                                                                                                                        current_chunk, current_token_count, \n",
    "                                                                                                                                        max_chunk_size, chunks,\n",
    "                                                                                                                                        ingestion_timestamp, chunk_incremental_counter,\n",
    "                                                                                                                                        source_url)\n",
    "\n",
    "        elif elem.name == 'table':\n",
    "            table_html = str(elem)\n",
    "            current_chunk, current_token_count, chunks, headers_concat, chunk_incremental_counter = chunking_processing_HTML_tables(table_html, current_headers, \n",
    "                                                                                                                                    current_chunk, current_token_count, \n",
    "                                                                                                                                    max_chunk_size, chunks,\n",
    "                                                                                                                                    ingestion_timestamp, chunk_incremental_counter,\n",
    "                                                                                                                                    source_url)\n",
    "\n",
    "    # Adding the last chunk\n",
    "    if current_chunk:\n",
    "        chunks.append({'content': current_chunk.strip(), 'headers_concat': headers_concat})\n",
    "\n",
    "    return chunks"
   ]
  },
  {
   "cell_type": "markdown",
   "metadata": {},
   "source": [
    "## "
   ]
  },
  {
   "cell_type": "markdown",
   "metadata": {},
   "source": [
    "## "
   ]
  },
  {
   "cell_type": "markdown",
   "metadata": {},
   "source": [
    "## "
   ]
  },
  {
   "cell_type": "markdown",
   "metadata": {},
   "source": [
    "## "
   ]
  },
  {
   "cell_type": "markdown",
   "metadata": {},
   "source": [
    "We will start defining general variables used in the functions and the ingestion step of the pipeline"
   ]
  },
  {
   "cell_type": "code",
   "execution_count": 115,
   "metadata": {},
   "outputs": [],
   "source": [
    "# standard encoding for the tiktoken tokens count\n",
    "encoding = tiktoken.encoding_for_model(\"gpt-4o-mini\")\n",
    "\n",
    "# url to be processed for the ingestion\n",
    "url = \"https://es.wikipedia.org/wiki/Lionel_Messi\""
   ]
  },
  {
   "cell_type": "markdown",
   "metadata": {},
   "source": [
    "Processing the content from the Lionel Messi Wikipedia. \n",
    "\n",
    "In a future it could be used with any wikipedia page, adapting the APP allowing an user to add a wiki URL for creating an assistant expert on it page."
   ]
  },
  {
   "cell_type": "code",
   "execution_count": 51,
   "metadata": {},
   "outputs": [],
   "source": [
    "html_content = scrape_wikipedia_page(url)\n",
    "processed_html_content = scrape_wikipedia_html(html_content)\n"
   ]
  },
  {
   "cell_type": "markdown",
   "metadata": {},
   "source": [
    "Now, we will start with the chunking step for store them into a vector database."
   ]
  },
  {
   "cell_type": "markdown",
   "metadata": {},
   "source": [
    "Thinking about best practices of chunking strategies we know:\n",
    "- **Semantic context**: We need to keep the semantic coherence of the content. A too short chunk could be resulting in a context loss model. We need to use the headers and tables in a strategic way.\n",
    "- **Chunk Size**: The chunk size should be efficient for processing and context. We know that the suggested chunks size is between 200-500 tokens. Qe can use libraries like tiktoken to monitor it.\n",
    "- **Heading grouping**: The headers from the html will be very helpful for defining natural sections of the contents.\n",
    "- **Tables**: The tables are natural structured info. It's a good practice to use them as a separate chunk."
   ]
  },
  {
   "cell_type": "markdown",
   "metadata": {},
   "source": [
    "We'll adopt a kind of an advanced chunking strategy.\n",
    "\n",
    "We will adopt the best practices and we chunk all the html content considering chunks with less tan 500 tokens, ensuring that all a whole table is in the same chunk, and generating semantic and heading grouping stored with the chunk content like headers, content type, IDs, url, chunk_size, among others"
   ]
  },
  {
   "cell_type": "code",
   "execution_count": 275,
   "metadata": {},
   "outputs": [],
   "source": [
    "chunks = create_chunks_with_headers(processed_html_content, source_url=url, max_chunk_size=500)"
   ]
  },
  {
   "cell_type": "code",
   "execution_count": 278,
   "metadata": {},
   "outputs": [
    {
     "data": {
      "text/plain": [
       "{'content': 'En 2009, a los veintidós años, ganó su primer Balón de Oro y el premio al Jugador Mundial de la FIFA del año. Siguieron tres temporadas exitosas, en las que ganó cuatro Balones de Oro de forma consecutiva, hecho que no tenía precedentes. Hasta el momento, su mejor campaña personal fue en 2011-12, cuando estableció el récord de más goles en una temporada, tanto en La Liga como en otras competiciones europeas. Durante las dos siguientes temporadas, también sufrió lesiones y, en 2014, perdió el Balón de Oro frente a Cristiano Ronaldo, a quien se considera su rival. Recuperó su mejor forma durante la campaña 2014-15, en la que superó los registros de máximo goleador absoluto en La Liga y la Liga de Campeones y logró con el Barcelona un histórico segundo triplete, además de ganar su quinto Balón de Oro. Volvería a ganarlo en 2019, 2021 y 2023. Como internacional argentino, ha representado a su país en catorce torneos mayores. A nivel juvenil, en 2005 participó con la selección sub-20 en el Sudamericano de Colombia y ganó la Copa Mundial de Países Bajos, torneo en el que finalizó como mejor jugador y máximo goleador y, con la sub-23, recibió la medalla de oro en los Juegos Olímpicos de 2008. Después de debutar en la selección mayor en agosto de 2005, en el Mundial de Alemania 2006 se convirtió en el argentino más joven en jugar y en marcar en un mundial. Al año siguiente, en la Copa América, fue nombrado mejor jugador joven del torneo. Como capitán desde agosto de 2011, llegó con su equipo a las finales del Mundial de Brasil 2014, de la Copa América 2015 y de la Copa América Centenario, además de ganar la Copa América 2021 ante Brasil en el Maracaná, la Finalissima frente a Italia en Wembley y el Mundial de Catar contra Francia en el estadio Lusail en 2022 y la Copa América 2024 a Colombia.',\n",
       " 'headers_concat': 'Orígenes y formación',\n",
       " 'chunk_size': 651,\n",
       " 'source_url': 'https://es.wikipedia.org/wiki/Lionel_Messi',\n",
       " 'content_type': 'paragraph',\n",
       " 'ingestion_date': '20240921163112',\n",
       " 'chunk_id': '20240921163112_000003'}"
      ]
     },
     "execution_count": 278,
     "metadata": {},
     "output_type": "execute_result"
    }
   ],
   "source": [
    "chunks[3]"
   ]
  },
  {
   "cell_type": "code",
   "execution_count": 276,
   "metadata": {},
   "outputs": [
    {
     "name": "stdout",
     "output_type": "stream",
     "text": [
      "TOTAL CHUNKS = 110\n",
      "Max chunk size: 4152\n",
      "Min chunk size: 44\n",
      "avg chunk size: 622.5727272727273\n"
     ]
    }
   ],
   "source": [
    "print(f\"TOTAL CHUNKS = {len(chunks)}\")\n",
    "print(f\"Max chunk size: {max(chunks, key=lambda x: x['chunk_size'])['chunk_size']}\")\n",
    "print(f\"Min chunk size: {min(chunks, key=lambda x: x['chunk_size'])['chunk_size']}\")\n",
    "print(f\"avg chunk size: {sum(chunk['chunk_size'] for chunk in chunks) / len(chunks)}\")"
   ]
  },
  {
   "cell_type": "markdown",
   "metadata": {},
   "source": [
    "Now, we'll add the embeddings to each chunk for simmilarity search. This way we can try text search and vector search."
   ]
  },
  {
   "cell_type": "code",
   "execution_count": 308,
   "metadata": {},
   "outputs": [
    {
     "name": "stderr",
     "output_type": "stream",
     "text": [
      "c:\\Users\\TALIGENT\\Desktop\\Proyectos\\LLM-Zoomcamp\\MessiXpert-RAG\\messiXpert-RAG-venv\\Lib\\site-packages\\transformers\\tokenization_utils_base.py:1601: FutureWarning: `clean_up_tokenization_spaces` was not set. It will be set to `True` by default. This behavior will be depracted in transformers v4.45, and will be then set to `False` by default. For more details check this issue: https://github.com/huggingface/transformers/issues/31884\n",
      "  warnings.warn(\n"
     ]
    }
   ],
   "source": [
    "# Initialize the embeddings model\n",
    "embeddings_model = SentenceTransformer('all-MiniLM-L6-v2')"
   ]
  },
  {
   "cell_type": "code",
   "execution_count": 363,
   "metadata": {},
   "outputs": [
    {
     "data": {
      "application/vnd.jupyter.widget-view+json": {
       "model_id": "1d8c2b9db9444ddd9d1524b99936146e",
       "version_major": 2,
       "version_minor": 0
      },
      "text/plain": [
       "  0%|          | 0/110 [00:00<?, ?it/s]"
      ]
     },
     "metadata": {},
     "output_type": "display_data"
    }
   ],
   "source": [
    "# Adding the embedding for each chunk content\n",
    "for chunk in tqdm(chunks):\n",
    "\n",
    "    # Generating the embeddings\n",
    "    embedding = embeddings_model.encode(chunk['content']).tolist()\n",
    "    \n",
    "    # Adding the embeddings to the original dict\n",
    "    chunk['content_embeddings'] = embedding\n",
    "\n",
    "    "
   ]
  },
  {
   "cell_type": "markdown",
   "metadata": {},
   "source": [
    "Now we'll create the vectorDB and store the chunks in the DB."
   ]
  },
  {
   "cell_type": "markdown",
   "metadata": {},
   "source": [
    "For this project, we'll use Weaviate. \n",
    "\n",
    "Weaviate has Native support for different search metrics like euclidean, cosine simmillarity, etc.\n",
    "Weaviate also has different search methods like KNN, ANN, and it supports an integration with text search."
   ]
  },
  {
   "cell_type": "markdown",
   "metadata": {},
   "source": [
    "docker run -p 127.0.0.1:9200:9200 -d --name elasticsearch -e \"discovery.type=single-node\" -e \"xpack.security.enabled=false\" -e \"xpack.license.self_generated.type=trial\" -v \"elasticsearch-data:/usr/share/elasticsearch/data\" docker.elastic.co/elasticsearch/elasticsearch:8.15.0\n"
   ]
  },
  {
   "cell_type": "code",
   "execution_count": 329,
   "metadata": {},
   "outputs": [],
   "source": [
    "# Initialize the Elasticsearch client\n",
    "es_client = Elasticsearch(\"http://localhost:9200\")"
   ]
  },
  {
   "cell_type": "code",
   "execution_count": 331,
   "metadata": {},
   "outputs": [],
   "source": [
    "# Creating the index settings for the vectorDB. We will define two different indexes for testing purpose. Cosine and dot product.\n",
    "# The final version, and the .py associated, will have the best one.\n",
    "index_settings_cosine = {\n",
    "    \"settings\": {\n",
    "        \"number_of_shards\": 1,\n",
    "        \"number_of_replicas\": 0\n",
    "    },\n",
    "    \"mappings\": {\n",
    "        \"properties\": {\n",
    "            \"content\": {\"type\": \"text\"},\n",
    "            \"headers_concat\": {\"type\": \"text\"},\n",
    "            \"chunk_size\": {\"type\": \"integer\"},\n",
    "            \"source_url\": {\"type\": \"text\"} ,\n",
    "            \"content_type\": {\"type\": \"text\"} ,\n",
    "            \"ingestion_date\": {\"type\": \"date\"} ,\n",
    "            \"content_embeddings\": {\"type\": \"dense_vector\", \"dims\": 384, \"index\": True, \"similarity\": \"cosine\"},\n",
    "        }\n",
    "    }\n",
    "}\n",
    "\n",
    "\n",
    "index_settings_dot_product = {\n",
    "    \"settings\": {\n",
    "        \"number_of_shards\": 1,\n",
    "        \"number_of_replicas\": 0\n",
    "    },\n",
    "    \"mappings\": {\n",
    "        \"properties\": {\n",
    "            \"content\": {\"type\": \"text\"},\n",
    "            \"headers_concat\": {\"type\": \"text\"},\n",
    "            \"chunk_size\": {\"type\": \"integer\"},\n",
    "            \"source_url\": {\"type\": \"text\"} ,\n",
    "            \"content_type\": {\"type\": \"text\"} ,\n",
    "            \"ingestion_date\": {\"type\": \"date\"} ,\n",
    "            \"content_embeddings\": {\"type\": \"dense_vector\", \"dims\": 384, \"index\": True, \"similarity\": \"dot_product\"},\n",
    "        }\n",
    "    }\n",
    "}"
   ]
  },
  {
   "cell_type": "code",
   "execution_count": 333,
   "metadata": {},
   "outputs": [
    {
     "data": {
      "text/plain": [
       "ObjectApiResponse({'acknowledged': True, 'shards_acknowledged': True, 'index': 'messixpert_dot_product'})"
      ]
     },
     "execution_count": 333,
     "metadata": {},
     "output_type": "execute_result"
    }
   ],
   "source": [
    "# Creating the index in ElasticSearch\n",
    "index_name_cosine = \"messixpert_cosine\"\n",
    "index_name_dot_product = \"messixpert_dot_product\"\n",
    "\n",
    "\n",
    "es_client.indices.create(index=index_name_cosine, body=index_settings_cosine)\n",
    "es_client.indices.create(index=index_name_dot_product, body=index_settings_dot_product)"
   ]
  },
  {
   "cell_type": "code",
   "execution_count": 335,
   "metadata": {},
   "outputs": [],
   "source": [
    "for chunk in tqdm(chunks):\n",
    "    try:\n",
    "        es_client.index(index=index_name_cosine, document=chunk)\n",
    "    except Exception as e:\n",
    "        print(e)"
   ]
  },
  {
   "cell_type": "code",
   "execution_count": 336,
   "metadata": {},
   "outputs": [],
   "source": [
    "for chunk in tqdm(chunks):\n",
    "    try:\n",
    "        es_client.index(index=index_name_dot_product, document=chunk)\n",
    "    except Exception as e:\n",
    "        print(e)"
   ]
  },
  {
   "cell_type": "markdown",
   "metadata": {},
   "source": [
    "We'll simply test each index with two different questions for each"
   ]
  },
  {
   "cell_type": "code",
   "execution_count": 346,
   "metadata": {},
   "outputs": [],
   "source": [
    "search_term_1 = \"Cuantos hermanos tiene Messi?\"\n",
    "vector_search_term_1 = embeddings_model.encode(search_term_1)\n",
    "\n",
    "search_term_2 = \"En que clubes jugó profesionalmente Messi?\"\n",
    "vector_search_term_2 = embeddings_model.encode(search_term_2)"
   ]
  },
  {
   "cell_type": "code",
   "execution_count": 350,
   "metadata": {},
   "outputs": [],
   "source": [
    "query_1 = {\n",
    "    \"k\": 5,\n",
    "    \"field\": \"content_embeddings\",\n",
    "    \"query_vector\": vector_search_term_1,\n",
    "    \"num_candidates\": 10000, \n",
    "}\n",
    "\n",
    "query_2 = {\n",
    "    \"k\": 5,\n",
    "    \"field\": \"content_embeddings\",\n",
    "    \"query_vector\": vector_search_term_2,\n",
    "    \"num_candidates\": 10000, \n",
    "}"
   ]
  },
  {
   "cell_type": "code",
   "execution_count": 351,
   "metadata": {},
   "outputs": [
    {
     "data": {
      "text/plain": [
       "[{'_index': 'messixpert_cosine',\n",
       "  '_id': 'jauLFpIBRGyVeHbOft23',\n",
       "  '_score': 0.7673075,\n",
       "  '_source': {'content': '0\\nMe hubiera gustado jugar con Messi—Pelé en una entrevista con La Gazzetta dello Sport en noviembre de 2019 para conmemorar los cincuenta años de su gol número mil.[344]\\u200b',\n",
       "   'headers_concat': 'Trayectoria > Titularidad y consagración en la élite > Dominio local con Ernesto Valverde y años difíciles en Champions > 2019-2020: sexto Balón de Oro y Premio Laureus',\n",
       "   'chunk_size': 199,\n",
       "   'source_url': 'https://es.wikipedia.org/wiki/Lionel_Messi',\n",
       "   'content_type': 'paragraph+table',\n",
       "   'ingestion_date': '20240921163112'}},\n",
       " {'_index': 'messixpert_cosine',\n",
       "  '_id': 'lauLFpIBRGyVeHbOf92J',\n",
       "  '_score': 0.76242065,\n",
       "  '_source': {'content': '0\\nMessi será el jugador que más Balones de Oro gane en la historia. Probablemente ganará cinco, seis o siete Balones de Oro, es imparable.—Johan Cruyff a Olé en 2011[427]\\u200b',\n",
       "   'headers_concat': 'Trayectoria > Paris Saint-Germain F. C. > 2021-2022: octavo Pichichi y séptimo Balón de Oro',\n",
       "   'chunk_size': 260,\n",
       "   'source_url': 'https://es.wikipedia.org/wiki/Lionel_Messi',\n",
       "   'content_type': 'paragraph+table',\n",
       "   'ingestion_date': '20240921163112'}},\n",
       " {'_index': 'messixpert_cosine',\n",
       "  '_id': 'aKuLFpIBRGyVeHbOe90G',\n",
       "  '_score': 0.76004505,\n",
       "  '_source': {'content': 'Lionel Andrés Messi nació el 24 de junio de 1987 en el Hospital Italiano Garibaldi de la ciudad de Rosario, en la provincia de Santa Fe. Es el tercer hijo de Jorge Horacio Messi y Celia María Cuccittini. Tiene dos hermanos mayores, Rodrigo y Matías, y una hermana menor, María Sol.[14]\\u200b Su familia paterna es originaria del municipio italiano de Recanati, de donde su bisabuelo, Angelo Messi, emigró a Argentina en 1883.[15]\\u200b Fue su abuela materna, Celia, la que lo alentó a dedicarse al fútbol, por lo que él le agradece señalando al cielo con las dos manos tras convertir un gol.[14]\\u200b[16]\\u200b Dos de sus primos (Maximiliano y Emanuel Biancucchi) son también futbolistas.[14]\\u200b Estudió en la escuela primaria N° 66 \"Gral. Las Heras\".[14]\\u200b Con apenas cuatro años, comenzó a practicar fútbol con Salvador Aparicio en el club Abanderado Grandoli, ubicado en el barrio Grandoli, a pocas cuadras de su casa.[14]\\u200b[17]\\u200b En 1994, empezó a entrenarse en las divisiones inferiores de Newell\\'s Old Boys.[14]\\u200b En 1995, jugó un torneo no oficial con Central Córdoba.[18]\\u200b A la edad de ocho años, le fue diagnosticada una deficiencia de la hormona de crecimiento,[19]\\u200b por lo que debió hacer un tratamiento de 900 dólares mensuales que, durante un año y medio, cubrieron su obra social y Acindar, siderúrgica en la que trabajaba su padre.[14]\\u200b',\n",
       "   'headers_concat': 'Orígenes y formación',\n",
       "   'chunk_size': 518,\n",
       "   'source_url': 'https://es.wikipedia.org/wiki/Lionel_Messi',\n",
       "   'content_type': 'paragraph',\n",
       "   'ingestion_date': '20240921163112'}},\n",
       " {'_index': 'messixpert_cosine',\n",
       "  '_id': 'm6uLFpIBRGyVeHbOgN0o',\n",
       "  '_score': 0.7428405,\n",
       "  '_source': {'content': 'En 2002, Jorge Messi le hizo llegar a Hugo Tocalli, responsable de las divisiones juveniles de Argentina, un video compilatorio de las jugadas de su hijo. A pesar de reconocer las cualidades del adolescente, el entrenador le respondió que no podía incorporarlo al plantel, porque ya tenía definido el equipo para el Mundial del año siguiente en Finlandia, pero que lo tendría en cuenta para otra competición.[480]\\u200b[481]\\u200b En 2003, sin embargo, y aunque sabía que la Federación Española de Fútbol quería ficharlo para su selección sub-17,[480]\\u200b tampoco lo convocó para el Mundial Sub-20 en Emiratos Árabes.[481]\\u200b El 30 de marzo de 2004, se reunió con el presidente de la AFA Julio Grondona y, por sugerencia de José Pékerman (quien había visto a Messi contra el Alcorcón), le propuso organizar un encuentro amistoso para impedir toda posibilidad de que jugara para España.[20]\\u200b[482]\\u200b[481]\\u200b En abril, finalmente, Messi recibió una citación por fax para un entrenamiento en junio en el predio de Ezeiza.[481]\\u200b El jugador ya había declinado, alrededor de 2003, reiteradas ofertas de jugar para España, porque quería representar a su país.[483]\\u200b[484]\\u200b El 29 de junio de 2004, casi desconocido en Argentina, debutó en el estadio Diego Armando Maradona de Buenos Aires con la categoría sub-20, en un partido amistoso con una sub-22 de Paraguay armada para la ocasión que arbitró Gabriel Brazenas.[481]\\u200b Ingresó en el segundo tiempo por Ezequiel Lavezzi e hizo un gol y dos asistencias en un encuentro que finalizó 8-0 a favor de Argentina.[20]\\u200b El 3 de julio, contra Uruguay en el estadio Suppicci de Colonia, hizo un doblete en otro amistoso que Argentina ganó 4-1.[485]\\u200b Con solo estos dos partidos jugados, a fines de diciembre Tocalli lo convocó para el Sudamericano Sub-20 de principios del año siguiente, aunque, por decisión conjunta con Pékerman, jugaría siempre como suplente.[486]\\u200b',\n",
       "   'headers_concat': 'Selección nacional > Categorías inferiores > Sudamericano Sub-20 2005',\n",
       "   'chunk_size': 600,\n",
       "   'source_url': 'https://es.wikipedia.org/wiki/Lionel_Messi',\n",
       "   'content_type': 'paragraph',\n",
       "   'ingestion_date': '20240921163112'}},\n",
       " {'_index': 'messixpert_cosine',\n",
       "  '_id': 'aquLFpIBRGyVeHbOe904',\n",
       "  '_score': 0.74116135,\n",
       "  '_source': {'content': '0\\nEra muy bajito, casi no hablaba y nadie podía imaginar la que nos iba a liar.—Gerard Piqué, uno de los compañeros de Messi en La Masia.[23]\\u200b',\n",
       "   'headers_concat': 'Orígenes y formación',\n",
       "   'chunk_size': 44,\n",
       "   'source_url': 'https://es.wikipedia.org/wiki/Lionel_Messi',\n",
       "   'content_type': 'paragraph+table',\n",
       "   'ingestion_date': '20240921163112'}}]"
      ]
     },
     "execution_count": 351,
     "metadata": {},
     "output_type": "execute_result"
    }
   ],
   "source": [
    "res_cosine_1 = es_client.search(index=index_name_cosine, knn=query_1, source=[\"content\", \"headers_concat\", \"chunk_size\", \"source_url\", \"content_type\", \"ingestion_date\"])\n",
    "res_cosine_1[\"hits\"][\"hits\"]"
   ]
  },
  {
   "cell_type": "code",
   "execution_count": 352,
   "metadata": {},
   "outputs": [
    {
     "data": {
      "text/plain": [
       "[{'_index': 'messixpert_dot_product',\n",
       "  '_id': '-6uLFpIBRGyVeHbOtN1B',\n",
       "  '_score': 0.76728725,\n",
       "  '_source': {'content': '0\\nMe hubiera gustado jugar con Messi—Pelé en una entrevista con La Gazzetta dello Sport en noviembre de 2019 para conmemorar los cincuenta años de su gol número mil.[344]\\u200b',\n",
       "   'headers_concat': 'Trayectoria > Titularidad y consagración en la élite > Dominio local con Ernesto Valverde y años difíciles en Champions > 2019-2020: sexto Balón de Oro y Premio Laureus',\n",
       "   'chunk_size': 199,\n",
       "   'source_url': 'https://es.wikipedia.org/wiki/Lionel_Messi',\n",
       "   'content_type': 'paragraph+table',\n",
       "   'ingestion_date': '20240921163112'}},\n",
       " {'_index': 'messixpert_dot_product',\n",
       "  '_id': 'A6uLFpIBRGyVeHbOtN79',\n",
       "  '_score': 0.7629819,\n",
       "  '_source': {'content': '0\\nMessi será el jugador que más Balones de Oro gane en la historia. Probablemente ganará cinco, seis o siete Balones de Oro, es imparable.—Johan Cruyff a Olé en 2011[427]\\u200b',\n",
       "   'headers_concat': 'Trayectoria > Paris Saint-Germain F. C. > 2021-2022: octavo Pichichi y séptimo Balón de Oro',\n",
       "   'chunk_size': 260,\n",
       "   'source_url': 'https://es.wikipedia.org/wiki/Lionel_Messi',\n",
       "   'content_type': 'paragraph+table',\n",
       "   'ingestion_date': '20240921163112'}},\n",
       " {'_index': 'messixpert_dot_product',\n",
       "  '_id': '1quLFpIBRGyVeHbOsN3o',\n",
       "  '_score': 0.76004505,\n",
       "  '_source': {'content': 'Lionel Andrés Messi nació el 24 de junio de 1987 en el Hospital Italiano Garibaldi de la ciudad de Rosario, en la provincia de Santa Fe. Es el tercer hijo de Jorge Horacio Messi y Celia María Cuccittini. Tiene dos hermanos mayores, Rodrigo y Matías, y una hermana menor, María Sol.[14]\\u200b Su familia paterna es originaria del municipio italiano de Recanati, de donde su bisabuelo, Angelo Messi, emigró a Argentina en 1883.[15]\\u200b Fue su abuela materna, Celia, la que lo alentó a dedicarse al fútbol, por lo que él le agradece señalando al cielo con las dos manos tras convertir un gol.[14]\\u200b[16]\\u200b Dos de sus primos (Maximiliano y Emanuel Biancucchi) son también futbolistas.[14]\\u200b Estudió en la escuela primaria N° 66 \"Gral. Las Heras\".[14]\\u200b Con apenas cuatro años, comenzó a practicar fútbol con Salvador Aparicio en el club Abanderado Grandoli, ubicado en el barrio Grandoli, a pocas cuadras de su casa.[14]\\u200b[17]\\u200b En 1994, empezó a entrenarse en las divisiones inferiores de Newell\\'s Old Boys.[14]\\u200b En 1995, jugó un torneo no oficial con Central Córdoba.[18]\\u200b A la edad de ocho años, le fue diagnosticada una deficiencia de la hormona de crecimiento,[19]\\u200b por lo que debió hacer un tratamiento de 900 dólares mensuales que, durante un año y medio, cubrieron su obra social y Acindar, siderúrgica en la que trabajaba su padre.[14]\\u200b',\n",
       "   'headers_concat': 'Orígenes y formación',\n",
       "   'chunk_size': 518,\n",
       "   'source_url': 'https://es.wikipedia.org/wiki/Lionel_Messi',\n",
       "   'content_type': 'paragraph',\n",
       "   'ingestion_date': '20240921163112'}},\n",
       " {'_index': 'messixpert_dot_product',\n",
       "  '_id': 'CauLFpIBRGyVeHbOtd6N',\n",
       "  '_score': 0.74301887,\n",
       "  '_source': {'content': 'En 2002, Jorge Messi le hizo llegar a Hugo Tocalli, responsable de las divisiones juveniles de Argentina, un video compilatorio de las jugadas de su hijo. A pesar de reconocer las cualidades del adolescente, el entrenador le respondió que no podía incorporarlo al plantel, porque ya tenía definido el equipo para el Mundial del año siguiente en Finlandia, pero que lo tendría en cuenta para otra competición.[480]\\u200b[481]\\u200b En 2003, sin embargo, y aunque sabía que la Federación Española de Fútbol quería ficharlo para su selección sub-17,[480]\\u200b tampoco lo convocó para el Mundial Sub-20 en Emiratos Árabes.[481]\\u200b El 30 de marzo de 2004, se reunió con el presidente de la AFA Julio Grondona y, por sugerencia de José Pékerman (quien había visto a Messi contra el Alcorcón), le propuso organizar un encuentro amistoso para impedir toda posibilidad de que jugara para España.[20]\\u200b[482]\\u200b[481]\\u200b En abril, finalmente, Messi recibió una citación por fax para un entrenamiento en junio en el predio de Ezeiza.[481]\\u200b El jugador ya había declinado, alrededor de 2003, reiteradas ofertas de jugar para España, porque quería representar a su país.[483]\\u200b[484]\\u200b El 29 de junio de 2004, casi desconocido en Argentina, debutó en el estadio Diego Armando Maradona de Buenos Aires con la categoría sub-20, en un partido amistoso con una sub-22 de Paraguay armada para la ocasión que arbitró Gabriel Brazenas.[481]\\u200b Ingresó en el segundo tiempo por Ezequiel Lavezzi e hizo un gol y dos asistencias en un encuentro que finalizó 8-0 a favor de Argentina.[20]\\u200b El 3 de julio, contra Uruguay en el estadio Suppicci de Colonia, hizo un doblete en otro amistoso que Argentina ganó 4-1.[485]\\u200b Con solo estos dos partidos jugados, a fines de diciembre Tocalli lo convocó para el Sudamericano Sub-20 de principios del año siguiente, aunque, por decisión conjunta con Pékerman, jugaría siempre como suplente.[486]\\u200b',\n",
       "   'headers_concat': 'Selección nacional > Categorías inferiores > Sudamericano Sub-20 2005',\n",
       "   'chunk_size': 600,\n",
       "   'source_url': 'https://es.wikipedia.org/wiki/Lionel_Messi',\n",
       "   'content_type': 'paragraph',\n",
       "   'ingestion_date': '20240921163112'}},\n",
       " {'_index': 'messixpert_dot_product',\n",
       "  '_id': '2KuLFpIBRGyVeHbOsd0k',\n",
       "  '_score': 0.74097514,\n",
       "  '_source': {'content': '0\\nEra muy bajito, casi no hablaba y nadie podía imaginar la que nos iba a liar.—Gerard Piqué, uno de los compañeros de Messi en La Masia.[23]\\u200b',\n",
       "   'headers_concat': 'Orígenes y formación',\n",
       "   'chunk_size': 44,\n",
       "   'source_url': 'https://es.wikipedia.org/wiki/Lionel_Messi',\n",
       "   'content_type': 'paragraph+table',\n",
       "   'ingestion_date': '20240921163112'}}]"
      ]
     },
     "execution_count": 352,
     "metadata": {},
     "output_type": "execute_result"
    }
   ],
   "source": [
    "res_dotproduct_1 = es_client.search(index=index_name_dot_product, knn=query_1, source=[\"content\", \"headers_concat\", \"chunk_size\", \"source_url\", \"content_type\", \"ingestion_date\"])\n",
    "res_dotproduct_1[\"hits\"][\"hits\"]"
   ]
  },
  {
   "cell_type": "code",
   "execution_count": 353,
   "metadata": {},
   "outputs": [
    {
     "data": {
      "text/plain": [
       "[{'_index': 'messixpert_cosine',\n",
       "  '_id': 'dKuLFpIBRGyVeHbOfN0U',\n",
       "  '_score': 0.8388665,\n",
       "  '_source': {'content': \"Messi pudo jugar en La Liga el 1 de octubre, en el empate 2-2 con el Zaragoza, donde entró en el minuto '66 en lugar de Giuly.[73]\\u200b El Alavés y el Deportivo La Coruña denunciaron ante el Comité de Competición su inclusión en la plantilla, por considerar que se le había dado la licencia como juvenil y no como profesional. El Comité, sin embargo, declaró improcedente la denuncia, ya que el jugador conservaba la licencia de juvenil y era ciudadano español.[74]\\u200b El 2 de noviembre, Messi convirtió su primer gol en Liga de Campeones ante el Panathinaikos, al que el Barcelona le ganó 5-0.[75]\\u200b El 19, por un encuentro de La Liga en el estadio Santiago Bernabéu, fue titular en su primer Clásico, que perdió el Real Madrid 0-3 y en el que Ronaldinho recibió aplausos de la afición rival. Dio el pase a Eto'o para el primer gol, superó el marcaje de Roberto Carlos y aceleró el juego de su equipo, por momentos lento y que desaprovechaba ocasiones de gol.[76]\\u200b[77]\\u200b El 29 de enero de 2006, en un partido de Liga ante el Mallorca en el Son Moix, marcó, en dieciocho minutos, su primer doblete para el 3-0 del Barcelona.[78]\\u200b[79]\\u200b\",\n",
       "   'headers_concat': 'Trayectoria > Titularidad y consagración en la élite',\n",
       "   'chunk_size': 580,\n",
       "   'source_url': 'https://es.wikipedia.org/wiki/Lionel_Messi',\n",
       "   'content_type': 'paragraph',\n",
       "   'ingestion_date': '20240921163112'}},\n",
       " {'_index': 'messixpert_cosine',\n",
       "  '_id': 'd6uLFpIBRGyVeHbOfN1Y',\n",
       "  '_score': 0.82759786,\n",
       "  '_source': {'content': 'El 18 de abril, en el 5-2 por semifinales de la Copa del Rey 2006-2007 contra el Getafe FC, Messi anotó dos goles, el primero muy parecido al llamado Gol del Siglo de Maradona contra Inglaterra en la Copa del Mundo de 1986.[107]\\u200b Corrió casi la misma distancia (62 metros) y eludió al mismo número de jugadores (seis, incluido el portero), para anotar desde una posición muy similar, después de correr hacia el banderín de esquina.[108]\\u200b Distintas personas ligadas al fútbol y la prensa internacional lo compararon con el 10 argentino y el periódico español Marca lo llamó \"Messidona\".[109]\\u200b[110]\\u200b En el partido de vuelta el 10 de mayo, el Getafe ganó 4-0 y eliminó al Barcelona del torneo.[111]\\u200b El 9 de junio, en el derby barcelonés, Messi convirtió un gol similar al de \"La Mano de Dios\", anotado por Maradona contra Inglaterra en cuartos de final del Mundial 86. Se adelantó al portero Carlos Kameni y quiso cabecear pero, como no llegó, empujó el balón con la mano. A pesar de las protestas de los jugadores del Espanyol y repeticiones que demostraron la falta evidente, el gol fue validado.[112]\\u200b El 15 de agosto, con gol de Messi en el 1-0 contra el Bayern Múnich, el Barcelona ganó la primera edición de la Copa Beckenbauer.[113]\\u200b Hacia el final de la Liga, Messi empezó a marcar más que al inicio de la temporada (11 de sus 14 goles los hizo en los últimos trece partidos).[114]\\u200b Sumó un total de diecisiete goles en treinta y seis partidos (14 en La Liga, 1 en Champions y 2 en Copa del Rey).[93]\\u200b En noviembre, se convirtió en el primer argentino que recibió el Trofeo Bravo, entregado por Guerin Sportivo a los mejores futbolistas menores de veintiún años.[115]\\u200b El 4 de diciembre, quedó en tercer lugar en la votación del Balón de Oro, detrás de Kaká y Cristiano Ronaldo,[116]\\u200b y el 16 fue incluido por primera vez en el FIFA FIFPro World XI en la categoría de delantero.[117]\\u200b[118]\\u200b',\n",
       "   'headers_concat': 'Trayectoria > Titularidad y consagración en la élite',\n",
       "   'chunk_size': 558,\n",
       "   'source_url': 'https://es.wikipedia.org/wiki/Lionel_Messi',\n",
       "   'content_type': 'paragraph',\n",
       "   'ingestion_date': '20240921163112'}},\n",
       " {'_index': 'messixpert_cosine',\n",
       "  '_id': 'c6uLFpIBRGyVeHbOe938',\n",
       "  '_score': 0.8254149,\n",
       "  '_source': {'content': 'Debido al interés que había despertado en otros clubes europeos, como el escocés Glasgow Rangers, por su desempeño en el Mundial sub-20 y en el Joan Gamper, el 16 de septiembre el presidente Joan Laporta decidió aumentarle el sueldo y prolongar su contrato hasta 2014, con la misma cláusula de rescisión.[67]\\u200b[68]\\u200b[69]\\u200b Como no podía jugar por ser extranjero, el Barcelona recurrió a la Real Federación Española de Fútbol para que lo considerara asimilado pero, el 19 de septiembre, la Comisión Delegada de la Liga Profesional rechazó esa concesión. Messi, por lo tanto, no podía participar en competiciones españolas (tampoco con el Barcelona B), aunque sí en la Liga de Campeones.[69]\\u200b[70]\\u200b El club, entonces, decidió acelerar su nacionalización, que obtuvo el 26 del mismo mes.[71]\\u200b Al día siguiente, Messi jugó en la Liga de Campeones 2005-2006 frente al Udinese. Los aficionados en el Camp Nou lo ovacionaron antes del partido y después de su sustitución,[72]\\u200b así como también apreciaron su compostura con la pelota y combinaciones de pases con Ronaldinho.[cita requerida]',\n",
       "   'headers_concat': 'Trayectoria > Titularidad y consagración en la élite',\n",
       "   'chunk_size': 513,\n",
       "   'source_url': 'https://es.wikipedia.org/wiki/Lionel_Messi',\n",
       "   'content_type': 'paragraph',\n",
       "   'ingestion_date': '20240921163112'}},\n",
       " {'_index': 'messixpert_cosine',\n",
       "  '_id': 'jauLFpIBRGyVeHbOft23',\n",
       "  '_score': 0.8215878,\n",
       "  '_source': {'content': '0\\nMe hubiera gustado jugar con Messi—Pelé en una entrevista con La Gazzetta dello Sport en noviembre de 2019 para conmemorar los cincuenta años de su gol número mil.[344]\\u200b',\n",
       "   'headers_concat': 'Trayectoria > Titularidad y consagración en la élite > Dominio local con Ernesto Valverde y años difíciles en Champions > 2019-2020: sexto Balón de Oro y Premio Laureus',\n",
       "   'chunk_size': 199,\n",
       "   'source_url': 'https://es.wikipedia.org/wiki/Lionel_Messi',\n",
       "   'content_type': 'paragraph+table',\n",
       "   'ingestion_date': '20240921163112'}},\n",
       " {'_index': 'messixpert_cosine',\n",
       "  '_id': 'wKuLFpIBRGyVeHbOhd1M',\n",
       "  '_score': 0.82044935,\n",
       "  '_source': {'content': 'Su competencia deportiva estuvo ligada a la de sus respectivos clubes desde la llegada de Ronaldo al Real Madrid a mediados de 2009 hasta su partida hacia la Juventus en 2018.[850]\\u200b[851]\\u200b En ese tiempo se enfrentaron treinta veces en El Clásico,[852]\\u200b una de las rivalidades futbolísticas más fuertes.[853]\\u200b Los encuentros eran de los más seguidos por millones de espectadores de todo el mundo, no solo por la importancia del partido, sino también por la presencia de sus máximas estrellas,[854]\\u200b gracias a quienes La Liga aumentó sus derechos de televisación en un 234 %.[853]\\u200b En la Champions League, por otra parte, jugaron seis veces, en las que Messi marcó tres goles y Ronaldo, dos.[855]\\u200b En 2007, la revista Sports Illustrated lo eligió mejor deportista del año.[856]\\u200b En 2010 ya era, según France Football, el futbolista mejor pagado del mundo. Gracias a su muy buena campaña con el Barcelona y la proximidad del Mundial de Sudáfrica, ese año consiguió numerosos contratos publicitarios, que aprovechaban su imagen de \"chico común\" para llegar a distintos sectores socioeconómicos y etarios.[857]\\u200b Según un estudio de 2011 de la Universidad de Navarra, Messi fue uno de los que más interés suscitó en la prensa escrita entre fines de 2010 y principios de 2011, en una proporción veinte veces mayor que la media de todos los futbolistas de la Liga de Campeones. Además, se analizó por primera vez la repercusión en Europa de la entrega del Balón de Oro de ese año: el flujo de información que generó fue equivalente al del Premio Nobel de la Paz a Liu Xiaobo y recibió el doble de atención mediática que el Nobel de Medicina a Robert Edwards.[858]\\u200b La revista Time lo incluyó en su lista de personas del año por considerar que había «llevado al deporte más popular del mundo a alturas aún mayores en su atractivo comercial y éxito, como lo demuestra el número creciente de niños estadounidenses que visten su camiseta del Barça en los colegios».[859]\\u200b',\n",
       "   'headers_concat': 'Impacto social',\n",
       "   'chunk_size': 615,\n",
       "   'source_url': 'https://es.wikipedia.org/wiki/Lionel_Messi',\n",
       "   'content_type': 'paragraph',\n",
       "   'ingestion_date': '20240921163112'}}]"
      ]
     },
     "execution_count": 353,
     "metadata": {},
     "output_type": "execute_result"
    }
   ],
   "source": [
    "res_cosine_2 = es_client.search(index=index_name_cosine, knn=query_2, source=[\"content\", \"headers_concat\", \"chunk_size\", \"source_url\", \"content_type\", \"ingestion_date\"])\n",
    "res_cosine_2[\"hits\"][\"hits\"]"
   ]
  },
  {
   "cell_type": "code",
   "execution_count": 354,
   "metadata": {},
   "outputs": [
    {
     "data": {
      "text/plain": [
       "[{'_index': 'messixpert_dot_product',\n",
       "  '_id': '4quLFpIBRGyVeHbOsd31',\n",
       "  '_score': 0.83841205,\n",
       "  '_source': {'content': \"Messi pudo jugar en La Liga el 1 de octubre, en el empate 2-2 con el Zaragoza, donde entró en el minuto '66 en lugar de Giuly.[73]\\u200b El Alavés y el Deportivo La Coruña denunciaron ante el Comité de Competición su inclusión en la plantilla, por considerar que se le había dado la licencia como juvenil y no como profesional. El Comité, sin embargo, declaró improcedente la denuncia, ya que el jugador conservaba la licencia de juvenil y era ciudadano español.[74]\\u200b El 2 de noviembre, Messi convirtió su primer gol en Liga de Campeones ante el Panathinaikos, al que el Barcelona le ganó 5-0.[75]\\u200b El 19, por un encuentro de La Liga en el estadio Santiago Bernabéu, fue titular en su primer Clásico, que perdió el Real Madrid 0-3 y en el que Ronaldinho recibió aplausos de la afición rival. Dio el pase a Eto'o para el primer gol, superó el marcaje de Roberto Carlos y aceleró el juego de su equipo, por momentos lento y que desaprovechaba ocasiones de gol.[76]\\u200b[77]\\u200b El 29 de enero de 2006, en un partido de Liga ante el Mallorca en el Son Moix, marcó, en dieciocho minutos, su primer doblete para el 3-0 del Barcelona.[78]\\u200b[79]\\u200b\",\n",
       "   'headers_concat': 'Trayectoria > Titularidad y consagración en la élite',\n",
       "   'chunk_size': 580,\n",
       "   'source_url': 'https://es.wikipedia.org/wiki/Lionel_Messi',\n",
       "   'content_type': 'paragraph',\n",
       "   'ingestion_date': '20240921163112'}},\n",
       " {'_index': 'messixpert_dot_product',\n",
       "  '_id': '5auLFpIBRGyVeHbOst0v',\n",
       "  '_score': 0.8281181,\n",
       "  '_source': {'content': 'El 18 de abril, en el 5-2 por semifinales de la Copa del Rey 2006-2007 contra el Getafe FC, Messi anotó dos goles, el primero muy parecido al llamado Gol del Siglo de Maradona contra Inglaterra en la Copa del Mundo de 1986.[107]\\u200b Corrió casi la misma distancia (62 metros) y eludió al mismo número de jugadores (seis, incluido el portero), para anotar desde una posición muy similar, después de correr hacia el banderín de esquina.[108]\\u200b Distintas personas ligadas al fútbol y la prensa internacional lo compararon con el 10 argentino y el periódico español Marca lo llamó \"Messidona\".[109]\\u200b[110]\\u200b En el partido de vuelta el 10 de mayo, el Getafe ganó 4-0 y eliminó al Barcelona del torneo.[111]\\u200b El 9 de junio, en el derby barcelonés, Messi convirtió un gol similar al de \"La Mano de Dios\", anotado por Maradona contra Inglaterra en cuartos de final del Mundial 86. Se adelantó al portero Carlos Kameni y quiso cabecear pero, como no llegó, empujó el balón con la mano. A pesar de las protestas de los jugadores del Espanyol y repeticiones que demostraron la falta evidente, el gol fue validado.[112]\\u200b El 15 de agosto, con gol de Messi en el 1-0 contra el Bayern Múnich, el Barcelona ganó la primera edición de la Copa Beckenbauer.[113]\\u200b Hacia el final de la Liga, Messi empezó a marcar más que al inicio de la temporada (11 de sus 14 goles los hizo en los últimos trece partidos).[114]\\u200b Sumó un total de diecisiete goles en treinta y seis partidos (14 en La Liga, 1 en Champions y 2 en Copa del Rey).[93]\\u200b En noviembre, se convirtió en el primer argentino que recibió el Trofeo Bravo, entregado por Guerin Sportivo a los mejores futbolistas menores de veintiún años.[115]\\u200b El 4 de diciembre, quedó en tercer lugar en la votación del Balón de Oro, detrás de Kaká y Cristiano Ronaldo,[116]\\u200b y el 16 fue incluido por primera vez en el FIFA FIFPro World XI en la categoría de delantero.[117]\\u200b[118]\\u200b',\n",
       "   'headers_concat': 'Trayectoria > Titularidad y consagración en la élite',\n",
       "   'chunk_size': 558,\n",
       "   'source_url': 'https://es.wikipedia.org/wiki/Lionel_Messi',\n",
       "   'content_type': 'paragraph',\n",
       "   'ingestion_date': '20240921163112'}},\n",
       " {'_index': 'messixpert_dot_product',\n",
       "  '_id': '4auLFpIBRGyVeHbOsd3j',\n",
       "  '_score': 0.8252709,\n",
       "  '_source': {'content': 'Debido al interés que había despertado en otros clubes europeos, como el escocés Glasgow Rangers, por su desempeño en el Mundial sub-20 y en el Joan Gamper, el 16 de septiembre el presidente Joan Laporta decidió aumentarle el sueldo y prolongar su contrato hasta 2014, con la misma cláusula de rescisión.[67]\\u200b[68]\\u200b[69]\\u200b Como no podía jugar por ser extranjero, el Barcelona recurrió a la Real Federación Española de Fútbol para que lo considerara asimilado pero, el 19 de septiembre, la Comisión Delegada de la Liga Profesional rechazó esa concesión. Messi, por lo tanto, no podía participar en competiciones españolas (tampoco con el Barcelona B), aunque sí en la Liga de Campeones.[69]\\u200b[70]\\u200b El club, entonces, decidió acelerar su nacionalización, que obtuvo el 26 del mismo mes.[71]\\u200b Al día siguiente, Messi jugó en la Liga de Campeones 2005-2006 frente al Udinese. Los aficionados en el Camp Nou lo ovacionaron antes del partido y después de su sustitución,[72]\\u200b así como también apreciaron su compostura con la pelota y combinaciones de pases con Ronaldinho.[cita requerida]',\n",
       "   'headers_concat': 'Trayectoria > Titularidad y consagración en la élite',\n",
       "   'chunk_size': 513,\n",
       "   'source_url': 'https://es.wikipedia.org/wiki/Lionel_Messi',\n",
       "   'content_type': 'paragraph',\n",
       "   'ingestion_date': '20240921163112'}},\n",
       " {'_index': 'messixpert_dot_product',\n",
       "  '_id': '-6uLFpIBRGyVeHbOtN1B',\n",
       "  '_score': 0.8219733,\n",
       "  '_source': {'content': '0\\nMe hubiera gustado jugar con Messi—Pelé en una entrevista con La Gazzetta dello Sport en noviembre de 2019 para conmemorar los cincuenta años de su gol número mil.[344]\\u200b',\n",
       "   'headers_concat': 'Trayectoria > Titularidad y consagración en la élite > Dominio local con Ernesto Valverde y años difíciles en Champions > 2019-2020: sexto Balón de Oro y Premio Laureus',\n",
       "   'chunk_size': 199,\n",
       "   'source_url': 'https://es.wikipedia.org/wiki/Lionel_Messi',\n",
       "   'content_type': 'paragraph+table',\n",
       "   'ingestion_date': '20240921163112'}},\n",
       " {'_index': 'messixpert_dot_product',\n",
       "  '_id': 'LquLFpIBRGyVeHbOud6h',\n",
       "  '_score': 0.8207824,\n",
       "  '_source': {'content': 'Su competencia deportiva estuvo ligada a la de sus respectivos clubes desde la llegada de Ronaldo al Real Madrid a mediados de 2009 hasta su partida hacia la Juventus en 2018.[850]\\u200b[851]\\u200b En ese tiempo se enfrentaron treinta veces en El Clásico,[852]\\u200b una de las rivalidades futbolísticas más fuertes.[853]\\u200b Los encuentros eran de los más seguidos por millones de espectadores de todo el mundo, no solo por la importancia del partido, sino también por la presencia de sus máximas estrellas,[854]\\u200b gracias a quienes La Liga aumentó sus derechos de televisación en un 234 %.[853]\\u200b En la Champions League, por otra parte, jugaron seis veces, en las que Messi marcó tres goles y Ronaldo, dos.[855]\\u200b En 2007, la revista Sports Illustrated lo eligió mejor deportista del año.[856]\\u200b En 2010 ya era, según France Football, el futbolista mejor pagado del mundo. Gracias a su muy buena campaña con el Barcelona y la proximidad del Mundial de Sudáfrica, ese año consiguió numerosos contratos publicitarios, que aprovechaban su imagen de \"chico común\" para llegar a distintos sectores socioeconómicos y etarios.[857]\\u200b Según un estudio de 2011 de la Universidad de Navarra, Messi fue uno de los que más interés suscitó en la prensa escrita entre fines de 2010 y principios de 2011, en una proporción veinte veces mayor que la media de todos los futbolistas de la Liga de Campeones. Además, se analizó por primera vez la repercusión en Europa de la entrega del Balón de Oro de ese año: el flujo de información que generó fue equivalente al del Premio Nobel de la Paz a Liu Xiaobo y recibió el doble de atención mediática que el Nobel de Medicina a Robert Edwards.[858]\\u200b La revista Time lo incluyó en su lista de personas del año por considerar que había «llevado al deporte más popular del mundo a alturas aún mayores en su atractivo comercial y éxito, como lo demuestra el número creciente de niños estadounidenses que visten su camiseta del Barça en los colegios».[859]\\u200b',\n",
       "   'headers_concat': 'Impacto social',\n",
       "   'chunk_size': 615,\n",
       "   'source_url': 'https://es.wikipedia.org/wiki/Lionel_Messi',\n",
       "   'content_type': 'paragraph',\n",
       "   'ingestion_date': '20240921163112'}}]"
      ]
     },
     "execution_count": 354,
     "metadata": {},
     "output_type": "execute_result"
    }
   ],
   "source": [
    "res_dotproduct_2 = es_client.search(index=index_name_dot_product, knn=query_2, source=[\"content\", \"headers_concat\", \"chunk_size\", \"source_url\", \"content_type\", \"ingestion_date\"])\n",
    "res_dotproduct_2[\"hits\"][\"hits\"]"
   ]
  },
  {
   "cell_type": "markdown",
   "metadata": {},
   "source": [
    "Now we'll also try a text search"
   ]
  },
  {
   "cell_type": "code",
   "execution_count": null,
   "metadata": {},
   "outputs": [],
   "source": [
    "query_2 = {\n",
    "    \"k\": 5,\n",
    "    \"field\": \"content_embeddings\",\n",
    "    \"query_vector\": vector_search_term_2,\n",
    "    \"num_candidates\": 10000, \n",
    "}\n",
    "res_cosine_1 = es_client.search(index=index_name_cosine, knn=query_1, source=[\"content\", \"headers_concat\", \"chunk_size\", \"source_url\", \"content_type\", \"ingestion_date\"])\n",
    "res_cosine_1[\"hits\"][\"hits\"]"
   ]
  },
  {
   "cell_type": "code",
   "execution_count": 358,
   "metadata": {},
   "outputs": [],
   "source": [
    "text_query_1 = {\n",
    "    \"size\": 5,  \n",
    "    \"_source\": [\"content\", \"headers_concat\", \"chunk_size\", \"source_url\", \"content_type\", \"ingestion_date\"],  \n",
    "    \"query\": {\n",
    "        \"match\": {\n",
    "            \"content\": search_term_1  \n",
    "        }\n",
    "    }\n",
    "}\n",
    "\n",
    "text_query_2 = {\n",
    "    \"size\": 5,  \n",
    "    \"_source\": [\"content\", \"headers_concat\", \"chunk_size\", \"source_url\", \"content_type\", \"ingestion_date\"],  \n",
    "    \"query\": {\n",
    "        \"match\": {\n",
    "            \"content\": search_term_1  \n",
    "        }\n",
    "    }\n",
    "}\n",
    "res = es_client.search(index=index_name_cosine, body=text_query_1)\n"
   ]
  },
  {
   "cell_type": "code",
   "execution_count": 357,
   "metadata": {},
   "outputs": [
    {
     "data": {
      "text/plain": [
       "[{'_index': 'messixpert_cosine',\n",
       "  '_id': 'aKuLFpIBRGyVeHbOe90G',\n",
       "  '_score': 7.540992,\n",
       "  '_source': {'content': 'Lionel Andrés Messi nació el 24 de junio de 1987 en el Hospital Italiano Garibaldi de la ciudad de Rosario, en la provincia de Santa Fe. Es el tercer hijo de Jorge Horacio Messi y Celia María Cuccittini. Tiene dos hermanos mayores, Rodrigo y Matías, y una hermana menor, María Sol.[14]\\u200b Su familia paterna es originaria del municipio italiano de Recanati, de donde su bisabuelo, Angelo Messi, emigró a Argentina en 1883.[15]\\u200b Fue su abuela materna, Celia, la que lo alentó a dedicarse al fútbol, por lo que él le agradece señalando al cielo con las dos manos tras convertir un gol.[14]\\u200b[16]\\u200b Dos de sus primos (Maximiliano y Emanuel Biancucchi) son también futbolistas.[14]\\u200b Estudió en la escuela primaria N° 66 \"Gral. Las Heras\".[14]\\u200b Con apenas cuatro años, comenzó a practicar fútbol con Salvador Aparicio en el club Abanderado Grandoli, ubicado en el barrio Grandoli, a pocas cuadras de su casa.[14]\\u200b[17]\\u200b En 1994, empezó a entrenarse en las divisiones inferiores de Newell\\'s Old Boys.[14]\\u200b En 1995, jugó un torneo no oficial con Central Córdoba.[18]\\u200b A la edad de ocho años, le fue diagnosticada una deficiencia de la hormona de crecimiento,[19]\\u200b por lo que debió hacer un tratamiento de 900 dólares mensuales que, durante un año y medio, cubrieron su obra social y Acindar, siderúrgica en la que trabajaba su padre.[14]\\u200b',\n",
       "   'headers_concat': 'Orígenes y formación',\n",
       "   'chunk_size': 518,\n",
       "   'source_url': 'https://es.wikipedia.org/wiki/Lionel_Messi',\n",
       "   'content_type': 'paragraph',\n",
       "   'ingestion_date': '20240921163112'}},\n",
       " {'_index': 'messixpert_cosine',\n",
       "  '_id': 'a6uLFpIBRGyVeHbOe91Q',\n",
       "  '_score': 4.046278,\n",
       "  '_source': {'content': 'A pesar de que algunos técnicos no aprobaban su contratación,[25]\\u200b el 14 de diciembre Rexach se reunió en el restaurante del Club Tenis Pompeia con Gaggioli y Minguella y redactó un principio de acuerdo sobre una servilleta de papel, en el que se comprometía a su fichaje y firmaron todas las partes implicadas.[22]\\u200b Finalmente, el 8 de enero de 2001, firmaron un documento en el que se aseguraban un trabajo para el padre de Messi en el fútbol base (como forma de encubrir el fichaje del adolescente) y el pago del tratamiento hormonal.[26]\\u200b Al mes siguiente, la familia se instaló en Barcelona, primero en un hotel y luego en un departamento en Les Corts. La madre y los hermanos regresaron a Rosario poco después.[27]\\u200b[28]\\u200b Messi jugó en las inferiores de Newell\\'s entre 1994 y 1999.[29]\\u200b Integraba la categoría 1987, conocida como \"La Máquina \\'87\", dirigida por Ernesto Vecchio.[30]\\u200b Debutó ante Pablo VI el 9 de abril, en un encuentro que Newell\\'s ganó 6-0 con cuatro tantos suyos.[29]\\u200b El club recibió, entre otros títulos, la Copa de la Amistad de Perú en 1997, después de convertirle diez goles (nueve de Messi) al Callao,[31]\\u200b y en 1998 ganó el torneo Ciudad de Balcarce, en la provincia de Buenos Aires, en el que Messi marcó quince goles en seis partidos.[32]\\u200b En este período, Messi convirtió 234 goles, con un promedio de 1,32 por partido.[33]\\u200b En una entrevista realizada en 2014, Vecchio comentó: \"Verlo jugar a Leo con tan corta edad realmente era impresionante. Uno no podía creer (…) ver un chico con esa virtud, esa calidad, y tan menudito, chiquitito, que haga tantas cosas con la pelota\".[cita requerida]',\n",
       "   'headers_concat': \"Orígenes y formación > Categorías inferiores > Newell's Old Boys (1994-1999)\",\n",
       "   'chunk_size': 643,\n",
       "   'source_url': 'https://es.wikipedia.org/wiki/Lionel_Messi',\n",
       "   'content_type': 'paragraph',\n",
       "   'ingestion_date': '20240921163112'}},\n",
       " {'_index': 'messixpert_cosine',\n",
       "  '_id': 'z6uLFpIBRGyVeHbOh92c',\n",
       "  '_score': 3.2263958,\n",
       "  '_source': {'content': 'En 2007, Messi creó la Fundación Leo Messi, que tiene como objetivo ayudar a niños y adolescentes en situación de riesgo, especialmente en las áreas de educación y salud. A través de la fundación, se han construido parques infantiles,[915]\\u200b refaccionado o rehabilitado organizaciones benéficas y polideportivos,[916]\\u200b entre otras cosas. Por otra parte, Messi suele participar en actos a beneficio como partidos amistosos o acciones de recaudación de fondos,[917]\\u200b[918]\\u200b campañas de concientización, donaciones,[919]\\u200b visitas o encuentros solidarios,[920]\\u200b tanto para su propia fundación, como para la Fundación F. C. Barcelona y Unicef. Con la Fundación F. C. Barcelona llegó a una alianza para trabajar en conjunto.[921]\\u200b Es Embajador de Buena Voluntad de Unicef desde el 11 de marzo de 2010 y, desde 2018, Embajador de Turismo Responsable de la OMT.[922]\\u200b[923]\\u200b Sus asuntos profesionales se dirigen en gran medida como una empresa familiar: su padre, Jorge, ha sido su agente desde que tenía catorce años y su hermano mayor, Rodrigo, maneja su agenda diaria y su publicidad. Su madre y otro hermano, Matías, gestionan la Fundación Leo Messi y cuidan asuntos personales y profesionales en Rosario.[924]\\u200b[925]\\u200b En marzo de 2020, la Organización Mundial de la Salud lo convocó, junto a otros jugadores, para participar de una campaña de conscientización sobre el COVID-19.[926]\\u200b En septiembre, la revista Forbes lo incluyó en la lista deportistas que ganaron más de 1000 millones de dólares (840 millones de euros) a lo largo de su carrera.[927]\\u200b',\n",
       "   'headers_concat': 'Vida privada > Condena por evasión fiscal',\n",
       "   'chunk_size': 623,\n",
       "   'source_url': 'https://es.wikipedia.org/wiki/Lionel_Messi',\n",
       "   'content_type': 'paragraph',\n",
       "   'ingestion_date': '20240921163112'}},\n",
       " {'_index': 'messixpert_cosine',\n",
       "  '_id': 'u6uLFpIBRGyVeHbOhN0j',\n",
       "  '_score': 3.0635598,\n",
       "  '_source': {'content': 'Messi es un jugador predominantemente zurdo: con la parte exterior del pie izquierdo empieza carreras regateando, mientras que con la parte interna finaliza las jugadas, ya sea con un remate o con una asistencia o pase.[cita requerida] Sin embargo, siempre marcó también con la derecha y, a partir de 2012, comenzó a usar más su pierna menos hábil.[804]\\u200b Su ritmo y habilidad técnica le permiten hacer largas corridas con la pelota hacia el arco, en particular durante contraataques, donde usualmente comienza desde la mitad o el sector derecho del campo.[805]\\u200b Considerado el mejor gambeteador del mundo,[806]\\u200b y uno de los mejores de la historia,[807]\\u200b en 2009, mientras lo entrenaba en la selección, Maradona dijo sobre él: \"Tiene la pelota pegada al pie, es parte de su cuerpo. (...) Eso no lo vi en ningún otro y miren que vi jugadores, eh. Vi entrenar a Van Basten, a Careca, a infinidad de jugadores, a Houseman, por ejemplo. (...) Pero ninguno como Messi\".[808]\\u200b Más allá de sus cualidades individuales, también es un jugador de equipo completo y trabajador, conocido por sus combinaciones creativas, en particular con los ex-centrocampistas del Barcelona Xavi e Iniesta.[809]\\u200b[810]\\u200b Tácticamente, Messi juega en un rol ofensivo libre. Al ser versátil, puede atacar tanto por el centro del campo como por el sector derecho. Su posición favorita en la infancia era como organizador detrás de dos delanteros, conocido como enganche en Argentina, pero empezó su carrera en el Barcelona como un extremo clásico por izquierda.[811]\\u200b Ya en el primer equipo, Rijkaard lo movió a la banda derecha, posición desde donde podía recortar fácilmente hacia el centro del campo y realizar tiros con efecto al arco con la pierna izquierda, en vez de dedicarse únicamente a lanzarles centros a sus compañeros.[cita requerida]',\n",
       "   'headers_concat': 'Perfil de jugador > Estilo de juego',\n",
       "   'chunk_size': 687,\n",
       "   'source_url': 'https://es.wikipedia.org/wiki/Lionel_Messi',\n",
       "   'content_type': 'paragraph',\n",
       "   'ingestion_date': '20240921163112'}},\n",
       " {'_index': 'messixpert_cosine',\n",
       "  '_id': 'zquLFpIBRGyVeHbOh918',\n",
       "  '_score': 3.0635598,\n",
       "  '_source': {'content': 'En 2011, fue elegido Personalidad Destacada del Deporte por la Legislatura de la Ciudad de Buenos Aires.[904]\\u200b A pesar de haber sido nominado en siete ocasiones al premio Puskás, nunca lo recibió.[905]\\u200b Desde 2007, Messi está en pareja con Antonela Roccuzzo, a quien conoce desde niño, ya que Lucas Scaglia, primo de ella, jugaba con él en las inferiores de Newell\\'s. Mantuvieron una relación a la distancia durante tres años hasta que, después del Mundial de Sudáfrica, ella se instaló en Barcelona. El jugador hizo público su noviazgo en una entrevista en el programa Hat Trick Barça a principios de 2009 y luego se publicaron unas fotografías de la pareja en el carnaval de Sitges.[906]\\u200b[907]\\u200b Se casaron en una ceremonia civil en el hotel City Center de Rosario el 30 de junio de 2017.[908]\\u200b El matrimonio tiene tres hijos: Thiago (2 de noviembre de 2012), Mateo (11 de septiembre de 2015) y Ciro (10 de marzo de 2018), todos nacidos en Barcelona.[906]\\u200b[909]\\u200b Para celebrar el primer embarazo de su pareja, Messi colocó la pelota debajo de su camiseta después de anotar en la victoria argentina por 4-0 ante Ecuador el 2 de junio de 2012, antes de confirmar el embarazo en una entrevista dos semanas más tarde.[910]\\u200b Messi anunció la llegada de su primer hijo en su página de Facebook, en la que escribió: \"¡Hoy soy el hombre más feliz del mundo, mi hijo nació y gracias a Dios por este regalo!\"[911]\\u200b También se tatuó el nombre y huellas de manos del niño en la pantorrilla izquierda.[912]\\u200b Los tres fueron bautizados en Rosario.[913]\\u200b En octubre de 2021, la familia se estableció en Neuilly-sur-Seine, en las afueras de París.[914]\\u200b',\n",
       "   'headers_concat': 'Vida privada',\n",
       "   'chunk_size': 586,\n",
       "   'source_url': 'https://es.wikipedia.org/wiki/Lionel_Messi',\n",
       "   'content_type': 'paragraph',\n",
       "   'ingestion_date': '20240921163112'}}]"
      ]
     },
     "execution_count": 357,
     "metadata": {},
     "output_type": "execute_result"
    }
   ],
   "source": [
    "res_cosine_text_1 = es_client.search(index=index_name_cosine, body=text_query_1)\n",
    "res_cosine_text_1[\"hits\"][\"hits\"]"
   ]
  },
  {
   "cell_type": "code",
   "execution_count": 359,
   "metadata": {},
   "outputs": [
    {
     "data": {
      "text/plain": [
       "[{'_index': 'messixpert_cosine',\n",
       "  '_id': 'aKuLFpIBRGyVeHbOe90G',\n",
       "  '_score': 7.540992,\n",
       "  '_source': {'content': 'Lionel Andrés Messi nació el 24 de junio de 1987 en el Hospital Italiano Garibaldi de la ciudad de Rosario, en la provincia de Santa Fe. Es el tercer hijo de Jorge Horacio Messi y Celia María Cuccittini. Tiene dos hermanos mayores, Rodrigo y Matías, y una hermana menor, María Sol.[14]\\u200b Su familia paterna es originaria del municipio italiano de Recanati, de donde su bisabuelo, Angelo Messi, emigró a Argentina en 1883.[15]\\u200b Fue su abuela materna, Celia, la que lo alentó a dedicarse al fútbol, por lo que él le agradece señalando al cielo con las dos manos tras convertir un gol.[14]\\u200b[16]\\u200b Dos de sus primos (Maximiliano y Emanuel Biancucchi) son también futbolistas.[14]\\u200b Estudió en la escuela primaria N° 66 \"Gral. Las Heras\".[14]\\u200b Con apenas cuatro años, comenzó a practicar fútbol con Salvador Aparicio en el club Abanderado Grandoli, ubicado en el barrio Grandoli, a pocas cuadras de su casa.[14]\\u200b[17]\\u200b En 1994, empezó a entrenarse en las divisiones inferiores de Newell\\'s Old Boys.[14]\\u200b En 1995, jugó un torneo no oficial con Central Córdoba.[18]\\u200b A la edad de ocho años, le fue diagnosticada una deficiencia de la hormona de crecimiento,[19]\\u200b por lo que debió hacer un tratamiento de 900 dólares mensuales que, durante un año y medio, cubrieron su obra social y Acindar, siderúrgica en la que trabajaba su padre.[14]\\u200b',\n",
       "   'headers_concat': 'Orígenes y formación',\n",
       "   'chunk_size': 518,\n",
       "   'source_url': 'https://es.wikipedia.org/wiki/Lionel_Messi',\n",
       "   'content_type': 'paragraph',\n",
       "   'ingestion_date': '20240921163112'}},\n",
       " {'_index': 'messixpert_cosine',\n",
       "  '_id': 'a6uLFpIBRGyVeHbOe91Q',\n",
       "  '_score': 4.046278,\n",
       "  '_source': {'content': 'A pesar de que algunos técnicos no aprobaban su contratación,[25]\\u200b el 14 de diciembre Rexach se reunió en el restaurante del Club Tenis Pompeia con Gaggioli y Minguella y redactó un principio de acuerdo sobre una servilleta de papel, en el que se comprometía a su fichaje y firmaron todas las partes implicadas.[22]\\u200b Finalmente, el 8 de enero de 2001, firmaron un documento en el que se aseguraban un trabajo para el padre de Messi en el fútbol base (como forma de encubrir el fichaje del adolescente) y el pago del tratamiento hormonal.[26]\\u200b Al mes siguiente, la familia se instaló en Barcelona, primero en un hotel y luego en un departamento en Les Corts. La madre y los hermanos regresaron a Rosario poco después.[27]\\u200b[28]\\u200b Messi jugó en las inferiores de Newell\\'s entre 1994 y 1999.[29]\\u200b Integraba la categoría 1987, conocida como \"La Máquina \\'87\", dirigida por Ernesto Vecchio.[30]\\u200b Debutó ante Pablo VI el 9 de abril, en un encuentro que Newell\\'s ganó 6-0 con cuatro tantos suyos.[29]\\u200b El club recibió, entre otros títulos, la Copa de la Amistad de Perú en 1997, después de convertirle diez goles (nueve de Messi) al Callao,[31]\\u200b y en 1998 ganó el torneo Ciudad de Balcarce, en la provincia de Buenos Aires, en el que Messi marcó quince goles en seis partidos.[32]\\u200b En este período, Messi convirtió 234 goles, con un promedio de 1,32 por partido.[33]\\u200b En una entrevista realizada en 2014, Vecchio comentó: \"Verlo jugar a Leo con tan corta edad realmente era impresionante. Uno no podía creer (…) ver un chico con esa virtud, esa calidad, y tan menudito, chiquitito, que haga tantas cosas con la pelota\".[cita requerida]',\n",
       "   'headers_concat': \"Orígenes y formación > Categorías inferiores > Newell's Old Boys (1994-1999)\",\n",
       "   'chunk_size': 643,\n",
       "   'source_url': 'https://es.wikipedia.org/wiki/Lionel_Messi',\n",
       "   'content_type': 'paragraph',\n",
       "   'ingestion_date': '20240921163112'}},\n",
       " {'_index': 'messixpert_cosine',\n",
       "  '_id': 'z6uLFpIBRGyVeHbOh92c',\n",
       "  '_score': 3.2263958,\n",
       "  '_source': {'content': 'En 2007, Messi creó la Fundación Leo Messi, que tiene como objetivo ayudar a niños y adolescentes en situación de riesgo, especialmente en las áreas de educación y salud. A través de la fundación, se han construido parques infantiles,[915]\\u200b refaccionado o rehabilitado organizaciones benéficas y polideportivos,[916]\\u200b entre otras cosas. Por otra parte, Messi suele participar en actos a beneficio como partidos amistosos o acciones de recaudación de fondos,[917]\\u200b[918]\\u200b campañas de concientización, donaciones,[919]\\u200b visitas o encuentros solidarios,[920]\\u200b tanto para su propia fundación, como para la Fundación F. C. Barcelona y Unicef. Con la Fundación F. C. Barcelona llegó a una alianza para trabajar en conjunto.[921]\\u200b Es Embajador de Buena Voluntad de Unicef desde el 11 de marzo de 2010 y, desde 2018, Embajador de Turismo Responsable de la OMT.[922]\\u200b[923]\\u200b Sus asuntos profesionales se dirigen en gran medida como una empresa familiar: su padre, Jorge, ha sido su agente desde que tenía catorce años y su hermano mayor, Rodrigo, maneja su agenda diaria y su publicidad. Su madre y otro hermano, Matías, gestionan la Fundación Leo Messi y cuidan asuntos personales y profesionales en Rosario.[924]\\u200b[925]\\u200b En marzo de 2020, la Organización Mundial de la Salud lo convocó, junto a otros jugadores, para participar de una campaña de conscientización sobre el COVID-19.[926]\\u200b En septiembre, la revista Forbes lo incluyó en la lista deportistas que ganaron más de 1000 millones de dólares (840 millones de euros) a lo largo de su carrera.[927]\\u200b',\n",
       "   'headers_concat': 'Vida privada > Condena por evasión fiscal',\n",
       "   'chunk_size': 623,\n",
       "   'source_url': 'https://es.wikipedia.org/wiki/Lionel_Messi',\n",
       "   'content_type': 'paragraph',\n",
       "   'ingestion_date': '20240921163112'}},\n",
       " {'_index': 'messixpert_cosine',\n",
       "  '_id': 'u6uLFpIBRGyVeHbOhN0j',\n",
       "  '_score': 3.0635598,\n",
       "  '_source': {'content': 'Messi es un jugador predominantemente zurdo: con la parte exterior del pie izquierdo empieza carreras regateando, mientras que con la parte interna finaliza las jugadas, ya sea con un remate o con una asistencia o pase.[cita requerida] Sin embargo, siempre marcó también con la derecha y, a partir de 2012, comenzó a usar más su pierna menos hábil.[804]\\u200b Su ritmo y habilidad técnica le permiten hacer largas corridas con la pelota hacia el arco, en particular durante contraataques, donde usualmente comienza desde la mitad o el sector derecho del campo.[805]\\u200b Considerado el mejor gambeteador del mundo,[806]\\u200b y uno de los mejores de la historia,[807]\\u200b en 2009, mientras lo entrenaba en la selección, Maradona dijo sobre él: \"Tiene la pelota pegada al pie, es parte de su cuerpo. (...) Eso no lo vi en ningún otro y miren que vi jugadores, eh. Vi entrenar a Van Basten, a Careca, a infinidad de jugadores, a Houseman, por ejemplo. (...) Pero ninguno como Messi\".[808]\\u200b Más allá de sus cualidades individuales, también es un jugador de equipo completo y trabajador, conocido por sus combinaciones creativas, en particular con los ex-centrocampistas del Barcelona Xavi e Iniesta.[809]\\u200b[810]\\u200b Tácticamente, Messi juega en un rol ofensivo libre. Al ser versátil, puede atacar tanto por el centro del campo como por el sector derecho. Su posición favorita en la infancia era como organizador detrás de dos delanteros, conocido como enganche en Argentina, pero empezó su carrera en el Barcelona como un extremo clásico por izquierda.[811]\\u200b Ya en el primer equipo, Rijkaard lo movió a la banda derecha, posición desde donde podía recortar fácilmente hacia el centro del campo y realizar tiros con efecto al arco con la pierna izquierda, en vez de dedicarse únicamente a lanzarles centros a sus compañeros.[cita requerida]',\n",
       "   'headers_concat': 'Perfil de jugador > Estilo de juego',\n",
       "   'chunk_size': 687,\n",
       "   'source_url': 'https://es.wikipedia.org/wiki/Lionel_Messi',\n",
       "   'content_type': 'paragraph',\n",
       "   'ingestion_date': '20240921163112'}},\n",
       " {'_index': 'messixpert_cosine',\n",
       "  '_id': 'zquLFpIBRGyVeHbOh918',\n",
       "  '_score': 3.0635598,\n",
       "  '_source': {'content': 'En 2011, fue elegido Personalidad Destacada del Deporte por la Legislatura de la Ciudad de Buenos Aires.[904]\\u200b A pesar de haber sido nominado en siete ocasiones al premio Puskás, nunca lo recibió.[905]\\u200b Desde 2007, Messi está en pareja con Antonela Roccuzzo, a quien conoce desde niño, ya que Lucas Scaglia, primo de ella, jugaba con él en las inferiores de Newell\\'s. Mantuvieron una relación a la distancia durante tres años hasta que, después del Mundial de Sudáfrica, ella se instaló en Barcelona. El jugador hizo público su noviazgo en una entrevista en el programa Hat Trick Barça a principios de 2009 y luego se publicaron unas fotografías de la pareja en el carnaval de Sitges.[906]\\u200b[907]\\u200b Se casaron en una ceremonia civil en el hotel City Center de Rosario el 30 de junio de 2017.[908]\\u200b El matrimonio tiene tres hijos: Thiago (2 de noviembre de 2012), Mateo (11 de septiembre de 2015) y Ciro (10 de marzo de 2018), todos nacidos en Barcelona.[906]\\u200b[909]\\u200b Para celebrar el primer embarazo de su pareja, Messi colocó la pelota debajo de su camiseta después de anotar en la victoria argentina por 4-0 ante Ecuador el 2 de junio de 2012, antes de confirmar el embarazo en una entrevista dos semanas más tarde.[910]\\u200b Messi anunció la llegada de su primer hijo en su página de Facebook, en la que escribió: \"¡Hoy soy el hombre más feliz del mundo, mi hijo nació y gracias a Dios por este regalo!\"[911]\\u200b También se tatuó el nombre y huellas de manos del niño en la pantorrilla izquierda.[912]\\u200b Los tres fueron bautizados en Rosario.[913]\\u200b En octubre de 2021, la familia se estableció en Neuilly-sur-Seine, en las afueras de París.[914]\\u200b',\n",
       "   'headers_concat': 'Vida privada',\n",
       "   'chunk_size': 586,\n",
       "   'source_url': 'https://es.wikipedia.org/wiki/Lionel_Messi',\n",
       "   'content_type': 'paragraph',\n",
       "   'ingestion_date': '20240921163112'}}]"
      ]
     },
     "execution_count": 359,
     "metadata": {},
     "output_type": "execute_result"
    }
   ],
   "source": [
    "res_cosine_text_2 = es_client.search(index=index_name_cosine, body=text_query_2)\n",
    "res_cosine_text_2[\"hits\"][\"hits\"]"
   ]
  },
  {
   "cell_type": "code",
   "execution_count": 361,
   "metadata": {},
   "outputs": [
    {
     "data": {
      "text/plain": [
       "[{'_index': 'messixpert_dot_product',\n",
       "  '_id': '1quLFpIBRGyVeHbOsN3o',\n",
       "  '_score': 7.540992,\n",
       "  '_source': {'content': 'Lionel Andrés Messi nació el 24 de junio de 1987 en el Hospital Italiano Garibaldi de la ciudad de Rosario, en la provincia de Santa Fe. Es el tercer hijo de Jorge Horacio Messi y Celia María Cuccittini. Tiene dos hermanos mayores, Rodrigo y Matías, y una hermana menor, María Sol.[14]\\u200b Su familia paterna es originaria del municipio italiano de Recanati, de donde su bisabuelo, Angelo Messi, emigró a Argentina en 1883.[15]\\u200b Fue su abuela materna, Celia, la que lo alentó a dedicarse al fútbol, por lo que él le agradece señalando al cielo con las dos manos tras convertir un gol.[14]\\u200b[16]\\u200b Dos de sus primos (Maximiliano y Emanuel Biancucchi) son también futbolistas.[14]\\u200b Estudió en la escuela primaria N° 66 \"Gral. Las Heras\".[14]\\u200b Con apenas cuatro años, comenzó a practicar fútbol con Salvador Aparicio en el club Abanderado Grandoli, ubicado en el barrio Grandoli, a pocas cuadras de su casa.[14]\\u200b[17]\\u200b En 1994, empezó a entrenarse en las divisiones inferiores de Newell\\'s Old Boys.[14]\\u200b En 1995, jugó un torneo no oficial con Central Córdoba.[18]\\u200b A la edad de ocho años, le fue diagnosticada una deficiencia de la hormona de crecimiento,[19]\\u200b por lo que debió hacer un tratamiento de 900 dólares mensuales que, durante un año y medio, cubrieron su obra social y Acindar, siderúrgica en la que trabajaba su padre.[14]\\u200b',\n",
       "   'headers_concat': 'Orígenes y formación',\n",
       "   'chunk_size': 518,\n",
       "   'source_url': 'https://es.wikipedia.org/wiki/Lionel_Messi',\n",
       "   'content_type': 'paragraph',\n",
       "   'ingestion_date': '20240921163112'}},\n",
       " {'_index': 'messixpert_dot_product',\n",
       "  '_id': '2auLFpIBRGyVeHbOsd07',\n",
       "  '_score': 4.046278,\n",
       "  '_source': {'content': 'A pesar de que algunos técnicos no aprobaban su contratación,[25]\\u200b el 14 de diciembre Rexach se reunió en el restaurante del Club Tenis Pompeia con Gaggioli y Minguella y redactó un principio de acuerdo sobre una servilleta de papel, en el que se comprometía a su fichaje y firmaron todas las partes implicadas.[22]\\u200b Finalmente, el 8 de enero de 2001, firmaron un documento en el que se aseguraban un trabajo para el padre de Messi en el fútbol base (como forma de encubrir el fichaje del adolescente) y el pago del tratamiento hormonal.[26]\\u200b Al mes siguiente, la familia se instaló en Barcelona, primero en un hotel y luego en un departamento en Les Corts. La madre y los hermanos regresaron a Rosario poco después.[27]\\u200b[28]\\u200b Messi jugó en las inferiores de Newell\\'s entre 1994 y 1999.[29]\\u200b Integraba la categoría 1987, conocida como \"La Máquina \\'87\", dirigida por Ernesto Vecchio.[30]\\u200b Debutó ante Pablo VI el 9 de abril, en un encuentro que Newell\\'s ganó 6-0 con cuatro tantos suyos.[29]\\u200b El club recibió, entre otros títulos, la Copa de la Amistad de Perú en 1997, después de convertirle diez goles (nueve de Messi) al Callao,[31]\\u200b y en 1998 ganó el torneo Ciudad de Balcarce, en la provincia de Buenos Aires, en el que Messi marcó quince goles en seis partidos.[32]\\u200b En este período, Messi convirtió 234 goles, con un promedio de 1,32 por partido.[33]\\u200b En una entrevista realizada en 2014, Vecchio comentó: \"Verlo jugar a Leo con tan corta edad realmente era impresionante. Uno no podía creer (…) ver un chico con esa virtud, esa calidad, y tan menudito, chiquitito, que haga tantas cosas con la pelota\".[cita requerida]',\n",
       "   'headers_concat': \"Orígenes y formación > Categorías inferiores > Newell's Old Boys (1994-1999)\",\n",
       "   'chunk_size': 643,\n",
       "   'source_url': 'https://es.wikipedia.org/wiki/Lionel_Messi',\n",
       "   'content_type': 'paragraph',\n",
       "   'ingestion_date': '20240921163112'}},\n",
       " {'_index': 'messixpert_dot_product',\n",
       "  '_id': 'PauLFpIBRGyVeHbOu95v',\n",
       "  '_score': 3.2263958,\n",
       "  '_source': {'content': 'En 2007, Messi creó la Fundación Leo Messi, que tiene como objetivo ayudar a niños y adolescentes en situación de riesgo, especialmente en las áreas de educación y salud. A través de la fundación, se han construido parques infantiles,[915]\\u200b refaccionado o rehabilitado organizaciones benéficas y polideportivos,[916]\\u200b entre otras cosas. Por otra parte, Messi suele participar en actos a beneficio como partidos amistosos o acciones de recaudación de fondos,[917]\\u200b[918]\\u200b campañas de concientización, donaciones,[919]\\u200b visitas o encuentros solidarios,[920]\\u200b tanto para su propia fundación, como para la Fundación F. C. Barcelona y Unicef. Con la Fundación F. C. Barcelona llegó a una alianza para trabajar en conjunto.[921]\\u200b Es Embajador de Buena Voluntad de Unicef desde el 11 de marzo de 2010 y, desde 2018, Embajador de Turismo Responsable de la OMT.[922]\\u200b[923]\\u200b Sus asuntos profesionales se dirigen en gran medida como una empresa familiar: su padre, Jorge, ha sido su agente desde que tenía catorce años y su hermano mayor, Rodrigo, maneja su agenda diaria y su publicidad. Su madre y otro hermano, Matías, gestionan la Fundación Leo Messi y cuidan asuntos personales y profesionales en Rosario.[924]\\u200b[925]\\u200b En marzo de 2020, la Organización Mundial de la Salud lo convocó, junto a otros jugadores, para participar de una campaña de conscientización sobre el COVID-19.[926]\\u200b En septiembre, la revista Forbes lo incluyó en la lista deportistas que ganaron más de 1000 millones de dólares (840 millones de euros) a lo largo de su carrera.[927]\\u200b',\n",
       "   'headers_concat': 'Vida privada > Condena por evasión fiscal',\n",
       "   'chunk_size': 623,\n",
       "   'source_url': 'https://es.wikipedia.org/wiki/Lionel_Messi',\n",
       "   'content_type': 'paragraph',\n",
       "   'ingestion_date': '20240921163112'}},\n",
       " {'_index': 'messixpert_dot_product',\n",
       "  '_id': 'KauLFpIBRGyVeHbOud4U',\n",
       "  '_score': 3.0635598,\n",
       "  '_source': {'content': 'Messi es un jugador predominantemente zurdo: con la parte exterior del pie izquierdo empieza carreras regateando, mientras que con la parte interna finaliza las jugadas, ya sea con un remate o con una asistencia o pase.[cita requerida] Sin embargo, siempre marcó también con la derecha y, a partir de 2012, comenzó a usar más su pierna menos hábil.[804]\\u200b Su ritmo y habilidad técnica le permiten hacer largas corridas con la pelota hacia el arco, en particular durante contraataques, donde usualmente comienza desde la mitad o el sector derecho del campo.[805]\\u200b Considerado el mejor gambeteador del mundo,[806]\\u200b y uno de los mejores de la historia,[807]\\u200b en 2009, mientras lo entrenaba en la selección, Maradona dijo sobre él: \"Tiene la pelota pegada al pie, es parte de su cuerpo. (...) Eso no lo vi en ningún otro y miren que vi jugadores, eh. Vi entrenar a Van Basten, a Careca, a infinidad de jugadores, a Houseman, por ejemplo. (...) Pero ninguno como Messi\".[808]\\u200b Más allá de sus cualidades individuales, también es un jugador de equipo completo y trabajador, conocido por sus combinaciones creativas, en particular con los ex-centrocampistas del Barcelona Xavi e Iniesta.[809]\\u200b[810]\\u200b Tácticamente, Messi juega en un rol ofensivo libre. Al ser versátil, puede atacar tanto por el centro del campo como por el sector derecho. Su posición favorita en la infancia era como organizador detrás de dos delanteros, conocido como enganche en Argentina, pero empezó su carrera en el Barcelona como un extremo clásico por izquierda.[811]\\u200b Ya en el primer equipo, Rijkaard lo movió a la banda derecha, posición desde donde podía recortar fácilmente hacia el centro del campo y realizar tiros con efecto al arco con la pierna izquierda, en vez de dedicarse únicamente a lanzarles centros a sus compañeros.[cita requerida]',\n",
       "   'headers_concat': 'Perfil de jugador > Estilo de juego',\n",
       "   'chunk_size': 687,\n",
       "   'source_url': 'https://es.wikipedia.org/wiki/Lionel_Messi',\n",
       "   'content_type': 'paragraph',\n",
       "   'ingestion_date': '20240921163112'}},\n",
       " {'_index': 'messixpert_dot_product',\n",
       "  '_id': 'PKuLFpIBRGyVeHbOu95Y',\n",
       "  '_score': 3.0635598,\n",
       "  '_source': {'content': 'En 2011, fue elegido Personalidad Destacada del Deporte por la Legislatura de la Ciudad de Buenos Aires.[904]\\u200b A pesar de haber sido nominado en siete ocasiones al premio Puskás, nunca lo recibió.[905]\\u200b Desde 2007, Messi está en pareja con Antonela Roccuzzo, a quien conoce desde niño, ya que Lucas Scaglia, primo de ella, jugaba con él en las inferiores de Newell\\'s. Mantuvieron una relación a la distancia durante tres años hasta que, después del Mundial de Sudáfrica, ella se instaló en Barcelona. El jugador hizo público su noviazgo en una entrevista en el programa Hat Trick Barça a principios de 2009 y luego se publicaron unas fotografías de la pareja en el carnaval de Sitges.[906]\\u200b[907]\\u200b Se casaron en una ceremonia civil en el hotel City Center de Rosario el 30 de junio de 2017.[908]\\u200b El matrimonio tiene tres hijos: Thiago (2 de noviembre de 2012), Mateo (11 de septiembre de 2015) y Ciro (10 de marzo de 2018), todos nacidos en Barcelona.[906]\\u200b[909]\\u200b Para celebrar el primer embarazo de su pareja, Messi colocó la pelota debajo de su camiseta después de anotar en la victoria argentina por 4-0 ante Ecuador el 2 de junio de 2012, antes de confirmar el embarazo en una entrevista dos semanas más tarde.[910]\\u200b Messi anunció la llegada de su primer hijo en su página de Facebook, en la que escribió: \"¡Hoy soy el hombre más feliz del mundo, mi hijo nació y gracias a Dios por este regalo!\"[911]\\u200b También se tatuó el nombre y huellas de manos del niño en la pantorrilla izquierda.[912]\\u200b Los tres fueron bautizados en Rosario.[913]\\u200b En octubre de 2021, la familia se estableció en Neuilly-sur-Seine, en las afueras de París.[914]\\u200b',\n",
       "   'headers_concat': 'Vida privada',\n",
       "   'chunk_size': 586,\n",
       "   'source_url': 'https://es.wikipedia.org/wiki/Lionel_Messi',\n",
       "   'content_type': 'paragraph',\n",
       "   'ingestion_date': '20240921163112'}}]"
      ]
     },
     "execution_count": 361,
     "metadata": {},
     "output_type": "execute_result"
    }
   ],
   "source": [
    "res_dot_product_text_1 = es_client.search(index=index_name_dot_product, body=text_query_1)\n",
    "res_dot_product_text_1[\"hits\"][\"hits\"]"
   ]
  },
  {
   "cell_type": "code",
   "execution_count": 362,
   "metadata": {},
   "outputs": [
    {
     "data": {
      "text/plain": [
       "[{'_index': 'messixpert_dot_product',\n",
       "  '_id': '1quLFpIBRGyVeHbOsN3o',\n",
       "  '_score': 7.540992,\n",
       "  '_source': {'content': 'Lionel Andrés Messi nació el 24 de junio de 1987 en el Hospital Italiano Garibaldi de la ciudad de Rosario, en la provincia de Santa Fe. Es el tercer hijo de Jorge Horacio Messi y Celia María Cuccittini. Tiene dos hermanos mayores, Rodrigo y Matías, y una hermana menor, María Sol.[14]\\u200b Su familia paterna es originaria del municipio italiano de Recanati, de donde su bisabuelo, Angelo Messi, emigró a Argentina en 1883.[15]\\u200b Fue su abuela materna, Celia, la que lo alentó a dedicarse al fútbol, por lo que él le agradece señalando al cielo con las dos manos tras convertir un gol.[14]\\u200b[16]\\u200b Dos de sus primos (Maximiliano y Emanuel Biancucchi) son también futbolistas.[14]\\u200b Estudió en la escuela primaria N° 66 \"Gral. Las Heras\".[14]\\u200b Con apenas cuatro años, comenzó a practicar fútbol con Salvador Aparicio en el club Abanderado Grandoli, ubicado en el barrio Grandoli, a pocas cuadras de su casa.[14]\\u200b[17]\\u200b En 1994, empezó a entrenarse en las divisiones inferiores de Newell\\'s Old Boys.[14]\\u200b En 1995, jugó un torneo no oficial con Central Córdoba.[18]\\u200b A la edad de ocho años, le fue diagnosticada una deficiencia de la hormona de crecimiento,[19]\\u200b por lo que debió hacer un tratamiento de 900 dólares mensuales que, durante un año y medio, cubrieron su obra social y Acindar, siderúrgica en la que trabajaba su padre.[14]\\u200b',\n",
       "   'headers_concat': 'Orígenes y formación',\n",
       "   'chunk_size': 518,\n",
       "   'source_url': 'https://es.wikipedia.org/wiki/Lionel_Messi',\n",
       "   'content_type': 'paragraph',\n",
       "   'ingestion_date': '20240921163112'}},\n",
       " {'_index': 'messixpert_dot_product',\n",
       "  '_id': '2auLFpIBRGyVeHbOsd07',\n",
       "  '_score': 4.046278,\n",
       "  '_source': {'content': 'A pesar de que algunos técnicos no aprobaban su contratación,[25]\\u200b el 14 de diciembre Rexach se reunió en el restaurante del Club Tenis Pompeia con Gaggioli y Minguella y redactó un principio de acuerdo sobre una servilleta de papel, en el que se comprometía a su fichaje y firmaron todas las partes implicadas.[22]\\u200b Finalmente, el 8 de enero de 2001, firmaron un documento en el que se aseguraban un trabajo para el padre de Messi en el fútbol base (como forma de encubrir el fichaje del adolescente) y el pago del tratamiento hormonal.[26]\\u200b Al mes siguiente, la familia se instaló en Barcelona, primero en un hotel y luego en un departamento en Les Corts. La madre y los hermanos regresaron a Rosario poco después.[27]\\u200b[28]\\u200b Messi jugó en las inferiores de Newell\\'s entre 1994 y 1999.[29]\\u200b Integraba la categoría 1987, conocida como \"La Máquina \\'87\", dirigida por Ernesto Vecchio.[30]\\u200b Debutó ante Pablo VI el 9 de abril, en un encuentro que Newell\\'s ganó 6-0 con cuatro tantos suyos.[29]\\u200b El club recibió, entre otros títulos, la Copa de la Amistad de Perú en 1997, después de convertirle diez goles (nueve de Messi) al Callao,[31]\\u200b y en 1998 ganó el torneo Ciudad de Balcarce, en la provincia de Buenos Aires, en el que Messi marcó quince goles en seis partidos.[32]\\u200b En este período, Messi convirtió 234 goles, con un promedio de 1,32 por partido.[33]\\u200b En una entrevista realizada en 2014, Vecchio comentó: \"Verlo jugar a Leo con tan corta edad realmente era impresionante. Uno no podía creer (…) ver un chico con esa virtud, esa calidad, y tan menudito, chiquitito, que haga tantas cosas con la pelota\".[cita requerida]',\n",
       "   'headers_concat': \"Orígenes y formación > Categorías inferiores > Newell's Old Boys (1994-1999)\",\n",
       "   'chunk_size': 643,\n",
       "   'source_url': 'https://es.wikipedia.org/wiki/Lionel_Messi',\n",
       "   'content_type': 'paragraph',\n",
       "   'ingestion_date': '20240921163112'}},\n",
       " {'_index': 'messixpert_dot_product',\n",
       "  '_id': 'PauLFpIBRGyVeHbOu95v',\n",
       "  '_score': 3.2263958,\n",
       "  '_source': {'content': 'En 2007, Messi creó la Fundación Leo Messi, que tiene como objetivo ayudar a niños y adolescentes en situación de riesgo, especialmente en las áreas de educación y salud. A través de la fundación, se han construido parques infantiles,[915]\\u200b refaccionado o rehabilitado organizaciones benéficas y polideportivos,[916]\\u200b entre otras cosas. Por otra parte, Messi suele participar en actos a beneficio como partidos amistosos o acciones de recaudación de fondos,[917]\\u200b[918]\\u200b campañas de concientización, donaciones,[919]\\u200b visitas o encuentros solidarios,[920]\\u200b tanto para su propia fundación, como para la Fundación F. C. Barcelona y Unicef. Con la Fundación F. C. Barcelona llegó a una alianza para trabajar en conjunto.[921]\\u200b Es Embajador de Buena Voluntad de Unicef desde el 11 de marzo de 2010 y, desde 2018, Embajador de Turismo Responsable de la OMT.[922]\\u200b[923]\\u200b Sus asuntos profesionales se dirigen en gran medida como una empresa familiar: su padre, Jorge, ha sido su agente desde que tenía catorce años y su hermano mayor, Rodrigo, maneja su agenda diaria y su publicidad. Su madre y otro hermano, Matías, gestionan la Fundación Leo Messi y cuidan asuntos personales y profesionales en Rosario.[924]\\u200b[925]\\u200b En marzo de 2020, la Organización Mundial de la Salud lo convocó, junto a otros jugadores, para participar de una campaña de conscientización sobre el COVID-19.[926]\\u200b En septiembre, la revista Forbes lo incluyó en la lista deportistas que ganaron más de 1000 millones de dólares (840 millones de euros) a lo largo de su carrera.[927]\\u200b',\n",
       "   'headers_concat': 'Vida privada > Condena por evasión fiscal',\n",
       "   'chunk_size': 623,\n",
       "   'source_url': 'https://es.wikipedia.org/wiki/Lionel_Messi',\n",
       "   'content_type': 'paragraph',\n",
       "   'ingestion_date': '20240921163112'}},\n",
       " {'_index': 'messixpert_dot_product',\n",
       "  '_id': 'KauLFpIBRGyVeHbOud4U',\n",
       "  '_score': 3.0635598,\n",
       "  '_source': {'content': 'Messi es un jugador predominantemente zurdo: con la parte exterior del pie izquierdo empieza carreras regateando, mientras que con la parte interna finaliza las jugadas, ya sea con un remate o con una asistencia o pase.[cita requerida] Sin embargo, siempre marcó también con la derecha y, a partir de 2012, comenzó a usar más su pierna menos hábil.[804]\\u200b Su ritmo y habilidad técnica le permiten hacer largas corridas con la pelota hacia el arco, en particular durante contraataques, donde usualmente comienza desde la mitad o el sector derecho del campo.[805]\\u200b Considerado el mejor gambeteador del mundo,[806]\\u200b y uno de los mejores de la historia,[807]\\u200b en 2009, mientras lo entrenaba en la selección, Maradona dijo sobre él: \"Tiene la pelota pegada al pie, es parte de su cuerpo. (...) Eso no lo vi en ningún otro y miren que vi jugadores, eh. Vi entrenar a Van Basten, a Careca, a infinidad de jugadores, a Houseman, por ejemplo. (...) Pero ninguno como Messi\".[808]\\u200b Más allá de sus cualidades individuales, también es un jugador de equipo completo y trabajador, conocido por sus combinaciones creativas, en particular con los ex-centrocampistas del Barcelona Xavi e Iniesta.[809]\\u200b[810]\\u200b Tácticamente, Messi juega en un rol ofensivo libre. Al ser versátil, puede atacar tanto por el centro del campo como por el sector derecho. Su posición favorita en la infancia era como organizador detrás de dos delanteros, conocido como enganche en Argentina, pero empezó su carrera en el Barcelona como un extremo clásico por izquierda.[811]\\u200b Ya en el primer equipo, Rijkaard lo movió a la banda derecha, posición desde donde podía recortar fácilmente hacia el centro del campo y realizar tiros con efecto al arco con la pierna izquierda, en vez de dedicarse únicamente a lanzarles centros a sus compañeros.[cita requerida]',\n",
       "   'headers_concat': 'Perfil de jugador > Estilo de juego',\n",
       "   'chunk_size': 687,\n",
       "   'source_url': 'https://es.wikipedia.org/wiki/Lionel_Messi',\n",
       "   'content_type': 'paragraph',\n",
       "   'ingestion_date': '20240921163112'}},\n",
       " {'_index': 'messixpert_dot_product',\n",
       "  '_id': 'PKuLFpIBRGyVeHbOu95Y',\n",
       "  '_score': 3.0635598,\n",
       "  '_source': {'content': 'En 2011, fue elegido Personalidad Destacada del Deporte por la Legislatura de la Ciudad de Buenos Aires.[904]\\u200b A pesar de haber sido nominado en siete ocasiones al premio Puskás, nunca lo recibió.[905]\\u200b Desde 2007, Messi está en pareja con Antonela Roccuzzo, a quien conoce desde niño, ya que Lucas Scaglia, primo de ella, jugaba con él en las inferiores de Newell\\'s. Mantuvieron una relación a la distancia durante tres años hasta que, después del Mundial de Sudáfrica, ella se instaló en Barcelona. El jugador hizo público su noviazgo en una entrevista en el programa Hat Trick Barça a principios de 2009 y luego se publicaron unas fotografías de la pareja en el carnaval de Sitges.[906]\\u200b[907]\\u200b Se casaron en una ceremonia civil en el hotel City Center de Rosario el 30 de junio de 2017.[908]\\u200b El matrimonio tiene tres hijos: Thiago (2 de noviembre de 2012), Mateo (11 de septiembre de 2015) y Ciro (10 de marzo de 2018), todos nacidos en Barcelona.[906]\\u200b[909]\\u200b Para celebrar el primer embarazo de su pareja, Messi colocó la pelota debajo de su camiseta después de anotar en la victoria argentina por 4-0 ante Ecuador el 2 de junio de 2012, antes de confirmar el embarazo en una entrevista dos semanas más tarde.[910]\\u200b Messi anunció la llegada de su primer hijo en su página de Facebook, en la que escribió: \"¡Hoy soy el hombre más feliz del mundo, mi hijo nació y gracias a Dios por este regalo!\"[911]\\u200b También se tatuó el nombre y huellas de manos del niño en la pantorrilla izquierda.[912]\\u200b Los tres fueron bautizados en Rosario.[913]\\u200b En octubre de 2021, la familia se estableció en Neuilly-sur-Seine, en las afueras de París.[914]\\u200b',\n",
       "   'headers_concat': 'Vida privada',\n",
       "   'chunk_size': 586,\n",
       "   'source_url': 'https://es.wikipedia.org/wiki/Lionel_Messi',\n",
       "   'content_type': 'paragraph',\n",
       "   'ingestion_date': '20240921163112'}}]"
      ]
     },
     "execution_count": 362,
     "metadata": {},
     "output_type": "execute_result"
    }
   ],
   "source": [
    "res_dot_product_text_2 = es_client.search(index=index_name_dot_product, body=text_query_2)\n",
    "res_dot_product_text_2[\"hits\"][\"hits\"]"
   ]
  }
 ],
 "metadata": {
  "kernelspec": {
   "display_name": "messiXpert-RAG-venv",
   "language": "python",
   "name": "python3"
  },
  "language_info": {
   "codemirror_mode": {
    "name": "ipython",
    "version": 3
   },
   "file_extension": ".py",
   "mimetype": "text/x-python",
   "name": "python",
   "nbconvert_exporter": "python",
   "pygments_lexer": "ipython3",
   "version": "3.11.4"
  }
 },
 "nbformat": 4,
 "nbformat_minor": 2
}
